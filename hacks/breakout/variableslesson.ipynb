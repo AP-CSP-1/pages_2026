{
 "cells": [
  {
   "cell_type": "raw",
   "metadata": {
    "vscode": {
     "languageId": "raw"
    }
   },
   "source": [
    "---\n",
    "title: Variables and Data Types\n",
    "comments: true\n",
    "layout: post\n",
    "permalink: /Variables-and-Data-Types/\n",
    "description: Variables and Data Types\n",
    "author: Shriya, Nikhil, Adi, Samhita\n",
    "---\n"
   ]
  },
  {
   "cell_type": "markdown",
   "metadata": {},
   "source": [
    "# 📘 AP CSA Lesson 1.2 – Variables and Data Types\n",
    "\n",
    "---\n",
    "\n",
    "##  Learning Objectives\n",
    "- Understand what variables are and how they store data in memory.\n",
    "- Learn the main primitive data types in Java (`int`, `double`, `boolean`, `char`).\n",
    "- Differentiate between **primitive types** and **reference types** (like `String`).\n",
    "- Practice declaring, assigning, and using variables.\n",
    "- Gain hands-on experience with code demos, popcorn hacks, and homework challenges.\n",
    "\n",
    "---\n",
    "\n",
    "##  Key Vocabulary\n",
    "| Term | Definition | Example |\n",
    "|------|------------|---------|\n",
    "| **Variable** | Named storage location in memory for data. | `int age = 16;` |\n",
    "| **Declaration** | Creating a variable with a type. | `double price;` |\n",
    "| **Initialization** | Giving the variable a value at creation. | `double price = 4.99;` |\n",
    "| **Assignment** | Giving a value later (after declaration). | `price = 5.99;` |\n",
    "| **Primitive type** | Basic data types built into Java. | `int, double, boolean, char` |\n",
    "| **Reference type** | Points to objects (more complex). | `String, Scanner` |\n",
    "\n",
    "---\n",
    "\n",
    "##  Concept Overview\n",
    "\n",
    "### What is a Variable?\n",
    "Think of a variable as a **labeled container** that stores data.\n",
    "\n"
   ]
  },
  {
   "cell_type": "markdown",
   "metadata": {},
   "source": [
    "90+ → A\n",
    "80–89 → B\n",
    "70–79 → C\n",
    "60–69 → D\n",
    "<60 → F"
   ]
  },
  {
   "cell_type": "markdown",
   "metadata": {},
   "source": [
    "\n",
    "- You can store **numbers, text, or true/false values**.\n",
    "- Java requires you to **specify the type** (what kind of data goes in the box).\n",
    "\n",
    "---\n",
    "\n",
    "### Java Data Types (AP CSA Focus)\n",
    "\n",
    "| Type      | Meaning | Example | Notes |\n",
    "|-----------|---------|---------|-------|\n",
    "| `int`     | Whole numbers | `int year = 2025;` | Range: about -2 billion → 2 billion |\n",
    "| `double`  | Decimal numbers | `double price = 4.99;` | More precise than `float` |\n",
    "| `boolean` | True/False | `boolean done = false;` | Used for conditions |\n",
    "| `char`    | Single character | `char grade = 'A';` | Always single quotes |\n",
    "| `String`  | Text (sequence of chars) | `String name = \"Paul\";` | Not primitive (it’s a class) |\n",
    "\n",
    "---\n",
    "\n",
    "### Declaration vs Initialization vs Assignment\n",
    "```java\n",
    "int number;           // declaration (creates variable)\n",
    "number = 10;          // assignment (stores 10 later)\n",
    "int age = 16;         // initialization (declaration + assignment)\n"
   ]
  }
 ],
 "metadata": {
  "language_info": {
   "name": "python"
  }
 },
 "nbformat": 4,
 "nbformat_minor": 2
}
