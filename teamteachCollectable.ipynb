{
 "cells": [
  {
   "cell_type": "markdown",
   "metadata": {},
   "source": [
    "# Java Collections Framework TeamTeach\n",
    "## Core Collection Interfaces"
   ]
  },
  {
   "cell_type": "markdown",
   "metadata": {},
   "source": [
    "## Introduction\n",
    "\n",
    "The **Java Collections Framework** provides a unified structure for working with groups of objects. At its core is the **Collection<E>** interface, which defines common behaviors for all standard collections.\n",
    "\n",
    "Since **Collection<E>** extends **Iterable<E>**, all collections can be looped through using a for-each loop. As an interface, **Collection** doesn't hold data—it defines a contract that classes like **ArrayList**, **HashSet**, and **LinkedList** follow.\n",
    "\n",
    "---\n",
    "\n",
    "### Key Benefits of Using Collections\n",
    "\n",
    "- Dynamic sizing (unlike arrays)\n",
    "- Works with any object type using generics\n",
    "- Common operations like add, remove, and contains\n",
    "- Allows flexible, reusable code through interfaces\n",
    "\n",
    "---\n",
    "\n",
    "### Main Subinterfaces of Collection\n",
    "\n",
    "- **List<E>** – Ordered, allows duplicates  \n",
    "  Example: **ArrayList**, **LinkedList**\n",
    "\n",
    "- **Set<E>** – Unordered, no duplicates  \n",
    "  Example: **HashSet**, **TreeSet**\n",
    "\n",
    "- **Queue<E>** – Processes elements in FIFO order  \n",
    "  Example: **LinkedList**, **PriorityQueue**\n",
    "\n",
    "- **Deque<E>** – Allows insertion/removal at both ends  \n",
    "  Example: **ArrayDeque**\n",
    "\n",
    "---\n",
    "\n",
    "We'll look at how each of these interfaces works, what they're used for, and some basic examples."
   ]
  },
  {
   "cell_type": "markdown",
   "metadata": {},
   "source": [
    "![Image](https://github.com/user-attachments/assets/72331119-b8e1-46cf-a4d4-8739528bb384)"
   ]
  },
  {
   "cell_type": "markdown",
   "metadata": {},
   "source": [
    "## 1. Lists\n",
    "\n",
    "### What is a List?\n",
    "- **Ordered Collection**: Elements are stored in a specific sequence.\n",
    "- **Indexed Access**: Elements can be accessed via their index.\n",
    "- **Duplicates Allowed**: Lists can contain multiple instances of the same element.\n",
    "- **Insertion Order Preserved**: The order of insertion is maintained.\n",
    "\n",
    "---\n",
    "\n",
    "### Common Operations\n",
    "\n",
    "- **add(E e)**: Adds the element to the end of the list.\n",
    "- **add(int index, E element)**: Inserts the element at the specified index.\n",
    "- **get(int index)**: Retrieves the element at the specified index.\n",
    "- **set(int index, E element)**: Replaces the element at the specified index.\n",
    "- **remove(int index)**: Removes the element at the specified index.\n",
    "- **indexOf(Object o)**: Finds the first occurrence of the specified element.\n",
    "- **lastIndexOf(Object o)**: Finds the last occurrence of the specified element.\n",
    "- **subList(int fromIndex, int toIndex)**: Returns a sublist from the specified range of indices.\n"
   ]
  },
  {
   "cell_type": "markdown",
   "metadata": {},
   "source": [
    "### Example: Basic List Operations"
   ]
  },
  {
   "cell_type": "code",
   "execution_count": 2,
   "metadata": {
    "vscode": {
     "languageId": "java"
    }
   },
   "outputs": [
    {
     "name": "stdout",
     "output_type": "stream",
     "text": [
      "Fruits List: [Apple, Banana, Orange, Mango]\n",
      "First Fruit: Apple\n",
      "Updated List: [Apple, Blueberry, Orange, Mango]\n",
      "List After Removal: [Apple, Blueberry, Mango]\n",
      "Index of Mango: 2\n",
      "Size of List: 3\n",
      "List contains Apple: true\n",
      "Sublist: [Apple, Blueberry]\n"
     ]
    }
   ],
   "source": [
    "import java.util.ArrayList;\n",
    "import java.util.List;\n",
    "\n",
    "\n",
    "List<String> fruits = new ArrayList<>();\n",
    "\n",
    "fruits.add(\"Apple\");\n",
    "fruits.add(\"Banana\");\n",
    "fruits.add(\"Orange\");\n",
    "fruits.add(\"Mango\");\n",
    "\n",
    "System.out.println(\"Fruits List: \" + fruits);\n",
    "\n",
    "String firstFruit = fruits.get(0);\n",
    "System.out.println(\"First Fruit: \" + firstFruit);\n",
    "\n",
    "fruits.set(1, \"Blueberry\");\n",
    "System.out.println(\"Updated List: \" + fruits);\n",
    "\n",
    "fruits.remove(2);\n",
    "System.out.println(\"List After Removal: \" + fruits);\n",
    "\n",
    "int index = fruits.indexOf(\"Mango\");\n",
    "System.out.println(\"Index of Mango: \" + index);\n",
    "\n",
    "int size = fruits.size();\n",
    "System.out.println(\"Size of List: \" + size);\n",
    "\n",
    "boolean hasApple = fruits.contains(\"Apple\");\n",
    "System.out.println(\"List contains Apple: \" + hasApple);\n",
    "\n",
    "List<String> sublist = fruits.subList(0, 2);\n",
    "System.out.println(\"Sublist: \" + sublist);\n",
    "\n"
   ]
  },
  {
   "cell_type": "markdown",
   "metadata": {},
   "source": [
    "### Example: List Iteration"
   ]
  },
  {
   "cell_type": "code",
   "execution_count": null,
   "metadata": {
    "vscode": {
     "languageId": "java"
    }
   },
   "outputs": [
    {
     "name": "stdout",
     "output_type": "stream",
     "text": [
      "Using for-each loop:\n",
      "Apple\n",
      "Banana\n",
      "Orange\n",
      "Mango\n",
      "\n",
      "Using regular for loop:\n",
      "Apple\n",
      "Banana\n",
      "Orange\n",
      "Mango\n",
      "\n",
      "Using Java 8 forEach with Lambda:\n",
      "Apple\n",
      "Banana\n",
      "Orange\n",
      "Mango\n"
     ]
    }
   ],
   "source": [
    "import java.util.ArrayList;\n",
    "import java.util.List;\n",
    "\n",
    "List<String> fruits = new ArrayList<>();\n",
    "fruits.add(\"Apple\");\n",
    "fruits.add(\"Banana\");\n",
    "fruits.add(\"Orange\");\n",
    "fruits.add(\"Mango\");\n",
    "\n",
    "System.out.println(\"Using for-each loop:\");\n",
    "for (String fruit : fruits) { \n",
    "    System.out.println(fruit);\n",
    "}\n",
    "\n",
    "System.out.println(\"\\nUsing regular for loop:\");\n",
    "for (int i = 0; i < fruits.size(); i++) {\n",
    "    System.out.println(fruits.get(i));\n",
    "}\n",
    "\n",
    "System.out.println(\"\\nUsing Java 8 forEach with Lambda:\");\n",
    "fruits.forEach(fruit -> System.out.println(fruit));\n"
   ]
  },
  {
   "cell_type": "markdown",
   "metadata": {},
   "source": [
    "### How Extending Iterable Ties into Collection\n",
    "\n",
    "- The **Collection** interface extends **Iterable**, meaning all collections (like **List**, **Set**, etc.) can be iterated over.\n",
    "- By implementing the **Iterable** interface, collections provide the **iterator()** method, which is used in the enhanced for-loop (for-each loop).\n",
    "- This allows collections to be traversed without needing to manually manage the index, simplifying iteration.\n",
    "- The **forEach** method, introduced in Java 8, also leverages **Iterable** to iterate over elements using lambda expressions.\n"
   ]
  },
  {
   "cell_type": "markdown",
   "metadata": {},
   "source": [
    "## 2. Sets\n",
    "\n",
    "### What is a Set?\n",
    "- Collection that cannot contain duplicate elements\n",
    "- Models the mathematical set abstraction\n",
    "- No guarantees concerning the order of elements\n",
    "\n",
    "### Key Operations\n",
    "- **add(E e)**: Adds element to the set if not already present\n",
    "- **remove(Object o)**: Removes specified element if present\n",
    "- **contains(Object o)**: Returns true if set contains the specified element\n",
    "- **isEmpty()**: Returns true if set contains no elements\n",
    "- **size()**: Returns the number of elements in the set\n",
    "- **clear()**: Removes all elements from the set\n",
    "\n",
    "\n",
    "## Key takeaways\n",
    "- NO DUPLICATES\n",
    "- No ORDER\n",
    "- Operations generally in O(1) for many set implementations"
   ]
  },
  {
   "cell_type": "markdown",
   "metadata": {},
   "source": [
    "### Example: Basic Set Operations"
   ]
  },
  {
   "cell_type": "code",
   "execution_count": null,
   "metadata": {
    "vscode": {
     "languageId": "java"
    }
   },
   "outputs": [
    {
     "name": "stdout",
     "output_type": "stream",
     "text": [
      "Set after adding elements: [Apple, Orange, Banana]\n",
      "Set after removing 'Banana': [Apple, Orange]\n",
      "Set contains 'Orange': true\n",
      "Size of Set: 2\n",
      "Is Set empty: false\n",
      "Set after clearing: []\n",
      "Is Set empty after clear: true\n"
     ]
    }
   ],
   "source": [
    "Set<String> fruits = new HashSet<>();\n",
    "        \n",
    "fruits.add(\"Apple\");\n",
    "fruits.add(\"Banana\");\n",
    "fruits.add(\"Orange\");\n",
    "fruits.add(\"Apple\");  // Duplicate, won't be added!!!\n",
    "System.out.println(\"Set after adding elements: \" + fruits);\n",
    "\n",
    "fruits.remove(\"Banana\");\n",
    "System.out.println(\"Set after removing 'Banana': \" + fruits);\n",
    "\n",
    "boolean containsOrange = fruits.contains(\"Orange\");\n",
    "System.out.println(\"Set contains 'Orange': \" + containsOrange);\n",
    "\n",
    "System.out.println(\"Size of Set: \" + fruits.size());\n",
    "\n",
    "System.out.println(\"Is Set empty: \" + fruits.isEmpty());\n",
    "\n",
    "fruits.clear();\n",
    "System.out.println(\"Set after clearing: \" + fruits);\n",
    "\n",
    "System.out.println(\"Is Set empty after clear: \" + fruits.isEmpty());"
   ]
  },
  {
   "cell_type": "markdown",
   "metadata": {},
   "source": [
    "## 3. Queues\n",
    "\n",
    "### What is a Queue?\n",
    "- A collection designed for holding elements prior to processing.\n",
    "- Follows the **First-In-First-Out (FIFO)** principle: the first element added is the first one to be removed.\n",
    "- Useful in scenarios like scheduling( **QUEUE SYSTEM IN TOOLKIT FOR EXAMPLE** ), task processing, or handling events.\n",
    "\n",
    "### Key Operations\n",
    "- **add(E e)**: Adds an element to the queue. If the queue is full, it throws an exception.\n",
    "- **remove()**: Removes and returns the head (first element) of the queue. Throws an exception if the queue is empty.\n",
    "- **peek()**: Returns the head of the queue without removing it. Returns **null** if the queue is empty.\n",
    "- **isEmpty()**: Returns **true** if the queue contains no elements.\n",
    "- **size()**: Returns the number of elements in the queue.\n",
    "- **clear()**: Removes all elements from the queue."
   ]
  },
  {
   "cell_type": "markdown",
   "metadata": {},
   "source": [
    "### Example: Basic Queue Operations"
   ]
  },
  {
   "cell_type": "code",
   "execution_count": 6,
   "metadata": {
    "vscode": {
     "languageId": "java"
    }
   },
   "outputs": [
    {
     "name": "stdout",
     "output_type": "stream",
     "text": [
      "Queue after adding elements: [Apple, Banana, Orange]\n",
      "Removed element: Apple\n",
      "Queue after removing an element: [Banana, Orange]\n",
      "First element (peek): Banana\n",
      "Size of Queue: 2\n",
      "Is Queue empty: false\n",
      "Queue after clearing: []\n",
      "Is Queue empty after clear: true\n"
     ]
    }
   ],
   "source": [
    "Queue<String> queue = new LinkedList<>();\n",
    "\n",
    "queue.add(\"Apple\");\n",
    "queue.add(\"Banana\");\n",
    "queue.add(\"Orange\");\n",
    "System.out.println(\"Queue after adding elements: \" + queue);\n",
    "\n",
    "String removedElement = queue.remove();\n",
    "System.out.println(\"Removed element: \" + removedElement);\n",
    "System.out.println(\"Queue after removing an element: \" + queue);\n",
    "\n",
    "String firstElement = queue.peek();\n",
    "System.out.println(\"First element (peek): \" + firstElement);\n",
    "\n",
    "System.out.println(\"Size of Queue: \" + queue.size());\n",
    "\n",
    "System.out.println(\"Is Queue empty: \" + queue.isEmpty());\n",
    "\n",
    "queue.clear();\n",
    "System.out.println(\"Queue after clearing: \" + queue);\n",
    "\n",
    "System.out.println(\"Is Queue empty after clear: \" + queue.isEmpty());"
   ]
  },
  {
   "cell_type": "markdown",
   "metadata": {},
   "source": [
    "## 4. Maps\n",
    "\n",
    "### What is a Map?\n",
    "- Collection that stores key-value pairs\n",
    "- Each key is unique and maps to exactly one value\n",
    "- Does not allow duplicate keys, but values can be duplicated\n",
    "- Commonly used for fast lookups, associations, and mappings between objects\n",
    "\n",
    "### Key Operations\n",
    "- **put(K key, V value)**: Associates the specified value with the specified key\n",
    "- **get(Object key)**: Returns the value associated with the specified key\n",
    "- **remove(Object key)**: Removes the key-value pair associated with the specified key\n",
    "- **containsKey(Object key)**: Returns true if the map contains the specified key\n",
    "- **containsValue(Object value)**: Returns true if the map contains the specified value\n",
    "- **isEmpty()**: Returns true if the map contains no key-value pairs\n",
    "- **size()**: Returns the number of key-value pairs in the map\n",
    "- **clear()**: Removes all key-value pairs from the map\n",
    "\n",
    "---\n",
    "\n",
    "## Key Takeaways\n",
    "- **UNIQUE KEYS**: Each key must be unique, but values can repeat.\n",
    "- **FAST LOOKUPS**: Maps provide efficient access to values using keys.\n",
    "- **KEY-VALUE PAIR**: Maps represent associations between a key and a corresponding value.\n",
    "- **Common Implementations**: HashMap, TreeMap, LinkedHashMap.\n",
    "- **Operations generally O(1)** for HashMap in average cases, O(log n) for TreeMap.\n"
   ]
  },
  {
   "cell_type": "code",
   "execution_count": 7,
   "metadata": {
    "vscode": {
     "languageId": "java"
    }
   },
   "outputs": [
    {
     "name": "stdout",
     "output_type": "stream",
     "text": [
      "Initial Map: {Apple=10, Orange=30, Banana=20}\n",
      "Value for key 'Apple': 10\n",
      "Map after removing 'Banana': {Apple=10, Orange=30}\n",
      "Contains key 'Orange': true\n",
      "Contains key 'Banana': false\n",
      "Contains value 30: true\n",
      "Contains value 20: false\n",
      "Is the map empty? false\n",
      "Size of the map: 2\n",
      "Map after clearing: {}\n"
     ]
    }
   ],
   "source": [
    "Map<String, Integer> map = new HashMap<>();\n",
    "\n",
    "        map.put(\"Apple\", 10);\n",
    "        map.put(\"Banana\", 20);\n",
    "        map.put(\"Orange\", 30);\n",
    "\n",
    "        System.out.println(\"Initial Map: \" + map);\n",
    "\n",
    "        System.out.println(\"Value for key 'Apple': \" + map.get(\"Apple\"));\n",
    "\n",
    "        map.remove(\"Banana\");\n",
    "        System.out.println(\"Map after removing 'Banana': \" + map);\n",
    "\n",
    "        System.out.println(\"Contains key 'Orange': \" + map.containsKey(\"Orange\"));\n",
    "        System.out.println(\"Contains key 'Banana': \" + map.containsKey(\"Banana\"));\n",
    "\n",
    "        System.out.println(\"Contains value 30: \" + map.containsValue(30));\n",
    "        System.out.println(\"Contains value 20: \" + map.containsValue(20));\n",
    "\n",
    "        System.out.println(\"Is the map empty? \" + map.isEmpty());\n",
    "\n",
    "        System.out.println(\"Size of the map: \" + map.size());\n",
    "\n",
    "        map.clear();\n",
    "        System.out.println(\"Map after clearing: \" + map);"
   ]
  },
  {
   "cell_type": "markdown",
   "metadata": {},
   "source": [
    "## Homework\n",
    "\n",
    "\n",
    "## Extra Credit(+0.03)\n"
   ]
  }
 ],
 "metadata": {
  "kernelspec": {
   "display_name": "Java",
   "language": "java",
   "name": "java"
  },
  "language_info": {
   "codemirror_mode": "java",
   "file_extension": ".jshell",
   "mimetype": "text/x-java-source",
   "name": "Java",
   "pygments_lexer": "java",
   "version": "17.0.14+0"
  }
 },
 "nbformat": 4,
 "nbformat_minor": 4
}
