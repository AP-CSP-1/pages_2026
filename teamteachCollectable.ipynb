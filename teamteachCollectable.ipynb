{
 "cells": [
  {
   "cell_type": "markdown",
   "metadata": {},
   "source": [
    "# Java Collections Framework TeamTeach\n",
    "## Core Collection Interfaces"
   ]
  },
  {
   "cell_type": "markdown",
   "metadata": {},
   "source": [
    "## Introduction\n",
    "\n",
    "The Java Collections Framework provides a unified architecture for representing and manipulating collections of objects. Today we'll focus on the four fundamental collection interfaces:\n",
    "\n",
    "\n",
    "**General Advantages**\n",
    "- You can inlclude multiple objects of different types\n",
    "- You can do dynamic sizing for unlike an ARRAY for example you can add/remove/insert elements\n",
    "\n",
    "\n",
    "- **List**: Ordered collections allowing duplicate elements\n",
    "- **Set**: Collections that cannot contain duplicate elements\n",
    "- **Queue**: Collections designed for holding elements prior to processing\n",
    "- **Deque**: Double-ended queues that support element insertion and removal at both ends\n",
    "\n",
    "We'll explore each interface's purpose, common operations, and see practical examples."
   ]
  },
  {
   "cell_type": "markdown",
   "metadata": {},
   "source": [
    "## 1. Lists\n",
    "\n",
    "### What is a List?\n",
    "- Ordered collection (sequence)\n",
    "- Elements can be accessed by their index position\n",
    "- Allows duplicate elements\n",
    "- Maintains insertion order\n",
    "\n",
    "### Key Operations\n",
    "- **add(E e)**: Appends element to the end\n",
    "- **add(int index, E element)**: Inserts element at the specified position\n",
    "- **get(int index)**: Returns element at specified position\n",
    "- **set(int index, E element)**: Replaces element at specified position\n",
    "- **remove(int index)**: Removes element at specified position\n",
    "- **indexOf(Object o)**: Returns first index of specified element\n",
    "- **lastIndexOf(Object o)**: Returns last index of specified element\n",
    "- **subList(int fromIndex, int toIndex)**: Returns a view of the list between specified indices"
   ]
  },
  {
   "cell_type": "markdown",
   "metadata": {},
   "source": [
    "### Example: Basic List Operations"
   ]
  },
  {
   "cell_type": "code",
   "execution_count": null,
   "metadata": {
    "vscode": {
     "languageId": "java"
    }
   },
   "outputs": [],
   "source": [
    "import java.util.List;\n",
    "import java.util.ArrayList;\n",
    "\n",
    "// Create a List\n",
    "List<String> courses = new ArrayList<>();\n",
    "\n",
    "// Adding elements\n",
    "courses.add(\"Java Programming\");\n",
    "courses.add(\"Database Systems\");\n",
    "courses.add(\"Web Development\");\n",
    "courses.add(\"Data Structures\");\n",
    "courses.add(\"Web Development\"); // Duplicate allowed\n",
    "\n",
    "System.out.println(\"Course list: \" + courses);\n",
    "\n",
    "// Accessing elements\n",
    "System.out.println(\"First course: \" + courses.get(0));\n",
    "System.out.println(\"Last course: \" + courses.get(courses.size() - 1));\n",
    "\n",
    "// Finding elements\n",
    "System.out.println(\"Index of Web Development: \" + courses.indexOf(\"Web Development\"));\n",
    "System.out.println(\"Last index of Web Development: \" + courses.lastIndexOf(\"Web Development\"));\n",
    "\n",
    "// Checking if an element exists\n",
    "System.out.println(\"Contains Python? \" + courses.contains(\"Python\"));"
   ]
  },
  {
   "cell_type": "code",
   "execution_count": null,
   "metadata": {
    "vscode": {
     "languageId": "java"
    }
   },
   "outputs": [],
   "source": [
    "// Replacing an element\n",
    "courses.set(1, \"Advanced Database Systems\");\n",
    "System.out.println(\"After replacement: \" + courses);\n",
    "\n",
    "// Insert at a specific position\n",
    "courses.add(2, \"Python Programming\");\n",
    "System.out.println(\"After insertion: \" + courses);\n",
    "\n",
    "// Remove by index\n",
    "courses.remove(0);\n",
    "System.out.println(\"After removing first element: \" + courses);\n",
    "\n",
    "// Remove by object\n",
    "courses.remove(\"Web Development\"); // Removes first occurrence\n",
    "System.out.println(\"After removing Web Development: \" + courses);\n",
    "\n",
    "// Getting a sublist\n",
    "List<String> subCourses = courses.subList(0, 2);\n",
    "System.out.println(\"Sublist of first two courses: \" + subCourses);"
   ]
  },
  {
   "cell_type": "markdown",
   "metadata": {},
   "source": [
    "### Example: List Iteration"
   ]
  },
  {
   "cell_type": "code",
   "execution_count": null,
   "metadata": {
    "vscode": {
     "languageId": "java"
    }
   },
   "outputs": [],
   "source": [
    "import java.util.List;\n",
    "import java.util.ArrayList;\n",
    "import java.util.ListIterator;\n",
    "\n",
    "List<String> fruits = new ArrayList<>();\n",
    "fruits.add(\"Apple\");\n",
    "fruits.add(\"Banana\");\n",
    "fruits.add(\"Cherry\");\n",
    "fruits.add(\"Date\");\n",
    "\n",
    "// Method 1: For-each loop\n",
    "System.out.println(\"Using for-each loop:\");\n",
    "for (String fruit : fruits) {\n",
    "    System.out.println(fruit);\n",
    "}"
   ]
  },
  {
   "cell_type": "code",
   "execution_count": null,
   "metadata": {
    "vscode": {
     "languageId": "java"
    }
   },
   "outputs": [],
   "source": [
    "// Method 2: Traditional for loop with index\n",
    "System.out.println(\"\\nUsing traditional for loop:\");\n",
    "for (int i = 0; i < fruits.size(); i++) {\n",
    "    System.out.println(i + \": \" + fruits.get(i));\n",
    "}"
   ]
  },
  {
   "cell_type": "code",
   "execution_count": null,
   "metadata": {
    "vscode": {
     "languageId": "java"
    }
   },
   "outputs": [],
   "source": [
    "// Method 3: ListIterator (allows bidirectional traversal)\n",
    "System.out.println(\"\\nUsing ListIterator forward:\");\n",
    "ListIterator<String> iterator = fruits.listIterator();\n",
    "while (iterator.hasNext()) {\n",
    "    System.out.println(iterator.nextIndex() + \": \" + iterator.next());\n",
    "}\n",
    "\n",
    "System.out.println(\"\\nUsing ListIterator backward:\");\n",
    "while (iterator.hasPrevious()) {\n",
    "    System.out.println(iterator.previousIndex() + \": \" + iterator.previous());\n",
    "}"
   ]
  },
  {
   "cell_type": "code",
   "execution_count": null,
   "metadata": {
    "vscode": {
     "languageId": "java"
    }
   },
   "outputs": [],
   "source": [
    "// Method 4: Java 8 forEach with lambda\n",
    "System.out.println(\"\\nUsing forEach method:\");\n",
    "fruits.forEach(fruit -> System.out.println(fruit));"
   ]
  },
  {
   "cell_type": "markdown",
   "metadata": {},
   "source": [
    "## 2. Sets\n",
    "\n",
    "### What is a Set?\n",
    "- Collection that cannot contain duplicate elements\n",
    "- Models the mathematical set abstraction\n",
    "- No guarantees concerning the order of elements\n",
    "\n",
    "### Key Operations\n",
    "- **add(E e)**: Adds element to the set if not already present\n",
    "- **remove(Object o)**: Removes specified element if present\n",
    "- **contains(Object o)**: Returns true if set contains the specified element\n",
    "- **isEmpty()**: Returns true if set contains no elements\n",
    "- **size()**: Returns the number of elements in the set\n",
    "- **clear()**: Removes all elements from the set"
   ]
  },
  {
   "cell_type": "markdown",
   "metadata": {},
   "source": [
    "### Example: Basic Set Operations"
   ]
  },
  {
   "cell_type": "code",
   "execution_count": null,
   "metadata": {
    "vscode": {
     "languageId": "java"
    }
   },
   "outputs": [],
   "source": [
    "import java.util.Set;\n",
    "import java.util.HashSet;\n",
    "\n",
    "// Create a Set\n",
    "Set<String> uniqueColors = new HashSet<>();\n",
    "\n",
    "// Adding elements\n",
    "uniqueColors.add(\"Red\");\n",
    "uniqueColors.add(\"Green\");\n",
    "uniqueColors.add(\"Blue\");\n",
    "uniqueColors.add(\"Red\"); // Duplicate - won't be added\n",
    "\n",
    "System.out.println(\"Unique colors: \" + uniqueColors);\n",
    "System.out.println(\"Number of unique colors: \" + uniqueColors.size());\n",
    "\n",
    "// Check if an element exists\n",
    "System.out.println(\"Contains Green? \" + uniqueColors.contains(\"Green\"));\n",
    "System.out.println(\"Contains Yellow? \" + uniqueColors.contains(\"Yellow\"));"
   ]
  },
  {
   "cell_type": "code",
   "execution_count": null,
   "metadata": {
    "vscode": {
     "languageId": "java"
    }
   },
   "outputs": [],
   "source": [
    "// Remove an element\n",
    "uniqueColors.remove(\"Green\");\n",
    "System.out.println(\"After removing Green: \" + uniqueColors);\n",
    "\n",
    "// Try to remove a non-existent element\n",
    "boolean removed = uniqueColors.remove(\"Purple\");\n",
    "System.out.println(\"Purple was removed: \" + removed);\n",
    "\n",
    "// Adding more elements\n",
    "uniqueColors.add(\"Yellow\");\n",
    "uniqueColors.add(\"Purple\");\n",
    "System.out.println(\"Current set: \" + uniqueColors);\n",
    "\n",
    "// Clear the set\n",
    "uniqueColors.clear();\n",
    "System.out.println(\"Is set empty after clear? \" + uniqueColors.isEmpty());"
   ]
  },
  {
   "cell_type": "markdown",
   "metadata": {},
   "source": [
    "### Example: Set Operations (Union, Intersection, Difference)"
   ]
  },
  {
   "cell_type": "code",
   "execution_count": null,
   "metadata": {
    "vscode": {
     "languageId": "java"
    }
   },
   "outputs": [],
   "source": [
    "import java.util.Set;\n",
    "import java.util.HashSet;\n",
    "\n",
    "// Create two sets\n",
    "Set<String> programmingLanguages = new HashSet<>();\n",
    "programmingLanguages.add(\"Java\");\n",
    "programmingLanguages.add(\"Python\");\n",
    "programmingLanguages.add(\"C++\");\n",
    "programmingLanguages.add(\"JavaScript\");\n",
    "\n",
    "Set<String> webLanguages = new HashSet<>();\n",
    "webLanguages.add(\"JavaScript\");\n",
    "webLanguages.add(\"PHP\");\n",
    "webLanguages.add(\"Ruby\");\n",
    "webLanguages.add(\"Python\");\n",
    "\n",
    "System.out.println(\"Programming Languages: \" + programmingLanguages);\n",
    "System.out.println(\"Web Languages: \" + webLanguages);"
   ]
  },
  {
   "cell_type": "code",
   "execution_count": null,
   "metadata": {
    "vscode": {
     "languageId": "java"
    }
   },
   "outputs": [],
   "source": [
    "// Union (addAll)\n",
    "Set<String> unionSet = new HashSet<>(programmingLanguages);\n",
    "unionSet.addAll(webLanguages);\n",
    "System.out.println(\"Union: \" + unionSet);\n",
    "\n",
    "// Intersection (retainAll)\n",
    "Set<String> intersectionSet = new HashSet<>(programmingLanguages);\n",
    "intersectionSet.retainAll(webLanguages);\n",
    "System.out.println(\"Intersection: \" + intersectionSet);\n",
    "\n",
    "// Difference (removeAll)\n",
    "Set<String> differenceSet = new HashSet<>(programmingLanguages);\n",
    "differenceSet.removeAll(webLanguages);\n",
    "System.out.println(\"Difference (Programming - Web): \" + differenceSet);"
   ]
  },
  {
   "cell_type": "code",
   "execution_count": null,
   "metadata": {
    "vscode": {
     "languageId": "java"
    }
   },
   "outputs": [],
   "source": [
    "// Symmetric Difference\n",
    "Set<String> symmetricDifferenceSet = new HashSet<>(unionSet);\n",
    "symmetricDifferenceSet.removeAll(intersectionSet);\n",
    "System.out.println(\"Symmetric Difference: \" + symmetricDifferenceSet);\n",
    "\n",
    "// Check if one set is a subset of another\n",
    "Set<String> backendLanguages = new HashSet<>();\n",
    "backendLanguages.add(\"Java\");\n",
    "backendLanguages.add(\"Python\");\n",
    "\n",
    "boolean isSubset = programmingLanguages.containsAll(backendLanguages);\n",
    "System.out.println(\"Is Backend a subset of Programming? \" + isSubset);"
   ]
  },
  {
   "cell_type": "markdown",
   "metadata": {},
   "source": [
    "## 3. Queues\n",
    "\n",
    "### What is a Queue?\n",
    "- Collection designed for holding elements prior to processing\n",
    "- Typically (but not necessarily) ordered in FIFO (First-In-First-Out) manner\n",
    "- Head of the queue is the element that would be removed by a call to remove() or poll()\n",
    "\n",
    "### Key Operations\n",
    "- **add(E e)/offer(E e)**: Adds element to the tail of the queue\n",
    "- **remove()/poll()**: Removes and returns the head of the queue\n",
    "- **element()/peek()**: Retrieves but does not remove the head of the queue\n",
    "- **size()**: Returns the number of elements in the queue"
   ]
  },
  {
   "cell_type": "markdown",
   "metadata": {},
   "source": [
    "### Example: Basic Queue Operations"
   ]
  },
  {
   "cell_type": "code",
   "execution_count": null,
   "metadata": {
    "vscode": {
     "languageId": "java"
    }
   },
   "outputs": [],
   "source": [
    "import java.util.Queue;\n",
    "import java.util.LinkedList;\n",
    "\n",
    "// Create a Queue\n",
    "Queue<String> printQueue = new LinkedList<>();\n",
    "\n",
    "// Adding elements (enqueue)\n",
    "printQueue.add(\"Document1.pdf\");\n",
    "printQueue.add(\"Resume.docx\");\n",
    "printQueue.add(\"Image.png\");\n",
    "\n",
    "System.out.println(\"Print queue: \" + printQueue);\n",
    "\n",
    "// Inspecting the head of queue without removing\n",
    "String headDocument = printQueue.peek();\n",
    "System.out.println(\"Next document to print: \" + headDocument);\n",
    "System.out.println(\"Queue after peek: \" + printQueue); // Unchanged"
   ]
  },
  {
   "cell_type": "code",
   "execution_count": null,
   "metadata": {
    "vscode": {
     "languageId": "java"
    }
   },
   "outputs": [],
   "source": [
    "// Remove and return the head (dequeue)\n",
    "String printedDocument = printQueue.poll();\n",
    "System.out.println(\"Printing: \" + printedDocument);\n",
    "System.out.println(\"Queue after poll: \" + printQueue);\n",
    "\n",
    "// Adding more elements\n",
    "printQueue.offer(\"Presentation.pptx\"); // offer is same as add but preferred for queues\n",
    "System.out.println(\"After offering a new document: \" + printQueue);\n",
    "\n",
    "// Using element() - throws NoSuchElementException if queue is empty\n",
    "System.out.println(\"Element at head: \" + printQueue.element());"
   ]
  },
  {
   "cell_type": "code",
   "execution_count": null,
   "metadata": {
    "vscode": {
     "languageId": "java"
    }
   },
   "outputs": [],
   "source": [
    "// Process entire queue\n",
    "System.out.println(\"\\nProcessing entire queue:\");\n",
    "while (!printQueue.isEmpty()) {\n",
    "    System.out.println(\"Printing: \" + printQueue.poll());\n",
    "}\n",
    "\n",
    "System.out.println(\"Queue empty? \" + printQueue.isEmpty());\n",
    "\n",
    "// peek() vs element() when queue is empty\n",
    "System.out.println(\"peek() on empty queue: \" + printQueue.peek()); // Returns null\n",
    "\n",
    "try {\n",
    "    System.out.println(\"element() on empty queue: \" + printQueue.element());\n",
    "} catch (Exception e) {\n",
    "    System.out.println(\"Exception when calling element() on empty queue: \" + e.getClass().getSimpleName());\n",
    "}"
   ]
  },
  {
   "cell_type": "markdown",
   "metadata": {},
   "source": [
    "### Example: Priority Queue"
   ]
  },
  {
   "cell_type": "code",
   "execution_count": null,
   "metadata": {
    "vscode": {
     "languageId": "java"
    }
   },
   "outputs": [],
   "source": [
    "import java.util.Queue;\n",
    "import java.util.PriorityQueue;\n",
    "\n",
    "// Create a priority queue of integers (natural ordering - smallest first)\n",
    "Queue<Integer> priorityQueue = new PriorityQueue<>();\n",
    "\n",
    "// Add elements (not in order)\n",
    "priorityQueue.add(10);\n",
    "priorityQueue.add(5);\n",
    "priorityQueue.add(15);\n",
    "priorityQueue.add(1);\n",
    "\n",
    "System.out.println(\"Priority queue: \" + priorityQueue); // May not show in sorted order"
   ]
  },
  {
   "cell_type": "code",
   "execution_count": null,
   "metadata": {
    "vscode": {
     "languageId": "java"
    }
   },
   "outputs": [],
   "source": [
    "// Retrieve and remove elements (will come out in priority order)\n",
    "System.out.println(\"\\nProcessing priority queue elements:\");\n",
    "while (!priorityQueue.isEmpty()) {\n",
    "    System.out.println(\"Processing: \" + priorityQueue.poll());\n",
    "}"
   ]
  },
  {
   "cell_type": "code",
   "execution_count": null,
   "metadata": {
    "vscode": {
     "languageId": "java"
    }
   },
   "outputs": [],
   "source": [
    "// Priority queue with custom priority (largest number first)\n",
    "Queue<Integer> reversePriorityQueue = new PriorityQueue<>((a, b) -> b - a);\n",
    "\n",
    "reversePriorityQueue.add(10);\n",
    "reversePriorityQueue.add(5);\n",
    "reversePriorityQueue.add(15);\n",
    "reversePriorityQueue.add(1);\n",
    "\n",
    "System.out.println(\"\\nReverse priority queue: \" + reversePriorityQueue);\n",
    "\n",
    "System.out.println(\"\\nProcessing reverse priority queue elements:\");\n",
    "while (!reversePriorityQueue.isEmpty()) {\n",
    "    System.out.println(\"Processing: \" + reversePriorityQueue.poll());\n",
    "}"
   ]
  },
  {
   "cell_type": "markdown",
   "metadata": {},
   "source": [
    "## 4. Deques\n",
    "\n",
    "### What is a Deque?\n",
    "- Double-Ended Queue\n",
    "- Supports element insertion and removal at both ends\n",
    "- Can be used as both FIFO (First-In-First-Out) queue and LIFO (Last-In-First-Out) stack\n",
    "\n",
    "### Key Operations\n",
    "- **addFirst(E e)/offerFirst(E e)**: Inserts element at the front\n",
    "- **addLast(E e)/offerLast(E e)**: Inserts element at the end\n",
    "- **removeFirst()/pollFirst()**: Removes and returns the first element\n",
    "- **removeLast()/pollLast()**: Removes and returns the last element\n",
    "- **getFirst()/peekFirst()**: Retrieves, but does not remove, the first element\n",
    "- **getLast()/peekLast()**: Retrieves, but does not remove, the last element\n",
    "- **push(E e)**: Pushes element onto the stack (addFirst)\n",
    "- **pop()**: Pops element from the stack (removeFirst)"
   ]
  },
  {
   "cell_type": "markdown",
   "metadata": {},
   "source": [
    "### Example: Deque as Both Queue and Stack"
   ]
  },
  {
   "cell_type": "code",
   "execution_count": null,
   "metadata": {
    "vscode": {
     "languageId": "java"
    }
   },
   "outputs": [],
   "source": [
    "import java.util.Deque;\n",
    "import java.util.ArrayDeque;\n",
    "\n",
    "// Create a Deque\n",
    "Deque<String> deque = new ArrayDeque<>();\n",
    "\n",
    "// Using Deque as a Queue (FIFO)\n",
    "System.out.println(\"=== Using Deque as a Queue ===\");\n",
    "\n",
    "// Add elements to the end\n",
    "deque.offerLast(\"Task 1\");\n",
    "deque.offerLast(\"Task 2\");\n",
    "deque.offerLast(\"Task 3\");\n",
    "\n",
    "System.out.println(\"Queue: \" + deque);\n",
    "\n",
    "// Process from the front\n",
    "System.out.println(\"Processing queue:\");\n",
    "while (!deque.isEmpty()) {\n",
    "    System.out.println(\"Processing: \" + deque.pollFirst());\n",
    "}"
   ]
  },
  {
   "cell_type": "code",
   "execution_count": null,
   "metadata": {
    "vscode": {
     "languageId": "java"
    }
   },
   "outputs": [],
   "source": [
    "// Using Deque as a Stack (LIFO)\n",
    "System.out.println(\"\\n=== Using Deque as a Stack ===\");\n",
    "\n",
    "// Push elements (add to front)\n",
    "deque.push(\"Page 1\");\n",
    "deque.push(\"Page 2\");\n",
    "deque.push(\"Page 3\");\n",
    "\n",
    "System.out.println(\"Stack: \" + deque);\n",
    "\n",
    "// Pop elements (remove from front)\n",
    "System.out.println(\"Processing stack:\");\n",
    "while (!deque.isEmpty()) {\n",
    "    System.out.println(\"Processing: \" + deque.pop());\n",
    "}"
   ]
  },
  {
   "cell_type": "markdown",
   "metadata": {},
   "source": [
    "### Example: Deque Operations"
   ]
  },
  {
   "cell_type": "code",
   "execution_count": null,
   "metadata": {
    "vscode": {
     "languageId": "java"
    }
   },
   "outputs": [],
   "source": [
    "import java.util.Deque;\n",
    "import java.util.ArrayDeque;\n",
    "\n",
    "Deque<String> browserHistory = new ArrayDeque<>();\n",
    "\n",
    "// Add pages to history\n",
    "browserHistory.offerLast(\"Homepage\");\n",
    "browserHistory.offerLast(\"Search Results\");\n",
    "browserHistory.offerLast(\"Product Page\");\n",
    "browserHistory.offerLast(\"Shopping Cart\");\n",
    "\n",
    "System.out.println(\"Browsing history: \" + browserHistory);\n",
    "\n",
    "// Current page (last element)\n",
    "System.out.println(\"Current page: \" + browserHistory.peekLast());\n",
    "\n",
    "// Go back one page (remove last)\n",
    "String previousPage = browserHistory.pollLast();\n",
    "System.out.println(\"Going back from: \" + previousPage);\n",
    "System.out.println(\"Now on page: \" + browserHistory.peekLast());"
   ]
  },
  {
   "cell_type": "code",
   "execution_count": null,
   "metadata": {
    "vscode": {
     "languageId": "java"
    }
   },
   "outputs": [],
   "source": [
    "// Go back to first page visited\n",
    "System.out.println(\"First page visited: \" + browserHistory.peekFirst());\n",
    "\n",
    "// Add a new page after going back\n",
    "browserHistory.offerLast(\"Checkout Page\");\n",
    "System.out.println(\"After visiting new page: \" + browserHistory);\n",
    "\n",
    "// Working with both ends\n",
    "browserHistory.addFirst(\"Start Page\"); // Add to front\n",
    "browserHistory.addLast(\"Confirmation Page\"); // Add to back\n",
    "\n",
    "System.out.println(\"Updated history: \" + browserHistory);"
   ]
  },
  {
   "cell_type": "code",
   "execution_count": null,
   "metadata": {
    "vscode": {
     "languageId": "java"
    }
   },
   "outputs": [],
   "source": [
    "// Removing from both ends\n",
    "String firstPage = browserHistory.removeFirst();\n",
    "String lastPage = browserHistory.removeLast();\n",
    "\n",
    "System.out.println(\"Removed first page: \" + firstPage);\n",
    "System.out.println(\"Removed last page: \" + lastPage);\n",
    "System.out.println(\"Remaining history: \" + browserHistory);"
   ]
  },
  {
   "cell_type": "markdown",
   "metadata": {},
   "source": [
    "## Conclusion and Real-World Applications\n",
    "\n",
    "### When to Use Each Collection:\n",
    "\n",
    "- **Lists**: When order matters and you need random access by index\n",
    "  - Examples: Todo lists, playlist of songs, command history\n",
    "\n",
    "- **Sets**: When uniqueness matters and order doesn't\n",
    "  - Examples: Unique visitors to a website, distinct words in a document\n",
    "\n",
    "- **Queues**: When processing elements in first-come-first-served order\n",
    "  - Examples: Print job spooling, task scheduling, breadth-first search\n",
    "\n",
    "- **Deques**: When needing access to both ends of a sequence\n",
    "  - Examples: Undo/redo operations, work stealing algorithms, sliding window problems\n",
    "\n",
    "Understanding when to use each collection type is key to writing efficient Java code!"
   ]
  }
 ],
 "metadata": {
  "kernelspec": {
   "display_name": "Java",
   "language": "java",
   "name": "java"
  },
  "language_info": {
   "codemirror_mode": "java",
   "file_extension": ".jshell",
   "mimetype": "text/x-java-source",
   "name": "Java",
   "pygments_lexer": "java",
   "version": "11.0.1+13"
  }
 },
 "nbformat": 4,
 "nbformat_minor": 4
}
