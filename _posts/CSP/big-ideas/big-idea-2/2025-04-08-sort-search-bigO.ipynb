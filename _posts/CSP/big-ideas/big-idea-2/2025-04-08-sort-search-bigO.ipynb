{
 "cells": [
  {
   "cell_type": "raw",
   "id": "f3a4195b",
   "metadata": {
    "vscode": {
     "languageId": "raw"
    }
   },
   "source": [
    "---\n",
    "layout: post\n",
    "categories: ['CSP Big Idea 2']\n",
    "title: Sorting, Searching, Data, and Big O \n",
    "description: Chart to show the relationship between sorting, searching, data, and Big O \n",
    "courses: {'csp': {'week': 25}}\n",
    "type: ccc\n",
    "---"
   ]
  },
  {
   "cell_type": "markdown",
   "id": "ca77d0e0",
   "metadata": {},
   "source": [
    "## 🌲 Binary Trees vs. Arrays – Quick Reference\n",
    "\n",
    "| Operation             | Binary Search Tree (Balanced) | Array (Unsorted)    | Array (Sorted)     |\n",
    "|----------------------|-------------------------------|---------------------|--------------------|\n",
    "| 🔍 Search (Find)     | O(log N)                      | O(N)                | O(log N)           |\n",
    "| ➕ Insert             | O(log N)                      | O(1) (append)       | O(N) (shift)       |\n",
    "| ❌ Delete            | O(log N)                      | O(N)                | O(N)               |\n",
    "| 🔃 Ordered Traversal | O(N) (in-order)               | O(N log N) (sort)   | O(N)               |\n",
    "| 📏 Access by Index   | Not index-based               | O(1)                | O(1)               |\n",
    "| 🔄 Keeps Ordered     | ✅ Yes                        | ❌ No               | ✅ Yes             |\n",
    "| ⚖️ Efficiency        | Great for dynamic sorted data | Great for fast appends | Great for search |\n",
    "\n",
    "---\n",
    "\n",
    "### 🧠 Key Takeaways\n",
    "\n",
    "- **BST** is ideal when:\n",
    "  - You need fast inserts, deletes, or lookups.\n",
    "  - You want to keep data **sorted** automatically.\n",
    "- **Arrays** are ideal when:\n",
    "  - You want fast **random access**.\n",
    "  - You don't modify the data much (static datasets)."
   ]
  }
 ],
 "metadata": {
  "language_info": {
   "name": "python"
  }
 },
 "nbformat": 4,
 "nbformat_minor": 5
}
