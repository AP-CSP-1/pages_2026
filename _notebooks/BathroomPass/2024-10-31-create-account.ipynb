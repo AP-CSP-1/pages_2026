{
 "cells": [
  {
   "cell_type": "raw",
   "metadata": {
    "vscode": {
     "languageId": "raw"
    }
   },
   "source": [
    "---\n",
    "layout: create-account\n",
    "title: Create Account\n",
    "categories: [Collaboration]\n",
    "courses: { csse: {week: 0}, csp: {week: 0 }, csa: {week: 4}}\n",
    "type: collab\n",
    "permalink: /create-account\n",
    "toc: true\n",
    "---"
   ]
  }
 ],
 "metadata": {
  "kernelspec": {
   "display_name": "CSA",
   "language": "python",
   "name": "python3"
  },
  "language_info": {
   "name": "python",
   "version": "3.13.0"
  }
 },
 "nbformat": 4,
 "nbformat_minor": 2
}
