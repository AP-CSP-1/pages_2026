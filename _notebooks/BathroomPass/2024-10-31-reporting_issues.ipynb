{
 "cells": [
  {
   "cell_type": "raw",
   "metadata": {
    "vscode": {
     "languageId": "raw"
    }
   },
   "source": [
    "---\n",
    "layout: report-issues\n",
    "title: Reporting Issues\n",
    "categories: [Collaboration]\n",
    "courses: { csse: {week: 0}, csp: {week: 0 }, csa: {week: 4}}\n",
    "type: collab\n",
    "permalink: /issue\n",
    "toc: true\n",
    "---"
   ]
  }
 ],
 "metadata": {
  "language_info": {
   "name": "python"
  }
 },
 "nbformat": 4,
 "nbformat_minor": 2
}
