{
    "cells": [
        {
            "cell_type": "raw",
            "id": "b19d966f",
            "metadata": {
                "vscode": {
                    "languageId": "raw"
                }
            },
            "source": [
                "---\n",
                "layout: post\n",
                "title: AI Quest Storyboard\n",
                "comments: true\n",
                "permalink: /csp/stotryboard/\n",
                "---"
            ]
        },
        {
            "cell_type": "markdown",
            "id": "38195a05",
            "metadata": {},
            "source": [
                "# AI Quest Storyboard\n",
                "---\n",
                "**Created by:** AI Team\n",
                "\n",
                "**Project Purpose:**\n",
                "A quest-style learning experience that teaches players about Artificial Intelligence concepts through exploration, questions, and interactive challenges.\n",
                "\n",
                "---"
            ]
        },
        {
            "cell_type": "markdown",
            "id": "9ab7ad0d",
            "metadata": {},
            "source": [
                "## Overview\n",
                "**Story Concept:**\n",
                "The player lands on a mysterious planet with three giant craters. Each crater represents a challenge (Level 1, 2, and 3) that teaches a part of the AI curriculum.\n",
                "\n",
                "**Objective:**\n",
                "Answer questions in each crater to earn part of a secret code. Once all levels are completed, use the full code to unlock the Vault and play a final mini-game.\n",
                "\n",
                "**Levels:**\n",
                "1. Types of AI\n",
                "2. How to Use AI\n",
                "3. AI API (Flask)\n",
                "\n",
                "**End Goal:**\n",
                "Unlock the Vault and complete the final challenge to become an AI Explorer."
            ]
        },
        {
            "cell_type": "markdown",
            "id": "1fe561db",
            "metadata": {
                "vscode": {
                    "languageId": "html"
                }
            },
            "source": [
                "<img src=\"../../images/storyboard.jpg\" width=\"400\">\n",
                "\n",
                "<img src=\"../../images/flowchart.png\" width=\"1000\">\n",
                "\n"
            ]
        },
        {
            "cell_type": "markdown",
            "id": "53e47b0c",
            "metadata": {},
            "source": [
                "## Level 1: Types of AI\n",
                "**Setting:** Crater One — The Circle of Intelligence\n",
                "\n",
                "**Visual Concept:**\n",
                "A large crater with glowing symbols representing different AI levels.\n",
                "\n",
                "**Learning Focus:**\n",
                "- Narrow AI\n",
                "- General AI\n",
                "- Super AI\n",
                "\n",
                "**Storyboard Notes:**\n",
                "1. Player approaches Crater One.\n",
                "2. Floating console presents the first challenge.\n",
                "3. Questions appear as multiple choice.\n",
                "4. Correct answers reveal part 1 of the Vault code.\n",
                "\n",
                "**Sample Questions:**\n",
                "- Q1: Which type of AI is specialized for a specific task?\n",
                "- Q2: Which type of AI would be capable of human-level reasoning?\n",
                "- Q3: Which type of AI surpasses human intelligence entirely?"
            ]
        },
        {
            "cell_type": "markdown",
            "id": "116d50e4",
            "metadata": {},
            "source": [
                "<img src=\"../../images/IMG_5504.jpeg\" width=\"1000\">"
            ]
        },
        {
            "cell_type": "markdown",
            "id": "5fc34c0d",
            "metadata": {},
            "source": [
                "## Level 2: How to Use AI\n",
                "**Setting:** Crater Two — The Chamber of Control\n",
                "\n",
                "**Learning Focus:**\n",
                "- Prompt Engineering\n",
                "- Voice Commands\n",
                "- Visual Inputs\n",
                "\n",
                "**Storyboard Notes:**\n",
                "1. Player enters the second crater.\n",
                "3. Each interaction tests understanding of how to communicate with AI systems.\n",
                "4. Correct answers unlock part 2 of the Vault code.\n",
                "\n",
                "**Sample Questions:**\n",
                "- Q1: What is the best way to get accurate results from an AI chatbot?\n",
                "- Q2: What technology allows an AI assistant to respond to spoken commands?\n",
                "- Q3: What input type would an AI camera use to recognize faces?"
            ]
        },
        {
            "cell_type": "markdown",
            "id": "96f03ec7",
            "metadata": {},
            "source": [
                "<img src=\"../../images/Level_2.jpg\" width=\"1000\">"
            ]
        },
        {
            "cell_type": "markdown",
            "id": "769c5f7b",
            "metadata": {},
            "source": [
                "## Level 3: AI API\n",
                "**Setting:** Crater Three — API Flask\n",
                "\n",
                "**Learning Focus:**\n",
                "- Understanding APIs\n",
                "- Flask and AI connections\n",
                "\n",
                "**Storyboard Notes:**\n",
                "1. Learn how an AI API works using Flask.\n",
                "2. Questions reveal the final Vault code digit.\n",
                "\n",
                "**Sample Questions:**\n",
                "- Q1: What does API stand for?\n",
                "- Q2: What Python framework lets you build web APIs?\n",
                "- Q3: How does a Flask API connect to an AI model?"
            ]
        },
        {
            "cell_type": "markdown",
            "id": "56547d4b",
            "metadata": {},
            "source": [
                "<img src=\"../../images/Level_3.jpg\" width=\"1000\">"
            ]
        },
        {
            "cell_type": "markdown",
            "id": "d3e72cdc",
            "metadata": {},
            "source": [
                "## Vault Challenge\n",
                "**Setting:** The Vault of Knowledge\n",
                "\n",
                "**Storyboard Notes:**\n",
                "1. The player reaches the vault.\n",
                "2. They enter the code from all three levels.\n",
                "3. If the code is correct → door opens.\n",
                "4. Inside lies the final mini-game.\n",
                "\n",
                "**Visual Sketch (Text):**\n",
                "```\n",
                "      [The Vault]\n",
                "   ----------------\n",
                "   |   CODE: _ _ _ |\n",
                "   ----------------\n",
                "   |   ENTER CODE  |\n",
                "   ----------------\n",
                "```"
            ]
        },
        {
            "cell_type": "markdown",
            "id": "71796166",
            "metadata": {},
            "source": [
                "## Mini-game\n",
                "**Concept:** A short puzzle or quiz related to AI that shows real word application"
            ]
        },
        {
            "cell_type": "markdown",
            "id": "e0af0f64",
            "metadata": {},
            "source": [
                "## End / Reflection\n",
                "**Outcome:** The player becomes a certified AI Explorer.\n",
                "\n",
                "**Learning Summary:**\n",
                "- Understands three types of AI\n",
                "- Knows how humans interact with AI (prompt, voice, visual)\n",
                "- Understands basic API and Flask integration\n",
                "\n",
                "**Next Steps:**\n",
                "- Expand with real code and interactive quizzes\n",
                "- Add simple graphics or animation for each crater\n",
                "- Determine what questions to ask during the levels and during the mini-game"
            ]
        }
    ],
    "metadata": {
        "kernelspec": {
            "display_name": "Python 3",
            "language": "python",
            "name": "python3"
        },
        "language_info": {
            "name": "python",
            "version": "-1.-1.-1"
        }
    },
    "nbformat": 4,
    "nbformat_minor": 5
}
