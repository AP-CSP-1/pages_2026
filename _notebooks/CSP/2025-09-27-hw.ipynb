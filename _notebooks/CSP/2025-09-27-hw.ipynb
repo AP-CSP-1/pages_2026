{
 "cells": [
  {
   "cell_type": "markdown",
   "id": "9b05e17a",
   "metadata": {},
   "source": [
    "## Math Expressions Homework"
   ]
  },
  {
   "cell_type": "markdown",
   "id": "d5e112da",
   "metadata": {},
   "source": [
    "<!-- 📝 Homework: Multiple Choice -->\n",
    "<div style=\"font-family:system-ui,sans-serif; background:#0b0c0f; color:#f6f7fb; padding:20px; border-radius:16px; max-width:900px; margin:auto; line-height:1.6; margin-bottom:20px;\">\n",
    "  <h2>📝 Homework: Multiple Choice</h2>\n",
    "\n",
    "  <p>1) What will the following Python code output?</p>\n",
    "  <pre><code>x = 10\n",
    "y = 3\n",
    "print(x % y + x // y)</code></pre>\n",
    "  <label><input type=\"radio\" name=\"q1\" value=\"A\"> A. 4</label>\n",
    "  <label><input type=\"radio\" name=\"q1\" value=\"B\"> B. 5</label>\n",
    "  <label><input type=\"radio\" name=\"q1\" value=\"C\"> C. 6</label>\n",
    "  <label><input type=\"radio\" name=\"q1\" value=\"D\"> D. 7</label>\n",
    "\n",
    "  <p>2) Which of the following <b>best describes</b> a mathematical expression in programming?</p>\n",
    "  <label><input type=\"radio\" name=\"q2\" value=\"A\"> A. A sequence of steps used to solve a problem</label>\n",
    "  <label><input type=\"radio\" name=\"q2\" value=\"B\"> B. A combination of values, variables, and operators that evaluates to a single value</label>\n",
    "  <label><input type=\"radio\" name=\"q2\" value=\"C\"> C. A diagram that represents decision-making in code</label>\n",
    "  <label><input type=\"radio\" name=\"q2\" value=\"D\"> D. A way to store multiple values in a list</label>\n",
    "\n",
    "  <p>3) What is the value of <code>result</code> in the following code?</p>\n",
    "  <pre><code>num1 = 8\n",
    "num2 = 3\n",
    "result = num1 * num2 - num1 / num2</code></pre>\n",
    "  <label><input type=\"radio\" name=\"q3\" value=\"A\"> A. 21.33</label>\n",
    "  <label><input type=\"radio\" name=\"q3\" value=\"B\"> B. 22.0</label>\n",
    "  <label><input type=\"radio\" name=\"q3\" value=\"C\"> C. 20.5</label>\n",
    "  <label><input type=\"radio\" name=\"q3\" value=\"D\"> D. 21.0</label>\n",
    "</div>\n",
    "\n",
    "<!-- 📝 Homework: Free Response -->\n",
    "<div style=\"font-family:system-ui,sans-serif; background:#0b0c0f; color:#f6f7fb; padding:20px; border-radius:16px; max-width:900px; margin:auto; line-height:1.6; margin-bottom:20px;\">\n",
    "  <h2>📝 Homework: Free Response</h2>\n",
    "\n",
    "  <p>1) Write a function in Python that takes two numbers as inputs and returns the result of:</p>\n",
    "  <pre><code>(x² + y²) ÷ (x + y)</code></pre>\n",
    "  <p>Be sure to handle the case when <code>x + y = 0</code>.</p>\n",
    "\n",
    "  <p>2) Explain how <b>order of operations (PEMDAS)</b> affects the evaluation of:</p>\n",
    "  <pre><code>result = 6 + 4 * 2 % 5</code></pre>\n",
    "  <p>- Show the step-by-step evaluation.<br>- Write the final answer.</p>\n",
    "</div>\n"
   ]
  }
 ],
 "metadata": {
  "language_info": {
   "name": "python"
  }
 },
 "nbformat": 4,
 "nbformat_minor": 5
}
