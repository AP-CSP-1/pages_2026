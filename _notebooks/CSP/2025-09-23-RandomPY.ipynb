{
 "cells": [
  {
   "cell_type": "markdown",
   "id": "cb3b4231",
   "metadata": {},
   "source": [
    "---\n",
    "layout: post\n",
    "title: Sprint 2 - Random Numbers! (Python)\n",
    "description:  Random Numbers in Python\n",
    "toc: true\n",
    "breadcrumbs: True\n",
    "permalink: /Random_numbersPY\n",
    "---"
   ]
  },
  {
   "cell_type": "markdown",
   "id": "93583304",
   "metadata": {},
   "source": [
    "# Random Numbers\n",
    "\n",
    "\n",
    "## The Random Module\n",
    "\n",
    "To make anything random in python, you need a module called ```Random```. This module was to be imported to your script beforehand like this:"
   ]
  },
  {
   "cell_type": "code",
   "execution_count": 1,
   "id": "fd064aad",
   "metadata": {},
   "outputs": [],
   "source": [
    "import random"
   ]
  },
  {
   "cell_type": "markdown",
   "id": "aef52b84",
   "metadata": {},
   "source": [
    "Think of this as a spellbook! Every python spell must derive from the spellbook. In this case, that spellbook we need is ```random```.\n",
    "\n",
    "\n",
    "\n",
    "\n",
    "\n",
    "## A Basic Number Generator\n",
    "\n",
    "Lets analyze the following generator:"
   ]
  },
  {
   "cell_type": "code",
   "execution_count": 9,
   "id": "b924aacc",
   "metadata": {},
   "outputs": [
    {
     "name": "stdout",
     "output_type": "stream",
     "text": [
      "Random Integer: 2\n"
     ]
    }
   ],
   "source": [
    "import random\n",
    "# Generate a random integer between 1 and 10 (inclusive)\n",
    "random_integer = random.randint(1, 10)\n",
    "print(f\"Random Integer: {random_integer}\")"
   ]
  },
  {
   "cell_type": "markdown",
   "id": "55ec718a",
   "metadata": {},
   "source": [
    "```import random```: Allows us to access the random module\n",
    "\n",
    "```random_integer```: This is out variable to hold the number we generate\n",
    "\n",
    "```random.randit(1,10)```: This basically says \"from the random module, use the randint function and use parameters 1 and 10.\" Randint is the function used to determine a random integer in a range. In this case that eange is 1 and 10.\n",
    "\n",
    "```print(f\"Random Integer: {random_integer}\")```: Prints the number\n",
    "\n",
    "\n",
    "\n",
    "## Another type of generator\n",
    "\n",
    "Lets look at one more generator:\n"
   ]
  },
  {
   "cell_type": "code",
   "execution_count": 14,
   "id": "95fc0b98",
   "metadata": {},
   "outputs": [
    {
     "name": "stdout",
     "output_type": "stream",
     "text": [
      "Random Float: 0.1742626429831371\n"
     ]
    }
   ],
   "source": [
    "import random\n",
    "# Generate a random float between 0 and 1 (inclusive)\n",
    "random_float = random.uniform(0, 1)\n",
    "print(f\"Random Float: {random_float}\")"
   ]
  },
  {
   "cell_type": "markdown",
   "id": "d35735ec",
   "metadata": {},
   "source": [
    "Before we jump in, lets clarify what the different types of random are. Lets compare Randint, Uniform, and normalvariate to find out:\n",
    "\n",
    "\n",
    "**Randint**:\n",
    "- What it does: Picks a whole number between two values, with equal chance for each.\n",
    "- Distribution type: **Discrete** uniform distribution.\n",
    "\n",
    "**Uniform**:\n",
    "- What it does: Picks a decimal (float) between two numbers, again with equal chance for every value in that range.\n",
    "- Distribution type: **Continuous** uniform distribution.\n",
    "\n",
    "**Normalvariate**:\n",
    "- What it does: Picks a number where values near the average (mean) are more likely, and extreme values are rare.\n",
    "- Distribution type: **Normal** (bell curve).\n",
    "\n",
    "\n",
    "\n",
    "This code right here uses **Uniform**. It needs to pick a **float** or **decimal** and the **Uniform** function works best when dealing with decimals between 2 numbers with equal chance to roll it.\n",
    "\n",
    "\n",
    "\n",
    "## Hacks!\n",
    "\n",
    "Here are a few challenges you can try making with the concept of RNG in Python:\n",
    "\n",
    "1. Dice or Lottery Numbers\n",
    "2. Random Decimal Precision\n",
    "3. Random Shuffle with Numbers\n"
   ]
  }
 ],
 "metadata": {
  "kernelspec": {
   "display_name": "venv",
   "language": "python",
   "name": "python3"
  },
  "language_info": {
   "codemirror_mode": {
    "name": "ipython",
    "version": 3
   },
   "file_extension": ".py",
   "mimetype": "text/x-python",
   "name": "python",
   "nbconvert_exporter": "python",
   "pygments_lexer": "ipython3",
   "version": "3.12.3"
  }
 },
 "nbformat": 4,
 "nbformat_minor": 5
}
