{
 "cells": [
  {
   "cell_type": "code",
   "execution_count": null,
   "id": "a6eed6e4",
   "metadata": {},
   "outputs": [],
   "source": [
    "# 📝 Practice Exercise: Strings and Lists  \n",
    "\n",
    "Run the code cells below and fill in the blanks to complete the exercises!\n"
   ]
  },
  {
   "cell_type": "code",
   "execution_count": null,
   "id": "7449c1f4",
   "metadata": {},
   "outputs": [],
   "source": [
    "## 1. Strings  \n",
    "Create a variable called `favorite_word` and store your favorite word as a string.  \n",
    "- Print the first letter of your word.  \n",
    "- Print the last letter of your word.  \n"
   ]
  },
  {
   "cell_type": "code",
   "execution_count": null,
   "id": "af9ee32e",
   "metadata": {},
   "outputs": [],
   "source": [
    "# TODO: Replace \"_____\" with your favorite word\n",
    "favorite_word = \"_____\"\n",
    "\n",
    "# Print the first letter\n",
    "print(favorite_word[0])\n",
    "\n",
    "# Print the last letter\n",
    "print(favorite_word[-1])  # -1 means the last character\n"
   ]
  },
  {
   "cell_type": "code",
   "execution_count": null,
   "id": "46a07641",
   "metadata": {},
   "outputs": [],
   "source": [
    "## 2. Lists  \n",
    "Make a list of your top 3 favorite snacks.  \n",
    "- Print the first snack.  \n",
    "- Print the last snack.  \n"
   ]
  },
  {
   "cell_type": "code",
   "execution_count": null,
   "id": "95438207",
   "metadata": {},
   "outputs": [],
   "source": [
    "# TODO: Replace the list items with your favorite snacks\n",
    "snacks = [\"_____\", \"_____\", \"_____\"]\n",
    "\n",
    "print(snacks[0])   # First snack\n",
    "print(snacks[-1])  # Last snack\n"
   ]
  },
  {
   "cell_type": "code",
   "execution_count": null,
   "id": "d4612fdf",
   "metadata": {},
   "outputs": [],
   "source": [
    "## 3. Challenge 🎉  \n",
    "You have a list of ice cream flavors:  \n",
    "`[\"Vanilla\", \"Chocolate\", \"Strawberry\", \"Mint\"]`  \n",
    "\n",
    "- Print the second flavor.  \n",
    "- Print the fourth flavor.  \n"
   ]
  },
  {
   "cell_type": "code",
   "execution_count": null,
   "id": "907178e5",
   "metadata": {},
   "outputs": [],
   "source": [
    "flavors = [\"Vanilla\", \"Chocolate\", \"Strawberry\", \"Mint\"]\n",
    "\n",
    "# Print the second flavor\n",
    "print(flavors[1])\n",
    "\n",
    "# Print the fourth flavor\n",
    "print(flavors[3])\n"
   ]
  }
 ],
 "metadata": {
  "language_info": {
   "name": "python"
  }
 },
 "nbformat": 4,
 "nbformat_minor": 5
}
