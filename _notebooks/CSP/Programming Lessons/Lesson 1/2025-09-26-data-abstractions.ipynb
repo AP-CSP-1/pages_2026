{
 "cells": [
  {
   "cell_type": "code",
   "execution_count": null,
   "id": "7357d0fa",
   "metadata": {
    "vscode": {
     "languageId": "yaml"
    }
   },
   "outputs": [],
   "source": [
    "---\n",
    "layout: default\n",
    "title: \"Lists and Strings as Data Abstraction\"\n",
    "description: \"Learn how lists and strings help us use data easily in Python, with simple examples and explanations.\"\n",
    "tags:\n",
    "  - python\n",
    "  - data abstraction\n",
    "  - lists\n",
    "  - strings\n",
    "  - beginner\n",
    "  - lesson\n",
    "author: Jaynee Chauhan, Michelle Ji\n",
    "date: 2024-06-09\n",
    "permalink: /csp/big-idea-3/data-abstraction/p4/introduction\n",
    "---"
   ]
  },
  {
   "cell_type": "markdown",
   "id": "2a6269e4",
   "metadata": {},
   "source": [
    "# 🎓 Lesson: Lists and Strings as Data Abstraction  \n",
    "\n",
    "## 1. What is Data Abstraction?  \n",
    "Data abstraction means we don’t have to think about all the small details of how data is stored in the computer—we can just **use it in a simple way**.  \n",
    "\n",
    "👉 Think of a **TV remote**: you don’t need to know how the signal works, you just press a button and the channel changes.  \n",
    "👉 Similarly, in programming, we can use data types like **lists** and **strings** without worrying about the tiny details of how they’re built inside the computer.  \n"
   ]
  },
  {
   "cell_type": "markdown",
   "id": "100dde50",
   "metadata": {},
   "source": [
    "## 2. What is a String?  \n",
    "- A **string** is just text inside quotes.  \n",
    "- It could be **letters, words, phrases, sentences, or even numbers** if they’re written as text.  \n",
    "\n",
    "💡 Everyday examples of strings:  \n",
    "- `\"Hello world!\"`  \n",
    "- `\"UCSD12345\"` (an ID number written as text)  \n",
    "- `\"Dancing is fun!\"`  \n"
   ]
  },
  {
   "cell_type": "markdown",
   "id": "68dad0c4",
   "metadata": {},
   "source": [
    "# Example of a string in Python\n",
    "greeting = \"Hello world!\"\n",
    "print(greeting)\n"
   ]
  },
  {
   "cell_type": "markdown",
   "id": "ca390740",
   "metadata": {},
   "source": [
    "## 3. What is a List?  \n",
    "- A **list** is like a container that holds many pieces of data, all in one place.  \n",
    "- The items can be numbers, words, or even other lists!  \n",
    "\n",
    "💡 Everyday examples of lists:  \n",
    "- A **playlist**: `[\"Song A\", \"Song B\", \"Song C\"]`  \n",
    "- A **class roll**: `[\"Michelle\", \"Anishka\", \"Jaynee\", \"John\"]`  \n",
    "- Your **contacts**: `[\"Mom\", \"Dad\", \"Bestie\", \"Coach\"]`  \n"
   ]
  },
  {
   "cell_type": "markdown",
   "id": "d32fb757",
   "metadata": {},
   "source": [
    "# Example of a list in Python\n",
    "playlist = [\"Song A\", \"Song B\", \"Song C\"]\n",
    "print(playlist)\n"
   ]
  },
  {
   "cell_type": "markdown",
   "id": "77c55e28",
   "metadata": {},
   "source": [
    "## 4. What is an Index?  \n",
    "- An **index** is the position of an item in a list or string.  \n",
    "- In programming, indexes usually start at **0**.  \n",
    "\n",
    "💡 Think of a **row of lockers**:  \n",
    "- The **first locker** is index `0`.  \n",
    "- The **second locker** is index `1`.  \n",
    "- The **third locker** is index `2`.  \n"
   ]
  },
  {
   "cell_type": "markdown",
   "id": "2836a137",
   "metadata": {},
   "source": [
    "# Example with a string\n",
    "word = \"Dance\"\n",
    "print(word[0])  # D (first letter)\n",
    "print(word[1])  # a (second letter)\n"
   ]
  },
  {
   "cell_type": "markdown",
   "id": "685adf81",
   "metadata": {},
   "source": [
    "# Example with a list\n",
    "fruits = [\"Apple\", \"Banana\", \"Cherry\"]\n",
    "print(fruits[0])  # Apple\n",
    "print(fruits[2])  # Cherry\n"
   ]
  },
  {
   "cell_type": "markdown",
   "id": "02576ea7",
   "metadata": {},
   "source": [
    "## 5. Fun Example: Ice Cream List 🍦  \n"
   ]
  },
  {
   "cell_type": "markdown",
   "id": "6fe6d186",
   "metadata": {},
   "source": [
    "ice_cream_flavors = [\"Vanilla\", \"Chocolate\", \"Strawberry\", \"Mint\"]\n",
    "\n",
    "# What’s the first flavor?\n",
    "print(ice_cream_flavors[0])   # Vanilla\n",
    "\n",
    "# What’s the third flavor?\n",
    "print(ice_cream_flavors[2])   # Strawberry\n"
   ]
  },
  {
   "cell_type": "markdown",
   "id": "6916d7e9",
   "metadata": {},
   "source": [
    "## 6. Why Are Lists and Strings Examples of Data Abstraction?  \n",
    "- You don’t have to know **how** the computer stores `\"Hello world!\"` or your `playlist`.  \n",
    "- You just **use them**:  \n",
    "  - Strings let you store and work with text.  \n",
    "  - Lists let you organize multiple items in one place.  \n",
    "\n",
    "This is the **power of abstraction**—it hides the complicated details and gives you simple tools!  \n"
   ]
  },
  {
   "cell_type": "markdown",
   "id": "36935e40",
   "metadata": {},
   "source": [
    "## ✅ What You Should Be Able to Do Now  \n",
    "By the end of this lesson, you should be able to:  \n",
    "- Represent a **string** using a variable.  \n",
    "- Represent a **list** using a variable.  \n",
    "- Understand what an **index** is and how to use it to access items.  \n",
    "- Recognize examples of lists and strings in **everyday life**.  \n"
   ]
  }
 ],
 "metadata": {
  "language_info": {
   "name": "python"
  }
 },
 "nbformat": 4,
 "nbformat_minor": 5
}
