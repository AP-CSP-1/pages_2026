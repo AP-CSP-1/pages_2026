{
 "cells": [
  {
   "cell_type": "raw",
   "metadata": {
    "vscode": {
     "languageId": "raw"
    }
   },
   "source": [
    "---\n",
    "layout: post\n",
    "title: Sprint 4 - CSP Ideation and Objectives  \n",
    "description:  Software Ideation, Design, and Development for College Board CPT \n",
    "type: issues \n",
    "courses: { csp: {week: 13} }\n",
    "comments: true\n",
    "permalink: /csp/sprint4/objectives\n",
    "---"
   ]
  },
  {
   "cell_type": "markdown",
   "metadata": {},
   "source": [
    "## Sprint Objects\n",
    "\n",
    "1. **Breaking out your own Social Media Project**.  Objective is to create something that belongs to you and could potentially lead to your CPT project.  There will only be one person with rights to to pull code into the repository, teams will be 3 people, tables will be 6 people.  We will plan leadership off of one Scrum Master and Integrator per 6 people.  But teams of 3 will have very distinct features.  This work will require coordination and design.  There will be frequent checkpoints.   The first checkpoints will show that you are meeting Big Idea 1.1 to 1.3 requirements in planning, coordination, as well as meeting all the requirements for CPT.  Read the CPT requirements and start a planning breakdown.\n",
    "\n",
    "2. **Extending ideas for your group Social Media Project**.\n",
    "Your project should have designs for signup, login, and your social media features and actions.   Each person in team will have clear path and design for full stack responsibility.   Additional areas of consideration that must be considered.\n",
    "  - Jinja MVC [admin menu](https://flask2025.nighthawkcodingsociety.com/login?next=/users/table2)\n",
    "  - Home Page [design](https://nighthawkcoders.github.io/flocker_frontend/)\n",
    "  - Additional features not mentioned for consiration for an \"A\"\n",
    "\n",
    "3. **Teaching Elements** There are teaching elements we will be in focus Big Ideas 1, 2, 4 and remaining sections of Big Idea 3.  Selection of these elements could impact a mandatory CompSci social media section to your Social Media project. References to assist can be found on [Time Box Page](https://nighthawkcoders.github.io/teacher_portfolio/navigation/csp)."
   ]
  },
  {
   "cell_type": "markdown",
   "metadata": {},
   "source": []
  },
  {
   "cell_type": "markdown",
   "metadata": {},
   "source": []
  }
 ],
 "metadata": {
  "language_info": {
   "name": "python"
  }
 },
 "nbformat": 4,
 "nbformat_minor": 2
}
