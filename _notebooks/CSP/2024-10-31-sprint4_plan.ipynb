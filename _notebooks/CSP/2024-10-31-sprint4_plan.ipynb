{
 "cells": [
  {
   "cell_type": "raw",
   "metadata": {
    "vscode": {
     "languageId": "raw"
    }
   },
   "source": [
    "---\n",
    "layout: post\n",
    "title: Sprint 3 - CSP Ideation and Objectives  \n",
    "description:  Software Ideation, Design, and Development for College Board CPT \n",
    "type: issues \n",
    "courses: { csp: {week: 13} }\n",
    "comments: true\n",
    "permalink: /csp/sprint3/objectives\n",
    "---"
   ]
  },
  {
   "cell_type": "markdown",
   "metadata": {},
   "source": [
    "## Sprint Objects\n",
    "\n",
    "1. **Breaking out your own Social Media Project**.  Objective is to create something that belongs to you and could potentially lead to your CPT project.  There will only be one person with rights to to pull code into the repository, teams will be 4 to 8 people.   This work will require coordination and design.  There will be frequent checkpoints.   The first checkpoints will show that you are meeting Big Idea 1.1 to 1.3 requirements, as well as planning for CPT requirements.  \n",
    "\n",
    "2. **Extending ideas for your group Social Media Project**.\n",
    "Your project should have designs for signup, login, and your social media features and actions.   Each person in team will have clear path and design for full stack responsibility.   Additional areas of consideration that must be considered.\n",
    "\n",
    "- Jinja MVC adminstrattion menu: https://flask2025.nighthawkcodingsociety.com/login?next=/users/table2\n",
    "- Home Page Desing: https://nighthawkcoders.github.io/flocker_frontend/\n",
    "\n",
    "3. **Teaching Elements** There are teaching elements we will be in focus Big Ideas 1, 2, 4 and remaining sections of Big Idea 3.  Selection of these elements could impact a mandatory CompSci social media section to your Social Media project.\n",
    "\n",
    "Some references can be found from last year on Big Idea lessons: https://nighthawkcoders.github.io/teacher_portfolio/navigation/csp"
   ]
  },
  {
   "cell_type": "markdown",
   "metadata": {},
   "source": []
  },
  {
   "cell_type": "markdown",
   "metadata": {},
   "source": []
  }
 ],
 "metadata": {
  "language_info": {
   "name": "python"
  }
 },
 "nbformat": 4,
 "nbformat_minor": 2
}
