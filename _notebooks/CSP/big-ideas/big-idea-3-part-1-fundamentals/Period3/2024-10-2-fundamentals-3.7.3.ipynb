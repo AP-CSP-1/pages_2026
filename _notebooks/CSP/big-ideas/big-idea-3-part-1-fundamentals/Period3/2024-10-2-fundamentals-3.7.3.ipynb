{
 "cells": [
  {
   "cell_type": "markdown",
   "metadata": {},
   "source": [
    "---\n",
    "toc: false\n",
    "comments: true\n",
    "layout: post\n",
    "title: 3.7.3 Javascript Hacks\n",
    "description: Javascript example of nested conditionals\n",
    "permalink: /csp/big-idea/p3/3-7-3\n",
    "categories: [CSP Big Ideas]\n",
    "author:  Zoe, Rutvik, Avika, Jonah, Aarush\n",
    "menu: nav/csp_units/csp_unit3_p3_fundamentals.html\n",
    "---"
   ]
  },
  {
   "cell_type": "markdown",
   "metadata": {},
   "source": [
    "Here's an example of a javascript hack that simulates fitness levels. As you can see, the code utilizes `if` and `else statements`. `If statements` and `else statements` are commonly used together. `If statements` check if a statement is true, while `else statements` will check if it is false."
   ]
  },
  {
   "cell_type": "code",
   "execution_count": 47,
   "metadata": {},
   "outputs": [
    {
     "data": {
      "text/html": [
       "<style>/* custom.css */\n",
       "body {\n",
       "    background-color: #505cae;  /* Set the background color to blue */\n",
       "    color: white;                /* Optional: Change text color to white for better contrast */\n",
       "}\n",
       "\n",
       "/* Optional: Change the background color of the code cells */\n",
       "div.cell {\n",
       "    background-color: #0056b3;  /* Darker blue for code cells */\n",
       "}\n",
       "\n",
       "/* Optional: Change the background color of the markdown cells */\n",
       "div.text_cell_render {\n",
       "    background-color: #0056b3;  /* Darker blue for markdown cells */\n",
       "}\n",
       "</style>"
      ],
      "text/plain": [
       "<IPython.core.display.HTML object>"
      ]
     },
     "execution_count": 47,
     "metadata": {},
     "output_type": "execute_result"
    }
   ],
   "source": [
    "from IPython.core.display import HTML\n",
    "def load_css():\n",
    "    styles = open(\"custom3.css\", \"r\").read()\n",
    "    return HTML(f\"<style>{styles}</style>\")\n",
    "load_css()"
   ]
  },
  {
   "cell_type": "code",
   "execution_count": 48,
   "metadata": {
    "vscode": {
     "languageId": "javascript"
    }
   },
   "outputs": [
    {
     "data": {
      "application/javascript": "function assessFitnessLevel(pushUps) {\n    let fitnessLevel;\n    if (pushUps >= 50) {\n        fitnessLevel = \"Elite\";\n    } else {\n        if (pushUps >= 30) {\n            fitnessLevel = \"Advanced\";\n        } else {\n            if (pushUps >= 15) {\n                fitnessLevel = \"Intermediate\";\n            } else {\n                if (pushUps >= 1) {\n                    fitnessLevel = \"Beginner\";\n                } else {\n                    fitnessLevel = \"Unfit\";\n                }\n            }\n        }\n    }\n    return fitnessLevel;\n}\n// Example usage\nconst userPushUps = 28; // Change this value to test different inputs\nconsole.log(`Fitness Level: ${assessFitnessLevel(userPushUps)}`);\n",
      "text/plain": [
       "<IPython.core.display.Javascript object>"
      ]
     },
     "metadata": {},
     "output_type": "display_data"
    }
   ],
   "source": [
    "%%javascript\n",
    "function assessFitnessLevel(pushUps) {\n",
    "    let fitnessLevel;\n",
    "    if (pushUps >= 50) {\n",
    "        fitnessLevel = \"Elite\";\n",
    "    } else {\n",
    "        if (pushUps >= 30) {\n",
    "            fitnessLevel = \"Advanced\";\n",
    "        } else {\n",
    "            if (pushUps >= 15) {\n",
    "                fitnessLevel = \"Intermediate\";\n",
    "            } else {\n",
    "                if (pushUps >= 1) {\n",
    "                    fitnessLevel = \"Beginner\";\n",
    "                } else {\n",
    "                    fitnessLevel = \"Unfit\";\n",
    "                }\n",
    "            }\n",
    "        }\n",
    "    }\n",
    "    return fitnessLevel;\n",
    "}\n",
    "// Example usage\n",
    "const userPushUps = 28; // Change this value to test different inputs\n",
    "console.log(`Fitness Level: ${assessFitnessLevel(userPushUps)}`);"
   ]
  },
  {
   "cell_type": "markdown",
   "metadata": {},
   "source": [
    "## Javascript Hack\n",
    "- In this hack, the `if statement` works with the `else statement` to determine the user's fitness level. The `if statement` checks if the user has gotten more than the given number of pushups,  if it doesn't work,  the `else statement` will be executed. The `else statement` will check if the user has gotten less than the number of pushups, if it doesn't meet the requirements, the user will be classified as the lower level."
   ]
  },
  {
   "cell_type": "markdown",
   "metadata": {},
   "source": [
    "## Here's a short overview of nested conditionals:"
   ]
  },
  {
   "cell_type": "code",
   "execution_count": 49,
   "metadata": {},
   "outputs": [
    {
     "ename": "IndentationError",
     "evalue": "expected an indented block after 'if' statement on line 3 (1518511658.py, line 5)",
     "output_type": "error",
     "traceback": [
      "\u001b[0;36m  File \u001b[0;32m\"/tmp/ipykernel_741876/1518511658.py\"\u001b[0;36m, line \u001b[0;32m5\u001b[0m\n\u001b[0;31m    else:\u001b[0m\n\u001b[0m    ^\u001b[0m\n\u001b[0;31mIndentationError\u001b[0m\u001b[0;31m:\u001b[0m expected an indented block after 'if' statement on line 3\n"
     ]
    }
   ],
   "source": [
    "if outer_condition:\n",
    "    # Code for when outer_condition is true\n",
    "    if inner_condition:\n",
    "        # Code for when both outer_condition and inner_condition are true\n",
    "    else:\n",
    "        # Code for when outer_condition is true but inner_condition is false\n",
    "else:\n",
    "    # Code for when outer_condition is false"
   ]
  },
  {
   "cell_type": "markdown",
   "metadata": {},
   "source": [
    "- Notice that there are `if` and `else statements` inside of the system which makes it so that those statements depend on the outer function to be true. This is what makes them nested conditionals"
   ]
  }
 ],
 "metadata": {
  "kernelspec": {
   "display_name": "Python 3.12.5 64-bit",
   "language": "python",
   "name": "python3"
  },
  "language_info": {
   "name": "python",
   "version": "3.12.5"
  },
  "orig_nbformat": 4,
  "vscode": {
   "interpreter": {
    "hash": "b0fa6594d8f4cbf19f97940f81e996739fb7646882a419484c72d19e05852a7e"
   }
  }
 },
 "nbformat": 4,
 "nbformat_minor": 2
}
