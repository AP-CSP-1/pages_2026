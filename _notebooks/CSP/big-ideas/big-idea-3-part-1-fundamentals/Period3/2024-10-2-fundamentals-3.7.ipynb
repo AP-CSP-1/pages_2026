{
 "cells": [
  {
   "cell_type": "raw",
   "metadata": {},
   "source": [
    "---\n",
    "toc: false\n",
    "comments: true\n",
    "layout: post\n",
    "title: 3.7 Main Page 🧑‍💻╰(*°▽°*)╯\n",
    "permalink: /csp/big-idea/p3/3-7\n",
    "categories: [CSP Big Ideas]\n",
    "author:  Zoe, Avika, Rutvik, Jonah, Aarush\n",
    "menu: nav/csp_units/csp_unit3_p3_fundamentals.html\n",
    "---"
   ]
  },
  {
   "cell_type": "code",
   "execution_count": 2,
   "metadata": {},
   "outputs": [
    {
     "data": {
      "text/html": [
       "<style>/* custom.css */\n",
       "body {\n",
       "    background-color: #505cae;  /* Set the background color to blue */\n",
       "    color: white;                /* Optional: Change text color to white for better contrast */\n",
       "}\n",
       "\n",
       "/* Optional: Change the background color of the code cells */\n",
       "div.cell {\n",
       "    background-color: #0056b3;  /* Darker blue for code cells */\n",
       "}\n",
       "\n",
       "/* Optional: Change the background color of the markdown cells */\n",
       "div.text_cell_render {\n",
       "    background-color: #0056b3;  /* Darker blue for markdown cells */\n",
       "}\n",
       "</style>"
      ],
      "text/plain": [
       "<IPython.core.display.HTML object>"
      ]
     },
     "execution_count": 2,
     "metadata": {},
     "output_type": "execute_result"
    }
   ],
   "source": [
    "from IPython.core.display import HTML\n",
    "def load_css():\n",
    "    styles = open(\"custom3.css\", \"r\").read()\n",
    "    return HTML(f\"<style>{styles}</style>\")\n",
    "load_css()"
   ]
  },
  {
   "cell_type": "markdown",
   "metadata": {},
   "source": [
    "## Welcome to lesson 3.7 of our python fundamental course! Click the submenu to view lesson content 👆🏻."
   ]
  }
 ],
 "metadata": {
  "kernelspec": {
   "display_name": "Python 3.12.5 64-bit",
   "language": "python",
   "name": "python3"
  },
  "language_info": {
   "codemirror_mode": {
    "name": "ipython",
    "version": 3
   },
   "file_extension": ".py",
   "mimetype": "text/x-python",
   "name": "python",
   "nbconvert_exporter": "python",
   "pygments_lexer": "ipython3",
   "version": "3.12.5"
  },
  "orig_nbformat": 4,
  "vscode": {
   "interpreter": {
    "hash": "b0fa6594d8f4cbf19f97940f81e996739fb7646882a419484c72d19e05852a7e"
   }
  }
 },
 "nbformat": 4,
 "nbformat_minor": 2
}
