{
 "cells": [
  {
   "cell_type": "raw",
   "metadata": {
    "vscode": {
     "languageId": "raw"
    }
   },
   "source": [
    "---\n",
    "toc: false\n",
    "comments: true\n",
    "layout: post\n",
    "permalink: /csp/big-idea/p3/3-3-4\n",
    "title: 3.3 Homework & Submission (Period 3)\n",
    "description: This is the grading and submission page for 3.3, period 3. Review the rubric, and when you are ready, submit!\n",
    "categories: [CSP Big Ideas]\n",
    "author: Trevor V\n",
    "menu: /nav/csp_units/csp_unit3_p3_fundamentals.html\n",
    "---"
   ]
  },
  {
   "cell_type": "markdown",
   "metadata": {},
   "source": [
    "\n",
    "## [Homework Rubric/Grading Guidlines](https://github.com/Tvick22/big_ideas_csp/issues/7)\n",
    "\n",
    "## [Homework Submission](https://forms.gle/NM31p4yE31q1QwjG9)"
   ]
  },
  {
   "cell_type": "markdown",
   "metadata": {},
   "source": [
    "<style>\n",
    "    article {\n",
    "        background: linear-gradient(#0036ff, #00ffd3);\n",
    "        filter: drop-shadow(0 0 0.75rem gold);    \n",
    "    }\n",
    "    header {\n",
    "        z-index: 9999999\n",
    "    }\n",
    "</style>"
   ]
  }
 ],
 "metadata": {
  "kernelspec": {
   "display_name": "Python 3",
   "language": "python",
   "name": "python3"
  },
  "language_info": {
   "codemirror_mode": {
    "name": "ipython",
    "version": 3
   },
   "file_extension": ".py",
   "mimetype": "text/x-python",
   "name": "python",
   "nbconvert_exporter": "python",
   "pygments_lexer": "ipython3",
   "version": "3.10.12"
  }
 },
 "nbformat": 4,
 "nbformat_minor": 2
}
