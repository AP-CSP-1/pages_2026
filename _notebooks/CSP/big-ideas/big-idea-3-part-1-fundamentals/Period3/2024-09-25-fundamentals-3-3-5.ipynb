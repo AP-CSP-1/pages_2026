{
 "cells": [
  {
   "cell_type": "raw",
   "metadata": {
    "vscode": {
     "languageId": "raw"
    }
   },
   "source": [
    "---\n",
    "toc: false\n",
    "comments: true\n",
    "layout: post\n",
    "permalink: /csp/big-idea/p3/3-3-5\n",
    "title: 3.3 Homework Hacks (Period 3)\n",
    "description: This is the grading and submission page for 3.3, period 3. Review the rubric, and when you are ready, submit!\n",
    "categories: [CSP Big Ideas]\n",
    "author: Trevor V\n",
    "menu: /nav/csp_units/csp_unit3_p3_fundamentals.html\n",
    "---"
   ]
  },
  {
   "cell_type": "markdown",
   "metadata": {},
   "source": [
    "## To demonstrate your understanding of Mathematical Operations, you should be able to complete these Hacks!\n",
    "\n",
    "## Hack 1\n",
    "\n",
    "### Create these functions:\n",
    " - Adds 2 [parameters](https://developer.mozilla.org/en-US/docs/Glossary/Parameter)\n",
    " - Subtracts 2 [parameters](https://developer.mozilla.org/en-US/docs/Glossary/Parameter)\n",
    " - Divides 2 [parameters](https://developer.mozilla.org/en-US/docs/Glossary/Parameter)\n",
    " - Find the Modulus of 2 [parameters](https://developer.mozilla.org/en-US/docs/Glossary/Parameter)\n",
    " - Raise parameter A to the power of parameter B\n",
    "\n",
    "## Hack 2\n",
    "\n",
    "### Create a function that finds a point on a graph of `f(x) = 5x + 2`\n",
    " - Think `f(x) = mx + b` or `y = mx + b`.\n",
    " - Your parameter should be the x value, and your output (return value) should be the y value."
   ]
  },
  {
   "cell_type": "markdown",
   "metadata": {},
   "source": [
    "<style>\n",
    "    article {\n",
    "        background: linear-gradient(#0036ff, #00ffd3);\n",
    "        filter: drop-shadow(0 0 0.75rem gold);    \n",
    "    }\n",
    "    header {\n",
    "        z-index: 9999999\n",
    "    }\n",
    "</style>"
   ]
  }
 ],
 "metadata": {
  "kernelspec": {
   "display_name": "Python 3",
   "language": "python",
   "name": "python3"
  },
  "language_info": {
   "codemirror_mode": {
    "name": "ipython",
    "version": 3
   },
   "file_extension": ".py",
   "mimetype": "text/x-python",
   "name": "python",
   "nbconvert_exporter": "python",
   "pygments_lexer": "ipython3",
   "version": "3.10.12"
  }
 },
 "nbformat": 4,
 "nbformat_minor": 2
}
