{
  "cells": [
    {
      "cell_type": "markdown",
      "metadata": {},
      "source": [
        "---\n",
        "layout: post\n",
        "title: Lesson 4.3 JavaScript Strings\n",
        "categories: [Collaboration]\n",
        "permalink: /csp/big-idea/p4/3-4-3\n",
        "comments: true\n",
        "author: Joanna Hu\n",
        "menu: nav/csp_units/csp_unit3_p4_fundamentals.html\n",
        "---"
      ]
    },
    {
      "cell_type": "markdown",
      "metadata": {},
      "source": [
        "<style>\n",
        "    .glow {\n",
        "        color: #fff;\n",
        "        text-shadow: 0 0 10px #8171E5, 0 0 20px #8171E5, 0 0 30px #8171E5;\n",
        "        transition: all 0.3s ease-in-out;\n",
        "    }\n",
        "</style>\n",
        "\n",
        "<h2><span class='glow' style='font-family: Monospace;'>Strings in JavaScript</span></h2>\n",
        "\n",
        "- Strings are primitive data types and immutable.\n",
        "    - Parsed: data is stored directly in a variable for basic storage.\n",
        "    - This means they are unchanging and don't have properties and types.\n",
        "- Formatted similar to Python, using quotes (both single and double) and starting at 0."
      ]
    },
    {
      "cell_type": "code",
      "execution_count": 6,
      "metadata": {
        "vscode": {
          "languageId": "javascript"
        }
      },
      "outputs": [
        {
          "data": {
            "application/javascript": "\nconsole.log(\"Simple way to display strings\");\n// console.log prints in console.\n// In JS, the source code string is called a string literal; what appears in the console is called a string value.\n\nconst stringExample = \"Another example of printing a string.\";\nconsole.log(stringExample);\n\n// Handling apostrophes in strings.\nconsole.log(\"The dog said \\\"Where is my food?\\\" as the owner left.\");\n\n// Concatenation\nconst mascot = \"night\" + \"hawk\";\nconsole.log(mascot);\n\nconst fish1 = \"pufferfish\";\nconst fish2 = \"marlin\";\nconst fish3 = \"salmon\";\nconst favFish = `My favorite fish species are ${fish1}, ${fish2}, and ${fish3}.`;\nconsole.log(favFish);\n\n// Template literals for cleaner syntax\nconsole.log(`I'm sure this is \"correct\"`);\n\n// New lines with \\n\nconst riddle = \"My favorite animal\\nhibernates during the winter\\nin a cave.\";\nconsole.log(riddle);\n\nconst threeLines = `This is line one\nThis is line two\nThis is line three.`;\nconsole.log(threeLines);\n",
            "text/plain": [
              "<IPython.core.display.Javascript object>"
            ]
          },
          "metadata": {},
          "output_type": "display_data"
        }
      ],
      "source": [
        "%%js\n",
        "\n",
        "console.log(\"Simple way to display strings\");\n",
        "// console.log prints in console.\n",
        "// In JS, the source code string is called a string literal; what appears in the console is called a string value.\n",
        "\n",
        "const stringExample = \"Another example of printing a string.\";\n",
        "console.log(stringExample);\n",
        "\n",
        "// Handling apostrophes in strings.\n",
        "console.log(\"The dog said \\\"Where is my food?\\\" as the owner left.\");\n",
        "\n",
        "// Concatenation\n",
        "const mascot = \"night\" + \"hawk\";\n",
        "console.log(mascot);\n",
        "\n",
        "const fish1 = \"pufferfish\";\n",
        "const fish2 = \"marlin\";\n",
        "const fish3 = \"salmon\";\n",
        "const favFish = `My favorite fish species are ${fish1}, ${fish2}, and ${fish3}.`;\n",
        "console.log(favFish);\n",
        "\n",
        "// Template literals for cleaner syntax\n",
        "console.log(`I'm sure this is \"correct\"`);\n",
        "\n",
        "// New lines with \\n\n",
        "const riddle = \"My favorite animal\\nhibernates during the winter\\nin a cave.\";\n",
        "console.log(riddle);\n",
        "\n",
        "const threeLines = `This is line one\nThis is line two\nThis is line three.`;\n",
        "console.log(threeLines);\n"
      ]
    },
    {
      "cell_type": "markdown",
      "metadata": {},
      "source": [
        "<h4>Since strings can be treated as objects in JS, refer to <a href=\"https://developer.mozilla.org/en-US/docs/Web/JavaScript/Reference/Global_Objects/String\"><span class='glow'>this website</span></a> for a list of JS methods.</h4>\n",
        "<br>"
      ]
    }
  ],
  "metadata": {
    "kernelspec": {
      "display_name": "venv",
      "language": "python",
      "name": "python3"
    },
    "language_info": {
      "codemirror_mode": {
        "name": "ipython",
        "version": 3
      },
      "file_extension": ".py",
      "mimetype": "text/x-python",
      "name": "python",
      "nbconvert_exporter": "python",
      "pygments_lexer": "ipython3",
      "version": "3.10.12"
    }
  },
  "nbformat": 4,
  "nbformat_minor": 2
}
