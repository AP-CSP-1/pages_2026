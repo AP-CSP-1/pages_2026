{
 "cells": [
  {
   "cell_type": "raw",
   "metadata": {
    "vscode": {
     "languageId": "raw"
    }
   },
   "source": [
    "---\n",
    "toc: false\n",
    "comments: true\n",
    "layout: post\n",
    "title: 3.7-P2 Nested Conditionals \n",
    "description: Student led teaching on Nested Conditionals using Javascript and Python\n",
    "permalink: /csp/big-idea/p2/3-7\n",
    "categories: [CSP Big Ideas]\n",
    "author:  Kush, Nolan, Vincent, and Tarun\n",
    "menu: nav/csp_units/csp_unit3_p2_fundamentals.html\n",
    "---"
   ]
  },
  {
   "cell_type": "markdown",
   "metadata": {},
   "source": [
    "## Content Outline\n",
    "\n",
    "3.7.1\n",
    "- If statements\n",
    "\n",
    "- Else Statements\n",
    "- Nested Conditionals\n",
    "- Examples using Javascript and Python\n",
    "\n",
    "\n",
    "\n",
    "3.7.2\n",
    "- Homework Hack Assignment\n",
    "\n",
    "- Homework Hack Javscript and Python Examples\n"
   ]
  },
  {
   "cell_type": "markdown",
   "metadata": {},
   "source": [
    "# Popcorn Hack #1"
   ]
  },
  {
   "cell_type": "markdown",
   "metadata": {},
   "source": [
    "### Task:\n",
    "\n",
    "Define Function: Create a function named popcorn_size that takes one parameter, size.\n",
    "\n",
    "Check Size:\n",
    "\n",
    "Use if...elif...else statements to determine the popcorn size:\n",
    "\n",
    "-Return a message for \"small\" popcorn.\n",
    "\n",
    "-Return a message for \"medium\" popcorn.\n",
    "\n",
    "-Return a message for \"large\" popcorn.\n",
    "\n",
    "-Return \"Invalid size\" for any other input.\n",
    "\n",
    "Test Function: Call the function with different popcorn sizes to verify the output.\n"
   ]
  },
  {
   "cell_type": "code",
   "execution_count": null,
   "metadata": {},
   "outputs": [],
   "source": [
    "def popcorn_size(size):\n",
    "    if size == \"small\":\n",
    "        return \"You get a small popcorn.\"\n",
    "    elif size == \"medium\":\n",
    "        if size == \"medium\":\n",
    "            return \"You get a medium popcorn.\"\n",
    "        else:\n",
    "            return \"You get a large popcorn.\"\n",
    "    else:\n",
    "        return \"Invalid size.\"\n",
    "\n",
    "# Test the function with different sizes\n",
    "print(popcorn_size(\"small\"))   # Small popcorn\n",
    "print(popcorn_size(\"medium\"))  # Medium popcorn\n",
    "print(popcorn_size(\"large\"))   # Large popcorn\n"
   ]
  },
  {
   "cell_type": "markdown",
   "metadata": {},
   "source": [
    "-The code defines a function that determines the type of popcorn based on the input size: \"small,\" \"medium,\" or \"large,\" and returns a corresponding message.\n",
    "\n",
    "-It tests the function with different sizes and prints the appropriate message for each input.\n"
   ]
  },
  {
   "cell_type": "markdown",
   "metadata": {},
   "source": [
    "# Popcorn Hack #2"
   ]
  },
  {
   "cell_type": "markdown",
   "metadata": {},
   "source": [
    "### Task\n",
    "\n",
    "Define Weather Variables: Create variables for is_sunny, is_raining, is_windy, and is_snowing.\n",
    "\n",
    "-Check Sunshine: Print a message for outdoor activities if it is sunny.\n",
    "\n",
    "-Check for Rain: Print a message about needing an umbrella if it is raining.\n",
    "\n",
    "-Check for Wind: Print a message about wearing a jacket if it is windy.\n",
    "\n",
    "Handle Non-Sunny Days: Print a message about staying indoors if it is not sunny.\n"
   ]
  },
  {
   "cell_type": "code",
   "execution_count": 1,
   "metadata": {
    "vscode": {
     "languageId": "javascript"
    }
   },
   "outputs": [
    {
     "ename": "SyntaxError",
     "evalue": "invalid syntax (2033971695.py, line 1)",
     "output_type": "error",
     "traceback": [
      "\u001b[0;36m  File \u001b[0;32m\"/tmp/ipykernel_10755/2033971695.py\"\u001b[0;36m, line \u001b[0;32m1\u001b[0m\n\u001b[0;31m    // Weather Conditions\u001b[0m\n\u001b[0m    ^\u001b[0m\n\u001b[0;31mSyntaxError\u001b[0m\u001b[0;31m:\u001b[0m invalid syntax\n"
     ]
    }
   ],
   "source": [
    "// Weather Conditions\n",
    "let is_sunny = true;\n",
    "let is_raining = false;\n",
    "\n",
    "// Outdoor activity logic based on weather\n",
    "if (is_sunny) {\n",
    "    console.log(\"It's a nice day for outdoor activities.\");\n",
    "\n",
    "    if (is_raining) {\n",
    "        console.log(\"You might need an umbrella.\");\n",
    "    } else {\n",
    "        console.log(\"Enjoy the sunshine!\");\n",
    "    }\n",
    "} else {\n",
    "    console.log(\"Stay indoors today.\");\n",
    "}"
   ]
  },
  {
   "cell_type": "markdown",
   "metadata": {},
   "source": [
    "-The code checks various weather conditions to determine if it's a good day for outdoor activities and provides messages based on the weather (sunny, rainy, windy).\n",
    "\n",
    "-It prints appropriate recommendations, such as needing an umbrella or wearing a jacket, depending on the conditions.\n"
   ]
  },
  {
   "cell_type": "markdown",
   "metadata": {},
   "source": [
    "# Popcorn Hack #3"
   ]
  },
  {
   "cell_type": "markdown",
   "metadata": {},
   "source": [
    "### Task\n",
    "\n",
    "Define Savings: Create a variable for your savings amount.\n",
    "\n",
    "Define Laptop Prices: Set variables for the prices of different laptops (Dell, HP, MacBook).\n",
    "\n",
    "Check Laptop Purchase Ability:\n",
    "\n",
    "Use if statements to check if savings are sufficient to buy each laptop.\n",
    "\n",
    "Print a message indicating which laptop can be bought or if there's not enough money.\n"
   ]
  },
  {
   "cell_type": "code",
   "execution_count": null,
   "metadata": {},
   "outputs": [],
   "source": [
    "# Savings\n",
    "savings = 500  \n",
    "\n",
    "# Laptop prices\n",
    "dell_price = 800\n",
    "hp_price = 700\n",
    "macbook_price = 1200\n",
    "\n",
    "# Determine which laptop you can buy\n",
    "if savings >= macbook_price:\n",
    "    print(\"You can buy a MacBook!\")\n",
    "elif savings >= dell_price:\n",
    "    print(\"You can buy a Dell laptop!\")\n",
    "elif savings >= hp_price:\n",
    "    print(\"You can buy an HP laptop!\")\n",
    "else:\n",
    "    print(\"You don't have enough money to buy a laptop.\")"
   ]
  },
  {
   "cell_type": "markdown",
   "metadata": {},
   "source": [
    "-The code checks the user's savings to determine which laptop they can afford based on predefined prices for Dell, HP, and MacBook laptops.\n",
    "\n",
    "-It prints a message indicating which laptop can be purchased or states that there isn't enough money for any laptop.\n"
   ]
  }
 ],
 "metadata": {
  "kernelspec": {
   "display_name": "Python 3",
   "language": "python",
   "name": "python3"
  },
  "language_info": {
   "codemirror_mode": {
    "name": "ipython",
    "version": 3
   },
   "file_extension": ".py",
   "mimetype": "text/x-python",
   "name": "python",
   "nbconvert_exporter": "python",
   "pygments_lexer": "ipython3",
   "version": "3.10.12"
  }
 },
 "nbformat": 4,
 "nbformat_minor": 2
}
