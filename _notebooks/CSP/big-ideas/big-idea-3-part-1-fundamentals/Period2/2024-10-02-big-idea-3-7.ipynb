{
 "cells": [
  {
   "cell_type": "raw",
   "metadata": {
    "vscode": {
     "languageId": "raw"
    }
   },
   "source": [
    "---\n",
    "toc: false\n",
    "comments: true\n",
    "layout: post\n",
    "title: 3.7-P2 Nested Conditionals \n",
    "description: Student led teaching on Nested Conditionals using Javascript and Python\n",
    "permalink: /csp/big-idea/p2/3-7\n",
    "categories: [CSP Big Ideas]\n",
    "author:  Kush, Nolan, Vincent, and Tarun\n",
    "menu: nav/csp_units/csp_unit3_p2_fundamentals.html\n",
    "---"
   ]
  },
  {
   "cell_type": "markdown",
   "metadata": {},
   "source": [
    "## Content Outline\n",
    "\n",
    "3.7.1\n",
    "- If statements\n",
    "\n",
    "- Else Statements\n",
    "- Nested Conditionals\n",
    "- Examples using Javascript and Python\n",
    "\n",
    "\n",
    "\n",
    "3.7.2\n",
    "- Homework Hack Assignment\n",
    "\n",
    "- Homework Hack Javscript and Python Examples\n"
   ]
  },
  {
   "cell_type": "markdown",
   "metadata": {},
   "source": [
    "# Popcorn Hack 1"
   ]
  },
  {
   "cell_type": "code",
   "execution_count": null,
   "metadata": {},
   "outputs": [],
   "source": [
    "score = int(input(\"Enter your score: \"))\n",
    "if score >= 90:\n",
    "    print(\"Grade: A\")\n",
    "elif score >= 80:\n",
    "    print(\"Grade: B\")\n",
    "elif score >= 70:\n",
    "    print(\"Grade: C\")\n",
    "elif score >= 60:\n",
    "    print(\"Grade: D\")\n",
    "else:\n",
    "    print(\"Grade: F\")\n",
    "\n",
    "credit_score = int(input(\"Enter your credit score: \"))\n",
    "income = int(input(\"Enter your annual income: \"))\n",
    "if credit_score < 700:\n",
    "    print(\"Not eligible for loan due to low credit score\")\n",
    "elif income < 50000:\n",
    "    print(\"Not eligible for loan due to low income\")\n",
    "else:\n",
    "    print(\"Eligible for loan\")\n",
    "\n",
    "is_member = True if input(\"Are you a member? (yes/no): \").strip().lower() == 'yes' else False\n",
    "purchase_amount = int(input(\"Enter your purchase amount: \"))\n",
    "\n",
    "if is_member:\n",
    "    if purchase_amount > 100:\n",
    "        print(\"You get a 20% discount.\")\n",
    "    else:\n",
    "        print(\"You get a 10% discount.\")\n",
    "else:\n",
    "    if purchase_amount > 100:\n",
    "        print(\"You get a 5% discount.\")\n",
    "    else:\n",
    "        print(\"You do not get any discount.\")"
   ]
  },
  {
   "cell_type": "markdown",
   "metadata": {},
   "source": [
    "- The code evaluates user inputs to determine grade, loan eligibility, and discount based on specific conditions.\n",
    "\n",
    "- It uses if-elif-else statements to print results based on score, credit score/income, and membership/purchase amount.\n",
    "- Membership status and purchase amount affect discount rates, with different percentages for members and non-members."
   ]
  }
 ],
 "metadata": {
  "kernelspec": {
   "display_name": "Python 3",
   "language": "python",
   "name": "python3"
  },
  "language_info": {
   "codemirror_mode": {
    "name": "ipython",
    "version": 3
   },
   "file_extension": ".py",
   "mimetype": "text/x-python",
   "name": "python",
   "nbconvert_exporter": "python",
   "pygments_lexer": "ipython3",
   "version": "3.9.6"
  }
 },
 "nbformat": 4,
 "nbformat_minor": 2
}
