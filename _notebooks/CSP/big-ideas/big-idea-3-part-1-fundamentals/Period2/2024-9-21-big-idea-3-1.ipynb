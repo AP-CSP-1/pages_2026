{
 "cells": [
  {
   "cell_type": "raw",
   "metadata": {
    "vscode": {
     "languageId": "raw"
    }
   },
   "source": [
    "---\n",
    "layout: post\n",
    "title: 3.1-P2 Variables and Assignments\n",
    "description: This lesson explains how variables are abstractions used to represent and store data.\n",
    "categories: [Python, Javascript]\n",
    "permalink: /csp/big-idea/p2/3-1\n",
    "menu: nav/csp_units/csp_unit3_p2_fundamentals.html\n",
    "author: Arhaan, Mihir, Akshaj, Keerthan\n",
    "toc: true\n",
    "comments: true\n",
    "---"
   ]
  },
  {
   "cell_type": "markdown",
   "metadata": {
    "vscode": {
     "languageId": "raw"
    }
   },
   "source": [
    "Variables are used to store data as numbers, Booleans, lists, and strings."
   ]
  }
 ],
 "metadata": {
  "kernelspec": {
   "display_name": "venv",
   "language": "python",
   "name": "python3"
  },
  "language_info": {
   "name": "python",
   "version": "3.12.5"
  }
 },
 "nbformat": 4,
 "nbformat_minor": 2
}
