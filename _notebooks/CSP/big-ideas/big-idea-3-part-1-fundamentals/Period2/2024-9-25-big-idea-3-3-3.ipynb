{
 "cells": [
  {
   "cell_type": "raw",
   "metadata": {
    "vscode": {
     "languageId": "raw"
    }
   },
   "source": [
    "---\n",
    "toc: false\n",
    "comments: true\n",
    "layout: post\n",
    "title: 3.3.3 Mathematical Expressions (P2)\n",
    "description: Student led teaching on  Mathematical Expressions. Learn how mathematical expressions involve using arithmetic operators (like addition, subtraction, multiplication, and division) to perform calculations\n",
    "permalink: /csp/big-idea/p2/3-3-3\n",
    "categories: [CSP Big Ideas]\n",
    "author: Ethan, Manas, Lalita, Shriya\n",
    "menu: nav/csp_units/csp_unit3_p2_fundamentals.html\n",
    "---"
   ]
  },
  {
   "cell_type": "markdown",
   "metadata": {},
   "source": [
    "## Hacks\n",
    "Review each of the sections above and produce ...\n",
    "1. A function that takes in 2 variables and adds, subtracts, multiplies, dividies, and mods the two numbers\n",
    "2. Use an algorithm to find certain values of the Fibonacci sequence. For example, your code should output the nth index in the sequence. An example of how the sequence works is 0,1,1,2,3,5,8,13. The pattern is you add the previous 2 numbers together to get the new number."
   ]
  },
  {
   "cell_type": "code",
   "execution_count": 2,
   "metadata": {},
   "outputs": [
    {
     "name": "stdout",
     "output_type": "stream",
     "text": [
      "Add: 11\n",
      "Subtract: 11\n",
      "Multiply: 0\n",
      "Divide: undefined\n"
     ]
    }
   ],
   "source": [
    "a, b = 11, 0\n",
    "\n",
    "Add = a + b\n",
    "Subtract = a - b\n",
    "Multiply = a * b\n",
    "Divide = a / b if b != 0 else 'undefined'\n",
    "\n",
    "print(f\"Add: {Add}\")\n",
    "print(f\"Subtract: {Subtract}\")\n",
    "print(f\"Multiply: {Multiply}\")\n",
    "print(f\"Divide: {Divide}\")"
   ]
  },
  {
   "cell_type": "code",
   "execution_count": 1,
   "metadata": {},
   "outputs": [
    {
     "name": "stdout",
     "output_type": "stream",
     "text": [
      "The 10th Fibonacci number is: 34\n"
     ]
    }
   ],
   "source": [
    "def fibonacc(n):\n",
    "    if n <= 0:\n",
    "        return \"invalid\"\n",
    "    elif n == 1:\n",
    "        return 0\n",
    "    elif n == 2:\n",
    "        return 1\n",
    "    else:\n",
    "        return fibonacc(n - 1) + fibonacc(n - 2)\n",
    "\n",
    "\n",
    "n = 10 \n",
    "print(f\"The {n}th Fibonacci number is: {fibonacc(n)}\")"
   ]
  },
  {
   "cell_type": "code",
   "execution_count": null,
   "metadata": {
    "vscode": {
     "languageId": "html"
    }
   },
   "outputs": [],
   "source": [
    "    <script src=\"https://utteranc.es/client.js\"\n",
    "        repo=\"manas12709/portfolio_2025\"\n",
    "        issue-term=\"pathname\"\n",
    "        label=\"utterances\"\n",
    "        theme=\"github-light\"\n",
    "        crossorigin=\"anonymous\"\n",
    "        async>\n",
    "    </script>"
   ]
  },
  {
   "cell_type": "code",
   "execution_count": null,
   "metadata": {
    "vscode": {
     "languageId": "html"
    }
   },
   "outputs": [],
   "source": [
    "<!-- Chatbot Container -->\n",
    "<div class=\"chatbot-container\">\n",
    "    <div id=\"chatbot-box\" style=\"background-color: #333; color: white; padding: 20px; border-radius: 8px; max-width: 400px; margin: 20px auto;\">\n",
    "        <div id=\"chatbot-messages\" style=\"height: 200px; overflow-y: auto; margin-bottom: 10px; border: 1px solid #555; padding: 10px; border-radius: 5px;\">\n",
    "            <div>Chatbot: Hi! I'm your virtual assistant. How can I help you today?</div>\n",
    "        </div>\n",
    "        <input type=\"text\" id=\"chatbot-input\" placeholder=\"Ask me anything...\" style=\"width: 75%; padding: 10px; border-radius: 5px; border: 1px solid #555;\">\n",
    "        <button id=\"chatbot-send\" style=\"padding: 10px; background-color: #007acc; color: white; border: none; border-radius: 5px;\">Send</button>\n",
    "    </div>\n",
    "</div>\n",
    "\n",
    "<script>\n",
    "    const chatbotMessages = document.getElementById('chatbot-messages');\n",
    "    const chatbotInput = document.getElementById('chatbot-input');\n",
    "    const chatbotSend = document.getElementById('chatbot-send');\n",
    "\n",
    "    chatbotSend.addEventListener('click', function() {\n",
    "        const userMessage = chatbotInput.value;\n",
    "        if (!userMessage) return;\n",
    "\n",
    "        // Display user message\n",
    "        const userMsgElement = document.createElement('div');\n",
    "        userMsgElement.textContent = \"You: \" + userMessage;\n",
    "        chatbotMessages.appendChild(userMsgElement);\n",
    "        chatbotMessages.scrollTop = chatbotMessages.scrollHeight;\n",
    "\n",
    "        // Clear input\n",
    "        chatbotInput.value = '';\n",
    "\n",
    "        // Response logic\n",
    "        let botResponse = \"I'm not sure I understand that.\";\n",
    "\n",
    "        const lowerCaseMsg = userMessage.toLowerCase();\n",
    "\n",
    "        // Adding a variety of responses for different keywords\n",
    "        if (lowerCaseMsg.includes(\"hello\") || lowerCaseMsg.includes(\"hi\")) {\n",
    "            botResponse = \"Hello! How's your day going?\";\n",
    "        } else if (lowerCaseMsg.includes(\"bike\")) {\n",
    "            botResponse = \"You seem to love bikes! What's your favorite route to ride on?\";\n",
    "        } else if (lowerCaseMsg.includes(\"computer\")) {\n",
    "            botResponse = \"Computers are fascinating! Do you prefer coding or building them?\";\n",
    "        } else if (lowerCaseMsg.includes(\"family\")) {\n",
    "            botResponse = \"Family is everything. How do you like spending time with yours?\";\n",
    "        } else if (lowerCaseMsg.includes(\"coding\") || lowerCaseMsg.includes(\"programming\")) {\n",
    "            botResponse = \"Coding is like solving puzzles! What's your favorite language to code in?\";\n",
    "        } else if (lowerCaseMsg.includes(\"python\")) {\n",
    "            botResponse = \"Python is a great choice for automation, data science, and more. Do you enjoy working with it?\";\n",
    "        } else if (lowerCaseMsg.includes(\"javascript\")) {\n",
    "            botResponse = \"JavaScript makes the web come alive! Any favorite projects you’ve worked on?\";\n",
    "        } else if (lowerCaseMsg.includes(\"biking\")) {\n",
    "            botResponse = \"Biking keeps you fit and clears your mind! What's your best biking memory?\";\n",
    "        } else if (lowerCaseMsg.includes(\"california\")) {\n",
    "            botResponse = \"California is so diverse, from beaches to mountains! What's your favorite spot?\";\n",
    "        } else if (lowerCaseMsg.includes(\"india\")) {\n",
    "            botResponse = \"India has such a rich history and culture. Do you miss Bangalore?\";\n",
    "        } else if (lowerCaseMsg.includes(\"school\") || lowerCaseMsg.includes(\"study\")) {\n",
    "            botResponse = \"School can be challenging, but rewarding! What's your favorite subject?\";\n",
    "        } else if (lowerCaseMsg.includes(\"hobby\")) {\n",
    "            botResponse = \"Hobbies are a great way to unwind. What's one hobby you can't live without?\";\n",
    "        } else if (lowerCaseMsg.includes(\"music\")) {\n",
    "            botResponse = \"Music makes everything better! Who’s your favorite artist or band?\";\n",
    "        } else if (lowerCaseMsg.includes(\"movie\")) {\n",
    "            botResponse = \"Movies can transport us to another world. What’s your favorite genre?\";\n",
    "        } else if (lowerCaseMsg.includes(\"travel\")) {\n",
    "            botResponse = \"Traveling expands your horizons! Is there a dream destination on your list?\";\n",
    "        } else if (lowerCaseMsg.includes(\"sports\")) {\n",
    "            botResponse = \"Sports are fun! Which one do you like playing or watching?\";\n",
    "        } else if (lowerCaseMsg.includes(\"football\")) {\n",
    "            botResponse = \"Football is exciting! Do you play or just enjoy watching it?\";\n",
    "        } else if (lowerCaseMsg.includes(\"coding project\")) {\n",
    "            botResponse = \"I'd love to hear more about your coding projects. What are you working on?\";\n",
    "        } else if (lowerCaseMsg.includes(\"workout\") || lowerCaseMsg.includes(\"gym\")) {\n",
    "            botResponse = \"Staying fit is so important! What’s your workout routine like?\";\n",
    "        } else if (lowerCaseMsg.includes(\"exercise\")) {\n",
    "            botResponse = \"Exercise keeps the mind and body sharp! Do you have a favorite exercise?\";\n",
    "        } else if (lowerCaseMsg.includes(\"food\")) {\n",
    "            botResponse = \"Food is love! What's your favorite dish to eat or cook?\";\n",
    "        } else if (lowerCaseMsg.includes(\"book\")) {\n",
    "            botResponse = \"Books are a portal to different worlds! Do you have a favorite author or book?\";\n",
    "        } else if (lowerCaseMsg.includes(\"game\")) {\n",
    "            botResponse = \"Games are a great way to unwind! What games are you into right now?\";\n",
    "        } else if (lowerCaseMsg.includes(\"fun fact\")) {\n",
    "            botResponse = \"Did you know honey never spoils? What's your favorite random fact?\";\n",
    "        } else if (lowerCaseMsg.includes(\"weather\")) {\n",
    "            botResponse = \"The weather can really set the mood! What's it like outside today?\";\n",
    "        } else if (lowerCaseMsg.includes(\"advice\")) {\n",
    "            botResponse = \"I'm happy to help! What do you need advice on?\";\n",
    "        } else if (lowerCaseMsg.includes(\"thanks\") || lowerCaseMsg.includes(\"thank you\")) {\n",
    "            botResponse = \"You're welcome! Happy to help.\";\n",
    "        } else if (lowerCaseMsg.includes(\"bye\")) {\n",
    "            botResponse = \"Goodbye! Chat with me anytime you like!\";\n",
    "        } else if (lowerCaseMsg.includes(\"joke\")) {\n",
    "            botResponse = \"Why don't scientists trust atoms? Because they make up everything!\";\n",
    "        } else if (lowerCaseMsg.includes(\"time\")) {\n",
    "            botResponse = `It's ${new Date().toLocaleTimeString()} right now!`;\n",
    "        } else if (lowerCaseMsg.includes(\"day\")) {\n",
    "            botResponse = `It's ${new Date().toLocaleDateString()} today!`;\n",
    "        }\n",
    "        // Mathematical Expressions\n",
    "        if (lowerCaseMsg.includes(\"mathematical expressions overview\")) {\n",
    "            botResponse = \"Mathematical expressions involve using arithmetic operations to manipulate numbers. Would you like an example of how this works in Python?\";\n",
    "        } else if (lowerCaseMsg.includes(\"factorial code python\")) {\n",
    "            botResponse = \"Factorials in Python can be done using a loop or recursion. Want to see a sample code for both methods?\";\n",
    "        } else if (lowerCaseMsg.includes(\"geometry test simulation python\")) {\n",
    "            botResponse = \"I can help with a geometry test simulation in Python! Are you looking to calculate areas, perimeters, or something else?\";\n",
    "        \n",
    "        // Mathematical Operations\n",
    "        } else if (lowerCaseMsg.includes(\"mathematical operations\")) {\n",
    "            botResponse = \"Mathematical operations involve addition, subtraction, multiplication, and division. Do you want a quick Python example for them?\";\n",
    "        } else if (lowerCaseMsg.includes(\"mathematical operations python example\")) {\n",
    "            botResponse = \"In Python, you can perform operations like addition (`+`) and multiplication (`*`). Would you like a step-by-step code example?\";\n",
    "        \n",
    "        // Popcorn Hacks: Fibonacci Sequence\n",
    "        } else if (lowerCaseMsg.includes(\"fibonacci sequence practice\")) {\n",
    "            botResponse = \"The Fibonacci sequence is a fun challenge! I can help you practice it in Python. Do you want a detailed explanation or code example?\";\n",
    "        \n",
    "        // Homework Hack: Fibonacci in Python and Java\n",
    "        } else if (lowerCaseMsg.includes(\"fibonacci sequence python\") || lowerCaseMsg.includes(\"fibonacci sequence java\")) {\n",
    "            botResponse = \"In Python, Fibonacci can be done via iteration or recursion. Want to see it in Java as well? Let me know which you'd prefer!\";\n",
    "        \n",
    "        // Boolean Values in Python\n",
    "        } else if (lowerCaseMsg.includes(\"boolean values python\")) {\n",
    "            botResponse = \"In Python, Booleans are represented as `True` or `False`. They're often used in conditionals. Should I show you an example?\";\n",
    "        } else if (lowerCaseMsg.includes(\"rational operators python\")) {\n",
    "            botResponse = \"Rational operators (`<`, `>`, `==`, etc.) are used to compare values in Python. Do you want to see them in action?\";\n",
    "        } else if (lowerCaseMsg.includes(\"logical operators python\")) {\n",
    "            botResponse = \"Logical operators like `and`, `or`, and `not` are essential in Python. Would you like an example of how to use them in conditionals?\";\n",
    "        \n",
    "        // Boolean Values in Java\n",
    "        } else if (lowerCaseMsg.includes(\"boolean values java\")) {\n",
    "            botResponse = \"Booleans in Java work similarly to Python with `true` and `false`. Would you like to see how to use them in a Java program?\";\n",
    "        } else if (lowerCaseMsg.includes(\"rational operators java\")) {\n",
    "            botResponse = \"Java uses rational operators like `==`, `<`, and `>` to compare values. I can show you how to use these in your code.\";\n",
    "        } else if (lowerCaseMsg.includes(\"logical operators java\")) {\n",
    "            botResponse = \"Java's logical operators (`&&`, `||`, `!`) help in making complex conditionals. Would you like an example code?\";\n",
    "        \n",
    "        // Homework Hacks: Logic Gate Simulator\n",
    "        } else if (lowerCaseMsg.includes(\"logic gate simulator python\") || lowerCaseMsg.includes(\"logic gate simulator java\")) {\n",
    "            botResponse = \"To simulate logic gates, you need to apply Boolean algebra. Want help building a basic logic gate simulator in Python or Java?\";\n",
    "        \n",
    "        // Popcorn Hacks: Contrapositive Law\n",
    "        } else if (lowerCaseMsg.includes(\"contrapositive law python\") || lowerCaseMsg.includes(\"contrapositive law java\")) {\n",
    "            botResponse = \"The contrapositive law can be demonstrated in code with logical operators. Would you like help writing it in Python or Java?\";\n",
    "        } \n",
    "\n",
    "        // Display bot response\n",
    "        const botMsgElement = document.createElement('div');\n",
    "        botMsgElement.textContent = \"Chatbot: \" + botResponse;\n",
    "        chatbotMessages.appendChild(botMsgElement);\n",
    "        chatbotMessages.scrollTop = chatbotMessages.scrollHeight;\n",
    "    });\n",
    "</script>"
   ]
  }
 ],
 "metadata": {
  "kernelspec": {
   "display_name": "Python 3",
   "language": "python",
   "name": "python3"
  },
  "language_info": {
   "codemirror_mode": {
    "name": "ipython",
    "version": 3
   },
   "file_extension": ".py",
   "mimetype": "text/x-python",
   "name": "python",
   "nbconvert_exporter": "python",
   "pygments_lexer": "ipython3",
   "version": "3.12.5"
  }
 },
 "nbformat": 4,
 "nbformat_minor": 2
}
