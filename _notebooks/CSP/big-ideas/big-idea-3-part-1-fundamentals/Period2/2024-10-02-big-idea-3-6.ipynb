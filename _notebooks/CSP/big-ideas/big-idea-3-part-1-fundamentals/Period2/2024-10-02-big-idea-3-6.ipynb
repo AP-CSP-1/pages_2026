{
 "cells": [
  {
   "cell_type": "raw",
   "metadata": {
    "vscode": {
     "languageId": "raw"
    }
   },
   "source": [
    "---\n",
    "toc: false\n",
    "comments: true\n",
    "layout: post\n",
    "title: 3.6-P2 Conditionals \n",
    "description: Student led teaching on Conditionals using Javascript and Python\n",
    "permalink: /csp/big-idea/p2/3-6\n",
    "categories: [CSP Big Ideas]\n",
    "author:  Kush, Nolan, Vincent, and Tarun\n",
    "menu: nav/csp_units/csp_unit3_p2_fundamentals.html\n",
    "---"
   ]
  },
  {
   "cell_type": "markdown",
   "metadata": {},
   "source": [
    "## Content Outline\n",
    "\n",
    "3.6.1\n",
    "- If statements\n",
    "- Else statements\n",
    "- Javascript and Python examples\n",
    "\n",
    "\n",
    "3.6.2\n",
    "- Examples with Boolean\n",
    "- Usage of modules\n",
    "- Homework Assignment(Example Included)\n"
   ]
  },
  {
   "cell_type": "markdown",
   "metadata": {},
   "source": [
    "# Popcorn Hack #1"
   ]
  },
  {
   "cell_type": "markdown",
   "metadata": {},
   "source": [
    "#### Task:\n",
    "<span style=\"color: #87CEEB;\">\n",
    "\n",
    "\n",
    "- Define Function: Create a function named is_even_or_odd that takes one parameter, number.\n",
    "\n",
    "- Check Even or Odd: Use an if statement to check if the number is divisible by 2.\n",
    "\n",
    "- Return \"Even\" if true.\n",
    "\n",
    "- Return \"Odd\" if false.\n",
    "\n",
    "- Test Function: Call the function with different numbers to verify its correctness.\n",
    "\n",
    "- Complete in Javascript and Python\n"
   ]
  },
  {
   "cell_type": "code",
   "execution_count": 1,
   "metadata": {},
   "outputs": [
    {
     "data": {
      "application/javascript": "let grade = parseInt(prompt('Enter your grade in the class (0-100): '));\n\nif (grade >= 70) {\n    console.log('You are passing your class.');\n} else {\n    console.log('You are failing your class.');\n}\n\nlet isStudying = confirm('Are you studying for the test? (OK for Yes, Cancel for No)');\n\nif (isStudying) {\n    console.log('You will do well on your test.');\n} else {\n    console.log('You should lock in and study.');\n}\n",
      "text/plain": [
       "<IPython.core.display.Javascript object>"
      ]
     },
     "metadata": {},
     "output_type": "display_data"
    }
   ],
   "source": [
    "score = 85\n",
    "\n",
    "# Conditional statement\n",
    "if score >= 75:\n",
    "    print(\"You passed the test!\")\n",
    "else:\n",
    "    print(\"You failed the test.\")"
   ]
  },
  {
   "cell_type": "markdown",
   "metadata": {},
   "source": [
    "- The code defines a function that checks if a given number is even or odd by using the modulus operator.\n",
    "\n",
    "- It tests the function with various numbers and prints whether each number is \"Even\" or \"Odd.\"\n"
   ]
  },
  {
   "cell_type": "markdown",
   "metadata": {},
   "source": [
    "# Popcorn Hack #2"
   ]
  },
  {
   "cell_type": "markdown",
   "metadata": {},
   "source": [
    "Criteria:\n",
    "- Use a boolean value to check in a conditional\n",
    "\n",
    "- Set an original value for the boolean variable as an input\n",
    "\n",
    "- Create a conditional using said boolean variable checking if its true or false.\n",
    "\n",
    "- Complete in Javascript and Python"
   ]
  },
  {
   "cell_type": "code",
   "execution_count": null,
   "metadata": {},
   "outputs": [],
   "source": [
    "owns_a_key = True\n",
    "\n",
    "if owns_a_key:\n",
    "    print(\"Come on in!\")\n",
    "else:\n",
    "    print(\"You need a key to come in here\")"
   ]
  },
  {
   "cell_type": "markdown",
   "metadata": {},
   "source": [
    "# Popcorn Hack #3"
   ]
  },
  {
   "cell_type": "markdown",
   "metadata": {},
   "source": [
    "#### Task\n",
    "\n",
    "\n",
    "Use a library of your choice to practice your skills with conditionals\n",
    "\n",
    "Criteria: \n",
    "- Import any kind of library.\n",
    "\n",
    "- Use a conditional using the library you imported(be creative with how you use it)\n",
    "\n",
    "- Complete in Javascript and Python"
   ]
  },
  {
   "cell_type": "code",
   "execution_count": 4,
   "metadata": {},
   "outputs": [
    {
     "name": "stdout",
     "output_type": "stream",
     "text": [
      "Rolling the dice...\n",
      "You rolled a 5\n",
      "Great roll! You rolled a five.\n"
     ]
    }
   ],
   "source": [
    "import random\n",
    "\n",
    "roll_dice = random.randint(1, 6)\n",
    "\n",
    "print(\"Rolling the dice...\")\n",
    "print(f\"You rolled a {roll_dice}\")\n",
    "\n",
    "if roll_dice == 1:\n",
    "    print(\"Oh no! You rolled a one. Try again!\")\n",
    "elif roll_dice <= 3:\n",
    "    print(\"You rolled a low number. Better luck next time!\")\n",
    "elif roll_dice == 4:\n",
    "    print(\"Not bad! You rolled a four.\")\n",
    "elif roll_dice <= 5:\n",
    "    print(\"Great roll! You rolled a five.\")\n",
    "else:\n",
    "    print(\"Awesome! You rolled a six! You're on a roll!\")"
   ]
  }
 ],
 "metadata": {
  "kernelspec": {
   "display_name": "Python 3",
   "language": "python",
   "name": "python3"
  },
  "language_info": {
   "codemirror_mode": {
    "name": "ipython",
    "version": 3
   },
   "file_extension": ".py",
   "mimetype": "text/x-python",
   "name": "python",
   "nbconvert_exporter": "python",
   "pygments_lexer": "ipython3",
   "version": "3.10.6"
  }
 },
 "nbformat": 4,
 "nbformat_minor": 2
}
