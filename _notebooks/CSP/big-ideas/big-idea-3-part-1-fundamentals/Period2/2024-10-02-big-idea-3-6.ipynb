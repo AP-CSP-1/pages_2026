{
 "cells": [
  {
   "cell_type": "raw",
   "metadata": {
    "vscode": {
     "languageId": "raw"
    }
   },
   "source": [
    "---\n",
    "toc: false\n",
    "comments: true\n",
    "layout: post\n",
    "title: 3.6-P2 Conditionals \n",
    "description: Student led teaching on Conditionals using Javascript and Python\n",
    "permalink: /csp/big-idea/p2/3-6\n",
    "categories: [CSP Big Ideas]\n",
    "author:  Kush, Nolan, Vincent, and Tarun\n",
    "menu: nav/csp_units/csp_unit3_p2_fundamentals.html\n",
    "---"
   ]
  },
  {
   "cell_type": "markdown",
   "metadata": {},
   "source": [
    "## Content Outline\n",
    "\n",
    "<style>\n",
    "  ul li {\n",
    "    margin-bottom: 10px;\n",
    "  }\n",
    "</style>\n",
    "\n",
    "3.6.1\n",
    "<ul>\n",
    "<li>If statements\n",
    "<li>Else statements\n",
    "<li>Javascript and Python examples\n",
    "</ul>\n",
    "<br>\n",
    "\n",
    "3.6.2\n",
    "<ul>\n",
    "<li>Bitwise Operators\n",
    "<li>Usage of modules\n",
    "<li>Homework Assignment(Example Included)\n",
    "</ul>\n"
   ]
  },
  {
   "cell_type": "markdown",
   "metadata": {},
   "source": [
    "# Popcorn Hack 1"
   ]
  },
  {
   "cell_type": "code",
   "execution_count": 1,
   "metadata": {
    "vscode": {
     "languageId": "javascript"
    }
   },
   "outputs": [
    {
     "data": {
      "application/javascript": "let grade = parseInt(prompt('Enter your grade in the class (0-100): '));\n\nif (grade >= 70) {\n    console.log('You are passing your class.');\n} else {\n    console.log('You are failing your class.');\n}\n\nlet isStudying = confirm('Are you studying for the test? (OK for Yes, Cancel for No)');\n\nif (isStudying) {\n    console.log('You will do well on your test.');\n} else {\n    console.log('You should lock in and study.');\n}\n",
      "text/plain": [
       "<IPython.core.display.Javascript object>"
      ]
     },
     "metadata": {},
     "output_type": "display_data"
    }
   ],
   "source": [
    "%%js\n",
    "let grade = parseInt(prompt('Enter your grade in the class (0-100): '));\n",
    "\n",
    "if (grade >= 70) {\n",
    "    console.log('You are passing your class.');\n",
    "} else {\n",
    "    console.log('You are failing your class.');\n",
    "}\n",
    "\n",
    "let isStudying = confirm('Are you studying for the test? (OK for Yes, Cancel for No)');\n",
    "\n",
    "if (isStudying) {\n",
    "    console.log('You will do well on your test.');\n",
    "} else {\n",
    "    console.log('You should lock in and study.');\n",
    "}"
   ]
  },
  {
   "cell_type": "markdown",
   "metadata": {},
   "source": [
    "- The code prompts the user to input their grade and stores it as an integer.\n",
    "\n",
    "- It checks if the grade is 70 or above and prints whether the user is passing or failing.\n",
    "- Then, it asks the user if they are studying using a confirmation box (OK for Yes, Cancel for No).\n",
    "- Based on their response, it prints either a positive message if they are studying or encourages them to focus if they are not."
   ]
  }
 ],
 "metadata": {
  "kernelspec": {
   "display_name": "Python 3",
   "language": "python",
   "name": "python3"
  },
  "language_info": {
   "codemirror_mode": {
    "name": "ipython",
    "version": 3
   },
   "file_extension": ".py",
   "mimetype": "text/x-python",
   "name": "python",
   "nbconvert_exporter": "python",
   "pygments_lexer": "ipython3",
   "version": "3.9.6"
  }
 },
 "nbformat": 4,
 "nbformat_minor": 2
}
