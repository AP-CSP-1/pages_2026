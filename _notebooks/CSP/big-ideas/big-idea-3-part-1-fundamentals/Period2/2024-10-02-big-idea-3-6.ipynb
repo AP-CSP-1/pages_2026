{
 "cells": [
  {
   "cell_type": "raw",
   "metadata": {
    "vscode": {
     "languageId": "raw"
    }
   },
   "source": [
    "---\n",
    "toc: false\n",
    "comments: true\n",
    "layout: post\n",
    "title: 3.6-P2 Conditionals \n",
    "description: Student led teaching on Conditionals using Javascript and Python\n",
    "permalink: /csp/big-idea/p2/3-6\n",
    "categories: [CSP Big Ideas]\n",
    "author:  Kush, Nolan, Vincent, and Tarun\n",
    "menu: nav/csp_units/csp_unit3_p2_fundamentals.html\n",
    "---"
   ]
  },
  {
   "cell_type": "markdown",
   "metadata": {},
   "source": [
    "## Content Outline\n",
    "\n",
    "3.6.1\n",
    "- If statements\n",
    "\n",
    "- Else statements\n",
    "- Javascript and Python examples\n",
    "\n",
    "\n",
    "3.6.2\n",
    "- Bitwise Operators\n",
    "\n",
    "- Usage of modules\n",
    "- Homework Assignment(Example Included)\n"
   ]
  },
  {
   "cell_type": "markdown",
   "metadata": {},
   "source": [
    "# Popcorn Hack #1"
   ]
  },
  {
   "cell_type": "markdown",
   "metadata": {},
   "source": [
    "#### Task:\n",
    "\n",
    "- Define Function: Create a function named is_even_or_odd that takes one parameter, number.\n",
    "\n",
    "- Check Even or Odd: Use an if statement to check if the number is divisible by 2.\n",
    "\n",
    "- Return \"Even\" if true.\n",
    "\n",
    "- Return \"Odd\" if false.\n",
    "\n",
    "- Test Function: Call the function with different numbers to verify its correctness.\n"
   ]
  },
  {
   "cell_type": "code",
   "execution_count": 1,
   "metadata": {},
   "outputs": [
    {
     "data": {
      "application/javascript": "let grade = parseInt(prompt('Enter your grade in the class (0-100): '));\n\nif (grade >= 70) {\n    console.log('You are passing your class.');\n} else {\n    console.log('You are failing your class.');\n}\n\nlet isStudying = confirm('Are you studying for the test? (OK for Yes, Cancel for No)');\n\nif (isStudying) {\n    console.log('You will do well on your test.');\n} else {\n    console.log('You should lock in and study.');\n}\n",
      "text/plain": [
       "<IPython.core.display.Javascript object>"
      ]
     },
     "metadata": {},
     "output_type": "display_data"
    }
   ],
   "source": [
    "score = 85\n",
    "\n",
    "# Conditional statement\n",
    "if score >= 75:\n",
    "    print(\"You passed the test!\")\n",
    "else:\n",
    "    print(\"You failed the test.\")"
   ]
  },
  {
   "cell_type": "markdown",
   "metadata": {},
   "source": [
    "- The code defines a function that checks if a given number is even or odd by using the modulus operator.\n",
    "\n",
    "- It tests the function with various numbers and prints whether each number is \"Even\" or \"Odd.\"\n"
   ]
  },
  {
   "cell_type": "markdown",
   "metadata": {},
   "source": [
    "# Popcorn Hack #2"
   ]
  },
  {
   "cell_type": "markdown",
   "metadata": {},
   "source": [
    "Criteria:\n",
    "- Use a boolean value to check in a conditional\n",
    "\n",
    "- Use a 0 or 1 for the boolean value as an input"
   ]
  },
  {
   "cell_type": "code",
   "execution_count": null,
   "metadata": {},
   "outputs": [],
   "source": [
    "sleepy = int(input('Enter 0 or 1(True or False): '))\n",
    "if sleepy == 1:\n",
    "    print('You should take a nap.')\n",
    "else:\n",
    "    print('Hope you have an energetic day!')"
   ]
  },
  {
   "cell_type": "markdown",
   "metadata": {},
   "source": [
    "# Popcorn Hack #3"
   ]
  },
  {
   "cell_type": "markdown",
   "metadata": {},
   "source": [
    "#### Task\n",
    "\n",
    "\n",
    "Think of a real world implication of conditionals\n",
    "\n",
    "Criteria: \n",
    "- Use a dictionary to store key, value pairs based on your topic\n",
    "\n",
    "- Use a conditional to check if whatever topic you choose is applied to the person"
   ]
  },
  {
   "cell_type": "code",
   "execution_count": 2,
   "metadata": {},
   "outputs": [
    {
     "name": "stdout",
     "output_type": "stream",
     "text": [
      "Numbers: 1 and 2\n",
      "Bitwise AND: 1 & 2 = 0\n",
      "Bitwise OR: 1 | 2 = 3\n",
      "Bitwise XOR: 1 ^ 2 = 3\n",
      "Bitwise NOT: ~1 = -2\n",
      "Bitwise NOT: ~2 = -3\n",
      "The result of AND operation (0) is even.\n",
      "The result of OR operation (3) is odd.\n",
      "The result of XOR operation (3) is odd.\n"
     ]
    }
   ],
   "source": [
    "num1 = int(input(\"Enter first integer: \"))\n",
    "num2 = int(input(\"Enter second integer: \"))\n",
    "\n",
    "print(f\"Numbers: {num1} and {num2}\")\n",
    "\n",
    "    # Bitwise AND\n",
    "and_result = num1 & num2\n",
    "print(f\"Bitwise AND: {num1} & {num2} = {and_result}\")\n",
    "\n",
    "    # Bitwise OR\n",
    "or_result = num1 | num2\n",
    "print(f\"Bitwise OR: {num1} | {num2} = {or_result}\")\n",
    "\n",
    "    # Bitwise XOR\n",
    "xor_result = num1 ^ num2\n",
    "print(f\"Bitwise XOR: {num1} ^ {num2} = {xor_result}\")\n",
    "\n",
    "    # Bitwise NOT for num1\n",
    "not_result_num1 = ~num1\n",
    "print(f\"Bitwise NOT: ~{num1} = {not_result_num1}\")\n",
    "\n",
    "    # Bitwise NOT for num2\n",
    "not_result_num2 = ~num2\n",
    "print(f\"Bitwise NOT: ~{num2} = {not_result_num2}\")\n",
    "\n",
    "    # Conditional statements to check if results are even or odd\n",
    "if and_result % 2 == 0:\n",
    "    print(f\"The result of AND operation ({and_result}) is even.\")\n",
    "else:\n",
    "    print(f\"The result of AND operation ({and_result}) is odd.\")\n",
    "\n",
    "if or_result % 2 == 0:\n",
    "    print(f\"The result of OR operation ({or_result}) is even.\")\n",
    "else:\n",
    "    print(f\"The result of OR operation ({or_result}) is odd.\")\n",
    "\n",
    "if xor_result % 2 == 0:\n",
    "    print(f\"The result of XOR operation ({xor_result}) is even.\")\n",
    "else:\n",
    "    print(f\"The result of XOR operation ({xor_result}) is odd.\")\n"
   ]
  },
  {
   "cell_type": "markdown",
   "metadata": {},
   "source": [
    "- This code makes a dictionary which holds a key, value pair for each country and their voting age criteria\n",
    "\n",
    "- It takes your country and age by input\n",
    "- Using a conditional it checks if you are eligible to vote in your country\n"
   ]
  }
 ],
 "metadata": {
  "kernelspec": {
   "display_name": "Python 3",
   "language": "python",
   "name": "python3"
  },
  "language_info": {
   "codemirror_mode": {
    "name": "ipython",
    "version": 3
   },
   "file_extension": ".py",
   "mimetype": "text/x-python",
   "name": "python",
   "nbconvert_exporter": "python",
   "pygments_lexer": "ipython3",
   "version": "3.10.6"
  }
 },
 "nbformat": 4,
 "nbformat_minor": 2
}
