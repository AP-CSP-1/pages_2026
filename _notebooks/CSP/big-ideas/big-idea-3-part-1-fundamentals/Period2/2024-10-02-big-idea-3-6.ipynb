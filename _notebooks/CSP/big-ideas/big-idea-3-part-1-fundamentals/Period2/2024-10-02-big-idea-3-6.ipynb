{
 "cells": [
  {
   "cell_type": "raw",
   "metadata": {
    "vscode": {
     "languageId": "raw"
    }
   },
   "source": [
    "---\n",
    "toc: false\n",
    "comments: true\n",
    "layout: post\n",
    "title: 3.6-P2 Conditionals \n",
    "description: Student led teaching on Conditionals using Javascript and Python\n",
    "permalink: /csp/big-idea/p2/3-6\n",
    "categories: [CSP Big Ideas]\n",
    "author:  Kush, Nolan, Vincent, and Tarun\n",
    "menu: nav/csp_units/csp_unit3_p2_fundamentals.html\n",
    "---"
   ]
  },
  {
   "cell_type": "markdown",
   "metadata": {},
   "source": [
    "## Content Outline\n",
    "\n",
    "3.6.1\n",
    "- If statements\n",
    "\n",
    "- Else statements\n",
    "- Javascript and Python examples\n",
    "\n",
    "\n",
    "3.6.2\n",
    "- Bitwise Operators\n",
    "\n",
    "- Usage of modules\n",
    "- Homework Assignment(Example Included)\n"
   ]
  },
  {
   "cell_type": "markdown",
   "metadata": {},
   "source": [
    "# Popcorn Hack #1"
   ]
  },
  {
   "cell_type": "markdown",
   "metadata": {},
   "source": [
    "#### Task:\n",
    "\n",
    "-Define Function: Create a function named is_even_or_odd that takes one parameter, number.\n",
    "\n",
    "Check Even or Odd: Use an if statement to check if the number is divisible by 2.\n",
    "\n",
    "-Return \"Even\" if true.\n",
    "\n",
    "-Return \"Odd\" if false.\n",
    "\n",
    "-Test Function: Call the function with different numbers to verify its correctness.\n"
   ]
  },
  {
   "cell_type": "code",
   "execution_count": 1,
   "metadata": {},
   "outputs": [
    {
     "data": {
      "application/javascript": "let grade = parseInt(prompt('Enter your grade in the class (0-100): '));\n\nif (grade >= 70) {\n    console.log('You are passing your class.');\n} else {\n    console.log('You are failing your class.');\n}\n\nlet isStudying = confirm('Are you studying for the test? (OK for Yes, Cancel for No)');\n\nif (isStudying) {\n    console.log('You will do well on your test.');\n} else {\n    console.log('You should lock in and study.');\n}\n",
      "text/plain": [
       "<IPython.core.display.Javascript object>"
      ]
     },
     "metadata": {},
     "output_type": "display_data"
    }
   ],
   "source": [
    "def is_even_or_odd(number):\n",
    "    if number % 2 == 0:\n",
    "        return \"Even\"\n",
    "    else:\n",
    "        return \"Odd\"\n",
    "\n",
    "# Test the function with different numbers\n",
    "print(is_even_or_odd(4))   # Even\n",
    "print(is_even_or_odd(7))   # Odd\n",
    "print(is_even_or_odd(0))   # Even\n",
    "print(is_even_or_odd(-3))  # Odd"
   ]
  },
  {
   "cell_type": "markdown",
   "metadata": {},
   "source": [
    "-The code defines a function that checks if a given number is even or odd by using the modulus operator.\n",
    "\n",
    "-It tests the function with various numbers and prints whether each number is \"Even\" or \"Odd.\"\n"
   ]
  },
  {
   "cell_type": "markdown",
   "metadata": {},
   "source": [
    "# Popcorn Hack #2"
   ]
  },
  {
   "cell_type": "markdown",
   "metadata": {},
   "source": [
    "#### Task:\n",
    "\n",
    "Define Function: Create a function named age_group that takes one parameter, age.\n",
    "\n",
    "Check Age Group:\n",
    "\n",
    "Use if...elif...else statements to determine the age group:\n",
    "\n",
    "-Return \"Child\" for ages below 13.\n",
    "\n",
    "-Return \"Teenager\" for ages between 13 and 19.\n",
    "\n",
    "-Return \"Adult\" for ages between 20 and 64.\n",
    "\n",
    "-Return \"Senior\" for ages 65 and above.\n",
    "\n",
    "Test Function: Call the function with different age values to verify the output."
   ]
  },
  {
   "cell_type": "code",
   "execution_count": 1,
   "metadata": {},
   "outputs": [
    {
     "name": "stdout",
     "output_type": "stream",
     "text": [
      "Child\n",
      "Teenager\n",
      "Adult\n",
      "Senior\n"
     ]
    }
   ],
   "source": [
    "def age_group(age):\n",
    "    if age < 13:\n",
    "        return \"Child\"\n",
    "    elif age < 20:\n",
    "        return \"Teenager\"\n",
    "    elif age < 65:\n",
    "        return \"Adult\"\n",
    "    else:\n",
    "        return \"Senior\"\n",
    "\n",
    "# Test the function with different ages\n",
    "print(age_group(10))   # Child\n",
    "print(age_group(15))   # Teenager\n",
    "print(age_group(30))   # Adult\n",
    "print(age_group(70))   # Senior"
   ]
  },
  {
   "cell_type": "markdown",
   "metadata": {},
   "source": [
    "-The code defines a function that categorizes a person's age into four groups: \"Child,\" \"Teenager,\" \"Adult,\" or \"Senior.\"\n",
    "\n",
    "-It tests the function with various age values and prints the corresponding age group for each.\n"
   ]
  },
  {
   "cell_type": "markdown",
   "metadata": {},
   "source": [
    "# Popcorn Hack #3"
   ]
  },
  {
   "cell_type": "markdown",
   "metadata": {},
   "source": [
    "#### Task\n",
    "\n",
    "Define Function: Create a function named checkVotingEligibility that takes one parameter, age.\n",
    "\n",
    "\n",
    "Check Age: Use an if statement to determine if the age is 18 or older.\n",
    "\n",
    "-Return \"You can vote!\" if true.\n",
    "\n",
    "-Return \"You cannot vote.\" if false.\n",
    "\n",
    "\n",
    "Test Function: Call the function with different age values to verify the output."
   ]
  },
  {
   "cell_type": "code",
   "execution_count": 3,
   "metadata": {
    "vscode": {
     "languageId": "javascript"
    }
   },
   "outputs": [
    {
     "ename": "SyntaxError",
     "evalue": "invalid syntax (2805241848.py, line 1)",
     "output_type": "error",
     "traceback": [
      "\u001b[0;36m  File \u001b[0;32m\"/tmp/ipykernel_16682/2805241848.py\"\u001b[0;36m, line \u001b[0;32m1\u001b[0m\n\u001b[0;31m    function checkVotingEligibility(age) {\u001b[0m\n\u001b[0m             ^\u001b[0m\n\u001b[0;31mSyntaxError\u001b[0m\u001b[0;31m:\u001b[0m invalid syntax\n"
     ]
    }
   ],
   "source": [
    "function checkVotingEligibility(age) {\n",
    "    if (age >= 18) {\n",
    "        return \"You can vote!\";\n",
    "    } else {\n",
    "        return \"You cannot vote.\";\n",
    "    }\n",
    "}\n",
    "\n",
    "// Test the function with different ages\n",
    "console.log(checkVotingEligibility(20)); // Eligible\n",
    "console.log(checkVotingEligibility(16)); // Not eligible\n",
    "console.log(checkVotingEligibility(18)); // Eligible\n",
    "console.log(checkVotingEligibility(15)); // Not eligible\n"
   ]
  },
  {
   "cell_type": "markdown",
   "metadata": {},
   "source": [
    "-The code defines a function that checks if a person is eligible to vote based on whether their age is 18 or older.\n",
    "\n",
    "-It tests the function with various age values and prints whether each person is eligible or not.\n"
   ]
  }
 ],
 "metadata": {
  "kernelspec": {
   "display_name": "Python 3",
   "language": "python",
   "name": "python3"
  },
  "language_info": {
   "codemirror_mode": {
    "name": "ipython",
    "version": 3
   },
   "file_extension": ".py",
   "mimetype": "text/x-python",
   "name": "python",
   "nbconvert_exporter": "python",
   "pygments_lexer": "ipython3",
   "version": "3.10.12"
  }
 },
 "nbformat": 4,
 "nbformat_minor": 2
}
