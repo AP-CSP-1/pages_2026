{
 "cells": [
  {
   "cell_type": "raw",
   "metadata": {
    "vscode": {
     "languageId": "raw"
    }
   },
   "source": [
    "---\n",
    "toc: false\n",
    "comments: true\n",
    "layout: post\n",
    "title: 3.5.2 Boolean Values Java (P2)\n",
    "description: Student led teaching on Iteration. Learn how to do loops with Java and Python.\n",
    "permalink: /csp/big-idea/p2/3-5-2\n",
    "categories: [CSP Big Ideas]\n",
    "author:  Shriya, Lalita, Ethan, Manas\n",
    "menu: nav/csp_units/csp_unit3_p2_fundamentals.html\n",
    "---"
   ]
  },
  {
   "cell_type": "markdown",
   "metadata": {},
   "source": [
    "# Boolean Java\n",
    "\n",
    "- A Boolean value is either true or false.\n",
    "- A Boolean expression produces a Boolean value (true or false) when evaluated."
   ]
  },
  {
   "cell_type": "markdown",
   "metadata": {},
   "source": [
    "## <mark><b>Relational operators:</b></mark> \n",
    "- Used to test the relationship between 2 variables, expressions, or values. These relational operators are used for comparisons and they evaluate to a Boolean value (true or false).\n",
    "\n",
    "Equal to (==): Compares two values for equality after converting them to a common type.\n",
    "- 5 == '5'  // true \n",
    "\n",
    "- 5 == 5    // true\n",
    "\n",
    "\n",
    "\n",
    "Strictly Equal to (===): Compares two values for equality without type conversion.\n",
    "\n",
    "- 5 === '5'  // false \n",
    "\n",
    "- 5 === 5    // true\n",
    "\n",
    "Not Equal to (!=): Returns true if the operands are not equal after type conversion.\n",
    "\n",
    "- 5 != '5'   // false \n",
    "\n",
    "- 5 != 6     // true\n",
    "\n",
    "Strictly Not Equal to (!==): Returns true if the operands are not equal and not of the same type.\n",
    "\n",
    "- 5 !== '5'  // true \n",
    "\n",
    "- 5 !== 5    // false\n",
    "\n",
    "Greater than (>): Returns true if the left operand is greater than the right operand.\n",
    "\n",
    "- 5 > 3  // true\n",
    "\n",
    "- 3 > 5  // false\n",
    "\n",
    "Greater than or Equal to (>=): Returns true if the left operand is greater than or equal to the right operand.\n",
    "\n",
    "- 5 >= 5  // true\n",
    "\n",
    "- 3 >= 5  // false\n",
    "\n",
    "Less than (<): Returns true if the left operand is less than the right operand.\n",
    "\n",
    "- 3 < 5  // true\n",
    "\n",
    "- 5 < 3  // false\n",
    "\n",
    "Less than or Equal to (<=): Returns true if the left operand is less than or equal to the right operand.\n",
    "\n",
    "- 5 <= 5  // true\n",
    "\n",
    "- 5 <= 3  // false\n",
    "\n",
    "\n"
   ]
  },
  {
   "cell_type": "markdown",
   "metadata": {},
   "source": [
    "<b>Example:</b> The legal age to drive in California is 16 years old. How would we write a Boolean expression to check if someone is at least 16 years old?\n",
    "\n",
    "    \n",
    "\n"
   ]
  },
  {
   "cell_type": "code",
   "execution_count": 1,
   "metadata": {
    "vscode": {
     "languageId": "javascript"
    }
   },
   "outputs": [
    {
     "data": {
      "application/javascript": "\npublic class Main {\n    public static void main(String[] args) {\n        int age = 17;  // Example age\n        boolean isEligibleToDrive = age >= 16;\n        System.out.println(isEligibleToDrive);  // Output: true if age is 16 or more, false otherwise\n    }\n}\n",
      "text/plain": [
       "<IPython.core.display.Javascript object>"
      ]
     },
     "metadata": {},
     "output_type": "display_data"
    }
   ],
   "source": [
    "%%javascript\n",
    "\n",
    "public class Main {\n",
    "    public static void main(String[] args) {\n",
    "        int age = 17;  // Example age\n",
    "        boolean isEligibleToDrive = age >= 16;\n",
    "        System.out.println(isEligibleToDrive);  // Output: true if age is 16 or more, false otherwise\n",
    "    }\n",
    "}\n"
   ]
  },
  {
   "cell_type": "markdown",
   "metadata": {},
   "source": [
    "- A company offers free shipping for orders of at least $50. Write a Boolean expression to check if the total order amount qualifies for free shipping.\n",
    "\n"
   ]
  },
  {
   "cell_type": "code",
   "execution_count": 4,
   "metadata": {
    "vscode": {
     "languageId": "javascript"
    }
   },
   "outputs": [
    {
     "data": {
      "application/javascript": "\npublic class Main {\n    public static void main(String[] args) {\n        // Example costs of three items\n        double cost1 = 60;\n        double cost2 = 45;\n        double cost3 = 55;\n        \n        // Check if the average of the costs is at least $50\n        boolean qualifiesForFreeShipping = (cost1 + cost2 + cost3) / 3 >= 50;\n        System.out.println(qualifiesForFreeShipping);  // Output: true if the average is 50 or more, false otherwise\n        \n        // Example of checking if an order amount qualifies for free shipping\n        double orderAmount = 55;  // Example order amount\n        boolean isEligibleForFreeShipping = orderAmount >= 50;\n        System.out.println(isEligibleForFreeShipping);  // Output: true if the order amount is 50 or more, false otherwise\n    }\n}\n",
      "text/plain": [
       "<IPython.core.display.Javascript object>"
      ]
     },
     "metadata": {},
     "output_type": "display_data"
    }
   ],
   "source": [
    "%%javascript\n",
    "\n",
    "public class Main {\n",
    "    public static void main(String[] args) {\n",
    "        // Example costs of three items\n",
    "        double cost1 = 60;\n",
    "        double cost2 = 45;\n",
    "        double cost3 = 55;\n",
    "        \n",
    "        // Check if the average of the costs is at least $50\n",
    "        boolean qualifiesForFreeShipping = (cost1 + cost2 + cost3) / 3 >= 50;\n",
    "        System.out.println(qualifiesForFreeShipping);  // Output: true if the average is 50 or more, false otherwise\n",
    "        \n",
    "        // Example of checking if an order amount qualifies for free shipping\n",
    "        double orderAmount = 55;  // Example order amount\n",
    "        boolean isEligibleForFreeShipping = orderAmount >= 50;\n",
    "        System.out.println(isEligibleForFreeShipping);  // Output: true if the order amount is 50 or more, false otherwise\n",
    "    }\n",
    "}\n"
   ]
  },
  {
   "cell_type": "markdown",
   "metadata": {},
   "source": []
  },
  {
   "cell_type": "markdown",
   "metadata": {},
   "source": [
    "## <mark><b>Logical operators:</b></mark>\n",
    "Used to evaluate multiple conditions to produce a single Boolean value.\n",
    "\n",
    "Logical AND (&&): Returns true if both operands are true.\n",
    "\n",
    "- true && true   // true\n",
    "\n",
    "- true && false  // false\n",
    "\n",
    "Logical OR (||): Returns true if at least one of the operands is true. \n",
    "\n",
    "- true || false  // true\n",
    "\n",
    "- false || false // false\n",
    "\n",
    "Logical NOT (!): Returns the opposite of the boolean value.\n",
    "\n",
    "- !true   // false\n",
    " \n",
    "- !false  // true\n"
   ]
  },
  {
   "cell_type": "markdown",
   "metadata": {},
   "source": [
    "<b>Example:</b> You win the game if you score at least 10 points and have 5 lives left or if you score at least 50 points and have more than 0 lives left. Write the Boolean expression for this scenario.\n"
   ]
  },
  {
   "cell_type": "code",
   "execution_count": 5,
   "metadata": {
    "vscode": {
     "languageId": "javascript"
    }
   },
   "outputs": [
    {
     "data": {
      "application/javascript": "\nlet score = 12;  // Example score\nlet lives = 5;   // Example lives\n\n// Boolean expression to check if the player wins the game\nlet hasWon = (score >= 10 && lives === 5) || (score >= 50 && lives > 0);\n\nconsole.log(hasWon);  // Output: true if the player meets any of the winning conditions, false otherwise\n",
      "text/plain": [
       "<IPython.core.display.Javascript object>"
      ]
     },
     "metadata": {},
     "output_type": "display_data"
    }
   ],
   "source": [
    "%%javascript\n",
    "\n",
    "let score = 12;  // Example score\n",
    "let lives = 5;   // Example lives\n",
    "\n",
    "// Boolean expression to check if the player wins the game\n",
    "let hasWon = (score >= 10 && lives === 5) || (score >= 50 && lives > 0);\n",
    "\n",
    "console.log(hasWon);  // Output: true if the player meets any of the winning conditions, false otherwise\n"
   ]
  },
  {
   "cell_type": "markdown",
   "metadata": {},
   "source": [
    "<b>Example:</b> Write a Boolean expression to check if the average of height1, height2, and height3 is at least 65 inches.\n",
    "\n"
   ]
  },
  {
   "cell_type": "code",
   "execution_count": 7,
   "metadata": {
    "vscode": {
     "languageId": "javascript"
    }
   },
   "outputs": [
    {
     "data": {
      "application/javascript": "\nlet height1 = 66;  // Example height in inches\nlet height2 = 64;  // Example height in inches\nlet height3 = 65;  // Example height in inches\n\n// Calculate the average and check if it is at least 65 inches\nlet isAverageHeightAtLeast65 = (height1 + height2 + height3) / 3 >= 65;\n\nconsole.log(isAverageHeightAtLeast65);  // Output: true if average height is 65 or more, false otherwise\n",
      "text/plain": [
       "<IPython.core.display.Javascript object>"
      ]
     },
     "metadata": {},
     "output_type": "display_data"
    }
   ],
   "source": [
    "%%javascript\n",
    "\n",
    "let height1 = 66;  // Example height in inches\n",
    "let height2 = 64;  // Example height in inches\n",
    "let height3 = 65;  // Example height in inches\n",
    "\n",
    "// Calculate the average and check if it is at least 65 inches\n",
    "let isAverageHeightAtLeast65 = (height1 + height2 + height3) / 3 >= 65;\n",
    "\n",
    "console.log(isAverageHeightAtLeast65);  // Output: true if average height is 65 or more, false otherwise\n"
   ]
  },
  {
   "cell_type": "code",
   "execution_count": null,
   "metadata": {
    "vscode": {
     "languageId": "html"
    }
   },
   "outputs": [],
   "source": [
    "<script src=\"https://utteranc.es/client.js\"\n",
    "        repo=\"manas12709/portfolio_2025\"\n",
    "        issue-term=\"pathname\"\n",
    "        label=\"utterances\"\n",
    "        theme=\"github-light\"\n",
    "        crossorigin=\"anonymous\"\n",
    "        async>\n",
    "    </script>"
   ]
  },
  {
   "cell_type": "code",
   "execution_count": null,
   "metadata": {
    "vscode": {
     "languageId": "html"
    }
   },
   "outputs": [],
   "source": [
    "<!-- Chatbot Container -->\n",
    "<div class=\"chatbot-container\">\n",
    "    <div id=\"chatbot-box\" style=\"background-color: #333; color: white; padding: 20px; border-radius: 8px; max-width: 400px; margin: 20px auto;\">\n",
    "        <div id=\"chatbot-messages\" style=\"height: 200px; overflow-y: auto; margin-bottom: 10px; border: 1px solid #555; padding: 10px; border-radius: 5px;\">\n",
    "            <div>Chatbot: Hi! I'm your virtual assistant. How can I help you today?</div>\n",
    "        </div>\n",
    "        <input type=\"text\" id=\"chatbot-input\" placeholder=\"Ask me anything...\" style=\"width: 75%; padding: 10px; border-radius: 5px; border: 1px solid #555;\">\n",
    "        <button id=\"chatbot-send\" style=\"padding: 10px; background-color: #007acc; color: white; border: none; border-radius: 5px;\">Send</button>\n",
    "    </div>\n",
    "</div>\n",
    "\n",
    "<script>\n",
    "    const chatbotMessages = document.getElementById('chatbot-messages');\n",
    "    const chatbotInput = document.getElementById('chatbot-input');\n",
    "    const chatbotSend = document.getElementById('chatbot-send');\n",
    "\n",
    "    chatbotSend.addEventListener('click', function() {\n",
    "        const userMessage = chatbotInput.value;\n",
    "        if (!userMessage) return;\n",
    "\n",
    "        // Display user message\n",
    "        const userMsgElement = document.createElement('div');\n",
    "        userMsgElement.textContent = \"You: \" + userMessage;\n",
    "        chatbotMessages.appendChild(userMsgElement);\n",
    "        chatbotMessages.scrollTop = chatbotMessages.scrollHeight;\n",
    "\n",
    "        // Clear input\n",
    "        chatbotInput.value = '';\n",
    "\n",
    "        // Response logic\n",
    "        let botResponse = \"I'm not sure I understand that.\";\n",
    "\n",
    "        const lowerCaseMsg = userMessage.toLowerCase();\n",
    "\n",
    "        // Adding a variety of responses for different keywords\n",
    "        if (lowerCaseMsg.includes(\"hello\") || lowerCaseMsg.includes(\"hi\")) {\n",
    "            botResponse = \"Hello! How's your day going?\";\n",
    "        } else if (lowerCaseMsg.includes(\"bike\")) {\n",
    "            botResponse = \"You seem to love bikes! What's your favorite route to ride on?\";\n",
    "        } else if (lowerCaseMsg.includes(\"computer\")) {\n",
    "            botResponse = \"Computers are fascinating! Do you prefer coding or building them?\";\n",
    "        } else if (lowerCaseMsg.includes(\"family\")) {\n",
    "            botResponse = \"Family is everything. How do you like spending time with yours?\";\n",
    "        } else if (lowerCaseMsg.includes(\"coding\") || lowerCaseMsg.includes(\"programming\")) {\n",
    "            botResponse = \"Coding is like solving puzzles! What's your favorite language to code in?\";\n",
    "        } else if (lowerCaseMsg.includes(\"python\")) {\n",
    "            botResponse = \"Python is a great choice for automation, data science, and more. Do you enjoy working with it?\";\n",
    "        } else if (lowerCaseMsg.includes(\"javascript\")) {\n",
    "            botResponse = \"JavaScript makes the web come alive! Any favorite projects you’ve worked on?\";\n",
    "        } else if (lowerCaseMsg.includes(\"biking\")) {\n",
    "            botResponse = \"Biking keeps you fit and clears your mind! What's your best biking memory?\";\n",
    "        } else if (lowerCaseMsg.includes(\"california\")) {\n",
    "            botResponse = \"California is so diverse, from beaches to mountains! What's your favorite spot?\";\n",
    "        } else if (lowerCaseMsg.includes(\"india\")) {\n",
    "            botResponse = \"India has such a rich history and culture. Do you miss Bangalore?\";\n",
    "        } else if (lowerCaseMsg.includes(\"school\") || lowerCaseMsg.includes(\"study\")) {\n",
    "            botResponse = \"School can be challenging, but rewarding! What's your favorite subject?\";\n",
    "        } else if (lowerCaseMsg.includes(\"hobby\")) {\n",
    "            botResponse = \"Hobbies are a great way to unwind. What's one hobby you can't live without?\";\n",
    "        } else if (lowerCaseMsg.includes(\"music\")) {\n",
    "            botResponse = \"Music makes everything better! Who’s your favorite artist or band?\";\n",
    "        } else if (lowerCaseMsg.includes(\"movie\")) {\n",
    "            botResponse = \"Movies can transport us to another world. What’s your favorite genre?\";\n",
    "        } else if (lowerCaseMsg.includes(\"travel\")) {\n",
    "            botResponse = \"Traveling expands your horizons! Is there a dream destination on your list?\";\n",
    "        } else if (lowerCaseMsg.includes(\"sports\")) {\n",
    "            botResponse = \"Sports are fun! Which one do you like playing or watching?\";\n",
    "        } else if (lowerCaseMsg.includes(\"football\")) {\n",
    "            botResponse = \"Football is exciting! Do you play or just enjoy watching it?\";\n",
    "        } else if (lowerCaseMsg.includes(\"coding project\")) {\n",
    "            botResponse = \"I'd love to hear more about your coding projects. What are you working on?\";\n",
    "        } else if (lowerCaseMsg.includes(\"workout\") || lowerCaseMsg.includes(\"gym\")) {\n",
    "            botResponse = \"Staying fit is so important! What’s your workout routine like?\";\n",
    "        } else if (lowerCaseMsg.includes(\"exercise\")) {\n",
    "            botResponse = \"Exercise keeps the mind and body sharp! Do you have a favorite exercise?\";\n",
    "        } else if (lowerCaseMsg.includes(\"food\")) {\n",
    "            botResponse = \"Food is love! What's your favorite dish to eat or cook?\";\n",
    "        } else if (lowerCaseMsg.includes(\"book\")) {\n",
    "            botResponse = \"Books are a portal to different worlds! Do you have a favorite author or book?\";\n",
    "        } else if (lowerCaseMsg.includes(\"game\")) {\n",
    "            botResponse = \"Games are a great way to unwind! What games are you into right now?\";\n",
    "        } else if (lowerCaseMsg.includes(\"fun fact\")) {\n",
    "            botResponse = \"Did you know honey never spoils? What's your favorite random fact?\";\n",
    "        } else if (lowerCaseMsg.includes(\"weather\")) {\n",
    "            botResponse = \"The weather can really set the mood! What's it like outside today?\";\n",
    "        } else if (lowerCaseMsg.includes(\"advice\")) {\n",
    "            botResponse = \"I'm happy to help! What do you need advice on?\";\n",
    "        } else if (lowerCaseMsg.includes(\"thanks\") || lowerCaseMsg.includes(\"thank you\")) {\n",
    "            botResponse = \"You're welcome! Happy to help.\";\n",
    "        } else if (lowerCaseMsg.includes(\"bye\")) {\n",
    "            botResponse = \"Goodbye! Chat with me anytime you like!\";\n",
    "        } else if (lowerCaseMsg.includes(\"joke\")) {\n",
    "            botResponse = \"Why don't scientists trust atoms? Because they make up everything!\";\n",
    "        } else if (lowerCaseMsg.includes(\"time\")) {\n",
    "            botResponse = `It's ${new Date().toLocaleTimeString()} right now!`;\n",
    "        } else if (lowerCaseMsg.includes(\"day\")) {\n",
    "            botResponse = `It's ${new Date().toLocaleDateString()} today!`;\n",
    "        }\n",
    "\n",
    "        // Display bot response\n",
    "        const botMsgElement = document.createElement('div');\n",
    "        botMsgElement.textContent = \"Chatbot: \" + botResponse;\n",
    "        chatbotMessages.appendChild(botMsgElement);\n",
    "        chatbotMessages.scrollTop = chatbotMessages.scrollHeight;\n",
    "    });\n",
    "</script>"
   ]
  }
 ],
 "metadata": {
  "kernelspec": {
   "display_name": "Python 3",
   "language": "python",
   "name": "python3"
  },
  "language_info": {
   "codemirror_mode": {
    "name": "ipython",
    "version": 3
   },
   "file_extension": ".py",
   "mimetype": "text/x-python",
   "name": "python",
   "nbconvert_exporter": "python",
   "pygments_lexer": "ipython3",
   "version": "3.12.5"
  }
 },
 "nbformat": 4,
 "nbformat_minor": 2
}
