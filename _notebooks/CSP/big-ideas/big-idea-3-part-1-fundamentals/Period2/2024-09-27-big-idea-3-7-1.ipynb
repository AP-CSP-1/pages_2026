{
 "cells": [
  {
   "cell_type": "raw",
   "metadata": {
    "vscode": {
     "languageId": "raw"
    }
   },
   "source": [
    "---\n",
    "toc: false\n",
    "comments: true\n",
    "layout: post\n",
    "title: 3.7-P2 Nested Conditionals\n",
    "description: Student led teaching Nested Conditionals using Javascript and Python \n",
    "permalink: /csp/big-idea/p2/3-7-1\n",
    "categories: [CSP Big Ideas]\n",
    "author:  Nolan, Tarun, Kush, and Vincent \n",
    "menu: nav/csp_units/csp_unit3_p2_fundamentals.html\n",
    "---"
   ]
  },
  {
   "cell_type": "markdown",
   "metadata": {},
   "source": [
    "\n",
    "## Nested conditionals and what are they? \n",
    "\n",
    "- *Conditional Statements*: A conditional statement in programming is a way to make decisions. It checks if something is true or false, and based on that, it tells the program what to do next.\n",
    "- *Nested Conditionals**: A nested conditional in coding is when an if or else statement is placed inside another if or else statement. This allows for checking multiple conditions in sequence"
   ]
  },
  {
   "cell_type": "markdown",
   "metadata": {},
   "source": [
    "### Example #1: Grades"
   ]
  },
  {
   "cell_type": "markdown",
   "metadata": {},
   "source": [
    "#### Python"
   ]
  },
  {
   "cell_type": "code",
   "execution_count": null,
   "metadata": {},
   "outputs": [],
   "source": [
    "score = int(input(\"Enter the score: \"))\n",
    "\n",
    "if score >= 90:\n",
    "    print(\"A\")\n",
    "else:\n",
    "    if score >= 80:\n",
    "        print(\"B\")\n",
    "    else:\n",
    "        if score >= 70:\n",
    "            print(\"C\")\n",
    "        else:\n",
    "            if score >= 60:\n",
    "                print(\"D\")\n",
    "            else:\n",
    "                print(\"F\")"
   ]
  },
  {
   "cell_type": "markdown",
   "metadata": {},
   "source": [
    "#### Javascipt"
   ]
  },
  {
   "cell_type": "code",
   "execution_count": 1,
   "metadata": {
    "vscode": {
     "languageId": "javascript"
    }
   },
   "outputs": [
    {
     "data": {
      "application/javascript": "let score = parseInt(prompt(\"Enter the score:\"));\n\nif (score >= 90) {\n    console.log(\"A\");\n} else {\n    if (score >= 80) {\n        console.log(\"B\");\n    } else {\n        if (score >= 70) {\n            console.log(\"C\");\n        } else {\n            if (score >= 60) {\n                console.log(\"D\");\n            } else {\n                console.log(\"F\");\n            }\n        }\n    }\n}\n",
      "text/plain": [
       "<IPython.core.display.Javascript object>"
      ]
     },
     "metadata": {},
     "output_type": "display_data"
    }
   ],
   "source": [
    "%%js\n",
    "let score = parseInt(prompt(\"Enter the score:\"));\n",
    "\n",
    "if (score >= 90) {\n",
    "    console.log(\"A\");\n",
    "} else {\n",
    "    if (score >= 80) {\n",
    "        console.log(\"B\");\n",
    "    } else {\n",
    "        if (score >= 70) {\n",
    "            console.log(\"C\");\n",
    "        } else {\n",
    "            if (score >= 60) {\n",
    "                console.log(\"D\");\n",
    "            } else {\n",
    "                console.log(\"F\");\n",
    "            }\n",
    "        }\n",
    "    }\n",
    "}"
   ]
  },
  {
   "cell_type": "markdown",
   "metadata": {},
   "source": [
    "-Both pieces of code prompt the user to enter a score and convert it to an integer.\n",
    "\n",
    "-They use nested conditionals to determine the letter grade based on the score.\n",
    "\n",
    "-If the score is 90 or above, the program outputs an \"A.\"\n",
    "\n",
    "-If the score is between 80 and 89, it outputs a \"B\"; between 70 and 79, it outputs a \"C\"; and between 60 and 69, it outputs a \"D.\"\n",
    "\n",
    "-If the score is below 60, both programs output an \"F.\"\n"
   ]
  },
  {
   "cell_type": "markdown",
   "metadata": {},
   "source": [
    "### Example #2: Credit Score"
   ]
  },
  {
   "cell_type": "markdown",
   "metadata": {},
   "source": [
    "#### Python"
   ]
  },
  {
   "cell_type": "code",
   "execution_count": null,
   "metadata": {},
   "outputs": [
    {
     "name": "stdout",
     "output_type": "stream",
     "text": [
      "Not eligible for loan due to low credit score\n"
     ]
    }
   ],
   "source": [
    "credit_score = 100\n",
    "income = 10000\n",
    "\n",
    "if credit_score < 700:\n",
    "    print(\"Not eligible for loan due to low credit score\")\n",
    "elif income < 50000:\n",
    "    print(\"Not eligible for loan due to low income\")\n",
    "else:\n",
    "    print(\"Eligible for loan\")"
   ]
  },
  {
   "cell_type": "markdown",
   "metadata": {},
   "source": [
    "#### Javascript"
   ]
  },
  {
   "cell_type": "code",
   "execution_count": 1,
   "metadata": {
    "vscode": {
     "languageId": "javascript"
    }
   },
   "outputs": [
    {
     "data": {
      "application/javascript": "let credit_score = 100;\nlet income = 10000;\n\nif (credit_score < 700) {\n    console.log(\"Not eligible for loan due to low credit score\");\n} else if (income < 50000) {\n    console.log(\"Not eligible for loan due to low income\");\n} else {\n    console.log(\"Eligible for loan\");\n}\n",
      "text/plain": [
       "<IPython.core.display.Javascript object>"
      ]
     },
     "metadata": {},
     "output_type": "display_data"
    }
   ],
   "source": [
    "%%js\n",
    "let credit_score = 100;\n",
    "let income = 10000;\n",
    "\n",
    "if (credit_score < 700) {\n",
    "    console.log(\"Not eligible for loan due to low credit score\");\n",
    "} else if (income < 50000) {\n",
    "    console.log(\"Not eligible for loan due to low income\");\n",
    "} else {\n",
    "    console.log(\"Eligible for loan\");\n",
    "}"
   ]
  },
  {
   "cell_type": "markdown",
   "metadata": {},
   "source": [
    "\n",
    "is_member = True  # Set to True if the person is a member, False if not\n",
    "purchase_amount = 120  # Replace with the actual purchase amount\n",
    "\n",
    "- Both snippets (Python and JavaScript) check loan eligibility based on two factors: credit_score and income.\n",
    "\n",
    "- If the credit_score is less than 700, both codes print a message stating that the person is not eligible due to a low credit score.\n",
    "- If the credit_score is 700 or higher but the income is less than 50,000, both codes output that the person is not eligible due to low income.\n",
    "- If both conditions are met (credit score ≥ 700 and income ≥ 50,000), both snippets print that the person is eligible for a loan.\n",
    "- The Python code uses print() to display messages in the console, while the JavaScript code uses console.log() to achieve the same result."
   ]
  },
  {
   "cell_type": "markdown",
   "metadata": {},
   "source": [
    "### Popcorn Hack#1: Discounts"
   ]
  },
  {
   "cell_type": "markdown",
   "metadata": {},
   "source": [
    "\n",
    "Write pseudocode to determine if a person qualifies for a discount based on their membership status and purchase amount\n",
    "- if the person is a member: \n",
    "- If someone is a member and spends more than $100, they get a 20% discount. If they spend $100 or less, they get a 10% discount. \n",
    "- If they're not a member and spend more than $100, they get a 5% discount. If they spend $100 or less, they don’t get any discount.\n",
    "\n"
   ]
  },
  {
   "cell_type": "markdown",
   "metadata": {},
   "source": [
    "### Solution"
   ]
  },
  {
   "cell_type": "code",
   "execution_count": 4,
   "metadata": {},
   "outputs": [
    {
     "name": "stdout",
     "output_type": "stream",
     "text": [
      "Free express shipping\n"
     ]
    }
   ],
   "source": [
    "is_subscriber = True\n",
    "order_weight = 12\n",
    "\n",
    "if is_subscriber:\n",
    "    if order_weight > 10:\n",
    "        print(\"Free express shipping\")\n",
    "    else:\n",
    "        print(\"Free standard shipping\")\n",
    "else:\n",
    "    if order_weight > 10:\n",
    "        print(\"Free standard shipping\")\n",
    "    else:\n",
    "        print(\"No free shipping\")\n"
   ]
  },
  {
   "cell_type": "markdown",
   "metadata": {},
   "source": [
    "-The code checks if a person is a subscriber using the is_subscriber variable.\n",
    "\n",
    "-If they are a subscriber and the order_weight is greater than 10, it prints \"Free express shipping.\"\n",
    "\n",
    "-If they are a subscriber and the weight is 10 or less, it prints \"Free standard shipping.\"\n",
    "\n",
    "-If they are not a subscriber, it checks the weight again and either prints \"Free standard shipping\" or \"No free shipping\" based on the weight.\n"
   ]
  },
  {
   "cell_type": "markdown",
   "metadata": {},
   "source": [
    "## Summary of Nested Conditionals and Conditional Statements"
   ]
  },
  {
   "cell_type": "markdown",
   "metadata": {},
   "source": [
    "-*Conditional Statements*: These are structures in programming that allow the execution of certain code blocks based on whether a condition is true or false. The most common type is the if statement, which can be followed by else or else if statements to handle multiple outcomes.\n",
    "\n",
    "-*Nested Conditionals*: This is a specific use of conditional statements where one conditional statement is placed inside another. This allows for checking additional conditions within the scope of a previous condition, enabling more complex decision-making processes. Nested conditionals help to handle multiple layers of logic in a program.\n",
    "\n"
   ]
  }
 ],
 "metadata": {
  "kernelspec": {
   "display_name": "venv",
   "language": "python",
   "name": "python3"
  },
  "language_info": {
   "codemirror_mode": {
    "name": "ipython",
    "version": 3
   },
   "file_extension": ".py",
   "mimetype": "text/x-python",
   "name": "python",
   "nbconvert_exporter": "python",
   "pygments_lexer": "ipython3",
   "version": "3.10.12"
  }
 },
 "nbformat": 4,
 "nbformat_minor": 2
}
