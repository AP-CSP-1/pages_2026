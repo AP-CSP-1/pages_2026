{
 "cells": [
  {
   "cell_type": "raw",
   "id": "347e901f",
   "metadata": {
    "vscode": {
     "languageId": "raw"
    }
   },
   "source": [
    "---\n",
    "toc: true\n",
    "comments: false\n",
    "layout: post\n",
    "categories: [CSP Big Idea 3]\n",
    "title: \"Developing Procedures in Javascript\"\n",
    "author: Krishna Visvanath, Sloane Sommers\n",
    "description: \"Apply your skills to basic procedure development in Javascript.\"\n",
    "layout: post\n",
    "permalink: /csp/remakers/developing-proced/p4/hacks-python\n",
    "---"
   ]
  }
 ],
 "metadata": {
  "language_info": {
   "name": "python"
  }
 },
 "nbformat": 4,
 "nbformat_minor": 5
}
