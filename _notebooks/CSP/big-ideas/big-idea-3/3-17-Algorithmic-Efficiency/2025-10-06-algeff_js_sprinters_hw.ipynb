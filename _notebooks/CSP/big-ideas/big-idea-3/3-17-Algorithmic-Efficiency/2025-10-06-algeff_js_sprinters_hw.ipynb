{
 "cells": [
  {
   "cell_type": "markdown",
   "id": "01aa5879",
   "metadata": {},
   "source": [
    "---\n",
    "layout: post\n",
    "title: Sprint 2 - Algorithmic Efficiency Homework(Javascript)\n",
    "description: Homework for the Algorithmic Effiency in Javascript \n",
    "toc: true\n",
    "breadcrumbs: True\n",
    "authors: Akhil K, Shayan B\n",
    "permalink: /csp/big-idea-3/AlgEffJS/p3/Homework/\n",
    "---"
   ]
  },
  {
   "cell_type": "markdown",
   "id": "1cdcd0e7",
   "metadata": {},
   "source": [
    "## JS Algorithmic Efficiency Activity: Sum of Even Numbers\n",
    "\n",
    "## Goal\n",
    "Write a function that takes an array of numbers and calculates the **sum of all even numbers**. After completing the function, analyze the **time and memory complexity** of your solution.\n",
    "\n",
    "## Instructions\n",
    "1. Complete the function `sumEvenNumbers(arr)` in the next code cell.\n",
    "2. Test it with arrays of different sizes.\n",
    "3. Think about:\n",
    "   - **Time Complexity**: How long it takes to compute as the array grows.\n",
    "   - **Memory Complexity**: How much extra memory your algorithm uses.\n",
    "4. Optional: Try to optimize memory usage if possible (e.g., avoid creating extra arrays).\n",
    "\n",
    "## Example\n",
    "```javascript\n",
    "// Input: [1,2,3,4,5]\n",
    "// Output: 6 (because 2 + 4 = 6)\n"
   ]
  },
  {
   "cell_type": "code",
   "execution_count": null,
   "id": "4a0c9859",
   "metadata": {
    "vscode": {
     "languageId": "javascript"
    }
   },
   "outputs": [],
   "source": [
    "// Starter Code to Build Off of:\n",
    "\n",
    "// Task: Complete this function\n",
    "function sumEvenNumbers(arr) {\n",
    "  // Your code here\n",
    "}\n",
    "\n",
    "// Test your function\n",
    "const testArray = [1, 2, 3, 4, 5];\n",
    "console.log(\"Sum of even numbers:\", sumEvenNumbers(testArray));\n",
    "\n",
    "// Optional: test with larger arrays\n",
    "const largeArray = Array.from({length: 10}, (_, i) => i + 1);\n",
    "console.log(\"Sum of even numbers in large array:\", sumEvenNumbers(largeArray));\n"
   ]
  }
 ],
 "metadata": {
  "language_info": {
   "name": "python"
  }
 },
 "nbformat": 4,
 "nbformat_minor": 5
}
