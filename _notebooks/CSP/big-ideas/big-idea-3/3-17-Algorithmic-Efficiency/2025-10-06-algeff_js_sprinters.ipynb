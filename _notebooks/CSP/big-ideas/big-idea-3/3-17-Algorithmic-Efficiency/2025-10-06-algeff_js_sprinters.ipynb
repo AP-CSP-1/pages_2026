{
 "cells": [
  {
   "cell_type": "markdown",
   "id": "649a5d04",
   "metadata": {},
   "source": [
    "---\n",
    "layout: post\n",
    "title: Sprint 2 - Algorithmic Efficiency Lesson (Javascript)\n",
    "description: Lesson for the Algorithmic Effiency in Javascript \n",
    "toc: true\n",
    "breadcrumbs: True\n",
    "authors: Rudra J, Akhil K.\n",
    "permalink: /csp/big-idea-3/AlgEffJS/p3/Lesson/\n",
    "---"
   ]
  },
  {
   "cell_type": "markdown",
   "id": "08f111b4",
   "metadata": {},
   "source": [
    "# ⚡ Algorithmic Efficiency in JavaScript\n",
    "\n",
    "In this lesson, we'll learn about:\n",
    "- **Runtime complexity** (time)\n",
    "- **Memory complexity** (space)\n",
    "- How common operations affect efficiency\n",
    "- Mini exercises to practice analysis\n"
   ]
  },
  {
   "cell_type": "markdown",
   "id": "d02132a3",
   "metadata": {},
   "source": [
    "## ⏱ Runtime Complexity (Time)\n",
    "\n",
    "Runtime complexity describes how the execution time of an algorithm **scales with input size `n`**.  \n",
    "\n",
    "Common complexities:\n",
    "- **O(1)** — constant time\n",
    "- **O(log n)** — logarithmic\n",
    "- **O(n)** — linear\n",
    "- **O(n²)** — quadratic\n",
    "\n",
    "We’ll see examples next.\n"
   ]
  },
  {
   "cell_type": "code",
   "execution_count": null,
   "id": "6683717d",
   "metadata": {
    "vscode": {
     "languageId": "javascript"
    }
   },
   "outputs": [],
   "source": [
    "// O(1) — constant time\n",
    "function getFirstElement(arr) {\n",
    "    return arr[0];\n",
    "}\n",
    "console.log(getFirstElement([1,2,3,4])); // 1\n"
   ]
  },
  {
   "cell_type": "code",
   "execution_count": null,
   "id": "e3527c17",
   "metadata": {
    "vscode": {
     "languageId": "javascript"
    }
   },
   "outputs": [],
   "source": [
    "// O(n) — linear time\n",
    "function sumArray(arr) {\n",
    "    let sum = 0;\n",
    "    for (let num of arr) sum += num;\n",
    "    return sum;\n",
    "}\n",
    "console.log(sumArray([1,2,3,4])); // 10\n"
   ]
  },
  {
   "cell_type": "code",
   "execution_count": null,
   "id": "3435f1a2",
   "metadata": {
    "vscode": {
     "languageId": "javascript"
    }
   },
   "outputs": [],
   "source": [
    "// O(n^2) — quadratic time\n",
    "function printPairs(arr) {\n",
    "    for (let i = 0; i < arr.length; i++) {\n",
    "        for (let j = 0; j < arr.length; j++) {\n",
    "            console.log(arr[i], arr[j]);\n",
    "        }\n",
    "    }\n",
    "}\n",
    "printPairs([1,2,3]);\n"
   ]
  },
  {
   "cell_type": "markdown",
   "id": "ebabec6b",
   "metadata": {},
   "source": [
    "## 🧠 Memory Complexity (Space)\n",
    "\n",
    "Memory complexity describes how much **extra memory** an algorithm uses as the input grows.\n",
    "\n",
    "Examples:\n",
    "- **O(1)** — few variables, independent of input\n",
    "- **O(n)** — storing an array or list of size `n`"
   ]
  },
  {
   "cell_type": "code",
   "execution_count": null,
   "id": "7df2f935",
   "metadata": {
    "vscode": {
     "languageId": "javascript"
    }
   },
   "outputs": [],
   "source": [
    "// O(1) memory\n",
    "function constantSpaceSum(n) {\n",
    "    let sum = 0;\n",
    "    for (let i = 1; i <= n; i++) sum += i;\n",
    "    return sum;\n",
    "}\n",
    "console.log(constantSpaceSum(10));"
   ]
  },
  {
   "cell_type": "code",
   "execution_count": null,
   "id": "216e2425",
   "metadata": {
    "vscode": {
     "languageId": "javascript"
    }
   },
   "outputs": [],
   "source": [
    "// O(n) memory\n",
    "function arraySum(n) {\n",
    "    let nums = [];\n",
    "    for (let i = 1; i <= n; i++) nums.push(i);\n",
    "    return nums.reduce((a,b)=>a+b,0);\n",
    "}\n",
    "console.log(arraySum(10));"
   ]
  },
  {
   "cell_type": "markdown",
   "id": "81889a75",
   "metadata": {},
   "source": [
    "## 🧩 Mini Activity 1\n",
    "\n",
    "Predict the **time and memory complexity** of the following function:\n",
    "\n",
    "```javascript\n",
    "function squareNumbers(n) {\n",
    "    let squares = [];\n",
    "    for (let i = 0; i < n; i++) {\n",
    "        squares.push(i*i);\n",
    "    }\n",
    "    return squares;\n",
    "}"
   ]
  },
  {
   "cell_type": "markdown",
   "id": "a173155d",
   "metadata": {},
   "source": [
    "\n",
    "---\n",
    "## 🔹 Common Operations & Their Complexities\n",
    "\n",
    "| Operation | Array        | Object      | Set        |\n",
    "|-----------|--------------|------------|------------|\n",
    "| Access    | O(1)         | O(1)       | O(1)       |\n",
    "| Search    | O(n)         | O(1)       | O(1)       |\n",
    "| Insert    | O(1) end     | O(1)       | O(1)       |\n",
    "| Delete    | O(n) middle  | O(1)       | O(1)       |\n",
    "| Memory    | O(n)         | O(n)       | O(n)       |\n"
   ]
  },
  {
   "cell_type": "code",
   "execution_count": null,
   "id": "87195bed",
   "metadata": {
    "vscode": {
     "languageId": "javascript"
    }
   },
   "outputs": [],
   "source": [
    "// Example: Using Set for efficient lookup\n",
    "let nums = new Set([1,2,3,4]);\n",
    "console.log(nums.has(3)); // O(1)\n",
    "console.log(nums.has(5)); // O(1)"
   ]
  },
  {
   "cell_type": "markdown",
   "id": "097a805c",
   "metadata": {
    "vscode": {
     "languageId": "html"
    }
   },
   "source": [
    "# Interactive Demo for Javascript\n",
    "\n",
    "<html lang=\"en\">\n",
    "<head>\n",
    "  <meta charset=\"UTF-8\">\n",
    "  <title>JavaScript Algorithm Efficiency Demo</title>\n",
    "  <style>\n",
    "    body { font-family: \"Segoe UI\", Tahoma, sans-serif; margin: 20px; background: #1e1e2f; color: #e4e4e4; }\n",
    "    h1 { text-align: center; color: #ffb347; }\n",
    "    .section { background: #2c2c3c; padding: 20px; margin: 20px 0; border-radius: 10px; box-shadow: 0 2px 10px rgba(0,0,0,0.5); }\n",
    "    h2 { color: #50fa7b; }\n",
    "    button { padding: 8px 15px; margin-top: 10px; border: none; border-radius: 5px; background: #ff7f50; color: #fff; font-weight: bold; cursor: pointer; transition: background 0.2s; }\n",
    "    button:hover { background: #ff5c1a; }\n",
    "    input { padding: 5px; margin: 5px; width: 70px; border-radius: 5px; border: 1px solid #555; background: #1e1e2f; color: #e4e4e4; text-align: center; }\n",
    "    pre { background: #444; padding: 10px; border-radius: 8px; color: #50fa7b; white-space: pre-line; margin-top: 12px; }\n",
    "    code { background: #555; padding: 3px 6px; border-radius: 4px; color: #ffb347; }\n",
    "  </style>\n",
    "</head>\n",
    "<body>\n",
    "  <h1>JavaScript Algorithm Efficiency Demo</h1>\n",
    "\n",
    "  <!-- Activity 1: Find Max -->\n",
    "  <div class=\"section\">\n",
    "    <h2>1️⃣ Find Max in Array</h2>\n",
    "    <input type=\"number\" id=\"maxArraySize\" value=\"5\" min=\"1\">\n",
    "    <button onclick=\"findMaxActivity()\">Find Maximum</button>\n",
    "    <pre id=\"maxArrayResult\"></pre>\n",
    "  </div>\n",
    "\n",
    "  <!-- Activity 2: Filter Array -->\n",
    "  <div class=\"section\">\n",
    "    <h2>2️⃣ Filter Numbers Greater than N/2</h2>\n",
    "    <input type=\"number\" id=\"filterSize\" value=\"5\" min=\"1\">\n",
    "    <button onclick=\"filterActivity()\">Filter Array</button>\n",
    "    <pre id=\"filterResult\"></pre>\n",
    "  </div>\n",
    "\n",
    "  <!-- Activity 3: Nested Loop -->\n",
    "  <div class=\"section\">\n",
    "    <h2>3️⃣ Nested Loop Example</h2>\n",
    "    <input type=\"number\" id=\"nestedSize2\" value=\"5\" min=\"1\">\n",
    "    <button onclick=\"nestedLoopActivity2()\">Run Nested Loop</button>\n",
    "    <pre id=\"nestedResult2\"></pre>\n",
    "  </div>\n",
    "\n",
    "  <script>\n",
    "    // Activity 1: Find Max\n",
    "    function findMaxActivity() {\n",
    "      const n = parseInt(document.getElementById('maxArraySize').value);\n",
    "      const arr = Array.from({length:n},()=>Math.floor(Math.random()*100));\n",
    "      const maxVal = Math.max(...arr);\n",
    "      document.getElementById('maxArrayResult').textContent =\n",
    "        `Array: [${arr.join(', ')}]\\nMaximum: ${maxVal}\\nTime Complexity: O(n)\\nMemory Complexity: O(n)`;\n",
    "    }\n",
    "\n",
    "    // Activity 2: Filter Array\n",
    "    function filterActivity() {\n",
    "      const n = parseInt(document.getElementById('filterSize').value);\n",
    "      const arr = Array.from({length:n}, (_,i)=>i+1);\n",
    "      const filtered = arr.filter(x=>x>n/2);\n",
    "      document.getElementById('filterResult').textContent =\n",
    "        `Array: [${arr.join(', ')}]\\nFiltered: [${filtered.join(', ')}]\\nTime Complexity: O(n)\\nMemory Complexity: O(n)`;\n",
    "    }\n",
    "\n",
    "    // Activity 3: Nested Loop\n",
    "    function nestedLoopActivity2() {\n",
    "      const n = parseInt(document.getElementById('nestedSize2').value);\n",
    "      let output = [];\n",
    "      for (let i=1;i<=n;i++){\n",
    "        for (let j=1;j<=n;j++){\n",
    "          output.push([i,j]);\n",
    "        }\n",
    "      }\n",
    "      document.getElementById('nestedResult2').textContent =\n",
    "        `Pairs Generated: ${output.length}\\nSample: [${output.slice(0,5).map(p=>'('+p[0]+','+p[1]+')').join(', ')}...]\\nTime Complexity: O(n²)\\nMemory Complexity: O(1) extra`;\n",
    "    }\n",
    "  </script>\n",
    "</body>\n",
    "</html>\n"
   ]
  }
 ],
 "metadata": {
  "language_info": {
   "name": "python"
  }
 },
 "nbformat": 4,
 "nbformat_minor": 5
}
