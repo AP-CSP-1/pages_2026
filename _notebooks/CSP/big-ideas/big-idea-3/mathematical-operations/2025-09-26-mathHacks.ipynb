{
 "cells": [
  {
   "cell_type": "raw",
   "id": "6290bcd2",
   "metadata": {
    "vscode": {
     "languageId": "raw"
    }
   },
   "source": [
    "---\n",
    "title: \"Mathematical Operations in Javascript and Python - Hacks\"\n",
    "description: \"Apply your skills of math, logic, and coding.\"\n",
    "layout: post\n",
    "permalink: /csp/big-idea-3/mathematical-operations/p4/hacks\n",
    "---"
   ]
  }
 ],
 "metadata": {
  "language_info": {
   "name": "python"
  }
 },
 "nbformat": 4,
 "nbformat_minor": 5
}
