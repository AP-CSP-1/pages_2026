{
 "cells": [
  {
   "cell_type": "raw",
   "id": "6290bcd2",
   "metadata": {
    "vscode": {
     "languageId": "raw"
    }
   },
   "source": [
    "---\n",
    "title: \"Mathematical Operations in Javascript and Python - Hacks\"\n",
    "description: \"Apply your skills of math, logic, and coding.\"\n",
    "layout: post\n",
    "permalink: /csp/big-idea-3/mathematical-operations/p4/hacks\n",
    "---\n",
    "#Basic Algabraic Math hacks\n",
    "\n",
    "##Q1 (Exponents):\n",
    "###A cube has a side length of 4 units. What is its volume?\n",
    "\n",
    "print(4 ** 3)  # volume = side³\n",
    "\n",
    "\n",
    "##Q2 (PEMDAS):\n",
    "###Evaluate the expression: \n",
    "###(12+8)/2+(3^2)\n",
    "\n",
    "print((12 + 8) / 2 * (3 ** 2))"
   ]
  }
 ],
 "metadata": {
  "language_info": {
   "name": "python"
  }
 },
 "nbformat": 4,
 "nbformat_minor": 5
}
