{
 "cells": [
  {
   "cell_type": "raw",
   "id": "58d6ad13",
   "metadata": {
    "vscode": {
     "languageId": "raw"
    }
   },
   "source": [
    "---\n",
    "layout: post\n",
    "title: Remakers Calling Procedures Lesson\n",
    "description: Homework for Iterations lesson in Python\n",
    "toc: False\n",
    "comments: False\n",
    "permalink: /csp/big-idea-3/remakers/calling_procedures/lesson\n",
    "comments: true\n",
    "---"
   ]
  },
  {
   "cell_type": "markdown",
   "id": "1a67b4ac",
   "metadata": {},
   "source": [
    "## 3.12 Calling Procedures"
   ]
  },
  {
   "cell_type": "markdown",
   "id": "da19290b",
   "metadata": {},
   "source": [
    "What is it?\n",
    "- A procedure is a reusable group of instructions.\n",
    "- Also called a function in Python or JavaScript.\n",
    "- Procedures allow you to avoid rewriting the same code.\n",
    "What does it mean?\n",
    "- Calling a procedure means telling the computer to run the instructions in that procedure.\n",
    "- You can call a procedure multiple times with different input values without rewriting it.\n",
    "- This is different from defining the procedure — defining is creating it, calling is using it.\n"
   ]
  },
  {
   "cell_type": "markdown",
   "id": "7924f727",
   "metadata": {},
   "source": [
    "Python Example:\n",
    "- Use def to define a procedure\n",
    "- You can use the name of the functionand paranthesis after to call it"
   ]
  },
  {
   "cell_type": "code",
   "execution_count": 1,
   "id": "3e89f8df",
   "metadata": {},
   "outputs": [
    {
     "name": "stdout",
     "output_type": "stream",
     "text": [
      "Welcome to the program!\n"
     ]
    }
   ],
   "source": [
    "# Define a procedure\n",
    "def show_message():\n",
    "    print(\"Welcome to the program!\")\n",
    "\n",
    "# Call the procedure\n",
    "show_message()  # Output: Welcome to the program!"
   ]
  },
  {
   "cell_type": "markdown",
   "id": "a0f35669",
   "metadata": {},
   "source": [
    "Javascript Example:\n",
    "- You use function to define a procedure\n",
    "- Just like python if you type the name of the function with parenthesis right after it, you can call the procedure"
   ]
  },
  {
   "cell_type": "code",
   "execution_count": null,
   "id": "095d5a3c",
   "metadata": {
    "vscode": {
     "languageId": "javascript"
    }
   },
   "outputs": [],
   "source": [
    "%%js\n",
    "// Define a procedure\n",
    "function showMessage() {\n",
    "    console.log(\"Welcome to the program!\");\n",
    "}\n",
    "\n",
    "// Call the procedure\n",
    "showMessage();  // Output: Welcome to the program!"
   ]
  },
  {
   "cell_type": "markdown",
   "id": "c0bad1ca",
   "metadata": {},
   "source": [
    "### Calling A Procedure Inside Another Procedure"
   ]
  },
  {
   "cell_type": "markdown",
   "id": "5cc114cd",
   "metadata": {},
   "source": [
    "Why?\n",
    "- Large problems can often be broken into smaller steps (decomposition).\n",
    "- Each step can be a procedure, and one procedure can call another.\n",
    "- This makes programs easier to read, debug, and reuse."
   ]
  }
 ],
 "metadata": {
  "kernelspec": {
   "display_name": "Python 3",
   "language": "python",
   "name": "python3"
  },
  "language_info": {
   "codemirror_mode": {
    "name": "ipython",
    "version": 3
   },
   "file_extension": ".py",
   "mimetype": "text/x-python",
   "name": "python",
   "nbconvert_exporter": "python",
   "pygments_lexer": "ipython3",
   "version": "3.10.1"
  }
 },
 "nbformat": 4,
 "nbformat_minor": 5
}
