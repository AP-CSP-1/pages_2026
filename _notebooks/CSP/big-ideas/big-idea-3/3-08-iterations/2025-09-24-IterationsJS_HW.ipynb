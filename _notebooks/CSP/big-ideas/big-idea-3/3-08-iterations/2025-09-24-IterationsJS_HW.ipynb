{
 "cells": [
  {
   "cell_type": "markdown",
   "metadata": {},
   "source": [
    "---\n",
    "title: Iterations JS Homework\n",
    "description: Practice problems for iterations\n",
    "comments: false\n",
    "layout: post\n",
    "toc: true\n",
    "permalink: /csp/big-idea-3/IterationsJS/p3/Homework\n",
    "---"
   ]
  },
  {
   "cell_type": "markdown",
   "metadata": {},
   "source": [
    "# 3.8 Iterations Homework 🔄\n",
    "\n",
    "Complete the following problems to practice your iteration skills!\n",
    "\n",
    "---"
   ]
  },
  {
   "cell_type": "markdown",
   "metadata": {},
   "source": [
    "## Problem 1: Fill in the Blank 📝\n",
    "\n",
    "Complete the code below to make it print all numbers from 1 to 10.\n",
    "\n",
    "Expected output: `1, 2, 3, 4, 5, 6, 7, 8, 9, 10`"
   ]
  },
  {
   "cell_type": "code",
   "execution_count": null,
   "metadata": {
    "vscode": {
     "languageId": "javascript"
    }
   },
   "outputs": [],
   "source": [
    "%%javascript\n",
    "// Fill in the blanks to complete the loop\n",
    "for (let i = ___; i <= ___; ___) {\n",
    "    console.log(i);\n",
    "}"
   ]
  },
  {
   "cell_type": "markdown",
   "metadata": {},
   "source": [
    "---\n",
    "\n",
    "## Problem 2: Create Your Own Loop 🚀\n",
    "\n",
    "Write a program that uses a while loop to print \"Hello!\" 5 times.\n",
    "\n",
    "Expected output:\n",
    "```\n",
    "Hello!\n",
    "Hello!\n",
    "Hello!\n",
    "Hello!\n",
    "Hello!\n",
    "```"
   ]
  },
  {
   "cell_type": "code",
   "execution_count": null,
   "metadata": {
    "vscode": {
     "languageId": "javascript"
    }
   },
   "outputs": [],
   "source": [
    "%%javascript\n",
    "// YOUR CODE HERE\n"
   ]
  }
 ],
 "metadata": {
  "kernelspec": {
   "display_name": "Python 3",
   "language": "python",
   "name": "python3"
  },
  "language_info": {
   "codemirror_mode": {
    "name": "ipython",
    "version": 3
   },
   "file_extension": ".py",
   "mimetype": "text/x-python",
   "name": "python",
   "nbconvert_exporter": "python",
   "pygments_lexer": "ipython3",
   "version": "3.10.12"
  }
 },
 "nbformat": 4,
 "nbformat_minor": 2
}
