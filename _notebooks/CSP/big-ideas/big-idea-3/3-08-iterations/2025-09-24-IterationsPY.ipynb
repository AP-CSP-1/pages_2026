{
 "cells": [
  {
   "cell_type": "markdown",
   "id": "6b485fb9",
   "metadata": {},
   "source": [
    "---\n",
    "layout: post\n",
    "title: Sprint 2 - Iterations (Python)\n",
    "description:  Iterations in Python\n",
    "toc: true\n",
    "breadcrumbs: True\n",
    "permalink: /csp/big-idea-3/IterationsPY/p3/Lesson\n",
    "---"
   ]
  },
  {
   "cell_type": "markdown",
   "id": "e5c692fa",
   "metadata": {},
   "source": [
    "\n",
    "# **Iterations in Python**\n",
    "## What are Iterations?\n",
    "\n",
    "Iteration means repeating a set of instructions multiple times.\n",
    "In Python, iteration is most often done with loops, which let us run the same block of code several times.\n",
    "\n",
    "There are two main kinds of loops:\n",
    "- ```for``` loops → iterate over items in a sequence (list, string, range, etc.)\n",
    "- ```while``` loops → keep repeating as long as a condition is ```True```\n",
    "\n",
    "\n",
    "## The ```For``` Loop\n",
    "\n",
    "A ```for``` loop goes through items in a sequence one by one."
   ]
  },
  {
   "cell_type": "code",
   "execution_count": 11,
   "id": "052f3627",
   "metadata": {},
   "outputs": [
    {
     "name": "stdout",
     "output_type": "stream",
     "text": [
      "apple\n",
      "banana\n",
      "cherry\n"
     ]
    }
   ],
   "source": [
    "# Example: Iterating through a list\n",
    "fruits = [\"apple\", \"banana\", \"cherry\"]\n",
    "\n",
    "for fruit in fruits:\n",
    "    print(fruit)"
   ]
  },
  {
   "cell_type": "markdown",
   "id": "f58a9c79",
   "metadata": {},
   "source": [
    "We can also iterate over numbers with ```range()```:"
   ]
  },
  {
   "cell_type": "code",
   "execution_count": 12,
   "id": "d493acca",
   "metadata": {},
   "outputs": [
    {
     "name": "stdout",
     "output_type": "stream",
     "text": [
      "0\n",
      "1\n",
      "2\n",
      "3\n",
      "4\n"
     ]
    }
   ],
   "source": [
    "for i in range(5):  # counts from 0 to 4\n",
    "    print(i)"
   ]
  },
  {
   "cell_type": "markdown",
   "id": "34087570",
   "metadata": {},
   "source": [
    "## The ```While``` Loop\n",
    "\n",
    "A ```while``` loop runs until its condition becomes ```False```."
   ]
  },
  {
   "cell_type": "code",
   "execution_count": 13,
   "id": "a3ff0408",
   "metadata": {},
   "outputs": [
    {
     "name": "stdout",
     "output_type": "stream",
     "text": [
      "Count is: 0\n",
      "Count is: 1\n",
      "Count is: 2\n",
      "Count is: 3\n",
      "Count is: 4\n"
     ]
    }
   ],
   "source": [
    "count = 0\n",
    "\n",
    "while count < 5:\n",
    "    print(\"Count is:\", count)\n",
    "    count += 1"
   ]
  },
  {
   "cell_type": "markdown",
   "id": "8021887d",
   "metadata": {},
   "source": [
    "### Loop Control Statements\n",
    "\n",
    "We can control loops using special keywords:\n",
    "- ```break``` → stop the loop completely\n",
    "- ```continue``` → skip to the next iteration\n",
    "- ```pass``` → do nothing (acts as a placeholder)\n",
    "\n",
    "\n",
    "## Nested Loops\n",
    "A loop inside another loop:"
   ]
  },
  {
   "cell_type": "code",
   "execution_count": 14,
   "id": "c8ae37d8",
   "metadata": {},
   "outputs": [
    {
     "name": "stdout",
     "output_type": "stream",
     "text": [
      "i=0, j=0\n",
      "i=0, j=1\n",
      "i=0, j=2\n",
      "i=1, j=0\n",
      "i=1, j=1\n",
      "i=1, j=2\n"
     ]
    }
   ],
   "source": [
    "for i in range(2):       # outer loop\n",
    "    for j in range(3):   # inner loop\n",
    "        print(f\"i={i}, j={j}\")"
   ]
  },
  {
   "cell_type": "markdown",
   "id": "5c9b7a53",
   "metadata": {},
   "source": [
    "### ```enumerate()``` for Indexed Iteration\n",
    "When looping over lists, we often need both the index and the item. ```enumerate()``` gives us both at the same time."
   ]
  },
  {
   "cell_type": "code",
   "execution_count": 15,
   "id": "da829620",
   "metadata": {},
   "outputs": [
    {
     "name": "stdout",
     "output_type": "stream",
     "text": [
      "0 apple\n",
      "1 banana\n",
      "2 cherry\n"
     ]
    }
   ],
   "source": [
    "fruits = [\"apple\", \"banana\", \"cherry\"]\n",
    "\n",
    "for index, fruit in enumerate(fruits):\n",
    "    print(index, fruit)"
   ]
  }
 ],
 "metadata": {
  "kernelspec": {
   "display_name": "venv",
   "language": "python",
   "name": "python3"
  },
  "language_info": {
   "codemirror_mode": {
    "name": "ipython",
    "version": 3
   },
   "file_extension": ".py",
   "mimetype": "text/x-python",
   "name": "python",
   "nbconvert_exporter": "python",
   "pygments_lexer": "ipython3",
   "version": "3.12.3"
  }
 },
 "nbformat": 4,
 "nbformat_minor": 5
}
