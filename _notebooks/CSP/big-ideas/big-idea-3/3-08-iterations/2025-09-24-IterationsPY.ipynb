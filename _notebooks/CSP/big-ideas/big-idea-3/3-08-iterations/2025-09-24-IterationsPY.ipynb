{
 "cells": [
  {
   "cell_type": "markdown",
   "id": "6b485fb9",
   "metadata": {},
   "source": [
    "---\n",
    "layout: post\n",
    "title: Sprint 2 - Iterations (Python)\n",
    "description:  Iterations in Python\n",
    "toc: true\n",
    "breadcrumbs: True\n",
    "permalink: /csp/big-idea-3/IterationsPY/p3/Lesson\n",
    "---"
   ]
  },
  {
   "cell_type": "markdown",
   "id": "e5c692fa",
   "metadata": {},
   "source": [
    "\n",
    "# **Iterations in Python**\n",
    "## What are Iterations?\n",
    "\n",
    "Iteration means repeating a set of instructions multiple times.\n",
    "In Python, iteration is most often done with loops, which let us run the same block of code several times.\n",
    "\n",
    "There are two main kinds of loops:\n",
    "- ```for``` loops → iterate over items in a sequence (list, string, range, etc.)\n",
    "- ```while``` loops → keep repeating as long as a condition is ```True```\n",
    "\n",
    "\n",
    "## The ```For``` Loop\n",
    "\n",
    "A ```for``` loop goes through items in a sequence one by one."
   ]
  },
  {
   "cell_type": "code",
   "execution_count": 11,
   "id": "052f3627",
   "metadata": {},
   "outputs": [
    {
     "name": "stdout",
     "output_type": "stream",
     "text": [
      "apple\n",
      "banana\n",
      "cherry\n"
     ]
    }
   ],
   "source": [
    "# Example: Iterating through a list\n",
    "fruits = [\"apple\", \"banana\", \"cherry\"]\n",
    "\n",
    "for fruit in fruits:\n",
    "    print(fruit)"
   ]
  },
  {
   "cell_type": "markdown",
   "id": "f58a9c79",
   "metadata": {},
   "source": [
    "We can also iterate over numbers with ```range()```:"
   ]
  },
  {
   "cell_type": "code",
   "execution_count": 12,
   "id": "d493acca",
   "metadata": {},
   "outputs": [
    {
     "name": "stdout",
     "output_type": "stream",
     "text": [
      "0\n",
      "1\n",
      "2\n",
      "3\n",
      "4\n"
     ]
    }
   ],
   "source": [
    "for i in range(5):  # counts from 0 to 4\n",
    "    print(i)"
   ]
  },
  {
   "cell_type": "markdown",
   "id": "34087570",
   "metadata": {},
   "source": [
    "## The ```While``` Loop\n",
    "\n",
    "A ```while``` loop runs until its condition becomes ```False```."
   ]
  },
  {
   "cell_type": "code",
   "execution_count": 13,
   "id": "a3ff0408",
   "metadata": {},
   "outputs": [
    {
     "name": "stdout",
     "output_type": "stream",
     "text": [
      "Count is: 0\n",
      "Count is: 1\n",
      "Count is: 2\n",
      "Count is: 3\n",
      "Count is: 4\n"
     ]
    }
   ],
   "source": [
    "count = 0\n",
    "\n",
    "while count < 5:\n",
    "    print(\"Count is:\", count)\n",
    "    count += 1"
   ]
  },
  {
   "cell_type": "markdown",
   "id": "8021887d",
   "metadata": {},
   "source": [
    "### Loop Control Statements\n",
    "\n",
    "We can control loops using special keywords:\n",
    "- ```break``` → stop the loop completely\n",
    "- ```continue``` → skip to the next iteration\n",
    "- ```pass``` → do nothing (acts as a placeholder)\n",
    "\n",
    "\n",
    "## Nested Loops\n",
    "A loop inside another loop:"
   ]
  },
  {
   "cell_type": "code",
   "execution_count": 14,
   "id": "c8ae37d8",
   "metadata": {},
   "outputs": [
    {
     "name": "stdout",
     "output_type": "stream",
     "text": [
      "i=0, j=0\n",
      "i=0, j=1\n",
      "i=0, j=2\n",
      "i=1, j=0\n",
      "i=1, j=1\n",
      "i=1, j=2\n"
     ]
    }
   ],
   "source": [
    "for i in range(2):       # outer loop\n",
    "    for j in range(3):   # inner loop\n",
    "        print(f\"i={i}, j={j}\")"
   ]
  },
  {
   "cell_type": "markdown",
   "id": "5c9b7a53",
   "metadata": {},
   "source": [
    "### ```enumerate()``` for Indexed Iteration\n",
    "When looping over lists, we often need both the index and the item. ```enumerate()``` gives us both at the same time."
   ]
  },
  {
   "cell_type": "code",
   "execution_count": 15,
   "id": "da829620",
   "metadata": {},
   "outputs": [
    {
     "name": "stdout",
     "output_type": "stream",
     "text": [
      "0 apple\n",
      "1 banana\n",
      "2 cherry\n"
     ]
    }
   ],
   "source": [
    "fruits = [\"apple\", \"banana\", \"cherry\"]\n",
    "\n",
    "for index, fruit in enumerate(fruits):\n",
    "    print(index, fruit)"
   ]
  },
  {
   "cell_type": "markdown",
   "id": "cd142e0c",
   "metadata": {},
   "source": [
    "# Interactive Demo\n",
    "\n",
    "<html lang=\"en\">\n",
    "<head>\n",
    "  <meta charset=\"UTF-8\">\n",
    "  <title>Learn Iterations (Loops)</title>\n",
    "  <style>\n",
    "    body {\n",
    "      font-family: \"Segoe UI\", Tahoma, sans-serif;\n",
    "      margin: 20px;\n",
    "      background: #1e1e2f;\n",
    "      color: #e4e4e4;\n",
    "    }\n",
    "    h1 {\n",
    "      text-align: center;\n",
    "      color: #ffb347;\n",
    "    }\n",
    "    .section {\n",
    "      background: #2c2c3c;\n",
    "      padding: 20px;\n",
    "      margin: 20px 0;\n",
    "      border-radius: 10px;\n",
    "      box-shadow: 0 2px 10px rgba(0,0,0,0.5);\n",
    "    }\n",
    "    h2 {\n",
    "      color: #50fa7b;\n",
    "    }\n",
    "    button {\n",
    "      padding: 8px 15px;\n",
    "      margin-top: 10px;\n",
    "      border: none;\n",
    "      border-radius: 5px;\n",
    "      background: #ff7f50;\n",
    "      color: #fff;\n",
    "      font-weight: bold;\n",
    "      cursor: pointer;\n",
    "      transition: background 0.2s;\n",
    "    }\n",
    "    button:hover {\n",
    "      background: #ff5c1a;\n",
    "    }\n",
    "    input {\n",
    "      padding: 5px;\n",
    "      margin: 5px;\n",
    "      width: 70px;\n",
    "      border-radius: 5px;\n",
    "      border: 1px solid #555;\n",
    "      background: #1e1e2f;\n",
    "      color: #e4e4e4;\n",
    "      text-align: center;\n",
    "    }\n",
    "    #output-for, #output-while {\n",
    "      font-weight: bold;\n",
    "      color: #50fa7b;\n",
    "      margin-top: 12px;\n",
    "      white-space: pre-line;\n",
    "    }\n",
    "    code {\n",
    "      background: #444;\n",
    "      padding: 3px 6px;\n",
    "      border-radius: 4px;\n",
    "      color: #ffb347;\n",
    "    }\n",
    "  </style>\n",
    "</head>\n",
    "<body>\n",
    "\n",
    "  <h1>Learn Iterations (Loops)</h1>\n",
    "\n",
    "  <div class=\"section\">\n",
    "    <h2>About Iteration in Python</h2>\n",
    "    <p>Iteration means repeating a block of code multiple times. Python provides two main loop structures:</p>\n",
    "    <ul>\n",
    "      <li><code>for</code> loops – repeat a block for each item in a sequence or range.</li>\n",
    "      <li><code>while</code> loops – repeat a block as long as a condition is <code>True</code>.</li>\n",
    "    </ul>\n",
    "  </div>\n",
    "\n",
    "  <div class=\"section\">\n",
    "    <h2>For Loop Example (<code>for i in range(n)</code>)</h2>\n",
    "    <p>This loop prints numbers from <code>0</code> to <code>n-1</code>.</p>\n",
    "    <label>Enter n: <input type=\"number\" id=\"forN\" value=\"5\"></label>\n",
    "    <br>\n",
    "    <button onclick=\"demoForLoop()\">Run For Loop</button>\n",
    "    <div id=\"output-for\"></div>\n",
    "  </div>\n",
    "\n",
    "  <div class=\"section\">\n",
    "    <h2>While Loop Example (<code>while condition</code>)</h2>\n",
    "    <p>This loop keeps adding numbers until the sum exceeds a limit.</p>\n",
    "    <label>Limit: <input type=\"number\" id=\"whileLimit\" value=\"20\"></label>\n",
    "    <br>\n",
    "    <button onclick=\"demoWhileLoop()\">Run While Loop</button>\n",
    "    <div id=\"output-while\"></div>\n",
    "  </div>\n",
    "\n",
    "  <script>\n",
    "    function demoForLoop() {\n",
    "      const n = parseInt(document.getElementById(\"forN\").value);\n",
    "      let output = \"For loop from 0 to \" + (n-1) + \":\\n\";\n",
    "      for (let i = 0; i < n; i++) {\n",
    "        output += i + \" \";\n",
    "      }\n",
    "      document.getElementById(\"output-for\").innerText = output;\n",
    "    }\n",
    "\n",
    "    function demoWhileLoop() {\n",
    "      const limit = parseInt(document.getElementById(\"whileLimit\").value);\n",
    "      let sum = 0;\n",
    "      let i = 1;\n",
    "      let steps = \"While loop steps:\\n\";\n",
    "      while (sum <= limit) {\n",
    "        steps += \"i=\" + i + \", sum=\" + sum + \"\\n\";\n",
    "        sum += i;\n",
    "        i++;\n",
    "      }\n",
    "      steps += \"Loop ended: sum=\" + sum + \" (limit exceeded)\";\n",
    "      document.getElementById(\"output-while\").innerText = steps;\n",
    "    }\n",
    "  </script>\n",
    "\n",
    "</body>\n",
    "</html>\n"
   ]
  }
 ],
 "metadata": {
  "kernelspec": {
   "display_name": "venv",
   "language": "python",
   "name": "python3"
  },
  "language_info": {
   "codemirror_mode": {
    "name": "ipython",
    "version": 3
   },
   "file_extension": ".py",
   "mimetype": "text/x-python",
   "name": "python",
   "nbconvert_exporter": "python",
   "pygments_lexer": "ipython3",
   "version": "3.12.3"
  }
 },
 "nbformat": 4,
 "nbformat_minor": 5
}
