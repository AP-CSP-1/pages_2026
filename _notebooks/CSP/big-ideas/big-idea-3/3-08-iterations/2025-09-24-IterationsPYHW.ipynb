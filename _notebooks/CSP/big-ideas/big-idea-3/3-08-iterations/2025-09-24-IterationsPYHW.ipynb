{
 "cells": [
  {
   "cell_type": "markdown",
   "id": "b83fe8db",
   "metadata": {},
   "source": [
    "---\n",
    "layout: post\n",
    "title: Sprint 2 - Iterations (Python)\n",
    "description:  Iterations in Python\n",
    "toc: true\n",
    "breadcrumbs: True\n",
    "permalink: /csp/big-idea-3/IterationsPY/p3/Homework\n",
    "---"
   ]
  },
  {
   "cell_type": "markdown",
   "id": "0cd67879",
   "metadata": {},
   "source": [
    "# **Homework!**\n",
    "\n",
    "Lets try hacking a script! This is the popular \"FizzBuzz\" example. \n",
    "FizzBuzz is one of the most common coding interview questions for entry-level software jobs.\n",
    "\n",
    "It looks simple, but it tests essential skills:\n",
    "- Can you write a loop correctly?\n",
    "- Do you know how to use ```if```/```elif```/```else``` conditions?\n",
    "- Can you apply logic with the modulo (%) operator?\n",
    "\n",
    "Employers like it because it quickly shows if a candidate can think logically and translate a problem into working code.\n",
    "\n",
    "Why Interviewers Ask FizzBuzz:\n",
    "- Weed out resumes vs. reality: Some people list “Python” on their resume but struggle to code basic loops.\n",
    "- Checks fundamentals: Loops, conditionals, operators.\n",
    "- Easy to explain: No complicated setup needed.\n",
    "\n",
    "Fun Fact: In the early 2000s, FizzBuzz gained popularity after several companies reported that many candidates couldn’t solve it — even with a degree in computer science!"
   ]
  },
  {
   "cell_type": "code",
   "execution_count": null,
   "id": "acd02f8c",
   "metadata": {},
   "outputs": [],
   "source": [
    "# Print numbers from 1 to 20\n",
    "# If divisible by 3 → print \"Fizz\"\n",
    "# If divisible by 5 → print \"Buzz\"\n",
    "# If divisible by both → print \"FizzBuzz\"\n",
    "\n",
    "for num in range(1, 21):\n",
    "    if num % 3 == 0 and num % 5 == 0:\n",
    "        print(\"FizzBuzz\")\n",
    "    elif num % 3 == 0:\n",
    "        print(\"Fizz\")\n",
    "    elif num % 5 == 0:\n",
    "        print(\"Buzz\")\n",
    "    else:\n",
    "        print(num)\n"
   ]
  },
  {
   "cell_type": "markdown",
   "id": "29dacc27",
   "metadata": {},
   "source": [
    "### **Your Tasks (Pick 2)**:\n",
    "1. **Loop with Step Size**:\n",
    "Modify the loop so it doesn’t always go up by 1. For example, make it count by 2s, 3s, or another step size of your choice. Show how the FizzBuzz logic still works when skipping numbers.\n",
    "\n",
    "2. **Reverse a Loop**:\n",
    "Change the loop so it prints numbers from 20 down to 1 instead of 1 up to 20. Keep the FizzBuzz logic the same, but make sure it still works correctly when looping backwards.\n",
    "\n",
    "3. **Loop with ```else```**:\n",
    "Add an else block to the loop. In Python, the ```else``` after a loop runs once when the loop finishes normally (not when broken).\n",
    "\n",
    "4. **One-Line Loops (List Comprehensions)**:\n",
    "Rewrite the FizzBuzz loop using a list comprehension instead of multiple if/else statements. The output can be stored in a list and then printed all at once."
   ]
  },
  {
   "cell_type": "code",
   "execution_count": null,
   "id": "ca50fdae",
   "metadata": {},
   "outputs": [],
   "source": [
    "# **Task 1**"
   ]
  },
  {
   "cell_type": "code",
   "execution_count": null,
   "id": "3d7434d9",
   "metadata": {},
   "outputs": [],
   "source": [
    "# **Task 2**"
   ]
  }
 ],
 "metadata": {
  "language_info": {
   "name": "python"
  }
 },
 "nbformat": 4,
 "nbformat_minor": 5
}
