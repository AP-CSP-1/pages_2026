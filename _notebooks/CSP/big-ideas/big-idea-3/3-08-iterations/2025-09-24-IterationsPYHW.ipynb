{
 "cells": [
  {
   "cell_type": "markdown",
   "id": "b83fe8db",
   "metadata": {},
   "source": [
    "---\n",
    "layout: post\n",
    "title: Sprint 2 - Iterations (Python)\n",
    "description:  Iterations in Python\n",
    "toc: true\n",
    "breadcrumbs: True\n",
    "permalink: /csp/big-idea-3/IterationsPY/p3/Homework\n",
    "---"
   ]
  },
  {
   "cell_type": "markdown",
   "id": "0cd67879",
   "metadata": {},
   "source": [
    "# Homework!\n",
    "\n",
    "Lets try hacking a script! This is the popular \"FizzBuzz\" example. \n",
    "FizzBuzz is one of the most common coding interview questions for entry-level software jobs.\n",
    "\n",
    "It looks simple, but it tests essential skills:\n",
    "- Can you write a loop correctly?\n",
    "- Do you know how to use ```if```/```elif```/```else``` conditions?\n",
    "- Can you apply logic with the modulo (%) operator?\n",
    "\n",
    "Employers like it because it quickly shows if a candidate can think logically and translate a problem into working code.\n",
    "\n",
    "Why Interviewers Ask FizzBuzz:\n",
    "- Weed out resumes vs. reality: Some people list “Python” on their resume but struggle to code basic loops.\n",
    "- Checks fundamentals: Loops, conditionals, operators.\n",
    "- Easy to explain: No complicated setup needed.\n",
    "\n",
    "Fun Fact: In the early 2000s, FizzBuzz gained popularity after several companies reported that many candidates couldn’t solve it — even with a degree in computer science!"
   ]
  },
  {
   "cell_type": "code",
   "execution_count": null,
   "id": "acd02f8c",
   "metadata": {},
   "outputs": [],
   "source": [
    "# Print numbers from 1 to 20\n",
    "# If divisible by 3 → print \"Fizz\"\n",
    "# If divisible by 5 → print \"Buzz\"\n",
    "# If divisible by both → print \"FizzBuzz\"\n",
    "\n",
    "for num in range(1, 21):\n",
    "    if num % 3 == 0 and num % 5 == 0:\n",
    "        print(\"FizzBuzz\")\n",
    "    elif num % 3 == 0:\n",
    "        print(\"Fizz\")\n",
    "    elif num % 5 == 0:\n",
    "        print(\"Buzz\")\n",
    "    else:\n",
    "        print(num)\n"
   ]
  },
  {
   "cell_type": "markdown",
   "id": "29dacc27",
   "metadata": {},
   "source": [
    "### Your Task:\n",
    "1. Try to Loop with Step Size\n",
    "2. Make a Reverse a Loop\n",
    "3. Loop with ```else```\n",
    "4. One-Line Loops (List Comprehensions)"
   ]
  }
 ],
 "metadata": {
  "language_info": {
   "name": "python"
  }
 },
 "nbformat": 4,
 "nbformat_minor": 5
}
