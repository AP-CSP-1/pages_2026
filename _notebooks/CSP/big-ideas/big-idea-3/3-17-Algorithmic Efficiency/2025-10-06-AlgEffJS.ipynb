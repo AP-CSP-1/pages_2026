{
 "cells": [
  {
   "cell_type": "markdown",
   "id": "01aa5879",
   "metadata": {},
   "source": [
    "---\n",
    "layout: post\n",
    "title: Sprint 2 - Algorithmic Efficiency (Javascript)\n",
    "description: Lesson for the Algorithmic Effiency in Javascript \n",
    "toc: true\n",
    "breadcrumbs: True\n",
    "authors: Akhil K, Shayan B\n",
    "permalink: /csp/big-idea-3/Algorithmic_EfficiencyJS/p3/Lesson\n",
    "---"
   ]
  }
 ],
 "metadata": {
  "language_info": {
   "name": "python"
  }
 },
 "nbformat": 4,
 "nbformat_minor": 5
}
