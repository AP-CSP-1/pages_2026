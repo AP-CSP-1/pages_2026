{
 "cells": [
  {
   "cell_type": "markdown",
   "id": "397c6eb6",
   "metadata": {},
   "source": [
    "---\n",
    "layout: post\n",
    "title: Sprint 2 - Algorithmic Efficiency (Python)\n",
    "description: Lesson for the Algorithmic Effiency in Python \n",
    "toc: true\n",
    "breadcrumbs: True\n",
    "authors: Rudra J, Samarth V\n",
    "permalink: /csp/big-idea-3/Algorithmic_EfficiencyPY/p3/Lesson\n",
    "---"
   ]
  },
  {
   "cell_type": "markdown",
   "id": "22454730",
   "metadata": {},
   "source": [
    "### Algorithmic efficiency refers to how well an algorithm uses computational resources, primarily time and memory. Writing efficient code is crucial for handling large datasets and creating responsive applications.\n"
   ]
  },
  {
   "cell_type": "markdown",
   "id": "ab52dc7a",
   "metadata": {},
   "source": [
    "# Big O Notation\n",
    "Big O notation describes how an algorithm's runtime or space requirements grow as the input size increases. It focuses on the worst-case scenario.\n",
    "Common time complexities from fastest to slowest:\n",
    "\n",
    "O(1) - Constant time\n",
    "O(log n) - Logarithmic time\n",
    "O(n) - Linear time\n",
    "O(n log n) - Linearithmic time\n",
    "O(n²) - Quadratic time\n",
    "O(2ⁿ) - Exponential time"
   ]
  },
  {
   "cell_type": "markdown",
   "id": "133dd213",
   "metadata": {},
   "source": [
    "### Example 1: O(1) - Constant Time\n",
    "Operations that take the same time regardless of input size."
   ]
  },
  {
   "cell_type": "code",
   "execution_count": null,
   "id": "c3a6fac5",
   "metadata": {},
   "outputs": [],
   "source": [
    "def get_first_element(my_list):\n",
    "    \"\"\"O(1) - Always takes the same time\"\"\"\n",
    "    if len(my_list) > 0:\n",
    "        return my_list[0]\n",
    "    return None\n",
    "\n",
    "# Test it\n",
    "numbers = [1, 2, 3, 4, 5]\n",
    "print(get_first_element(numbers))\n",
    "\n",
    "large_list = list(range(1000000))\n",
    "print(get_first_element(large_list))"
   ]
  },
  {
   "cell_type": "markdown",
   "id": "52571735",
   "metadata": {},
   "source": [
    "🎯 YOUR TURN: Test O(1) Complexity"
   ]
  },
  {
   "cell_type": "code",
   "execution_count": null,
   "id": "bdd824b9",
   "metadata": {},
   "outputs": [],
   "source": [
    "# Create your own lists of different sizes and test the function\n",
    "# Does it take longer with bigger lists?\n",
    "\n",
    "my_small_list = []  # Add some numbers here\n",
    "my_large_list = []  # Add lots of numbers here\n",
    "\n",
    "# Uncomment and test:\n",
    "# print(get_first_element(my_small_list))\n",
    "# print(get_first_element(my_large_list))"
   ]
  },
  {
   "cell_type": "markdown",
   "id": "a4c3a55f",
   "metadata": {},
   "source": [
    "### Example 2: O(n) - Linear Time\n",
    "The time grows proportionally with input size."
   ]
  },
  {
   "cell_type": "code",
   "execution_count": null,
   "id": "a086b07d",
   "metadata": {},
   "outputs": [],
   "source": [
    "def find_max(numbers):\n",
    "    \"\"\"O(n) - Must check every element\"\"\"\n",
    "    if not numbers:\n",
    "        return None\n",
    "    \n",
    "    max_val = numbers[0]\n",
    "    for num in numbers:\n",
    "        if num > max_val:\n",
    "            max_val = num\n",
    "    return max_val\n",
    "\n",
    "# Test it\n",
    "test_list = [3, 7, 2, 9, 1, 5]\n",
    "print(f\"Max value: {find_max(test_list)}\")"
   ]
  },
  {
   "cell_type": "markdown",
   "id": "aff09292",
   "metadata": {},
   "source": [
    "🎯 YOUR TURN: Practice with find_max"
   ]
  },
  {
   "cell_type": "code",
   "execution_count": null,
   "id": "ab0df178",
   "metadata": {},
   "outputs": [],
   "source": [
    "# Create 3 different lists and find their maximum values\n",
    "list_1 = []  # Add your numbers\n",
    "list_2 = []  # Add your numbers\n",
    "list_3 = []  # Add your numbers\n",
    "\n",
    "# Test your lists:\n",
    "# print(f\"Max of list 1: {find_max(list_1)}\")\n",
    "# print(f\"Max of list 2: {find_max(list_2)}\")\n",
    "# print(f\"Max of list 3: {find_max(list_3)}\")"
   ]
  },
  {
   "cell_type": "markdown",
   "id": "4e23a79f",
   "metadata": {},
   "source": [
    "🎯 INTERACTIVE: Generate Random Lists"
   ]
  },
  {
   "cell_type": "code",
   "execution_count": null,
   "id": "e82c779c",
   "metadata": {},
   "outputs": [],
   "source": [
    "import random\n",
    "\n",
    "# Modify these parameters to create different test lists\n",
    "list_size = int(input(\"Enter list size: \"))\n",
    "min_value = int(input(\"Enter minimum value: \"))\n",
    "max_value = int(input(\"Enter maximum value: \"))\n",
    "\n",
    "random_list = [random.randint(min_value, max_value) for _ in range(list_size)]\n",
    "\n",
    "print(f\"Generated list: {random_list[:10]}...\")  # Show first 10\n",
    "print(f\"Maximum value: {find_max(random_list)}\")"
   ]
  },
  {
   "cell_type": "markdown",
   "id": "516d70fc",
   "metadata": {},
   "source": [
    "### Example 3: O(n²) - Quadratic Time\n",
    "Nested loops often result in quadratic time complexity."
   ]
  },
  {
   "cell_type": "code",
   "execution_count": null,
   "id": "b20dd4fe",
   "metadata": {},
   "outputs": [],
   "source": [
    "def find_duplicates_slow(numbers):\n",
    "    \"\"\"O(n²) - Nested loop checks every pair\"\"\"\n",
    "    duplicates = []\n",
    "    for i in range(len(numbers)):\n",
    "        for j in range(i + 1, len(numbers)):\n",
    "            if numbers[i] == numbers[j] and numbers[i] not in duplicates:\n",
    "                duplicates.append(numbers[i])\n",
    "    return duplicates\n",
    "\n",
    "# Test it\n",
    "test_list = [1, 2, 3, 2, 4, 5, 3, 6]\n",
    "print(f\"Duplicates (slow): {find_duplicates_slow(test_list)}\")"
   ]
  },
  {
   "cell_type": "markdown",
   "id": "a819b9e5",
   "metadata": {},
   "source": [
    "### Optimization: O(n) vs O(n²)\n",
    "Let's optimize the duplicate finder using a set (hash table)."
   ]
  },
  {
   "cell_type": "code",
   "execution_count": null,
   "id": "6f317106",
   "metadata": {},
   "outputs": [],
   "source": [
    "def find_duplicates_fast(numbers):\n",
    "    \"\"\"O(n) - Single pass with set\"\"\"\n",
    "    seen = set()\n",
    "    duplicates = set()\n",
    "    \n",
    "    for num in numbers:\n",
    "        if num in seen:\n",
    "            duplicates.add(num)\n",
    "        else:\n",
    "            seen.add(num)\n",
    "    \n",
    "    return list(duplicates)\n",
    "\n",
    "# Test both versions\n",
    "test_list = [1, 2, 3, 2, 4, 5, 3, 6]\n",
    "print(f\"Duplicates (slow): {find_duplicates_slow(test_list)}\")\n",
    "print(f\"Duplicates (fast): {find_duplicates_fast(test_list)}\")"
   ]
  }
 ],
 "metadata": {
  "language_info": {
   "name": "python"
  }
 },
 "nbformat": 4,
 "nbformat_minor": 5
}
