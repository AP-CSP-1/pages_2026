{
 "cells": [
  {
   "cell_type": "markdown",
   "id": "b0eaceab",
   "metadata": {},
   "source": [
    "---\n",
    "title: Collections\n",
    "comments: true\n",
    "layout: post\n",
    "author: John Mortensen\n",
    "type: ccc\n",
    "permalink: /DTMcollectible\n",
    "courses: { csa: {week: 25} }\n",
    "---"
   ]
  },
  {
   "cell_type": "markdown",
   "id": "715a0505",
   "metadata": {},
   "source": [
    "# Collectibles\n",
    "\n",
    "## Introduction\n",
    "\n",
    "In Computer Science, collections refer to groups of related data items stored in a structure that allows efficient access, organization, and manipulation. Collections are fundamental to software development and are used in everything from games and databases to search engines and machine learning."
   ]
  },
  {
   "cell_type": "markdown",
   "id": "af93caaa",
   "metadata": {},
   "source": [
    "## Learning Objectives"
   ]
  },
  {
   "cell_type": "markdown",
   "id": "dd58cde1",
   "metadata": {},
   "source": [
    "\n",
    "- Understand how to represent data using Java classes  \n",
    "- Apply ArrayLists, HashMaps, and loops to manage collections  \n",
    "- Practice object-oriented programming: constructors, encapsulation, and methods  \n",
    "- Build a basic text-based inventory system for collectibles  \n"
   ]
  },
  {
   "cell_type": "markdown",
   "id": "43a97f96",
   "metadata": {},
   "source": [
    "⸻\n",
    "\n",
    "## What is a Collection?\n",
    "\n",
    "A collection is a data structure that holds multiple elements, typically of the same type. Collections provide standard methods to add, remove, search, and iterate over elements.\n",
    "\n",
    "## Common collection types:\n",
    "- List (Array) – ordered collection of elements\n",
    "- Set – unordered collection of unique elements\n",
    "- Dictionary (Map, HashMap) – key-value pairs for fast lookup\n",
    "- Stack & Queue – collections with specific access patterns (LIFO, FIFO)\n",
    "\n",
    "⸻\n",
    "\n",
    "## Why Use Collections?\n",
    "\n",
    "Collections are used to:\n",
    "- Organize data logically (e.g., storing user profiles, game objects, or search history)\n",
    "- Perform batch operations (e.g., filtering, sorting, or searching)\n",
    "- Reuse common algorithms with different data types\n",
    "\n",
    "⸻\n",
    "\n",
    "## Collection Types and Their Use Cases\n",
    "\n",
    "1. List (Array)\n",
    "- Maintains order.\n",
    "- Allows duplicates.\n",
    "- Great for sequences, history logs, or indexed data.\n",
    "\n",
    "fruits = [\"apple\", \"banana\", \"cherry\"]\n",
    "fruits.append(\"date\")\n",
    "\n",
    "2. Set\n",
    "- Unordered and contains only unique items.\n",
    "- Useful for checking membership and removing duplicates.\n",
    "\n",
    "unique_tags = {\"AI\", \"Python\", \"Data\"}\n",
    "unique_tags.add(\"Python\")  # No effect, already present\n",
    "\n",
    "3. Dictionary (Hash Map)\n",
    "- Maps keys to values.\n",
    "- Fast retrieval by key.\n",
    "- Useful for objects, configurations, or lookup tables.\n",
    "\n",
    "user_profile = {\"name\": \"Alice\", \"score\": 1200}\n",
    "user_profile[\"level\"] = 5\n",
    "\n",
    "4. Stack\n",
    "- LIFO: Last In, First Out.\n",
    "- Used in undo systems, expression parsing, function calls.\n",
    "\n",
    "stack = []\n",
    "stack.append(\"action1\")\n",
    "last_action = stack.pop()\n",
    "\n",
    "5. Queue\n",
    "- FIFO: First In, First Out.\n",
    "- Used in task scheduling, print queues, or event handling.\n",
    "\n",
    "from collections import deque\n",
    "queue = deque([\"task1\", \"task2\"])\n",
    "queue.append(\"task3\")\n",
    "queue.popleft()  # Removes \"task1\"\n",
    "\n",
    "\n",
    "<img src=\"/portfolio_2025/images/LIFO.png\">\n"
   ]
  },
  {
   "cell_type": "markdown",
   "id": "dd36f23e",
   "metadata": {},
   "source": [
    "<img src=\"/portfolio_2025/images/ttpic.png\">\n"
   ]
  },
  {
   "cell_type": "markdown",
   "id": "1b80d67f",
   "metadata": {},
   "source": [
    "## Part 1: Define a Collectible Class"
   ]
  },
  {
   "cell_type": "code",
   "execution_count": 9,
   "id": "2ab2571b",
   "metadata": {
    "vscode": {
     "languageId": "java"
    }
   },
   "outputs": [
    {
     "name": "stdout",
     "output_type": "stream",
     "text": [
      "Phoenix Flame [Fire] (Rarity: 5)\n",
      "Aqua Sprite [Water] (Rarity: 3)\n",
      "Blazing Ember [Fire] (Rarity: 2)\n",
      "Number of Fire-type items: 2\n"
     ]
    }
   ],
   "source": [
    "public class Collectible {\n",
    "    private String name;\n",
    "    private String type;\n",
    "    private int rarity; // 1 = Common, 5 = Legendary\n",
    "\n",
    "    public Collectible(String name, String type, int rarity) {\n",
    "        this.name = name;\n",
    "        this.type = type;\n",
    "        this.rarity = rarity;\n",
    "    }\n",
    "\n",
    "    public String getName() { return name; }\n",
    "    public String getType() { return type; }\n",
    "    public int getRarity() { return rarity; }\n",
    "\n",
    "    public String toString() {\n",
    "        return name + \" [\" + type + \"] (Rarity: \" + rarity + \")\";\n",
    "    }\n",
    "}\n",
    "Main.main(null)"
   ]
  },
  {
   "cell_type": "markdown",
   "id": "2a325ceb",
   "metadata": {},
   "source": [
    "Explanation:"
   ]
  },
  {
   "cell_type": "markdown",
   "id": "238e181d",
   "metadata": {},
   "source": [
    "## Part 2: Create an Inventory Class"
   ]
  },
  {
   "cell_type": "code",
   "execution_count": 10,
   "id": "11f52a4c",
   "metadata": {
    "vscode": {
     "languageId": "java"
    }
   },
   "outputs": [
    {
     "name": "stdout",
     "output_type": "stream",
     "text": [
      "Phoenix Flame [Fire] (Rarity: 5)\n",
      "Aqua Sprite [Water] (Rarity: 3)\n",
      "Blazing Ember [Fire] (Rarity: 2)\n",
      "Number of Fire-type items: 2\n"
     ]
    }
   ],
   "source": [
    "import java.util.ArrayList;\n",
    "\n",
    "public class Inventory {\n",
    "    private ArrayList<Collectible> items;\n",
    "\n",
    "    public Inventory() {\n",
    "        items = new ArrayList<>();\n",
    "    }\n",
    "\n",
    "    public void addItem(Collectible c) {\n",
    "        items.add(c);\n",
    "    }\n",
    "\n",
    "    public void showInventory() {\n",
    "        for (Collectible c : items) {\n",
    "            System.out.println(c);\n",
    "        }\n",
    "    }\n",
    "\n",
    "    public int countByType(String type) {\n",
    "        int count = 0;\n",
    "        for (Collectible c : items) {\n",
    "            if (c.getType().equalsIgnoreCase(type)) {\n",
    "                count++;\n",
    "            }\n",
    "        }\n",
    "        return count;\n",
    "    }\n",
    "}\n",
    "Main.main(null)"
   ]
  },
  {
   "cell_type": "markdown",
   "id": "e2ef5ed1",
   "metadata": {},
   "source": [
    "Explanation:\n"
   ]
  },
  {
   "cell_type": "markdown",
   "id": "2cc6e58a",
   "metadata": {},
   "source": [
    "## Part 3: Main Program Logic"
   ]
  },
  {
   "cell_type": "code",
   "execution_count": 6,
   "id": "a29dd348",
   "metadata": {
    "vscode": {
     "languageId": "java"
    }
   },
   "outputs": [
    {
     "name": "stdout",
     "output_type": "stream",
     "text": [
      "Phoenix Flame [Fire] (Rarity: 5)\n",
      "Aqua Sprite [Water] (Rarity: 3)\n",
      "Blazing Ember [Fire] (Rarity: 2)\n",
      "Number of Fire-type items: 2\n"
     ]
    }
   ],
   "source": [
    "public class Main {\n",
    "    public static void main(String[] args) {\n",
    "        Inventory myInventory = new Inventory();\n",
    "\n",
    "        Collectible card1 = new Collectible(\"Phoenix Flame\", \"Fire\", 5);\n",
    "        Collectible card2 = new Collectible(\"Aqua Sprite\", \"Water\", 3);\n",
    "        Collectible card3 = new Collectible(\"Blazing Ember\", \"Fire\", 2);\n",
    "\n",
    "        myInventory.addItem(card1);\n",
    "        myInventory.addItem(card2);\n",
    "        myInventory.addItem(card3);\n",
    "\n",
    "        myInventory.showInventory();\n",
    "\n",
    "        System.out.println(\"Number of Fire-type items: \" + myInventory.countByType(\"Fire\"));\n",
    "    }\n",
    "}\n",
    "Main.main(null)"
   ]
  },
  {
   "cell_type": "markdown",
   "id": "21876cb2",
   "metadata": {},
   "source": [
    "Explanation:"
   ]
  },
  {
   "cell_type": "markdown",
   "id": "737a886e",
   "metadata": {},
   "source": [
    "## Homework:\n",
    "\n",
    "⸻\n",
    "\n",
    "List Task:\n",
    "Modify your my_collection list to support bulk adding and removal of items using another list.\n",
    "\t•\tCreate a method that takes a list of new items and adds them all to my_collection.\n",
    "\t•\tCreate another method that removes all items in a given list from my_collection.\n",
    "\n",
    "\n",
    "Dictionary Task:\n",
    "Modify your item_details dictionary to support value updates and rarity-based filters.\n",
    "\t•\tAdd a method to update an item’s value by a percentage (e.g., increase all epic items by 10%).\n",
    "\t•\tCreate a method that filters and returns all items of a given rarity.\n",
    "\n",
    "\n",
    "Set Task:\n",
    "Add set-based tracking of items.\n",
    "\t•\tUse a traded_items set and a duplicate_items set.\n",
    "\t•\tAdd a method that checks if any new item being added is already in the collection, and if so, log it in duplicate_items.\n",
    "\t•\tEnsure no duplicates are added to the main list.\n",
    "\n",
    "\n",
    "** Print Method: **\n",
    "Create a method to display the full collection, showing:\n",
    "\t•\tItem name\n",
    "\t•\tRarity\n",
    "\t•\tValue\n",
    "Format the output cleanly (like a table or aligned print).\n",
    "\n",
    "⸻\n",
    "\n",
    "Bonus Challenge:\n",
    "Create a method that uses a stack to simulate nested inventory folders (e.g., Weapon > Magic > Fire > Scroll).\n",
    "\t•\tTrack your current folder path with a stack.\n",
    "\t•\tAllow going “deeper” and “back up” in the folder structure with push/pop.\n",
    "\t•\tPrint the full current path using the stack.\n",
    "\n",
    "⸻\n",
    "\n",
    "Sample Code Snippet:"
   ]
  },
  {
   "cell_type": "code",
   "execution_count": 11,
   "id": "498469e8",
   "metadata": {
    "vscode": {
     "languageId": "java"
    }
   },
   "outputs": [
    {
     "name": "stdout",
     "output_type": "stream",
     "text": [
      "Weapons > Magic > Fire\n",
      "Weapons > Magic\n"
     ]
    }
   ],
   "source": [
    "Stack<String> folderStack = new Stack<>();\n",
    "folderStack.push(\"Weapons\");\n",
    "folderStack.push(\"Magic\");\n",
    "folderStack.push(\"Fire\");\n",
    "\n",
    "System.out.println(String.join(\" > \", folderStack));  // Output: Weapons > Magic > Fire\n",
    "\n",
    "folderStack.pop(); // back out of Fire\n",
    "System.out.println(String.join(\" > \", folderStack));  // Output: Weapons > Magic"
   ]
  }
 ],
 "metadata": {
  "kernelspec": {
   "display_name": "Java",
   "language": "java",
   "name": "java"
  },
  "language_info": {
   "codemirror_mode": "java",
   "file_extension": ".jshell",
   "mimetype": "text/x-java-source",
   "name": "Java",
   "pygments_lexer": "java",
   "version": "17.0.12+7"
  }
 },
 "nbformat": 4,
 "nbformat_minor": 5
}
