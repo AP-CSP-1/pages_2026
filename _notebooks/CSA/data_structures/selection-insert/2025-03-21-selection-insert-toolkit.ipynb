{
 "cells": [
  {
   "cell_type": "markdown",
   "metadata": {},
   "source": [
    "---\n",
    "title: Selection, Insert, & Big O\n",
    "comments: true\n",
    "layout: post\n",
    "author: Anusha Khobare, Eshaan Kumar, Matthew Wang\n",
    "courses: { csa: {week: 26} }\n",
    "permalink: data_structures/selection-insert/toolkit\n",
    "---"
   ]
  },
  {
   "cell_type": "markdown",
   "metadata": {},
   "source": [
    "# Selection Sort\n",
    "## Sorts arrays by repeatedly finding the minimum element from the unsorted part and putting it at the beginning.\n",
    "\n",
    "### Step 1: Array arr with N size  \n",
    "`int[] arr = {10, 30, 15, 5};`\n",
    "\n",
    "### Step 2: Initialise i = 0  \n",
    "### Step 3: If(i < N-1), Check for any element arr[j] where j > i and arr[j] < arr[i], then Swap arr[i] and arr[j]  \n",
    "- i = 0, assume arr[0] = 10 is the minimum  \n",
    "  - 10 < 30, 10 remains the minimum  \n",
    "  - 10 < 15, 10 remains the minimum  \n",
    "  - 10 > 5, so 5 is the new minimum  \n",
    "  Swap 10 and 5 -> {5, 30, 15, 10}  \n",
    "  {5} is considered sorted\n",
    "\n",
    "- i = 1, assume arr[1] = 30 is the minimum  \n",
    "  - 30 > 15, minimum value = 15  \n",
    "  - 15 > 10, minimum value = 10, no more values  \n",
    "  Swap arr[1] with arr[3]  \n",
    "  New array is {5, 10, 15, 30}  \n",
    "  {5, 10} is considered sorted  \n",
    "  {15, 30} is unsorted\n",
    "\n",
    "- i = 2, assume arr[2] = 15 is the minimum  \n",
    "  - 15 < 30, so the array is sorted  \n",
    "  Fully sorted array = {5, 10, 15, 30}\n",
    "\n",
    "### Step 4: i = i + 1 and Goto Step 3  \n",
    "### Step 5: Exit  \n",
    "## Fully sorted array = {5, 10, 15, 30}  \n",
    "# Code Example (GfG)"
   ]
  },
  {
   "cell_type": "code",
   "execution_count": 7,
   "metadata": {
    "vscode": {
     "languageId": "java"
    }
   },
   "outputs": [
    {
     "name": "stdout",
     "output_type": "stream",
     "text": [
      "Original array: 64 25 12 22 11 \n",
      "11 25 12 22 64 \n",
      "11 12 25 22 64 \n",
      "11 12 22 25 64 \n",
      "11 12 22 25 64 \n",
      "Sorted array: 11 12 22 25 64 \n"
     ]
    }
   ],
   "source": [
    "import java.util.Arrays;\n",
    "\n",
    "class GfG {\n",
    "\n",
    "    static void selectionSort(int[] arr){\n",
    "        int n = arr.length;\n",
    "        for (int i = 0; i < n - 1; i++) {\n",
    "          \n",
    "            // Assume the current position holds\n",
    "            // the minimum element\n",
    "            int min_idx = i;\n",
    "\n",
    "            // Iterate through the unsorted portion\n",
    "            // to find the actual minimum\n",
    "            for (int j = i + 1; j < n; j++) {\n",
    "                if (arr[j] < arr[min_idx]) {\n",
    "                  \n",
    "                    // Update min_idx if a smaller element\n",
    "                    // is found\n",
    "                    min_idx = j;\n",
    "                }\n",
    "            }\n",
    "\n",
    "            // Move minimum element to its\n",
    "            // correct position\n",
    "            int temp = arr[i];\n",
    "            arr[i] = arr[min_idx];\n",
    "            arr[min_idx] = temp;\n",
    "            printArray(arr);           \n",
    "        }\n",
    "    }\n",
    "\n",
    "    static void printArray(int[] arr){\n",
    "        for (int val : arr) {\n",
    "            System.out.print(val + \" \");\n",
    "        }\n",
    "        System.out.println();\n",
    "    }\n",
    "  \n",
    "    public static void main(String[] args){\n",
    "        int[] arr = { 64, 25, 12, 22, 11 };\n",
    "\n",
    "        System.out.print(\"Original array: \");\n",
    "        printArray(arr);\n",
    "\n",
    "        selectionSort(arr);\n",
    "\n",
    "        System.out.print(\"Sorted array: \");\n",
    "        printArray(arr);\n",
    "    }\n",
    "}\n",
    "\n",
    "GfG.main(new String[]{});"
   ]
  },
  {
   "cell_type": "markdown",
   "metadata": {},
   "source": [
    "# Insertion Sort\n",
    "## Sorts arrays by repeatedly taking an element from the unsorted part and inserting it into the correct position in the sorted part.\n",
    "\n",
    "### Step 1: Array arr with N size  \n",
    "`int[] arr = {10, 30, 15, 5};`\n",
    "\n",
    "### Step 2: Initialise i = 1  \n",
    "### Step 3: If(i < N), Check for the position to insert arr[i] in the sorted part (arr[0] to arr[i-1])  \n",
    "- i = 1, assume arr[1] = 30 is the element to be inserted.  \n",
    "  - Compare arr[1] with arr[0] (10): 30 > 10, no shift needed.  \n",
    "  Sorted array: {10, 30}  \n",
    "\n",
    "- i = 2, assume arr[2] = 15 is the element to be inserted.  \n",
    "  - Compare arr[2] with arr[1] (30): 15 < 30, so shift arr[1] to the right (arr[1] = 30).  \n",
    "  - Now compare arr[2] with arr[0] (10): 15 > 10, insert 15 after 10.  \n",
    "  New array: {10, 15, 30, 5}  \n",
    "  {10, 15} is considered sorted.  \n",
    "\n",
    "- i = 3, assume arr[3] = 5 is the element to be inserted.  \n",
    "  - Compare arr[3] with arr[2] (30): 5 < 30, so shift arr[2] to the right (arr[2] = 30).  \n",
    "  - Now compare arr[3] with arr[1] (15): 5 < 15, shift arr[1] to the right (arr[1] = 15).  \n",
    "  - Now compare arr[3] with arr[0] (10): 5 < 10, shift arr[0] to the right (arr[0] = 10).  \n",
    "  Insert 5 at arr[0].  \n",
    "  New array: {5, 10, 15, 30}  \n",
    "  {5, 10, 15} is considered sorted.\n",
    "\n",
    "### Step 4: i = i + 1 and Goto Step 3  \n",
    "### Step 5: Exit  \n",
    "## Fully sorted array = {5, 10, 15, 30}  \n",
    "# Code Example (GfG)"
   ]
  },
  {
   "cell_type": "code",
   "execution_count": 11,
   "metadata": {
    "vscode": {
     "languageId": "java"
    }
   },
   "outputs": [
    {
     "name": "stdout",
     "output_type": "stream",
     "text": [
      "11 12 13 5 6 \n",
      "11 12 13 5 6 \n",
      "5 11 12 13 6 \n",
      "5 6 11 12 13 \n",
      "5 6 11 12 13 \n"
     ]
    }
   ],
   "source": [
    "public class InsertionSort {\n",
    "    /* Function to sort array using insertion sort */\n",
    "    void sort(int arr[])\n",
    "    {\n",
    "        int n = arr.length;\n",
    "        for (int i = 1; i < n; ++i) {\n",
    "            int key = arr[i];\n",
    "            int j = i - 1;\n",
    "\n",
    "            /* Move elements of arr[0..i-1], that are\n",
    "               greater than key, to one position ahead\n",
    "               of their current position */\n",
    "            while (j >= 0 && arr[j] > key) {\n",
    "                arr[j + 1] = arr[j];\n",
    "                j = j - 1;\n",
    "            }\n",
    "            arr[j + 1] = key;\n",
    "            printArray(arr);\n",
    "        }\n",
    "    }\n",
    "\n",
    "    /* A utility function to print array of size n */\n",
    "    static void printArray(int arr[])\n",
    "    {\n",
    "        int n = arr.length;\n",
    "        for (int i = 0; i < n; ++i)\n",
    "            System.out.print(arr[i] + \" \");\n",
    "\n",
    "        System.out.println();\n",
    "    }\n",
    "\n",
    "    // Driver method\n",
    "    public static void main(String args[])\n",
    "    {\n",
    "        int arr[] = { 12, 11, 13, 5, 6 };\n",
    "\n",
    "        InsertionSort ob = new InsertionSort();\n",
    "        ob.sort(arr);\n",
    "\n",
    "        printArray(arr);\n",
    "    }\n",
    "}\n",
    "InsertionSort.main(new String[]{});"
   ]
  },
  {
   "cell_type": "markdown",
   "metadata": {},
   "source": [
    "# Homework: Write your own:\n",
    "a. Selection sort, and sort an array in **descending** order\n",
    "b. Insertion sort, and sort an array in **ascending** order\n",
    "\n",
    "Submissions that directly copy examples given in the lesson material will not be accepted."
   ]
  },
  {
   "cell_type": "code",
   "execution_count": null,
   "metadata": {
    "vscode": {
     "languageId": "java"
    }
   },
   "outputs": [],
   "source": [
    "// Descending Selection Sort"
   ]
  },
  {
   "cell_type": "code",
   "execution_count": null,
   "metadata": {
    "vscode": {
     "languageId": "java"
    }
   },
   "outputs": [],
   "source": [
    "// Ascending Insertion Sort"
   ]
  }
 ],
 "metadata": {
  "kernelspec": {
   "display_name": "Java",
   "language": "java",
   "name": "java"
  },
  "language_info": {
   "codemirror_mode": "java",
   "file_extension": ".jshell",
   "mimetype": "text/x-java-source",
   "name": "Java",
   "pygments_lexer": "java",
   "version": "17.0.14+7-Ubuntu-122.04.1"
  }
 },
 "nbformat": 4,
 "nbformat_minor": 2
}
