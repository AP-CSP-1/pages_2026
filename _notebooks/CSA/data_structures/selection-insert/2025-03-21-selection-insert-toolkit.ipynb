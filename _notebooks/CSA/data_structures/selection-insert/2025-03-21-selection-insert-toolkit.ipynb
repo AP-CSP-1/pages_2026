{
 "cells": [
  {
   "cell_type": "markdown",
   "metadata": {},
   "source": [
    "---\n",
    "title: Selection, Insert, & Big O\n",
    "comments: true\n",
    "layout: post\n",
    "author: Anusha Khobare, Eshaan Kumar, Matthew Wang\n",
    "courses: { csa: {week: 26} }\n",
    "---"
   ]
  },
  {
   "cell_type": "markdown",
   "metadata": {},
   "source": [
    "# Selection Sort\n",
    "## Sorts arrays by repeatedly finding the minimum element from the unsorted part and putting it at the beginning.\n",
    "\n",
    "\n",
    "### Step 1: Array arr with N size\n",
    "### int arr[] = {10, 30, 15, 5};\n",
    "### Step 2: Initialise i=0\n",
    "### Step 3: If(i<N-1) Check for any element arr[j] where j>i and arr[j]<arr[i] then Swap arr[i] and arr[j]\n",
    "### {10, 30, 15, 5}\n",
    "### i = 0, Assumine arr[0] = 10 is the minimum\n",
    "### 10 < 30, 10 < 15, but 10 > 5\n",
    "### Swap 10 and 5 -> {5, 30, 15, 10}\n",
    "### {5} is considered sorted\n",
    "### i = 1, assume arr[1] = 30 is the minimum\n",
    "### 30 > 15, minimum value = 15\n",
    "### 15 > 10, minimum value = 10, no more values\n",
    "### Swap arr[1] with arr[3]\n",
    "### New array is {5, 10, 15, 30}\n",
    "### {5, 10} is considered sorted\n",
    "### {15, 30} is unsorted\n",
    "### Assume arr[2] = 15 is the minimum\n",
    "### 15 < 30, so the array is sorted\n",
    "### Fully sorted array = {5, 10, 15, 30}\n",
    "### Step 4: i=i+1 and Goto Step 3\n",
    "### Step 5: Exit"
   ]
  },
  {
   "cell_type": "code",
   "execution_count": null,
   "metadata": {
    "vscode": {
     "languageId": "plaintext"
    }
   },
   "outputs": [],
   "source": []
  }
 ],
 "metadata": {
  "language_info": {
   "name": "python"
  }
 },
 "nbformat": 4,
 "nbformat_minor": 2
}
