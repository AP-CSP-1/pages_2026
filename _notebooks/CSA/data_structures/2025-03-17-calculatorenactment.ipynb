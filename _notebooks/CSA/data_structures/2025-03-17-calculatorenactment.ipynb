{
 "cells": [
  {
   "cell_type": "markdown",
   "metadata": {},
   "source": [
    "---\n",
    "title: Calculator Enactment\n",
    "comments: true\n",
    "layout: post\n",
    "description: Continue with Classes, Queues, performing Sorts and BigO analysis on your algorithm(s).\n",
    "author: John Mortensen\n",
    "type: ccc\n",
    "courses: { csa: {week: 25} }\n",
    "---\n"
   ]
  },
  {
   "cell_type": "markdown",
   "metadata": {},
   "source": [
    "## Reverse Polish Notation (RPN) & Postfix Evaluation  \n",
    "\n",
    "### **Understanding Stacks and Queues**  \n",
    "- **Stack (LIFO - Last In, First Out)**: Think of stacking cards. The last one placed is the first one removed.  \n",
    "- **Queue (FIFO - First In, First Out)**: Think of a line at a store. The first one in is the first one out.  \n",
    "\n",
    "---\n",
    "\n",
    "### **What is Reverse Polish Notation (RPN)?**  \n",
    "- **Infix Notation**: Standard mathematical notation where operators are between operands. (e.g., `3 + 5 * 8`)  \n",
    "- **Postfix Notation (RPN)**: Operators come after the operands. (e.g., `35+8*` instead of `(3+5)*8`)  \n",
    "\n",
    "**Example Conversions:**  \n",
    "1. `3 * 5` → `35*`  \n",
    "2. `(3 + 5) * 8` → `35+8*`  \n",
    "\n",
    "---\n",
    "\n",
    "### **Postfix Expression Evaluation**  \n",
    "**Example:** Solve `8 9 + 10 3 * 8 *`  \n",
    "#### **Step-by-Step Calculation:**\n",
    "1. `8 9 +` → `17`\n",
    "2. `10 3 *` → `30`\n",
    "3. `30 8 *` → `240`\n",
    "4. Final result: `17 240` (Not combined yet, needs more context)  \n",
    "\n",
    "**Try this:** Solve `8 2 ^ 8 8 * +`  \n",
    "#### **Step-by-Step Calculation:**\n",
    "1. `8 2 ^` → `64` (Exponentiation: `8^2 = 64`)\n",
    "2. `8 8 *` → `64`\n",
    "3. `64 64 +` → `128` (Final result)  \n",
    "\n",
    "---\n",
    "\n",
    "### **Why Use Postfix Notation?**  \n",
    "- **Follows PEMDAS naturally** (Parentheses, Exponents, Multiplication/Division, Addition/Subtraction).  \n",
    "- **Operators go into a stack**, while **numerals go into a queue**.  \n",
    "- **Easier to evaluate expressions using stacks**, reducing complexity in parsing.  \n",
    "\n",
    "---\n",
    "\n",
    "### **Popcorn Hack - Convert to Infix!**  \n",
    "Convert the following **postfix expressions** into **infix notation**:\n",
    "\n",
    "1. `6 3 * 4 +`\n",
    "2. `10 2 8 * + 3 -`\n",
    "3. `15 3 / 4 2 * +`\n",
    "4. `7 3 2 * + 5 -`\n",
    "5. `9 3 + 2 ^`\n",
    "\n"
   ]
  },
  {
   "cell_type": "markdown",
   "metadata": {},
   "source": [
    "### Answers Here for Popcorn Hack"
   ]
  },
  {
   "cell_type": "markdown",
   "metadata": {},
   "source": []
  },
  {
   "cell_type": "markdown",
   "metadata": {},
   "source": [
    "## Homework:\n",
    "* Instead of making a calculator using postfix, make a calculator that uses prefix (the operation goes before the numerals)\n",
    "* Prefix: 3*5 becomes *35, (7-5)*2 becomes *2-75"
   ]
  }
 ],
 "metadata": {
  "language_info": {
   "name": "python"
  }
 },
 "nbformat": 4,
 "nbformat_minor": 2
}
