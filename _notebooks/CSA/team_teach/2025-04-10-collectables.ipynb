{
 "cells": [
  {
   "cell_type": "markdown",
   "metadata": {},
   "source": [
    "---\n",
    "layout: post\n",
    "title: Team Teach for Collectables\n",
    "categories: [AP CSA]\n",
    "permalink: /teamTeachCollectables\n",
    "authors: Aashray, Nikhil\n",
    "type: ccc\n",
    "---"
   ]
  },
  {
   "cell_type": "markdown",
   "metadata": {},
   "source": [
    "# Java Collections"
   ]
  },
  {
   "cell_type": "markdown",
   "metadata": {},
   "source": [
    "## Lesson: Java Collections Framework\n",
    "\n",
    "### 1. Introduction (Aashray)\n",
    "\n",
    "**Overview:**  \n",
    "Java Collections are reusable data structures that enable developers to store, retrieve, and manipulate groups of objects efficiently. Instead of manually managing arrays (which have a fixed size and limited operations), the Collections Framework provides ready-to-use implementations (e.g., `ArrayList`, `HashSet`, `HashMap`) with useful methods such as sorting, shuffling, searching, and more. This lesson will introduce the core concepts, key terms, and practical usage with code examples and interactive exercises.\n",
    "\n",
    "**Objectives:**  \n",
    "- Understand what collections are and why we use them.  \n",
    "- Learn the differences between collections and arrays.  \n",
    "- Identify and describe the main types of collection interfaces (List, Set, Queue, Map) and their implementations.  \n",
    "- Learn key methods and how to iterate through collections.  \n",
    "- Try out simple code experiments to reinforce the hands-on concepts.\n",
    "\n",
    "---\n",
    "\n",
    "### 2. Key Definitions & Terminology\n",
    "\n",
    "- **Collection:**  \n",
    "  An object that groups multiple elements into a single unit. Collections can grow and shrink dynamically, and (using generics) are type-safe.\n",
    "\n",
    "- **Framework:**  \n",
    "  A set of interfaces, classes, and methods that provide standardized ways to manipulate data structures. In Java, the Collections Framework is found in the `java.util` package.\n",
    "\n",
    "- **Generics:**  \n",
    "  A language feature (added in Java 5) that allows a collection to specify the type of its elements, ensuring compile-time type safety and eliminating the need for explicit casts.\n",
    "\n",
    "- **Interface vs. Implementation:**  \n",
    "  The framework defines interfaces (e.g., `List`, `Set`, `Map`) as blueprints of what operations a collection should offer. Concrete classes (like `ArrayList`, `HashSet`, `HashMap`) implement these interfaces with specific details.\n",
    "\n",
    "- **Iterator:**  \n",
    "  An object for traversing collections one element at a time. There are standard iterators (from the `Iterator` interface) as well as list-specific iterators (`ListIterator`).\n",
    "\n",
    "- **Fail-fast vs. Fail-safe:**  \n",
    "  Iterators from most collections (like those of `ArrayList`) throw a `ConcurrentModificationException` if the collection is modified during iteration (fail-fast). Some concurrent collections (such as those in `java.util.concurrent`) allow modifications during traversal (fail-safe).\n",
    "\n",
    "---\n",
    "\n",
    "### 3. Why Use Collections?\n",
    "\n",
    "**Advantages over Arrays:**\n",
    "- **Dynamic sizing:** Unlike arrays, collections automatically grow or shrink to fit the number of elements.\n",
    "- **Predefined methods:** Framework classes provide utility methods like `sort()`, `shuffle()`, `search()`, and many more.\n",
    "- **Flexibility:** Collections support advanced operations (iterators, streams, lambda expressions) and can hold objects of any type (using generics).\n",
    "- **Interoperability:** The framework is designed with standard interfaces so you can switch implementations (for example, from `ArrayList` to `LinkedList`) with minimal changes in your code.\n",
    "- **Thread safety options:** Classes like `ConcurrentHashMap` and utilities (e.g., `Collections.synchronizedList()`) help when developing concurrent applications.\n",
    "\n",
    "---\n",
    "\n",
    "### 4. Types of Collections\n",
    "\n",
    "Java Collections fall broadly into two categories: **Collection interfaces** and **Map interfaces**.\n",
    "\n",
    "#### A. Collection Interfaces\n",
    "These include interfaces that represent groups of objects:\n",
    "\n",
    "1. **List**  \n",
    "   - **Definition:** An ordered collection that allows duplicate elements.\n",
    "   - **Common Implementations:**  \n",
    "     - `ArrayList` (backed by a dynamically resized array; best for random access)  \n",
    "     - `LinkedList` (a doubly linked list; best for frequent insertions/deletions)  \n",
    "   - **Key Methods:** `add()`, `get()`, `set()`, `remove()`, `size()`\n",
    "\n",
    "2. **Set**  \n",
    "   - **Definition:** A collection that does not allow duplicate elements. Not inherently ordered.\n",
    "   - **Common Implementations:**  \n",
    "     - `HashSet` (unordered, uses hashing for fast lookup)  \n",
    "     - `LinkedHashSet` (preserves insertion order)  \n",
    "     - `TreeSet` (stores elements in sorted order)\n",
    "   - **Key Methods:** `add()`, `contains()`, `remove()`, `size()`\n",
    "\n",
    "3. **Queue**  \n",
    "   - **Definition:** A collection used to hold multiple elements prior to processing. Typically follows FIFO (first-in-first-out).\n",
    "   - **Common Implementations:**  \n",
    "     - `LinkedList` (can function as a queue)  \n",
    "     - `PriorityQueue` (orders elements by priority)\n",
    "   - **Key Methods:** `offer()`, `poll()`, `peek()`\n",
    "\n",
    "4. **Deque (Double-Ended Queue)**  \n",
    "   - **Definition:** Supports element insertion and removal at both ends.\n",
    "   - **Common Implementations:**  \n",
    "     - `ArrayDeque`  \n",
    "     - `LinkedList`\n",
    "   - **Key Methods:** `addFirst()`, `addLast()`, `removeFirst()`, `removeLast()`\n",
    "\n",
    "![Image](https://github.com/user-attachments/assets/72331119-b8e1-46cf-a4d4-8739528bb384)\n",
    "\n",
    "#### B. Map Interfaces\n",
    "Unlike the collection interfaces above, a **Map** stores key-value pairs. Note that Map is not a subtype of Collection.\n",
    "\n",
    "- **Map**  \n",
    "  - **Definition:** An object that maps keys to values with no duplicate keys.\n",
    "  - **Common Implementations:**  \n",
    "    - `HashMap` (unsorted, fast access via hashing)  \n",
    "    - `LinkedHashMap` (preserves insertion order)  \n",
    "    - `TreeMap` (sorted by keys)  \n",
    "  - **Key Methods:** `put()`, `get()`, `remove()`, `containsKey()`, `keySet()`"
   ]
  },
  {
   "cell_type": "markdown",
   "metadata": {},
   "source": [
    "## Lists (Nikhil)\n",
    "\n",
    "In Java, a **List** is an ordered collection that allows for the storage and manipulation of elements in a sequence. Unlike arrays, lists can dynamically resize themselves, accommodating additions and removals of elements without the need to specify an initial size. This flexibility makes them particularly useful for scenarios where the number of elements may change over time.\n",
    "\n",
    "### Types of Lists in Java\n",
    "\n",
    "The Java Collections Framework provides several implementations of the `List` interface, each tailored to specific use cases:\n",
    "\n",
    "1. **ArrayList**: This implementation uses a dynamic array to store elements. It offers fast random access (`O(1)` time complexity for `get` operations) but may be slower for insertions and deletions, especially in the middle of the list, as elements need to be shifted. It's ideal when frequent read operations are required. \n",
    "\n",
    "2. **LinkedList**: Implemented as a doubly-linked list, this class excels in scenarios involving frequent insertions and deletions, particularly at the beginning or middle of the list. However, accessing elements by index is slower (`O(n)` time complexity) compared to `ArrayList`.\n",
    "\n",
    "3. **Vector**: Similar to `ArrayList`, but with synchronized methods, making it thread-safe. Due to this synchronization, it may exhibit performance overhead in single-threaded scenarios.\n",
    "\n",
    "4. **Stack**: A subclass of `Vector` that implements a last-in-first-out (LIFO) stack. It provides methods like `push`, `pop`, and `peek` to manipulate the stack. \n",
    "\n",
    "### Common Operations on Lists\n",
    "\n",
    "Lists support a variety of operations that facilitate the manipulation and retrieval of elements:\n",
    "\n",
    "- **Adding Elements**:\n",
    "  - `add(E e)`: Appends the specified element to the end of the list.\n",
    "  - `add(int index, E element)`: Inserts the specified element at the specified position in the list.\n",
    "\n",
    "- **Removing Elements**:\n",
    "  - `remove(int index)`: Removes the element at the specified position in the list.\n",
    "  - `remove(Object o)`: Removes the first occurrence of the specified element from the list, if it is present.\n",
    "\n",
    "- **Accessing Elements**:\n",
    "  - `get(int index)`: Returns the element at the specified position in the list.\n",
    "  - `set(int index, E element)`: Replaces the element at the specified position in the list with the specified element.\n",
    "\n",
    "- **Querying the List**:\n",
    "  - `size()`: Returns the number of elements in the list.\n",
    "  - `isEmpty()`: Returns `true` if the list contains no elements.\n",
    "\n",
    "- **Searching within the List**:\n",
    "  - `indexOf(Object o)`: Returns the index of the first occurrence of the specified element in the list, or -1 if the list does not contain the element.\n",
    "  - `lastIndexOf(Object o)`: Returns the index of the last occurrence of the specified element in the list, or -1 if the list does not contain the element.\n",
    "\n",
    "- **Iteration**:\n",
    "  - `iterator()`: Returns an iterator over the elements in the list in proper sequence.\n",
    "  - `listIterator()`: Returns a list iterator over the elements in the list (in proper sequence).\n",
    "\n",
    "### Example Usage\n",
    "\n",
    "Here's an example demonstrating some of these operations using an `ArrayList`. In this example, we perform various operations such as adding, inserting, accessing, replacing, and removing elements from the list, as well as iterating over the list to print its contents."
   ]
  },
  {
   "cell_type": "code",
   "execution_count": 3,
   "metadata": {
    "vscode": {
     "languageId": "java"
    }
   },
   "outputs": [
    {
     "name": "stdout",
     "output_type": "stream",
     "text": [
      "Banana\n",
      "Blackberry\n",
      "Cherry\n"
     ]
    }
   ],
   "source": [
    "import java.util.ArrayList;\n",
    "import java.util.List;\n",
    "\n",
    "public class ListExample {\n",
    "    public static void main(String[] args) {\n",
    "        // Creating a list of strings\n",
    "        List<String> fruits = new ArrayList<>();\n",
    "\n",
    "        // Adding elements\n",
    "        fruits.add(\"Apple\");\n",
    "        fruits.add(\"Banana\");\n",
    "        fruits.add(\"Cherry\");\n",
    "\n",
    "        // Inserting an element at a specific position\n",
    "        fruits.add(1, \"Blueberry\"); // Inserts \"Blueberry\" at index 1\n",
    "\n",
    "        // Accessing elements\n",
    "        System.out.println(fruits.get(2)); // Outputs: Banana\n",
    "\n",
    "        // Replacing an element\n",
    "        fruits.set(2, \"Blackberry\"); // Replaces \"Banana\" with \"Blackberry\"\n",
    "\n",
    "        // Removing elements\n",
    "        fruits.remove(\"Apple\"); // Removes \"Apple\"\n",
    "        fruits.remove(0); // Removes the element at index 0 (\"Blueberry\")\n",
    "\n",
    "        // Iterating over the list\n",
    "        for (String fruit : fruits) {\n",
    "            System.out.println(fruit);\n",
    "        }\n",
    "    }\n",
    "}\n",
    "\n",
    "ListExample.main(null);"
   ]
  },
  {
   "cell_type": "code",
   "execution_count": 2,
   "metadata": {
    "vscode": {
     "languageId": "java"
    }
   },
   "outputs": [
    {
     "name": "stdout",
     "output_type": "stream",
     "text": [
      "Apple\n",
      "Banana\n",
      "Cherry\n"
     ]
    }
   ],
   "source": [
    "// ITERATION:\n",
    "import java.util.List;\n",
    "import java.util.Arrays;\n",
    "\n",
    "public class ListIterationExample {\n",
    "    public static void main(String[] args) {\n",
    "        List<String> fruits = Arrays.asList(\"Apple\", \"Banana\", \"Cherry\");\n",
    "\n",
    "        for (String fruit : fruits) {\n",
    "            System.out.println(fruit);\n",
    "        }\n",
    "    }\n",
    "}\n",
    "\n",
    "ListIterationExample.main(null);\n"
   ]
  },
  {
   "cell_type": "markdown",
   "metadata": {},
   "source": [
    "**POPCORN HACK:**\n",
    "\n",
    "*Task:*\n",
    "Create an `ArrayList` of at least 10 integers.  \n",
    "1. **Sort** the list in ascending order using `Collections.sort()`.  \n",
    "2. **Filter** out all the odd numbers using an enhanced for loop (or with streams if you prefer) and then print the even numbers.\n",
    "\n",
    "**Hint (using streams in Java 8+):**\n",
    "\n",
    "Optional:\n",
    "- Display only the odd numbers instead.\n",
    "- Find and print the largest even number from the filtered list."
   ]
  },
  {
   "cell_type": "code",
   "execution_count": 9,
   "metadata": {
    "vscode": {
     "languageId": "java"
    }
   },
   "outputs": [],
   "source": [
    "import java.util.ArrayList;\n",
    "import java.util.Collections;\n",
    "import java.util.List;\n",
    "import java.util.stream.Collectors;\n",
    "\n",
    "public class ListExperiment {\n",
    "    public static void main(String[] args) {\n",
    "        // create your array list\n",
    "\n",
    "        // add 10 integers\n",
    "\n",
    "        // sort your list\n",
    "\n",
    "        // filter using even numbers and print\n",
    "    }\n",
    "}\n",
    "\n",
    "ListExperiment.main(null);"
   ]
  },
  {
   "cell_type": "markdown",
   "metadata": {},
   "source": [
    "### How Iterable Integrates with Collection\n",
    "\n",
    "- The **Collection** interface inherits from **Iterable**, which means that all subinterfaces and classes like **List**, **Set**, and others automatically support iteration.\n",
    "- By extending **Iterable**, collections provide the **iterator()** method, enabling seamless use of the enhanced for-loop (`for-each` loop).\n",
    "- This design eliminates the need for manual index management, making iteration more concise and readable.\n",
    "- Starting with Java 8, the **forEach** method—enabled through **Iterable**—allows collections to be iterated using lambda expressions for cleaner, functional-style code."
   ]
  },
  {
   "cell_type": "markdown",
   "metadata": {},
   "source": [
    "## Sets (Aashray)\n",
    "\n",
    "### Java Sets: In-Depth Overview\n",
    "\n",
    "#### What Is a Set?\n",
    "\n",
    "A **Set** is a collection that stores unique elements. Unlike lists, sets do not allow duplicate values. While the typical `Set` does not guarantee any ordering of elements, some implementations offer sorted or insertion-ordered behaviors. The key characteristics of a set are:\n",
    "\n",
    "- **No Duplicates:** Every element in a set is unique.\n",
    "- **No Guaranteed Order:** The standard `Set` (such as `HashSet`) does not maintain the order of its elements. However, specialized implementations like `LinkedHashSet` and `TreeSet` provide predictable ordering (insertion order and natural sorted order, respectively).\n",
    "\n",
    "#### Types of Sets in Java\n",
    "\n",
    "1. **HashSet**\n",
    "   - **Description:** The most commonly used set implementation; it uses a hash table for storage.\n",
    "   - **Ordering:** Does not maintain any order.\n",
    "   - **Performance:** Offers constant-time performance for basic operations (add, remove, contains) if the hash function disperses the elements properly.\n",
    "   - **Limitations:** No duplicate elements; order is unpredictable.\n",
    "   \n",
    "2. **LinkedHashSet**\n",
    "   - **Description:** Extends `HashSet` and maintains a linked list of the entries.\n",
    "   - **Ordering:** Preserves the order of insertion.\n",
    "   - **Use Case:** Useful when iteration order matters while still enforcing uniqueness.\n",
    "   \n",
    "3. **TreeSet**\n",
    "   - **Description:** Implements the `SortedSet` interface using a red-black tree structure.\n",
    "   - **Ordering:** Automatically sorts the elements in their natural order (or according to a custom `Comparator`).\n",
    "   - **Use Case:** Ideal for applications where a sorted set is required.\n",
    "   - **Performance:** Provides logarithmic time cost for basic operations.\n",
    "   \n",
    "4. **EnumSet**\n",
    "   - **Description:** A specialized set implementation designed exclusively for use with enum types.\n",
    "   - **Ordering:** The iteration order is the natural order of the enum values.\n",
    "   - **Benefits:** Very efficient in both time and space for enum types.\n",
    "\n",
    "#### Common Operations on Sets\n",
    "\n",
    "- **Add Elements**\n",
    "  - `boolean add(E e)`: Adds the specified element to the set if it is not already present.\n",
    "  \n",
    "- **Remove Elements**\n",
    "  - `boolean remove(Object o)`: Removes the specified element from the set if it is present.\n",
    "  \n",
    "- **Check for an Element**\n",
    "  - `boolean contains(Object o)`: Returns `true` if the set contains the specified element.\n",
    "  \n",
    "- **Size and Emptiness**\n",
    "  - `int size()`: Returns the number of elements in the set.\n",
    "  - `boolean isEmpty()`: Returns `true` if the set contains no elements.\n",
    "  \n",
    "- **Iteration**\n",
    "  - `Iterator<E> iterator()`: Returns an iterator over the set’s elements. You can use this with an enhanced for loop (for-each loop).\n",
    "\n",
    "- **Bulk Operations**\n",
    "  - `boolean addAll(Collection<? extends E> c)`: Adds all elements from the specified collection.\n",
    "  - `boolean removeAll(Collection<?> c)`: Removes from the set all of its elements that are contained in the specified collection.\n",
    "  - `boolean retainAll(Collection<?> c)`: Retains only the elements in the set that are contained in the specified collection.\n",
    "\n",
    "#### What You Can and Cannot Do with Sets\n",
    "\n",
    "**You Can:**\n",
    "- **Store Unique Elements:** Automatically ignore any duplicate values.\n",
    "- **Perform Fast Lookups:** Particularly with implementations like `HashSet`, operations such as add and contains are typically very fast.\n",
    "- **Use Specialized Sets:** For example, using `TreeSet` for a sorted collection or `LinkedHashSet` to maintain insertion order.\n",
    "- **Bulk Operations:** Easily combine, remove, or retain collections of elements using methods like `addAll()`, `removeAll()`, and `retainAll()`.\n",
    "\n",
    "**You Cannot:**\n",
    "- **Store Duplicates:** Sets inherently reject duplicate items.\n",
    "- **Access by Index:** Since sets do not maintain a positional order (except when using a `List`), you cannot retrieve an element by its index using methods like `get(int index)`.\n",
    "- **Assume a Specific Order:** With standard sets (e.g., `HashSet`), the iteration order is not predictable. Use `LinkedHashSet` or `TreeSet` when order is important.\n",
    "\n",
    "#### Mini Example: Iterating Over a HashSet\n",
    "\n",
    "Below is a small Java program that demonstrates how to use a `HashSet`, including adding elements, attempting to add duplicates, and iterating over the set:"
   ]
  },
  {
   "cell_type": "code",
   "execution_count": 5,
   "metadata": {
    "vscode": {
     "languageId": "java"
    }
   },
   "outputs": [
    {
     "name": "stdout",
     "output_type": "stream",
     "text": [
      "Was 'Red' added again? false\n",
      "The set contains Green.\n",
      "The set has 3 elements.\n",
      "Colors in the set:\n",
      "Red\n",
      "Blue\n",
      "Green\n"
     ]
    }
   ],
   "source": [
    "import java.util.HashSet;\n",
    "import java.util.Set;\n",
    "\n",
    "public class SetExample {\n",
    "    public static void main(String[] args) {\n",
    "        // Create a HashSet of strings\n",
    "        Set<String> colors = new HashSet<>();\n",
    "\n",
    "        // Adding elements to the set\n",
    "        colors.add(\"Red\");\n",
    "        colors.add(\"Green\");\n",
    "        colors.add(\"Blue\");\n",
    "\n",
    "        // Attempt to add a duplicate element\n",
    "        boolean added = colors.add(\"Red\"); // This will return false\n",
    "\n",
    "        System.out.println(\"Was 'Red' added again? \" + added); // Outputs: false\n",
    "\n",
    "        // Common Operations:\n",
    "        // Check if the set contains \"Green\"\n",
    "        if (colors.contains(\"Green\")) {\n",
    "            System.out.println(\"The set contains Green.\");\n",
    "        }\n",
    "\n",
    "        // Get the size of the set\n",
    "        System.out.println(\"The set has \" + colors.size() + \" elements.\");\n",
    "\n",
    "        // Iterating over the set using an enhanced for-loop\n",
    "        System.out.println(\"Colors in the set:\");\n",
    "        for (String color : colors) {\n",
    "            System.out.println(color);\n",
    "        }\n",
    "    }\n",
    "}\n",
    "\n",
    "SetExample.main(null);"
   ]
  },
  {
   "cell_type": "code",
   "execution_count": 12,
   "metadata": {
    "vscode": {
     "languageId": "java"
    }
   },
   "outputs": [
    {
     "name": "stdout",
     "output_type": "stream",
     "text": [
      "Unique numbers: [3, 5, 7]\n"
     ]
    }
   ],
   "source": [
    "// Create a HashSet to store unique numbers:\n",
    "\n",
    "import java.util.HashSet;\n",
    "import java.util.Set;\n",
    "\n",
    "public class HashSetDemo {\n",
    "    public static void main(String[] args) {\n",
    "        Set<Integer> numbers = new HashSet<>();\n",
    "        numbers.add(5);\n",
    "        numbers.add(3);\n",
    "        numbers.add(5); // Duplicate, will be ignored.\n",
    "        numbers.add(7);\n",
    "        \n",
    "        System.out.println(\"Unique numbers: \" + numbers);\n",
    "    }\n",
    "}\n",
    "\n",
    "HashSetDemo.main(null);"
   ]
  },
  {
   "cell_type": "code",
   "execution_count": 13,
   "metadata": {
    "vscode": {
     "languageId": "java"
    }
   },
   "outputs": [
    {
     "name": "stdout",
     "output_type": "stream",
     "text": [
      "Student 102: Bob\n",
      "Student Roster:\n",
      "ID: 101, Name: Alice\n",
      "ID: 102, Name: Bob\n",
      "ID: 103, Name: Charlie\n"
     ]
    }
   ],
   "source": [
    "// Create a HashMap to map student IDs to names:\n",
    "\n",
    "import java.util.HashMap;\n",
    "import java.util.Map;\n",
    "\n",
    "public class HashMapDemo {\n",
    "    public static void main(String[] args) {\n",
    "        Map<Integer, String> studentMap = new HashMap<>();\n",
    "        studentMap.put(101, \"Alice\");\n",
    "        studentMap.put(102, \"Bob\");\n",
    "        studentMap.put(103, \"Charlie\");\n",
    "\n",
    "        // Retrieve value by key\n",
    "        System.out.println(\"Student 102: \" + studentMap.get(102));\n",
    "\n",
    "        // Iterate using keySet()\n",
    "        System.out.println(\"Student Roster:\");\n",
    "        for (Integer id : studentMap.keySet()) {\n",
    "            System.out.println(\"ID: \" + id + \", Name: \" + studentMap.get(id));\n",
    "        }\n",
    "    }\n",
    "}\n",
    "\n",
    "HashMapDemo.main(null);"
   ]
  },
  {
   "cell_type": "markdown",
   "metadata": {},
   "source": [
    "**POPCORN HACK**\n",
    "\n",
    "*Task:*\n",
    "Create a `HashMap` that stores names as keys and phone numbers (as strings) as values.  \n",
    "1. Add at least 5 entries.  \n",
    "2. Implement a simple search method that prompts the user (using `Scanner`) to enter a name and then prints out the corresponding phone number (or a “not found” message).\n",
    "\n",
    "Optional:\n",
    "- Allow the user to perform multiple lookups (looping until the user enters a quit command).\n",
    "- Implement a method to print the entire phone book in a sorted order (by key)."
   ]
  },
  {
   "cell_type": "code",
   "execution_count": 10,
   "metadata": {
    "vscode": {
     "languageId": "java"
    }
   },
   "outputs": [],
   "source": [
    "import java.util.HashMap;\n",
    "import java.util.Map;\n",
    "import java.util.Scanner;\n",
    "\n",
    "public class PhoneBook {\n",
    "    public static void main(String[] args) {\n",
    "        // code\n",
    "    }\n",
    "}\n",
    "\n",
    "PhoneBook.main(null);"
   ]
  },
  {
   "cell_type": "markdown",
   "metadata": {},
   "source": [
    "**Takeaways:**\n",
    "- **No Duplicates:** Duplicate items are rejected (as seen when `\"Red\"` is not added twice).\n",
    "- **No Order Guarantee:** The order in which colors are printed may vary from the insertion order.\n",
    "- **Basic Operations:** Methods such as `add()`, `contains()`, `size()`, and iteration using the enhanced for-loop provide a simple interface for working with sets."
   ]
  },
  {
   "cell_type": "markdown",
   "metadata": {},
   "source": [
    "## Queue and De-queue (Nikhil)\n",
    "\n",
    "### Java Queues and Deques: In-Depth Overview\n",
    "\n",
    "#### What Is a Queue?\n",
    "\n",
    "A **Queue** is a collection designed to hold elements prior to processing. It typically follows the **FIFO** (First-In-First-Out) principle—elements that are inserted first are the ones that are removed first. Queues are especially useful for tasks such as job scheduling, handling requests in order, or managing resources.\n",
    "\n",
    "**Key Characteristics of a Queue:**\n",
    "- **FIFO Order:** Items are processed in the order they were added.\n",
    "- **No Random Access:** Unlike lists, queues do not offer methods to access elements by an index.\n",
    "- **Basic Operations:** Include adding, peeking at, and removing elements.\n",
    "\n",
    "#### What Is a Deque?\n",
    "\n",
    "A **Deque** (double-ended queue) extends the functionality of a standard queue by allowing insertion and removal of elements at both the front and the back. This versatile data structure supports both FIFO (queue behavior) and LIFO (stack behavior) operations.\n",
    "\n",
    "**Key Characteristics of a Deque:**\n",
    "- **Double-Ended Operations:** You can add or remove elements from both ends.\n",
    "- **Flexible Order:** Can be used as a regular queue (FIFO) or a stack (LIFO) based on the operations you choose.\n",
    "- **No Indexed Access:** Similar to queues, deques do not support random access via indexes.\n",
    "\n",
    "---\n",
    "\n",
    "### Types of Queue and Deque Implementations in Java\n",
    "\n",
    "1. **LinkedList**  \n",
    "   - **Description:** Implements both the `Queue` and `Deque` interfaces.  \n",
    "   - **Usage:** Suitable for basic FIFO queue operations and for scenarios that require double-ended operations.\n",
    "   - **Behavior:** Maintains the order of insertion, but does not provide random access.\n",
    "\n",
    "2. **PriorityQueue**  \n",
    "   - **Description:** Implements the `Queue` interface, but orders its elements according to their natural order or a provided `Comparator`, rather than in FIFO order.\n",
    "   - **Usage:** Ideal for situations where elements need to be processed based on priority (e.g., shortest job first).\n",
    "   - **Limitation:** Does not support null values and the iteration order is not guaranteed to reflect the priority order.\n",
    "\n",
    "3. **ArrayDeque**  \n",
    "   - **Description:** A resizable array implementation of the `Deque` interface.\n",
    "   - **Usage:** Often recommended for deque implementations because of its efficiency. It can be used to implement both stack and queue behaviors.\n",
    "   - **Behavior:** Provides constant-time performance for adding and removing elements at both ends.\n",
    "   - **Limitation:** Not thread-safe by default; external synchronization or concurrent alternatives are needed in multi-threaded environments.\n",
    "\n",
    "4. **ConcurrentLinkedQueue** (and **ConcurrentLinkedDeque**)  \n",
    "   - **Description:** Thread-safe implementations of the `Queue` and `Deque` interfaces found in the `java.util.concurrent` package.\n",
    "   - **Usage:** Suitable when multiple threads need to access and modify the queue concurrently.\n",
    "   - **Behavior:** Designed for high throughput in concurrent settings without locking the entire data structure.\n",
    "\n",
    "---\n",
    "\n",
    "### Common Operations on Queues and Deques\n",
    "\n",
    "#### For a **Queue**:\n",
    "\n",
    "- **Add Elements:**\n",
    "  - `boolean offer(E e)`: Inserts the specified element into the queue, returning `false` if the queue is bounded and there is no space.\n",
    "  - `boolean add(E e)`: Inserts the specified element; throws an exception if the element cannot be added.\n",
    "  \n",
    "- **Inspect Elements (without removal):**\n",
    "  - `E peek()`: Retrieves, but does not remove, the head of the queue; returns `null` if empty.\n",
    "  - `E element()`: Similar to `peek()` but throws an exception if the queue is empty.\n",
    "  \n",
    "- **Remove Elements:**\n",
    "  - `E poll()`: Retrieves and removes the head of the queue; returns `null` if the queue is empty.\n",
    "  - `E remove()`: Retrieves and removes the head; throws an exception if the queue is empty.\n",
    "\n",
    "#### For a **Deque**:\n",
    "\n",
    "- **Add Elements at Both Ends:**\n",
    "  - `void addFirst(E e)` / `boolean offerFirst(E e)`: Inserts the specified element at the front.\n",
    "  - `void addLast(E e)` / `boolean offerLast(E e)`: Inserts the specified element at the end.\n",
    "  \n",
    "- **Inspect Elements at Both Ends:**\n",
    "  - `E peekFirst()`: Retrieves but does not remove the first element; returns `null` if empty.\n",
    "  - `E peekLast()`: Retrieves but does not remove the last element; returns `null` if empty.\n",
    "  \n",
    "- **Remove Elements from Both Ends:**\n",
    "  - `E removeFirst()`: Removes and returns the first element; throws an exception if empty.\n",
    "  - `E removeLast()`: Removes and returns the last element; throws an exception if empty.\n",
    "  - `E pollFirst()`: Removes and returns the first element; returns `null` if empty.\n",
    "  - `E pollLast()`: Removes and returns the last element; returns `null` if empty.\n",
    "\n",
    "---\n",
    "\n",
    "### What You Can and Cannot Do with Queues and Deques\n",
    "\n",
    "**You Can:**\n",
    "- **Maintain Order:** Use queues for FIFO processing of elements.\n",
    "- **Process by Priority:** Use `PriorityQueue` to process elements based on priority instead of insertion order.\n",
    "- **Add or Remove from Both Ends:** Use deques to flexibly operate at both the beginning and the end.\n",
    "- **Efficiently Manage Large Data:** Use concurrent versions for thread-safe operations in a multi-threaded environment.\n",
    "\n",
    "**You Cannot:**\n",
    "- **Randomly Access Elements:** Neither queues nor deques provide methods for accessing elements by index.\n",
    "- **Assume Ordering:** With standard queues (like `PriorityQueue`), iteration order is based on priority criteria, not necessarily the order of insertion.\n",
    "- **Store Nulls (in Some Implementations):** Implementations such as `PriorityQueue` do not permit null elements.\n",
    "\n",
    "---\n",
    "\n",
    "### Mini Example: Using ArrayDeque as a Queue and Deque\n",
    "\n",
    "Below is a short Java program that demonstrates basic operations on an `ArrayDeque`, which implements the `Deque` interface:"
   ]
  },
  {
   "cell_type": "code",
   "execution_count": 6,
   "metadata": {
    "vscode": {
     "languageId": "java"
    }
   },
   "outputs": [
    {
     "name": "stdout",
     "output_type": "stream",
     "text": [
      "Deque after offer operations: [First, Second, Third]\n",
      "Head element (without removal): First\n",
      "Removed head element: First\n",
      "Deque now: [Second, Third]\n",
      "Deque after offerFirst: [New First, Second, Third]\n",
      "Removed tail element: Third\n",
      "Final deque: [New First, Second]\n"
     ]
    }
   ],
   "source": [
    "import java.util.ArrayDeque;\n",
    "import java.util.Deque;\n",
    "\n",
    "public class QueueDequeExample {\n",
    "    public static void main(String[] args) {\n",
    "        // Create an ArrayDeque to use as a double-ended queue\n",
    "        Deque<String> deque = new ArrayDeque<>();\n",
    "\n",
    "        // Adding elements at the tail (end) - typical queue behavior (FIFO)\n",
    "        deque.offer(\"First\");\n",
    "        deque.offer(\"Second\");\n",
    "        deque.offer(\"Third\");\n",
    "        System.out.println(\"Deque after offer operations: \" + deque);\n",
    "\n",
    "        // Peeking at the head of the queue\n",
    "        String head = deque.peek();\n",
    "        System.out.println(\"Head element (without removal): \" + head);\n",
    "\n",
    "        // Removing the head element using poll (FIFO removal)\n",
    "        String removedHead = deque.poll();\n",
    "        System.out.println(\"Removed head element: \" + removedHead);\n",
    "        System.out.println(\"Deque now: \" + deque);\n",
    "\n",
    "        // Using deque-specific methods: adding at the front\n",
    "        deque.offerFirst(\"New First\");\n",
    "        System.out.println(\"Deque after offerFirst: \" + deque);\n",
    "\n",
    "        // Removing an element from the tail\n",
    "        String removedTail = deque.pollLast();\n",
    "        System.out.println(\"Removed tail element: \" + removedTail);\n",
    "        System.out.println(\"Final deque: \" + deque);\n",
    "    }\n",
    "}\n",
    "\n",
    "QueueDequeExample.main(null);"
   ]
  },
  {
   "cell_type": "markdown",
   "metadata": {},
   "source": [
    "_A simple demonstration of a priority queue (ordering by natural order):_"
   ]
  },
  {
   "cell_type": "code",
   "execution_count": 8,
   "metadata": {
    "vscode": {
     "languageId": "java"
    }
   },
   "outputs": [
    {
     "name": "stdout",
     "output_type": "stream",
     "text": [
      "Priority queue elements (in natural order):\n",
      "10\n",
      "20\n",
      "30\n",
      "50\n"
     ]
    }
   ],
   "source": [
    "import java.util.PriorityQueue;\n",
    "import java.util.Queue;\n",
    "\n",
    "public class PriorityQueueDemo {\n",
    "    public static void main(String[] args) {\n",
    "        Queue<Integer> priorities = new PriorityQueue<>();\n",
    "        priorities.offer(50);\n",
    "        priorities.offer(10);\n",
    "        priorities.offer(30);\n",
    "        priorities.offer(20);\n",
    "        \n",
    "        System.out.println(\"Priority queue elements (in natural order):\");\n",
    "        while (!priorities.isEmpty()) {\n",
    "            System.out.println(priorities.poll());\n",
    "        }\n",
    "    }\n",
    "}\n",
    "\n",
    "PriorityQueueDemo.main(null);"
   ]
  },
  {
   "cell_type": "markdown",
   "metadata": {},
   "source": [
    "**POPCORN HACK:**\n",
    "\n",
    "*Task:*\n",
    "Use an `ArrayDeque` to implement a basic double-ended queue (deque) where you can add or remove items from both ends.  \n",
    "1. Add several strings using both `addFirst()` and `addLast()`.  \n",
    "2. Then remove one element from each end and print the contents of the deque.\n",
    "\n",
    "Optional:\n",
    "- Convert the deque into a list and print it.\n",
    "- Use a loop to empty the deque while printing each removed element."
   ]
  },
  {
   "cell_type": "code",
   "execution_count": 11,
   "metadata": {
    "vscode": {
     "languageId": "java"
    }
   },
   "outputs": [],
   "source": [
    "import java.util.ArrayDeque;\n",
    "import java.util.Deque;\n",
    "\n",
    "public class DequeExperiment {\n",
    "    public static void main(String[] args) {\n",
    "        // code\n",
    "    }\n",
    "}\n",
    "\n",
    "DequeExperiment.main(null);"
   ]
  },
  {
   "cell_type": "markdown",
   "metadata": {},
   "source": [
    "**Takeaways:**\n",
    "- **FIFO Behavior:** The initial `offer()` and `poll()` operations illustrate standard queue behavior.\n",
    "- **Double-Ended Operations:** Methods like `offerFirst()` and `pollLast()` showcase deque functionality.\n",
    "- **No Random Access:** Notice that no methods allow you to access elements by index.\n",
    "- **Null Handling:** Be aware that some implementations (e.g., `PriorityQueue`) do not permit null values."
   ]
  },
  {
   "cell_type": "markdown",
   "metadata": {},
   "source": [
    "## Diagrams:\n",
    "\n",
    "![Image](https://github.com/user-attachments/assets/a21dbb2a-1f66-44b8-bc25-f08ac0718b6f)\n",
    "\n",
    "\n",
    "![Image2](https://github.com/user-attachments/assets/073aeab1-bcd4-425b-a8d7-726d92cb8912)"
   ]
  },
  {
   "cell_type": "markdown",
   "metadata": {},
   "source": [
    "### Summary & Further Reading\n",
    "\n",
    "**Recap:**\n",
    "- **Core Interfaces:** Learn the fundamental differences between `List`, `Set`, `Queue`, and `Map`.\n",
    "- **Implementations:** Understand which concrete class to use for your needs (e.g., `ArrayList` for random access, `LinkedList` for frequent insertions/deletions, and `HashMap` for key-value associations).\n",
    "- **Usage:** Practice adding, retrieving, updating, and removing items.\n",
    "- **Advanced Features:** Explore iteration (using `Iterator`/`forEach`), sorting with `Collections.sort()`, and converting between arrays and collections.\n",
    "- **Interactive Exercises:** Solve the “try it yourself” mini experiments to solidify your understanding.\n",
    "\n",
    "**Further Reading & Resources:**\n",
    "- *Effective Java* by Joshua Bloch (for best practices and deeper understanding)\n",
    "- Java documentation on the [Collections Framework](https://docs.oracle.com/javase/8/docs/technotes/guides/collections/overview.html)\n",
    "- Online tutorials (Tutorialspoint, CodeJava.net, SitePoint, etc.)  \n",
    "- Practice problems (w3resource.com, CodingBat, HackerRank)"
   ]
  }
 ],
 "metadata": {
  "kernelspec": {
   "display_name": "Java",
   "language": "java",
   "name": "java"
  },
  "language_info": {
   "codemirror_mode": "java",
   "file_extension": ".jshell",
   "mimetype": "text/x-java-source",
   "name": "Java",
   "pygments_lexer": "java",
   "version": "17.0.14+7-Ubuntu-122.04.1"
  }
 },
 "nbformat": 4,
 "nbformat_minor": 4
}
