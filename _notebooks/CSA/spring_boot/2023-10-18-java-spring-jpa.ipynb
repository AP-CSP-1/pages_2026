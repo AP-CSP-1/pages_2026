{
 "cells": [
  {
   "cell_type": "raw",
   "metadata": {
    "vscode": {
     "languageId": "raw"
    }
   },
   "source": [
    "---\n",
    "layout: post \n",
    "title: Java Persistent API (JPA)\n",
    "description: Define the JPA layer.  The JPA enables frontend to query backend and returns a list.\n",
    "permalink: /java/spring/jpa/\n",
    "categories: [Java Spring]\n",
    "menu: nav/java_spring.html\n",
    "---"
   ]
  },
  {
   "cell_type": "markdown",
   "metadata": {},
   "source": [
    "### Java Persistence API (JPA)\n",
    "\n",
    "> JPA code is defined to access the database. \n",
    "\n",
    "- The Persistence means that object can be stored in a database.\n",
    "- The API is the methods used to put and get objects from the database.\n",
    "\n",
    "![]({{ site.baseurl }}/images/jpa-lesson-images/jpa.jpg)"
   ]
  },
  {
   "cell_type": "markdown",
   "metadata": {},
   "source": [
    "### JokesJpaRepository example\n",
    "The JokesJpaRepository interface extends the JpaRepository.  This allows the developer to access JPA predefined methods as well as enable the developer to custom interfaces on persistent storage.\n",
    "\n",
    "```java\n",
    "import java.util.List;\n",
    "import org.springframework.data.jpa.repository.JpaRepository;\n",
    "\n",
    "// JPA is an object-relational mapping (ORM) to persistent data, originally relational databases (SQL). Today JPA implementations has been extended for NoSQL.\n",
    "public interface JokesJpaRepository extends JpaRepository<Jokes, Long> {\n",
    "    // JPA has many built in methods, these few have been prototyped for this application\n",
    "    void save(String Joke);  // used for Create, Update operations in CRUD\n",
    "\n",
    "    // Accessors, Read operations in CRUD\n",
    "    List<Jokes> findAllByOrderByJokeAsc();  // returns a List of Jokes in Ascending order\n",
    "    List<Jokes> findByJokeIgnoreCase(String joke);  // look to see if Joke(s) exist\n",
    "}\n",
    "```\n",
    "\n"
   ]
  },
  {
   "cell_type": "markdown",
   "metadata": {},
   "source": [
    "## Derived Queries\n",
    "\n",
    "Derived queries are simple methods such as `findBy`, `readBy`, `getBy`, etc. Spring Data translates the derived queries into the JPQL (Java Persistence Query Language) query (which is then translated into SQL), making things easier for you. \n",
    "\n",
    "#### JPA metods return a List\n",
    "> List is a super class to ArrayList.  In thks JPA code you can see that a List of Jokes is the result from these JPA direved query accessor method.  JPA is extracting data from persistent storage.\n",
    "\n",
    "- Review [List and ArrayList from GeeksForGeeks](https://www.geeksforgeeks.org/difference-between-list-and-arraylist-in-java/) to understand relationship.\n",
    "\n",
    "#### JPA interface\n",
    "Observe the generic data type in the JPAReporsitry definition `public interface JokesJpaRepository extends JpaRepository<Jokes, Long> {`.\n",
    "\n",
    "- Jokes, the first entity is the name of the POJO\n",
    "- Long, is the Data Type of the ID found in the POJO's definition\n",
    "\n",
    "#### JPA Query Description\n",
    "\n",
    "`findBy<Attribute>` finds the column in the table that is associated with the `Attribute`. \n",
    "\n",
    "- `findByJoke` will look for joke in the table\n",
    "- `private String joke` is definition of attribute in POJO\n",
    "\n",
    "Note that SQL tables and Java naming conventions are mapped together. (ex: `lastName` in Java becomes last_name in the SQL table. \n",
    "\n",
    "![]({{ site.baseurl }}/images/jpa-lesson-images/columnName.jpg)\n"
   ]
  },
  {
   "cell_type": "markdown",
   "metadata": {},
   "source": [
    "## JPQL Query\n",
    "\n",
    "JPQL provides a query language that looks similar to SQL. One important thing to note is that JPQL is based on entities, so JPQL queries are based on classes and attributes. JPQL queries are not based on the database tables, which makes it different from SQL. JPA implementations like Hibernate translate the JPQL query into SQL to work with the database.\n",
    "\n",
    "### JPQL Sample\n",
    "\n",
    "```java\n",
    "@Query(\"SELECT u FROM User u where u.lastName = ?1\")\n",
    "List<User> findByLastNameQuery(String lastName);\n",
    "```\n",
    "\n",
    "#### JPQL Sample description\n",
    "\n",
    "Use the `@Query` annotation, and then define the query in JPQL.\n",
    "\n",
    "- This is a Select statment from User table\n",
    "- The u works like list comprehension\n",
    "- The ?1 is the parameter lastname from the interface\n",
    "\n",
    "Here is an interace with two paramters.\n",
    "\n",
    "```java\n",
    "@Query(\"SELECT u FROM User u where u.lastName = ?1 and u.firstName = ?2\")\n",
    "List<User> findByName(String lastName, String firstName);\n",
    "```\n",
    "\n",
    "Since this is based on entity, the query follows pascalCase of POJO defintions."
   ]
  },
  {
   "cell_type": "markdown",
   "metadata": {},
   "source": [
    "## Native Queries\n",
    "\n",
    "While JPQL provides more flexibility than derived queries, it doesn't have all of the features of SQL. Native queries allows the programmer to execute SQL queries. \n",
    "\n",
    "```java\n",
    "@Query(\n",
    "    value = \"SELECT email FROM user\",\n",
    "    nativeQuery = true\n",
    ")\n",
    "List<String> findEmail();\n",
    "```\n",
    "\n",
    "Since this is based off of database it follows snake_case conventions of SQL Table names.\n"
   ]
  }
 ],
 "metadata": {
  "language_info": {
   "name": "python"
  }
 },
 "nbformat": 4,
 "nbformat_minor": 2
}
