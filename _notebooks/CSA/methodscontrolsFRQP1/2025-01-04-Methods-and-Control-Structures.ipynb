{
 "cells": [
  {
   "cell_type": "markdown",
   "metadata": {},
   "source": [
    "---\n",
    "toc: false\n",
    "layout: post\n",
    "title: Methods and Control Structures FRQ\n",
    "type: collab\n",
    "permalink: /methods-and-control-structures-frq\n",
    "courses: {csa: {week: 16}}\n",
    "author: Nitin Balaji, Saathvik Gampa, Aidan Lau\n",
    "---"
   ]
  },
  {
   "cell_type": "markdown",
   "metadata": {
    "vscode": {
     "languageId": "plaintext"
    }
   },
   "source": [
    "# Methods\n",
    "\n",
    "## What are methods?\n",
    "- Reusable code that performs specific tasks.\n",
    "- Helps break down programs into manageable parts.\n",
    "\n",
    "## Key Parts of a Method:\n",
    "- Declaration: Defines the method `(e.g., public int add(int a, int b))`.\n",
    "- Return Types: Specifies what the method returns `(int, void, etc.)`.\n",
    "- Parameters: Inputs for dynamic behavior.\n",
    "\n",
    "## Types of Methods:\n",
    "- Instance: Belongs to objects (e.g., myObject.method()).\n",
    "- Static: Belongs to the class (e.g., ClassName.method()).\n",
    "\n",
    "# Control Structures: Directing Program Flow\n",
    "\n",
    "## Conditional Statements:\n",
    "- Use if, else if, and else to make decisions.\n",
    "- Example:\n",
    "```java\n",
    "if (x > 0) {\n",
    "    System.out.println(\"Positive\");\n",
    "}\n",
    "```\n",
    "\n",
    "## Loops:\n",
    "- Repeat code using:\n",
    "    - for: Known iterations (e.g., for (int i = 0; i < 5; i++)).\n",
    "    - while: Runs while a condition is true.\n",
    "    - do-while: Runs at least once."
   ]
  },
  {
   "cell_type": "markdown",
   "metadata": {},
   "source": [
    "# Analyis of FRQ and question"
   ]
  },
  {
   "cell_type": "markdown",
   "metadata": {},
   "source": [
    "# Scoring Guidlines\n",
    "\n",
    "## Penalty Guidlines\n",
    "\n",
    "### 1-Point Penalty\n",
    "- Array/collection access confusion (`[] get`)\n",
    "- Extraneous code that causes side-effect (e.g., printing to output, incorrect precondition check)\n",
    "- Local variables used but none declared\n",
    "- Destruction of persistent data (e.g., changing value referenced by parameter)\n",
    "- Void method or constructor that returns a value\n",
    "\n",
    "### No Penalty\n",
    "- Extraneous code with no side-effect (e.g., valid precondition check, no-op)\n",
    "- Spelling/case discrepancies where there is no ambiguity *\n",
    "- Local variable not declared provided other variables are declared in some part\n",
    "- `private` or `public` qualifier on a local variable\n",
    "- Missing `public` qualifier on class or constructor header\n",
    "- Keyword used as an identifier\n",
    "- Common mathematical symbols used for operators (`x • ÷ < ≥ <>#`)\n",
    "- `[]` VS. `()` vs. `<>`\n",
    "`=` instead of `==` and vice versa\n",
    "`length` / `size` confusion for array, `String`, `List`, or `ArrayList`; with or without `()`\n",
    "Extraneous `[]` when referencing entire array \n",
    "- `[i,j]` instead of `[i][j]`\n",
    "Extraneous size in array declaration, e.g., `int[size] nums = new int[size];`\n",
    "Missing `;` where structure clearly conveys intent\n",
    "Missing where indentation clearly conveys intent\n",
    "Missing `( )` on parameter-less method or constructor invocations\n",
    "Missing `( )` around `if` or `while` conditions\n",
    "\n",
    "* Spelling and case discrepancies for identifiers fall under the \"No Penalty\" category only if the correction can be **unambiguously** inferred from context, for example, \"`ArayList`\" instead of \"`ArrayList`\". As a counterexample, note that if the code declares \"`int G=99, g=0;`\", then uses \"`while (G < 10)`\" instead of \"`while (g < 10)`\", the context does not allow for the reader to assume the use of the lower-case variable."
   ]
  }
 ],
 "metadata": {
  "language_info": {
   "name": "python"
  }
 },
 "nbformat": 4,
 "nbformat_minor": 2
}
