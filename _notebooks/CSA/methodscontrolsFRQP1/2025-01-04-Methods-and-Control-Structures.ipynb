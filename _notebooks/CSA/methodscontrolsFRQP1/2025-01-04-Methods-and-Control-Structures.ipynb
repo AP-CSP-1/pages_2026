{
 "cells": [
  {
   "cell_type": "markdown",
   "metadata": {},
   "source": [
    "---\n",
    "toc: false\n",
    "layout: post\n",
    "title: Methods and Control Structures FRQ\n",
    "type: ccc\n",
    "permalink: /methods-and-control-structures-frq\n",
    "courses: {csa: {week: 16}}\n",
    "author: Nitin Balaji, Saathvik Gampa, Aidan Lau\n",
    "---"
   ]
  },
  {
   "cell_type": "markdown",
   "metadata": {
    "vscode": {
     "languageId": "plaintext"
    }
   },
   "source": [
    "# Methods\n",
    "\n",
    "## What are methods?\n",
    "- Reusable code that performs specific tasks.\n",
    "- Helps break down programs into manageable parts.\n",
    "\n",
    "## Key Parts of a Method:\n",
    "- Modifier: Describes the method's properties.\n",
    "    - Access Modifiers: Determines who can access the method `(e.g., public, private)`.\n",
    "        - `public`: Accessible everywhere.\n",
    "        - `private`: Accessible only within the class.\n",
    "        - `protected`: Accessible within the package and subclasses.\n",
    "        - Default (no modifier): Accessible within the package.\n",
    "    - Non-Access Modifiers: Additional properties of the method `(e.g., static, final)`.\n",
    "        - `static`: Belongs to the class, not the object.\n",
    "        - `final`: Cannot be overridden.\n",
    "- Method name: Defines the method `(e.g., public int add(int a, int b))`.\n",
    "- Return Types: Specifies what the method returns `(int, void, etc.)`.\n",
    "- Parameters: Inputs for dynamic behavior.\n",
    "- Method Body: Contains the code to be executed.\n",
    "![image](https://miro.medium.com/v2/resize:fit:630/0*bt3A3cwsE3TeIDDP.png)\n",
    "\n",
    "## Types of Methods:\n",
    "- Instance: Belongs to objects (e.g., myObject.method()).\n",
    "- Static: Belongs to the class (e.g., ClassName.method()).\n",
    "\n",
    "# Control Structures:\n",
    "\n",
    "## Conditional Statements:\n",
    "- Use if, else if, and else to make decisions.\n",
    "- Example:\n",
    "```java\n",
    "if (x > 0) {\n",
    "    System.out.println(\"Positive\");\n",
    "}\n",
    "```\n",
    "\n",
    "## Loops:\n",
    "- Repeat code using:\n",
    "    - **`for`**: Known iterations (e.g., `for (int i = 0; i < 5; i++)`). \n",
    "    \n",
    "      <img src=\"https://media.geeksforgeeks.org/wp-content/uploads/20230329132110/Java-For-loop-with-Examples-1-768.png\" alt=\"for loop\" width=\"400\">\n",
    "\n",
    "    - **`while`**: Runs while a condition is true.  \n",
    "\n",
    "      <img src=\"https://media.geeksforgeeks.org/wp-content/uploads/20191118164726/While-Loop-GeeksforGeeks.jpg\" alt=\"while loop\" width=\"400\">\n",
    "\n",
    "    - **`do-while`**: Runs at least once.  \n",
    "    \n",
    "      <img src=\"https://media.geeksforgeeks.org/wp-content/uploads/20191118154342/do-while-Loop-GeeksforGeeks2.jpg\" alt=\"do-while loop\" width=\"400\">"
   ]
  },
  {
   "cell_type": "markdown",
   "metadata": {},
   "source": [
    "## Tips for Tackling Methods and Control Structures FRQs:\n",
    "\n",
    "- **Reuse Existing Methods:**\n",
    "    - If methods are already defined, use them instead of writing your own.\n",
    "- **Loops:**\n",
    "    - Pay attention to for/while loop limits to avoid infinite loops or skipping conditions.\n",
    "\t- Avoid using break or continue unless explicitly required.\n",
    "- **Return Statements:**\n",
    "\t- Double-check what needs to be returned and ensure the return type matches the expected variable type.\n",
    "\t- Be mindful of return placement in loops; returning inside a loop will terminate both the loop and the method.\n",
    "- **Watch for Method Requirements:**\n",
    "\t- Each question or sub-part may specify, “To get full credit, you must use method XYZ.” Read carefully and follow instructions for each part.\n",
    "- **Single-Class vs. Multi-Class Questions:**\n",
    "\t- Single-class questions focus on concepts within one class\n",
    "\t- Multi-class questions require interactions between classes\n",
    "- **Conditional Statements and Loops:**\n",
    "\t- Expect basic concepts like `if`, `if-else`, `while`, `for`, and nested loops.\n",
    "\t- Strings are also common in these questions.\n",
    "- **Calling Methods:**\n",
    "\t- Same Class: Call methods directly (e.g., `methodName()`).\n",
    "\t- Multi-Class: Use an instance of the other class (e.g., `object.methodName()`) or the class name for static methods (e.g., `ClassName.methodName()`).\n",
    "- **Common Algorithms to Practice:**\n",
    "\t- Searching (e.g., linear search).\n",
    "\t- Finding maximum or minimum values.\n",
    "\t- Counting specific occurrences (e.g., vowels in a string, even numbers in an array)."
   ]
  },
  {
   "cell_type": "markdown",
   "metadata": {},
   "source": [
    "# Analyis of FRQ and question\n",
    "\n",
    "We will be analyzing one FRQ in class and assigning one for homework.\n",
    "\n",
    "\n",
    "FRQ Question 1 on Control Structures will probably involve:\n",
    "\n",
    "- a for-loop that probably uses the method’s parameter variables,\n",
    "\n",
    "- an if statement, probably inside the loop,\n",
    "\n",
    "- calls to other class methods given to you,\n",
    "\n",
    "- a numerical or string value that is calculated by the loop and returned at the end of the method.\n",
    "\n",
    "- if the question has 2 parts, 1 part will probably require a loop and the other just an expression."
   ]
  },
  {
   "cell_type": "markdown",
   "metadata": {},
   "source": [
    "Write the static method numberOfLeapYears, which returns the number of leap years between year1 and year2, inclusive. In order to calculate this value, a helper method is provided for you.\n",
    "\n",
    "isLeapYear(year) returns true if year is a leap year and false otherwise.\n",
    "\n",
    "In part A you must use the \"numberOfLeapYears\" function to receive Credit.\n",
    "\n",
    "[Insert Images for Part A]"
   ]
  },
  {
   "cell_type": "code",
   "execution_count": null,
   "metadata": {
    "vscode": {
     "languageId": "plaintext"
    }
   },
   "outputs": [],
   "source": [
    "public static int numberOfLeapYears(int year1, int year2)\n",
    "{\n",
    "    int count = 0;\n",
    "    for (int y = year1; y <= year2; y++)\n",
    "    {\n",
    "        if (isLeapYear(y)) // makes sure to use the isLeapYear to make sure it received Credit\n",
    "        {\n",
    "            count++;\n",
    "        }\n",
    "    }\n",
    "    return count;\n",
    "} "
   ]
  },
  {
   "cell_type": "markdown",
   "metadata": {},
   "source": [
    "# Scoring Guidlines\n",
    "\n",
    "## Penalty Guidlines\n",
    "\n",
    "### 1-Point Penalty\n",
    "- Array/collection access confusion (`[] get`)\n",
    "- Extraneous code that causes side-effect (e.g., printing to output, incorrect precondition check)\n",
    "- Local variables used but none declared\n",
    "- Destruction of persistent data (e.g., changing value referenced by parameter)\n",
    "- Void method or constructor that returns a value\n",
    "\n",
    "### No Penalty\n",
    "- Extraneous code with no side-effect (e.g., valid precondition check, no-op)\n",
    "- Spelling/case discrepancies where there is no ambiguity *\n",
    "- Local variable not declared provided other variables are declared in some part\n",
    "- `private` or `public` qualifier on a local variable\n",
    "- Missing `public` qualifier on class or constructor header\n",
    "- Keyword used as an identifier\n",
    "- Common mathematical symbols used for operators (`x • ÷ < ≥ <>#`)\n",
    "- `[]` VS. `()` vs. `<>`\n",
    "`=` instead of `==` and vice versa\n",
    "`length` / `size` confusion for array, `String`, `List`, or `ArrayList`; with or without `()`\n",
    "- Extraneous `[]` when referencing entire array \n",
    "- `[i,j]` instead of `[i][j]`\n",
    "- Extraneous size in array declaration, e.g., `int[size] nums = new int[size];`\n",
    "- Missing `;` where structure clearly conveys intent\n",
    "- Missing where indentation clearly conveys intent\n",
    "- Missing `( )` on parameter-less method or constructor invocations\n",
    "- Missing `( )` around `if` or `while` conditions\n",
    "\n",
    "<br>\n",
    "\n",
    "\\* Spelling and case discrepancies for identifiers fall under the \"No Penalty\" category only if the correction can be **unambiguously** inferred from context, for example, \"`ArayList`\" instead of \"`ArrayList`\". As a counterexample, note that if the code declares \"`int G=99, g=0;`\", then uses \"`while (G < 10)`\" instead of \"`while (g < 10)`\", the context does not allow for the reader to assume the use of the lower-case variable."
   ]
  }
 ],
 "metadata": {
  "language_info": {
   "name": "python"
  }
 },
 "nbformat": 4,
 "nbformat_minor": 2
}
