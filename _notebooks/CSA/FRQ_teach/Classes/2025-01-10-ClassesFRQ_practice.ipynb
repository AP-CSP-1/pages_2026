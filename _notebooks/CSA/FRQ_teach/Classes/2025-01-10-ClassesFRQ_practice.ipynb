{
 "cells": [
  {
   "cell_type": "markdown",
   "metadata": {},
   "source": [
    "---\n",
    "layout: post\n",
    "toc: true\n",
    "title: FRQ Teaching | Classes | Practice\n",
    "description: Lesson for class FRQs\n",
    "categories: [AP CSA]\n",
    "menu: nav/FRQ_teach/classes.html\n",
    "author: Ian Wu, Trevor Huang, Alisha Hussain\n",
    "permalink: /csa/frqclasses/homework\n",
    "---"
   ]
  },
  {
   "cell_type": "markdown",
   "metadata": {
    "vscode": {
     "languageId": "java"
    }
   },
   "source": [
    "![Page 1](../../images/FRQ_teach/image2.png)\n",
    "![Page 2](../../images/FRQ_teach/image3.png)"
   ]
  }
 ],
 "metadata": {
  "language_info": {
   "name": "python"
  }
 },
 "nbformat": 4,
 "nbformat_minor": 2
}
