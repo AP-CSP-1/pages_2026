{
 "cells": [
  {
   "cell_type": "markdown",
   "metadata": {},
   "source": [
    "---\n",
    "layout: post\n",
    "comments: true\n",
    "title: 2D Arrays Pt 2 - FRQ Walkthrough\n",
    "categories: [AP CSA]\n",
    "menu: nav/FRQ_teach/p1-2darrayspt2.html\n",
    "permalink: /csa/p1-frq-2darrayspt2/walkthrough\n",
    "courses: { csa: {week: 18} }\n",
    "---"
   ]
  }
 ],
 "metadata": {
  "language_info": {
   "name": "python"
  }
 },
 "nbformat": 4,
 "nbformat_minor": 2
}
