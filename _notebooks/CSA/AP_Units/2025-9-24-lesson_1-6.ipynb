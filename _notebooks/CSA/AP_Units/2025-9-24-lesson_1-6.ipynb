{
 "cells": [
  {
   "cell_type": "raw",
   "id": "c45bf0b6",
   "metadata": {
    "vscode": {
     "languageId": "raw"
    }
   },
   "source": [
    "---\n",
    "layout: lessonbase\n",
    "title: Lesson 1.6 - Compound Assignment Operators\n",
    "description: \"AP Computer Science A Lesson on Compound Assignment Operators\"\n",
    "permalink: /csa/apunits/lesson1-6\n",
    "\n",
    "sidebar_title: \"CSA Unit Lessons\"\n",
    "lesson_links:\n",
    "  - { text: \"Lesson 1.6: Compound Assignment Operators\", url: \"/csa/apunits/lesson1-6\" }\n",
    "  - { text: \"Lesson 1.6 Hacks\", url: \"/csa/apunits/lesson1-6/hacks\" }\n",
    "  - { text: \"Lesson 1.14: Calling Instance Methods\", url: \"/csa/apunits/lesson1-14\" }\n",
    "  - { text: \"Lesson 1.14 Hacks\", url: \"/csa/apunits/lesson1-14/hacks\" }\n",
    "\n",
    "enable_timer: true\n",
    "enable_ai_grading: true\n",
    "enable_progress: true\n",
    "progress_total: 6\n",
    "enable_badges: true\n",
    "lesson_key: \"1.6 Lesson\"\n",
    "lesson_badges:\n",
    "    - \"1.6\"\n",
    "\n",
    "next_url: \"/csa/apunits/lesson1-6/hacks\"\n",
    "---"
   ]
  },
  {
   "cell_type": "markdown",
   "id": "4ab2f3f9",
   "metadata": {},
   "source": [
    "# Compound Assignment Operators (AP CS A, Unit 1.6)\n",
    "\n",
    "---\n",
    "\n",
    "## 🎯 Learning Goals\n",
    "- Understand what compound assignment operators are and how they relate to full assignment (e.g. `x = x + y`).\n",
    "- Know the common operators (`+=, -=, *=, /=, %=`) and what they do.\n",
    "- Learn about increment (`++`) and decrement (`--`) operators in post-form (since prefix is out of scope for the AP exam).\n",
    "- Be able to trace evaluation order, including how the RHS is evaluated first, type conversions / narrowing, then assignment.\n",
    "- Be aware of common pitfalls: using before initialization, confusing post vs pre, type mismatches.\n",
    "\n",
    "---\n",
    "\n",
    "## 📌 What Are They?\n",
    "A **compound assignment operator** combines an arithmetic (or other) operation with assignment in one statement.  \n",
    "\n",
    "Instead of writing:\n",
    "```java\n",
    "score = score + 10;\n",
    "\n"
   ]
  },
  {
   "cell_type": "markdown",
   "id": "64d258dd",
   "metadata": {},
   "source": [
    "You can write:\n",
    "```java\n",
    "score += 10;"
   ]
  },
  {
   "cell_type": "markdown",
   "id": "e356a2b6",
   "metadata": {},
   "source": [
    "**Table of Different Operations in Java**\n",
    "| Operator              | Equivalent Full Form | Purpose / Typical Use                                                                                          |\n",
    "| --------------------- | -------------------- | -------------------------------------------------------------------------------------------------------------- |\n",
    "| `+=`                  | `x = x + y`          | Add to a running total; accumulate; string concatenation when LHS is a String.                                 |\n",
    "| `-=`                  | `x = x - y`          | Subtract / reduce something (e.g. subtract a cost, penalty).                                                   |\n",
    "| `*=`                  | `x = x * y`          | Multiply — useful for scaling, growth, repeated doubling or factors.                                           |\n",
    "| `/=`                  | `x = x / y`          | Divide — scaling down; used in averages, proportions. (Watch out: integer division if both operands are ints.) |\n",
    "| `%=`                  | `x = x % y`          | Remainder after division — wrap-around logic, parity checks, keeping things within bounds.                     |\n",
    "| `++`                      | `x = x + 1`          | Add one; often used in loops, counters.                                                                        |\n",
    "| `--`                      | `x = x - 1`          | Subtract one; used in loops, decrementing counters.                                                            |\n"
   ]
  },
  {
   "cell_type": "markdown",
   "id": "875d8f88",
   "metadata": {},
   "source": [
    "Hack #1: Rewrite this code using compound assignment operators instead of the long forms.\n",
    "\n",
    "```java\n",
    "int points = 50;\n",
    "points = points + 25;\n",
    "points = points - 10;\n",
    "points = points * 2;\n",
    "points = points / 5;\n"
   ]
  },
  {
   "cell_type": "markdown",
   "id": "1095fe00",
   "metadata": {},
   "source": [
    "**Examples to further understand this concept:**\n",
    "```java\n",
    "public class Example {\n",
    "  public static void main(String[] args) {\n",
    "    int score = 100;\n",
    "    double average = 85.5;\n",
    "\n",
    "    score += 50;       // score = 150\n",
    "    score -= 25;       // score = 125\n",
    "    score *= 2;        // score = 250\n",
    "    score /= 5;        // score = 50  (integer division)\n",
    "    score %= 15;       // score = 5   (50 % 15)\n",
    "\n",
    "    average += 4.5;    // average = 90.0\n",
    "\n",
    "    int count = 0;\n",
    "    count++;           // count = 1\n",
    "    count--;           // count = 0\n",
    "  }\n",
    "}"
   ]
  },
  {
   "cell_type": "markdown",
   "id": "b821cce5",
   "metadata": {},
   "source": [
    "Hack #2: Write a short program where a variable called ```score``` starts at 100. Use at least three different compound assignment operators to update score, and print the result after each step.\n",
    "\n",
    "Example goals to try:\n",
    "1. Deduct points for a wrong answer (```-=```)\n",
    "2. Double the score with a power-up (```*=```)\n",
    "3. Find remainder after dividing by 7 (```%=```)"
   ]
  },
  {
   "cell_type": "markdown",
   "id": "466d1427",
   "metadata": {},
   "source": [
    "**Common Mistakes:**\n",
    "1. Using a compound assignment on a variable that hasn’t been initialized.\n",
    "2. Misunderstanding integer vs floating-point division.\n",
    "3. Expecting ```++``` or ```--``` to work in prefix form (```++x```) — out of scope.\n",
    "4. Forgetting that integer division truncates decimals.\n",
    "5. Assuming evaluation order is left-to-right without considering RHS evaluation."
   ]
  },
  {
   "cell_type": "markdown",
   "id": "f7f65161",
   "metadata": {},
   "source": [
    "**Important Rules to keep in mind that are AP Test-Specific:**\n",
    "1. You can only use these when the variable on the left already exists and has a value.\n",
    "\n",
    "2. The right-hand side (RHS) is fully evaluated first; then the operation is applied; then the result is assigned back.\n",
    "\n",
    "3. Java may do an implicit narrowing conversion when the LHS is a smaller primitive type (e.g. ```short```, ```byte```).\n",
    "\n",
    "4. Integer division: when you divide two ints, the fractional part is truncated. Be careful with ```/=```.\n",
    "\n",
    "5. ```%``` (modulo) operation for negatives preserves the sign of the left operand in Java.\n",
    "\n",
    "6. Only post-form (```x++```, ```x--```) is in scope for the AP exam. Prefix forms (++x) are out of scope."
   ]
  }
 ],
 "metadata": {
  "language_info": {
   "name": "python"
  }
 },
 "nbformat": 4,
 "nbformat_minor": 5
}
