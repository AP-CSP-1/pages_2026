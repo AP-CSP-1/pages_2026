{
 "cells": [
  {
   "cell_type": "raw",
   "id": "bc117346",
   "metadata": {
    "vscode": {
     "languageId": "raw"
    }
   },
   "source": [
    "---\n",
    "layout: lessonbase\n",
    "title: Lesson 1.6 - \n",
    "description: \"Description Goes Here\"\n",
    "permalink: /csa/apunits/lesson1-6\n",
    "\n",
    "sidebar_title: \"CSA Unit Lessons\"\n",
    "lesson_links:\n",
    "  - { text: \"Lesson 1: 1.6: \", url: \"/agile/pair_trio\" }\n",
    "  - { text: \"Lesson 2: Frontend\", url: \"/snake/lesson/frontend\" }\n",
    "  - { text: \"Lesson 3: Programming Fundamentals\", url: \"/snake/lesson/fundamentals\" }\n",
    "  - { text: \"Lesson 4: Hacks\", url: \"/snake/lesson/hacks\" }\n",
    "  - { text: \"End of Lesson Quiz\", url: \"/snake/lesson/quiz\" }\n",
    "  - { text: \"Future References\", url: \"/snake/lesson/future-references\" }\n",
    "\n",
    "enable_timer: true\n",
    "enable_ai_grading: true\n",
    "enable_progress: true\n",
    "progress_total: 6\n",
    "enable_badges: true\n",
    "lesson_key: \"problem-solving\"\n",
    "lesson_badges:\n",
    "    - \"problem-solving\"\n",
    "\n",
    "resources:\n",
    "    - { text: \"MDN: Game Development\", url: \"https://developer.mozilla.org/en-US/docs/Games\" }\n",
    "    - { text: \"JavaScript Info\", url: \"https://javascript.info\" }\n",
    "    - { text: \"Canvas API Reference\", url: \"https://developer.mozilla.org/en-US/docs/Web/API/Canvas_API\" }\n",
    "\n",
    "prev_url: \"/snake/lesson/fundamentals\"\n",
    "next_url: \"/snake/lesson/quiz\"\n",
    "---"
   ]
  }
 ],
 "metadata": {
  "language_info": {
   "name": "python"
  }
 },
 "nbformat": 4,
 "nbformat_minor": 5
}
