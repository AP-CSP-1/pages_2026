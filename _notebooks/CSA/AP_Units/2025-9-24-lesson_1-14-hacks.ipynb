{
 "cells": [
  {
   "cell_type": "raw",
   "id": "bc117346",
   "metadata": {
    "vscode": {
     "languageId": "raw"
    }
   },
   "source": [
    "---\n",
    "layout: lessonbase\n",
    "title: Lesson 1.14 - Calling Instance Methods - Hacks\n",
    "description: \"Hacks for AP Computer Science A Lesson on Calling Instance Methods\"\n",
    "permalink: /csa/apunits/lesson1-14/hacks\n",
    "\n",
    "sidebar_title: \"CSA Unit Lessons\"\n",
    "lesson_links:\n",
    "  - { text: \"Lesson 1.6: Compound Assignment Operators\", url: \"/csa/apunits/lesson1-6\" }\n",
    "  - { text: \"Lesson 1.6 Hacks\", url: \"/csa/apunits/lesson1-6/hacks\" }\n",
    "  - { text: \"Lesson 1.14: Calling Instance Methods\", url: \"/csa/apunits/lesson1-14\" }\n",
    "  - { text: \"Lesson 1.14 Hacks\", url: \"/csa/apunits/lesson1-14/hacks\" }\n",
    "\n",
    "enable_timer: true\n",
    "enable_ai_grading: true\n",
    "enable_progress: true\n",
    "progress_total: 6\n",
    "enable_badges: true\n",
    "lesson_key: \"1.14 Hacks\"\n",
    "lesson_badges:\n",
    "    - \"1.14 Hacks\"\n",
    "\n",
    "prev_url: \"/csa/apunits/lesson1-14\"\n",
    "---"
   ]
  },
  {
   "cell_type": "markdown",
   "id": "95a43c00",
   "metadata": {},
   "source": [
    "# Homework Assignment for Unit 1.14\n",
    "\n",
    "**Due:** [Insert due date here]  \n",
    "**Points:** [Insert point value]  \n",
    "\n",
    "---\n",
    "\n",
    "## Assignment Overview\n",
    "\n",
    "(Insert Assignment Overview)\n",
    "\n",
    "## Requirements\n",
    "\n",
    "Your program must include:\n",
    "(Insert Requirements)\n",
    "\n",
    "---"
   ]
  },
  {
   "cell_type": "markdown",
   "id": "e89ee536",
   "metadata": {},
   "source": [
    "Insert Homework Hack (possibly give options?)"
   ]
  },
  {
   "cell_type": "markdown",
   "id": "31abc95d",
   "metadata": {},
   "source": [
    "Insert a Sample Output of the Homework hack to frame what we want to see in the personal blog"
   ]
  },
  {
   "cell_type": "markdown",
   "id": "bba65c5a",
   "metadata": {},
   "source": [
    "## Submission Instructions\n",
    "**Create a section on your personal blog documenting one of the three provided options. Insert the rubric provided below and self-grade yourself with comments as to why you think you deserved that grade. Add screenshots/proof of your code as proof that you fulfilled all the rubric requirements in your blog along with a screenshot of the output (similar to the one provided above). After updating your blog, please submit a personal blog link of your completed assignment to the google form link inserted in the 'CSA Sign Up Sheet - Team Teach - Trimester 1' spreadsheet.**\n",
    "\n",
    "## Grading Rubric\n",
    "\n",
    "| Criteria | Percent Weight | Description |\n",
    "|----------|--------|-------------|\n",
    "| *Functionality* | 40% | Program runs without errors and produces correct output |\n",
    "| *Operator Usage* | 30% | Uses at least 3 different compound assignment operators correctly |\n",
    "| *Code Quality* | 20% | Clean code with meaningful variable names and good comments |\n",
    "| *Output & Presentation* | 10% | Clear, well-formatted output that tells a story |\n",
    "\n",
    "(Edit these to match whatever homework is assigned)\n",
    "\n",
    "---\n",
    "\n",
    "## Tips for Getting Started\n",
    "\n",
    "- Review the lesson notes for operator syntax and examples\n",
    "- Check the \"Sample Output\" example for structure ideas\n",
    "- Remember: Test your hack multiple times and add updates in small increments incase you run into an error\n",
    "\n",
    "(Edit these to match whatever homework is assigned)\n",
    "\n",
    "\n",
    "## Tips for Success\n",
    "\n",
    "1. **Start simple** - Get basic functionality working first, then add complexity\n",
    "2. **Make it realistic** - Use numbers and scenarios that make sense\n",
    "3. **Tell a story** - Your output should read like a narrative of what's happening\n",
    "4. **Test your math** - Double-check that your operations produce expected results\n",
    "5. **Comment your code** - Explain what each operation represents in real life\n",
    "\n",
    "(Edit these to match whatever homework is assigned)\n",
    "\n",
    "---\n",
    "## Bonus Challenges (Optional)\n",
    "Want to go above and beyond? Try adding:\n",
    "\n",
    "(Insert bonus challenges)\n",
    "\n",
    "##### **Good luck, and have fun bringing your scenario to life!** "
   ]
  }
 ],
 "metadata": {
  "language_info": {
   "name": "python"
  }
 },
 "nbformat": 4,
 "nbformat_minor": 5
}
