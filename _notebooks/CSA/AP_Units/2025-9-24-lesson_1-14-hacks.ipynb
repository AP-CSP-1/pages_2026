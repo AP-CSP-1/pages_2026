{
 "cells": [
  {
   "cell_type": "raw",
   "id": "bc117346",
   "metadata": {
    "vscode": {
     "languageId": "raw"
    }
   },
   "source": [
    "---\n",
    "layout: lessonbase\n",
    "title: Lesson 1.14 - Calling Instance Methods - Hacks\n",
    "description: \"Hacks for AP Computer Science A Lesson on Calling Instance Methods\"\n",
    "permalink: /csa/apunits/lesson1-14/hacks\n",
    "\n",
    "sidebar_title: \"CSA Unit Lessons\"\n",
    "lesson_links:\n",
    "  - { text: \"Lesson 1.6: Compound Assignment Operators\", url: \"/csa/apunits/lesson1-6\" }\n",
    "  - { text: \"Lesson 1.6 Hacks\", url: \"/csa/apunits/lesson1-6/hacks\" }\n",
    "  - { text: \"Lesson 1.14: Calling Instance Methods\", url: \"/csa/apunits/lesson1-14\" }\n",
    "  - { text: \"Lesson 1.14 Hacks\", url: \"/csa/apunits/lesson1-14/hacks\" }\n",
    "\n",
    "enable_timer: true\n",
    "enable_ai_grading: true\n",
    "enable_progress: true\n",
    "progress_total: 6\n",
    "enable_badges: true\n",
    "lesson_key: \"1.14 Hacks\"\n",
    "lesson_badges:\n",
    "    - \"1.14 Hacks\"\n",
    "\n",
    "prev_url: \"/csa/apunits/lesson1-14\"\n",
    "---"
   ]
  }
 ],
 "metadata": {
  "language_info": {
   "name": "python"
  }
 },
 "nbformat": 4,
 "nbformat_minor": 5
}
