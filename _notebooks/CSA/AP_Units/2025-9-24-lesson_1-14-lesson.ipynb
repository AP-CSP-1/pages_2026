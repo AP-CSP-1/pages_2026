{
 "cells": [
  {
   "cell_type": "raw",
   "id": "bc117346",
   "metadata": {
    "vscode": {
     "languageId": "raw"
    }
   },
   "source": [
    "---\n",
    "layout: lessonbase\n",
    "title: Lesson 1.14 - Calling Instance Methods\n",
    "description: \"AP Computer Science A Lesson on Calling Instance Methods\"\n",
    "permalink: /csa/apunits/lesson1-14\n",
    "\n",
    "sidebar_title: \"CSA Unit Lessons\"\n",
    "lesson_links:\n",
    "  - { text: \"Lesson 1.6: Compound Assignment Operators\", url: \"/csa/apunits/lesson1-6\" }\n",
    "  - { text: \"Lesson 1.6 Hacks\", url: \"/csa/apunits/lesson1-6/hacks\" }\n",
    "  - { text: \"Lesson 1.14: Calling Instance Methods\", url: \"/csa/apunits/lesson1-14\" }\n",
    "  - { text: \"Lesson 1.14 Hacks\", url: \"/csa/apunits/lesson1-14/hacks\" }\n",
    "\n",
    "enable_timer: true\n",
    "enable_ai_grading: true\n",
    "enable_progress: true\n",
    "progress_total: 6\n",
    "enable_badges: true\n",
    "lesson_key: \"1.6 Lesson\"\n",
    "lesson_badges:\n",
    "    - \"1.6\"\n",
    "\n",
    "prev_url: \"/csa/apunits/lesson1-6/hacks\"\n",
    "next_url: \"/csa/apunits/lesson1-14/hacks\"\n",
    "---"
   ]
  },
  {
   "cell_type": "markdown",
   "id": "59676d5b",
   "metadata": {},
   "source": [
    "## What is an instance method?\n",
    "\n",
    "An **instance method** is a method (function) defined in a class that operates on a particular instance (object) of that class.\n",
    "\n",
    "- It can access that object’s instance variables (its state) and perform actions using or modifying them.\n",
    "- To use an instance method, you first need an object (an instance), then you call the method via that object."
   ]
  },
  {
   "cell_type": "markdown",
   "id": "4cfe67c0",
   "metadata": {},
   "source": [
    "### Class methods vs. instance methods\n",
    "\n",
    "| Kind           | Called on         | Can access                  | Typical use                         |\n",
    "|----------------|-------------------|-----------------------------|-------------------------------------|\n",
    "| Class method   | the class itself  | only static/class variables | behavior common to all objects       |\n",
    "| Instance method| a specific object | that object’s instance variables | behavior specific to that one object |\n"
   ]
  },
  {
   "cell_type": "markdown",
   "id": "f8f90c13",
   "metadata": {},
   "source": [
    "### Visual: Calling Instance Methods\n"
   ]
  },
  {
   "cell_type": "markdown",
   "id": "500189bb",
   "metadata": {
    "vscode": {
     "languageId": "html"
    }
   },
   "source": [
    "```mermaid\n",
    "sequenceDiagram\n",
    "    participant Main\n",
    "    participant c as Counter\n",
    "\n",
    "    Main->>Counter: new Counter()\n",
    "    activate c\n",
    "    Main->>c: add(5)\n",
    "    c-->>Main: (void)\n",
    "    Main->>c: getCount()\n",
    "    c-->>Main: 5\n",
    "    deactivate c\n",
    "```"
   ]
  },
  {
   "cell_type": "markdown",
   "id": "c0666752",
   "metadata": {},
   "source": [
    "## Syntax of calling an instance method:"
   ]
  },
  {
   "cell_type": "code",
   "execution_count": null,
   "id": "4b07c3d9",
   "metadata": {
    "vscode": {
     "languageId": "java"
    }
   },
   "outputs": [],
   "source": [
    "// Suppose we have a class:\n",
    "public class Dog {\n",
    "    private String name;\n",
    "    public Dog(String name) {\n",
    "        this.name = name;\n",
    "    }\n",
    "    public void bark() {\n",
    "        System.out.println(name + \" says: Woof!\");\n",
    "    }\n",
    "}\n",
    "\n",
    "// To use it:\n",
    "Dog d = new Dog(\"Fido\");  // create an instance\n",
    "d.bark();                 // call the instance method on d\n"
   ]
  },
  {
   "cell_type": "markdown",
   "id": "d6466ba5",
   "metadata": {},
   "source": [
    "- ```d.bark();``` invokes the ```bark``` method on the object ```d```.\n",
    "\n",
    "Inside ```bark```, ```this.name``` refers to ```d```’s ```name```.\n",
    "\n",
    "If the method takes parameters, you provide arguments:"
   ]
  },
  {
   "cell_type": "code",
   "execution_count": null,
   "id": "3eec03c5",
   "metadata": {
    "vscode": {
     "languageId": "java"
    }
   },
   "outputs": [],
   "source": [
    "public class Counter {\n",
    "    private int count;\n",
    "    public void add(int x) {\n",
    "        count += x;\n",
    "    }\n",
    "    public int getCount() {\n",
    "        return count;\n",
    "    }\n",
    "}\n",
    "\n",
    "// Use it:\n",
    "Counter c = new Counter();\n",
    "c.add(5);\n",
    "int val = c.getCount();  // returns 5\n"
   ]
  },
  {
   "cell_type": "markdown",
   "id": "5e05ecb6",
   "metadata": {},
   "source": [
    "- ```c.add(5);``` — calls method ```add``` on ```c``` with argument ```5```.\n",
    "- ```c.getCount()```; — calls method that returns an ```int```."
   ]
  },
  {
   "cell_type": "markdown",
   "id": "45c5bc95",
   "metadata": {},
   "source": [
    "## Key points & common errors\n",
    "\n",
    "1. Must have an object reference\n",
    "\n",
    "- You can’t call an instance method from the class name (unless you have a static context). E.g., ```Dog.bark()```; is invalid (unless ```bark``` is static), because ```bark``` needs a specific object.\n",
    "\n",
    "2. Return values vs void methods\n",
    "\n",
    "- A method declared ```void``` doesn’t return anything; you just call it for its side effects (e.g. ```d.bark();```).\n",
    "- A non-void method returns a value; you can use that value in expressions, assign it to variables, etc. (e.g. ```int x = c.getCount();```).\n",
    "\n",
    "3. Passing arguments\n",
    "\n",
    "- If a method requires parameters, you must supply arguments of matching types when calling.\n",
    "\n",
    "4. Chaining (optional / advanced)\n",
    "\n",
    "- If a method returns an object (or the same object), you can chain calls. \n",
    "- E.g. ```obj.method1().method2();``` but this is only applicable when the return types line up."
   ]
  },
  {
   "cell_type": "markdown",
   "id": "e4c6dc8a",
   "metadata": {},
   "source": [
    "## Example: Turtle House\n",
    "\n",
    "Suppose you have a ```Turtle``` class that can move and draw:"
   ]
  },
  {
   "cell_type": "code",
   "execution_count": null,
   "id": "f45cb4f9",
   "metadata": {
    "vscode": {
     "languageId": "java"
    }
   },
   "outputs": [],
   "source": [
    "public class Turtle {\n",
    "    private int x, y;\n",
    "    public void forward(int distance) {\n",
    "        // move the turtle forward by distance\n",
    "    }\n",
    "    public void turnLeft(int degrees) {\n",
    "        // rotate turtle direction\n",
    "    }\n",
    "    public void drawHouse() {\n",
    "        // uses forward and turnLeft to draw a house\n",
    "        forward(50);\n",
    "        turnLeft(90);\n",
    "        forward(50);\n",
    "        // etc.\n",
    "    }\n",
    "}\n"
   ]
  },
  {
   "cell_type": "markdown",
   "id": "cc3469b8",
   "metadata": {},
   "source": [
    "You might use it like:"
   ]
  },
  {
   "cell_type": "code",
   "execution_count": null,
   "id": "fb1a792e",
   "metadata": {
    "vscode": {
     "languageId": "java"
    }
   },
   "outputs": [],
   "source": [
    "Turtle t = new Turtle();\n",
    "t.drawHouse();   // high-level call, internally calls forward, turnLeft, etc."
   ]
  },
  {
   "cell_type": "markdown",
   "id": "83efc1de",
   "metadata": {},
   "source": [
    "Here, ```drawHouse``` is an instance method that, when invoked on ```t```, calls other instance methods (```forward```, ```turnLeft```) on the same object (implicitly ```this.forward(...)```s, etc.)."
   ]
  },
  {
   "cell_type": "markdown",
   "id": "451f2908",
   "metadata": {},
   "source": [
    "### Important Rules to Keep in Mind (AP Test-Specific):\n",
    "\n",
    "1. You must create an object before calling its instance methods. You cannot call an instance method directly on the class name (e.g., ```Dog.bark()``` won't work unless bark is static).\n",
    "2. The object reference cannot be ```null```. If you try to call an instance method on a null reference, you'll get a ```NullPointerException``` at runtime.\n",
    "3. Arguments must match parameter types exactly (or be compatible through widening conversion). The number, order, and types of arguments must match the method signature.\n",
    "4. ```void``` methods don't return values. You cannot assign the result of a ```void``` method to a variable or use it in an expression (e.g., ```int x = d.bark()```; is invalid if ```bark``` is ```void```).\n",
    "5. Method calls are evaluated left-to-right. When chaining methods (e.g., ```obj.method1().method2()```), Java evaluates from left to right, and each method must return an appropriate object for the next call.\n",
    "6. Instance methods can call other instance methods of the same class directly (without needing ```this.```), and they implicitly operate on the same object.\n",
    "7. Parameter names in the method definition don't matter when calling. When you call ```c.add(5)```, the actual argument ```5``` gets passed to whatever the parameter is named in the method definition.\n",
    "8. RetryClaude does not have the ability to run the code it generates yet.Claude can make mistakes. Please double-check responses."
   ]
  }
 ],
 "metadata": {
  "kernelspec": {
   "display_name": "venv",
   "language": "python",
   "name": "python3"
  },
  "language_info": {
   "name": "python",
   "version": "3.8.18"
  }
 },
 "nbformat": 4,
 "nbformat_minor": 5
}
