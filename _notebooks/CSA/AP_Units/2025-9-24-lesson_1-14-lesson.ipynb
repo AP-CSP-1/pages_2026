{
 "cells": [
  {
   "cell_type": "raw",
   "id": "bc117346",
   "metadata": {
    "vscode": {
     "languageId": "raw"
    }
   },
   "source": [
    "---\n",
    "layout: lessonbase\n",
    "title: Lesson 1.14 - Calling Instance Methods\n",
    "description: \"AP Computer Science A Lesson on Calling Instance Methods\"\n",
    "permalink: /csa/apunits/lesson1-14\n",
    "\n",
    "sidebar_title: \"CSA Unit Lessons\"\n",
    "lesson_links:\n",
    "  - { text: \"Lesson 1.6: Compound Assignment Operators\", url: \"/csa/apunits/lesson1-6\" }\n",
    "  - { text: \"Lesson 1.6 Hacks\", url: \"/csa/apunits/lesson1-6/hacks\" }\n",
    "  - { text: \"Lesson 1.14: Calling Instance Methods\", url: \"/csa/apunits/lesson1-14\" }\n",
    "  - { text: \"Lesson 1.14 Hacks\", url: \"/csa/apunits/lesson1-14/hacks\" }\n",
    "\n",
    "enable_timer: true\n",
    "enable_ai_grading: true\n",
    "enable_progress: true\n",
    "progress_total: 6\n",
    "enable_badges: true\n",
    "lesson_key: \"1.6 Lesson\"\n",
    "lesson_badges:\n",
    "    - \"1.6\"\n",
    "\n",
    "prev_url: \"/csa/apunits/lesson1-6/hacks\"\n",
    "next_url: \"/csa/apunits/lesson1-14/hacks\"\n",
    "---"
   ]
  },
  {
   "cell_type": "markdown",
   "id": "59676d5b",
   "metadata": {},
   "source": [
    "## What is an instance method?\n",
    "\n",
    "An **instance method** is a method (function) defined in a class that operates on a particular instance (object) of that class.\n",
    "\n",
    "- It can access that object’s instance variables (its state) and perform actions using or modifying them.\n",
    "- To use an instance method, you first need an object (an instance), then you call the method via that object."
   ]
  },
  {
   "cell_type": "markdown",
   "id": "4cfe67c0",
   "metadata": {},
   "source": [
    "### Class methods vs. instance methods\n",
    "\n",
    "| Kind           | Called on         | Can access                  | Typical use                         |\n",
    "|----------------|-------------------|-----------------------------|-------------------------------------|\n",
    "| Class method   | the class itself  | only static/class variables | behavior common to all objects       |\n",
    "| Instance method| a specific object | that object’s instance variables | behavior specific to that one object |\n"
   ]
  },
  {
   "cell_type": "markdown",
   "id": "f8f90c13",
   "metadata": {},
   "source": [
    "### Visual: Calling Instance Methods\n"
   ]
  },
  {
   "cell_type": "markdown",
   "id": "500189bb",
   "metadata": {
    "vscode": {
     "languageId": "html"
    }
   },
   "source": [
    "```mermaid\n",
    "sequenceDiagram\n",
    "    participant Main\n",
    "    participant c as Counter\n",
    "\n",
    "    Main->>Counter: new Counter()\n",
    "    activate c\n",
    "    Main->>c: add(5)\n",
    "    c-->>Main: (void)\n",
    "    Main->>c: getCount()\n",
    "    c-->>Main: 5\n",
    "    deactivate c\n",
    "```"
   ]
  },
  {
   "cell_type": "markdown",
   "id": "c0666752",
   "metadata": {},
   "source": [
    "## Syntax of calling an instance method:"
   ]
  },
  {
   "cell_type": "code",
   "execution_count": null,
   "id": "4b07c3d9",
   "metadata": {
    "vscode": {
     "languageId": "java"
    }
   },
   "outputs": [],
   "source": [
    "// Suppose we have a class:\n",
    "public class Dog {\n",
    "    private String name;\n",
    "    public Dog(String name) {\n",
    "        this.name = name;\n",
    "    }\n",
    "    public void bark() {\n",
    "        System.out.println(name + \" says: Woof!\");\n",
    "    }\n",
    "}\n",
    "\n",
    "// To use it:\n",
    "Dog d = new Dog(\"Fido\");  // create an instance\n",
    "d.bark();                 // call the instance method on d\n"
   ]
  },
  {
   "cell_type": "markdown",
   "id": "d6466ba5",
   "metadata": {},
   "source": [
    "- ```d.bark();``` invokes the ```bark``` method on the object ```d```.\n",
    "\n",
    "Inside ```bark```, ```this.name``` refers to ```d```’s ```name```.\n",
    "\n",
    "If the method takes parameters, you provide arguments:"
   ]
  },
  {
   "cell_type": "code",
   "execution_count": null,
   "id": "3eec03c5",
   "metadata": {
    "vscode": {
     "languageId": "java"
    }
   },
   "outputs": [],
   "source": [
    "public class Counter {\n",
    "    private int count;\n",
    "    public void add(int x) {\n",
    "        count += x;\n",
    "    }\n",
    "    public int getCount() {\n",
    "        return count;\n",
    "    }\n",
    "}\n",
    "\n",
    "// Use it:\n",
    "Counter c = new Counter();\n",
    "c.add(5);\n",
    "int val = c.getCount();  // returns 5\n"
   ]
  },
  {
   "cell_type": "markdown",
   "id": "5e05ecb6",
   "metadata": {},
   "source": [
    "- ```c.add(5);``` — calls method ```add``` on ```c``` with argument ```5```.\n",
    "- ```c.getCount()```; — calls method that returns an ```int```."
   ]
  }
 ],
 "metadata": {
  "kernelspec": {
   "display_name": "venv",
   "language": "python",
   "name": "python3"
  },
  "language_info": {
   "name": "python",
   "version": "3.8.18"
  }
 },
 "nbformat": 4,
 "nbformat_minor": 5
}
