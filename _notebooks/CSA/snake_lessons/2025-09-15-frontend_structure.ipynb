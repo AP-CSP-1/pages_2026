{
 "cells": [
  {
   "cell_type": "raw",
   "id": "e3786e73",
   "metadata": {
    "vscode": {
     "languageId": "raw"
    }
   },
   "source": [
    "---\n",
    "layout: lessonbase\n",
    "title: Snake Frontend Development\n",
    "description: Learn HTML, CSS, and DOM manipulation through building the Snake game's user interface and visual elements\n",
    "permalink: /snake/lesson/frontend\n",
    "\n",
    "sidebar_title: Snake Lessons\n",
    "lesson_links:\n",
    "  - { text: \"Lesson 1: Frontend\", url: \"/snake/lesson/frontend\" }\n",
    "  - { text: \"Lesson 2: Game Programming Fundamentals\", url: \"/snake/lesson/fundamentals\" }\n",
    "  - { text: \"Lesson 3: Problem Solving\", url: \"/snake/lesson/problem-solving\" }\n",
    "  - { text: \"End of Lesson Quiz\", url: \"/snake/lesson/quiz\" }\n",
    "  - { text: \"Future References\", url: \"/snake/lesson/future-references\" }\n",
    "\n",
    "enable_timer: true\n",
    "enable_progress: true\n",
    "progress_total: 3\n",
    "enable_badges: true\n",
    "lesson_key: \"frontend\"\n",
    "lesson_badges:\n",
    "  - \"frontend\"\n",
    "\n",
    "resources:\n",
    "  - { text: \"MDN: HTML Canvas\", url: \"https://developer.mozilla.org/en-US/docs/Web/API/Canvas_API\" }\n",
    "  - { text: \"CSS Styling Guide\", url: \"https://developer.mozilla.org/en-US/docs/Web/CSS\" }\n",
    "  - { text: \"DOM Manipulation\", url: \"https://developer.mozilla.org/en-US/docs/Web/API/Document_Object_Model\" }\n",
    "  - { text: \"Event Handling\", url: \"https://developer.mozilla.org/en-US/docs/Web/API/EventTarget/addEventListener\" }\n",
    "\n",
    "next_url: \"/snake/lesson/fundamentals\"\n",
    "---\n"
   ]
  }
 ],
 "metadata": {
  "language_info": {
   "name": "python"
  }
 },
 "nbformat": 4,
 "nbformat_minor": 5
}
