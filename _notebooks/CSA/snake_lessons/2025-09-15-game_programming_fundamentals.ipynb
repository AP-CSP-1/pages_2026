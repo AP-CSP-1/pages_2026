{
 "cells": [
  {
   "cell_type": "markdown",
   "id": "f697c411",
   "metadata": {},
   "source": [
    "---\n",
    "layout: lessonbase\n",
    "title: \"Game Programming Fundamentals\"\n",
    "description: \"Learn core programming concepts through Snake game development including variables, functions, loops, conditionals, and data structures.\"\n",
    "type: issues\n",
    "comments: true\n",
    "author: \"Evan S, West S, Ethan W, Nico D\"\n",
    "permalink: /snake/lesson/fundamentals\n",
    "\n",
    "sidebar_title: \"🐍 Snake Lessons\"\n",
    "lesson_links:\n",
    "  - { text: \"Lesson 1: Frontend\", url: \"/snake/lesson/frontend\" }\n",
    "  - { text: \"Lesson 2: Game Programming Fundamentals\", url: \"/snake/lesson/fundamentals\" }\n",
    "  - { text: \"Lesson 3: Problem Solving\", url: \"/snake/lesson/problem-solving\" }\n",
    "  - { text: \"End of Lesson Quiz\", url: \"/snake/lesson/quiz\" }\n",
    "  - { text: \"Snake Game Hacks\", url: \"/snake/lesson/hacks\" }\n",
    "  - { text: \"Future References\", url: \"/snake/lesson/future-references\" }\n",
    "\n",
    "enable_timer: true\n",
    "enable_progress: true\n",
    "progress_total: 6\n",
    "enable_badges: true\n",
    "lesson_key: \"fundamentals\"\n",
    "lesson_badges:\n",
    "  - \"fundamentals\"\n",
    "enable_quiz: true\n",
    "\n",
    "resources:\n",
    "  - { text: \"MDN: JavaScript Basics\", url: \"https://developer.mozilla.org/en-US/docs/Web/JavaScript/Guide\" }\n",
    "  - { text: \"JavaScript Variables\", url: \"https://developer.mozilla.org/en-US/docs/Web/JavaScript/Guide/Grammar_and_types\" }\n",
    "  - { text: \"Functions Reference\", url: \"https://developer.mozilla.org/en-US/docs/Web/JavaScript/Guide/Functions\" }\n",
    "  - { text: \"Control Flow\", url: \"https://developer.mozilla.org/en-US/docs/Web/JavaScript/Guide/Control_flow_and_error_handling\" }\n",
    "\n",
    "prev_url: \"/snake/lesson/frontend\"\n",
    "next_url: \"/snake/lesson/problem-solving\"\n",
    "---\n"
   ]
  }
 ],
 "metadata": {
  "language_info": {
   "name": "python"
  }
 },
 "nbformat": 4,
 "nbformat_minor": 5
}
