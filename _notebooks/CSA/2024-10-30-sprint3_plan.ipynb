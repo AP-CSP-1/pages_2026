{
 "cells": [
  {
   "cell_type": "raw",
   "metadata": {
    "vscode": {
     "languageId": "raw"
    }
   },
   "source": [
    "---\n",
    "layout: post\n",
    "title: Sprint 3 - CSA Objectives \n",
    "description:  Software Development using Spring Boot\n",
    "type: issues \n",
    "courses: { csa: {week: 8} }\n",
    "comments: true\n",
    "---"
   ]
  },
  {
   "cell_type": "markdown",
   "metadata": {},
   "source": [
    "## Issues\n",
    "Teacher and Peer evaluation are critical to our success and improvements.   \n",
    "\n",
    "Be sure to support each meeting objectives by performing self review, providing feedback to peers, and acting on Teacher/Peer feedback received. The best way to support dialog, in our environmnet, is to provide a Review Ticket (GitHub Issues and/or GitHub Pages Utterance).\n",
    "\n",
    "1. Individual Issues.   It is required to build an issue that describes your personal journey in all Sprints.   At the end of this period you should have personal issues/blogs related to Sprint 1, Sprint 2, Sprint 3.\n",
    "\n",
    "2. Team Issue(s).  In order to collaborate there should be issue(s) assigned to you from Team.  Additionally, these issues should show progression from Ideation, Development, Integration (pull request), and how you validated test."
   ]
  },
  {
   "cell_type": "markdown",
   "metadata": {},
   "source": [
    "### Final Evaluation\n",
    "\n",
    "#### Grading Guideline\n",
    "- 55% is minimum per item\n",
    "- 75% is mostly done\n",
    "- 85% is complete\n",
    "- 90% is maximum perfection\n",
    "\n",
    "| **Assignment**                | **Points**    | **Grade** | **Evidence** |\n",
    "|-------------------------------|---------------|-----------|--------------|\n",
    "| Tri 1-3 Review Ticket         | 3             |           |              |\n",
    "| Sprint 3 Team Issue(s)/Plan   | 1             |           |              |\n",
    "| End-2-End Indi Contribution   | 2             |           |              |\n",
    "| N@tM Team Prentation and Proj | 3             |           |              |\n",
    "| Live Review Indi Demo         | 1             |           |              |\n",
    "| **Total**                     | 10            |           |              |\n",
    "\n",
    "\n",
    "| **Skill**                  | **Points**    | **Grade** | **Evidence** |\n",
    "|----------------------------|---------------|-----------|--------------|\n",
    "| Work Habits (Analytics)    |   1           |           |              |\n",
    "| Evidence of Role in Team   |   1           |           |              | \n",
    "| Function / Purpose Design  |   1           |           |              | \n",
    "| Live Review Indi Code      |   2           |           |              | \n",
    "| **Total**                  |   5           |           |              |\n",
    "\n",
    "#### Raw Form\n",
    "\n",
    "```text\n",
    "\n",
    "| **Assignment**                | **Points**    | **Grade** | **Evidence** |\n",
    "|-------------------------------|---------------|-----------|--------------|\n",
    "| Tri 1-3 Review Ticket         | 3             |           |              |\n",
    "| Sprint 3 Team Issue(s)/Plan   | 1             |           |              |\n",
    "| End-2-End Indi Contribution   | 2             |           |              |\n",
    "| N@tM Team Prentation and Proj | 3             |           |              |\n",
    "| Live Review Indi Demo         | 1             |           |              |\n",
    "| **Total**                     | 10            |           |              |\n",
    "\n",
    "\n",
    "| **Skill**                  | **Points**    | **Grade** | **Evidence** |\n",
    "|----------------------------|---------------|-----------|--------------|\n",
    "| Work Habits (Analytics)    |   1           |           |              |\n",
    "| Evidence of Role in Team   |   1           |           |              | \n",
    "| Function / Purpose Design  |   1           |           |              | \n",
    "| Live Review Indi Code      |   2           |           |              | \n",
    "| **Total**                  |   5           |           |              |\n",
    "\n",
    "\n",
    "```"
   ]
  }
 ],
 "metadata": {
  "language_info": {
   "name": "python"
  }
 },
 "nbformat": 4,
 "nbformat_minor": 2
}
