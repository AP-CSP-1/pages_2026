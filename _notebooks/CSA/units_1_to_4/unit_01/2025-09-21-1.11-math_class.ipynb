{
 "cells": [
  {
   "cell_type": "markdown",
   "id": "a9b42124",
   "metadata": {},
   "source": [
    "---\n",
    "layout: post\n",
    "toc: true\n",
    "title: Math Class\n",
    "menu: nav/CSA_Nunits/csaunit1.html\n",
    "permalink: /csa/unit_01/1_11\n",
    "author: Gurshawn, Anvay, Akshay\n",
    "---"
   ]
  },
  {
   "cell_type": "markdown",
   "id": "033c842e",
   "metadata": {},
   "source": [
    "## 🎮 The Problem: Building a Game Without Math Class\n",
    "\n",
    "Imagine you're creating a simple RPG game and you need to:\n",
    "- Calculate a player's damage: 10 × (1.5<sup>level</sup>)\n",
    "- Find the distance between the player and an enemy\n",
    "- Generate random loot drops\n",
    "- Round numbers for displaying stats\n",
    "\n",
    "**Without the Math class, you'd have to write your own code for all of this!** That would be hundreds of lines of complicated algorithms.\n",
    "\n",
    "**With the Math class?** Just a few simple method calls! \n",
    "\n",
    "### 🤔 Think About This:\n",
    "- Have you ever used the x² or √ button on a calculator?\n",
    "- When might you need to generate a random number in a program?\n",
    "- Why would we want to round 47.8 to 48?\n",
    "\n",
    "Let's learn how Java's Math class makes all of this easy!"
   ]
  },
  {
   "cell_type": "markdown",
   "id": "4f107a63",
   "metadata": {},
   "source": [
    "## 📚 What is the Math Class?\n",
    "\n",
    "The **Math Class** is a special tool built into Java that lets you do complex math operations easily.\n",
    "\n",
    "### College Board Essential Knowledge (1.11.A.1):\n",
    "- The Math class is part of the `java.lang` package\n",
    "- You don't need to import it - it's **automatically available** in every Java program\n",
    "- It contains only **static methods** (you call them using `Math.methodName()`)\n",
    "\n",
    "Think of it like having a scientific calculator built right into your code!"
   ]
  },
  {
   "cell_type": "markdown",
   "id": "e3cebf2d",
   "metadata": {},
   "source": [
    "## 🎯 Learning Objective (College Board 1.11.A)\n",
    "\n",
    "**By the end of this lesson, you will be able to:**\n",
    "> Develop code to write expressions that incorporate calls to built-in mathematical libraries and determine the value that is produced\n",
    "\n",
    "In simple terms: You'll learn to use Math class methods in your code and understand what they return!\n",
    "\n",
    "**What you'll master:**\n",
    "1. Using Math.abs() to get absolute values\n",
    "2. Using Math.pow() to calculate powers\n",
    "3. Using Math.sqrt() to find square roots\n",
    "4. Using Math.random() to generate random numbers\n",
    "5. Manipulating random values to create specific ranges"
   ]
  },
  {
   "cell_type": "markdown",
   "id": "733ddb87",
   "metadata": {},
   "source": [
    "## 📖 Important Math Class Methods (College Board 1.11.A.2)\n",
    "\n",
    "These are the methods you NEED to know for the AP CSA exam:\n",
    "\n",
    "| Method | What It Does | Example |\n",
    "|--------|--------------|---------|\n",
    "| `Math.abs(int x)` | Returns the absolute value of an integer | `Math.abs(-5)` returns `5` |\n",
    "| `Math.abs(double x)` | Returns the absolute value of a double | `Math.abs(-7.5)` returns `7.5` |\n",
    "| `Math.pow(double base, double exponent)` | Returns base raised to the power of exponent | `Math.pow(2, 3)` returns `8.0` |\n",
    "| `Math.sqrt(double x)` | Returns the square root of x | `Math.sqrt(25)` returns `5.0` |\n",
    "| `Math.random()` | Returns a random number from 0.0 (inclusive) to 1.0 (exclusive) | `Math.random()` might return `0.537` |\n",
    "\n",
    "### 🔑 Key Points to Remember:\n",
    "1. All these methods are **static** - call them with `Math.methodName()`\n",
    "2. Most return `double` values\n",
    "3. `Math.random()` always returns a value where **0.0 ≤ value < 1.0**\n",
    "4. You can manipulate `Math.random()` to get different ranges (we'll learn this!)\n"
   ]
  },
  {
   "cell_type": "markdown",
   "id": "8aa9c8a9",
   "metadata": {},
   "source": [
    "## 💻 Let's See Them in Action!\n",
    "\n",
    "Now let's write code using each of these methods. Follow along and run the code yourself!\n"
   ]
  },
  {
   "cell_type": "markdown",
   "id": "48b5f0a5",
   "metadata": {},
   "source": [
    "### Example 1: Math.abs() - Absolute Value\n"
   ]
  },
  {
   "cell_type": "code",
   "execution_count": null,
   "metadata": {
    "vscode": {
     "languageId": "java"
    }
   },
   "outputs": [],
   "source": [
    "// Math.abs() removes the negative sign from a number\n",
    "\n",
    "int playerHealth = 75;\n",
    "int enemyHealth = 120;\n",
    "int difference = playerHealth - enemyHealth;  // This is -45\n",
    "\n",
    "System.out.println(\"Raw difference: \" + difference);\n",
    "System.out.println(\"Absolute difference: \" + Math.abs(difference));\n",
    "\n",
    "// Use case: Find out WHO has more health, not if it's positive or negative\n",
    "System.out.println(\"\\nThe health gap is \" + Math.abs(difference) + \" HP\");\n"
   ]
  },
  {
   "cell_type": "markdown",
   "id": "0b326845",
   "metadata": {},
   "source": [
    "### Example 2: Math.pow() - Powers/Exponents\n"
   ]
  },
  {
   "cell_type": "code",
   "execution_count": null,
   "id": "2755a530",
   "metadata": {
    "vscode": {
     "languageId": "java"
    }
   },
   "outputs": [],
   "source": [
    "// Math.pow(base, exponent) calculates base^exponent\n",
    "\n",
    "// Example: Calculate damage that increases with level\n",
    "double baseDamage = 10.0;\n",
    "int level = 5;\n",
    "\n",
    "// Damage formula: baseDamage * (1.5^level)\n",
    "double totalDamage = baseDamage * Math.pow(1.5, level);\n",
    "\n",
    "System.out.println(\"Base Damage: \" + baseDamage);\n",
    "System.out.println(\"At level \" + level + \", damage is: \" + totalDamage);\n",
    "\n",
    "// Another example: 2^10\n",
    "System.out.println(\"\\n2 to the power of 10 = \" + Math.pow(2, 10));\n"
   ]
  },
  {
   "cell_type": "markdown",
   "id": "5a43a307",
   "metadata": {},
   "source": [
    "### Example 3: Math.sqrt() - Square Root\n"
   ]
  },
  {
   "cell_type": "code",
   "execution_count": null,
   "id": "dfc5f563",
   "metadata": {
    "vscode": {
     "languageId": "java"
    }
   },
   "outputs": [],
   "source": [
    "// Math.sqrt() finds the square root\n",
    "\n",
    "// Use case: Distance formula (Pythagorean theorem)\n",
    "// Distance = √((x2-x1)² + (y2-y1)²)\n",
    "\n",
    "double playerX = 3.0;\n",
    "double playerY = 4.0;\n",
    "double enemyX = 0.0;\n",
    "double enemyY = 0.0;\n",
    "\n",
    "// Calculate distance\n",
    "double distance = Math.sqrt(Math.pow(playerX - enemyX, 2) + Math.pow(playerY - enemyY, 2));\n",
    "\n",
    "System.out.println(\"Player is at (\" + playerX + \", \" + playerY + \")\");\n",
    "System.out.println(\"Enemy is at (\" + enemyX + \", \" + enemyY + \")\");\n",
    "System.out.println(\"Distance between them: \" + distance + \" units\");\n"
   ]
  },
  {
   "cell_type": "markdown",
   "id": "20ae2222",
   "metadata": {},
   "source": [
    "### Example 4: Math.random() - Random Numbers\n",
    "\n"
   ]
  },
  {
   "cell_type": "code",
   "execution_count": null,
   "id": "9ea01cbb",
   "metadata": {
    "vscode": {
     "languageId": "java"
    }
   },
   "outputs": [],
   "source": [
    "// Math.random() returns a value: 0.0 <= value < 1.0\n",
    "// This means it can be 0.0, but will NEVER be exactly 1.0\n",
    "\n",
    "System.out.println(\"Basic random number: \" + Math.random());\n",
    "System.out.println(\"Another one: \" + Math.random());\n",
    "System.out.println(\"And another: \" + Math.random());\n",
    "\n",
    "// These will all be different numbers between 0.0 and 1.0\n",
    "// Examples: 0.374, 0.891, 0.025, etc.\n"
   ]
  },
  {
   "cell_type": "markdown",
   "id": "58465895",
   "metadata": {},
   "source": [
    "## Homework Checklist:\n",
    "-Link to HW Page\n",
    "-Popcorn Hacks\n",
    "-Submission Link"
   ]
  }
 ],
 "metadata": {
  "language_info": {
   "name": "python"
  }
 },
 "nbformat": 4,
 "nbformat_minor": 5
}
