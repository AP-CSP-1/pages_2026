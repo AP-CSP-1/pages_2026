{
 "cells": [
  {
   "cell_type": "markdown",
   "id": "a9b42124",
   "metadata": {},
   "source": [
    "---\n",
    "layout: post\n",
    "toc: true\n",
    "title: Math Class\n",
    "menu: nav/CSA_Nunits/csaunit1.html\n",
    "permalink: /csa/unit_01/1_11\n",
    "author: Gurshawn, Anvay, Akshay\n",
    "---"
   ]
  },
  {
   "cell_type": "markdown",
   "id": "033c842e",
   "metadata": {},
   "source": [
    "## Warmup Thinking\n",
    "You want to buy a concert ticket only if you have at least $50 AND the concert is on a weekend.\n",
    "\n",
    "- How do you decide if you will buy the ticket?\n",
    "- What conditions must be true?"
   ]
  },
  {
   "cell_type": "markdown",
   "id": "4f107a63",
   "metadata": {},
   "source": [
    "## What is the Math Class?\n",
    "The Math Class is a java.lang package used to perform mathmatical operations like exponential, logarithm, square root, and trigonometric functions."
   ]
  },
  {
   "cell_type": "markdown",
   "id": "e3cebf2d",
   "metadata": {},
   "source": [
    "## Objectives\n",
    "- Understand and apply boolean expressions and conditional statements from AP CSA Lesson 1.11.\n",
    "- Explore how logic ties into math through real-world problem-solving.\n",
    "- Write simple Java code that models math decisions and solve math problems interactively."
   ]
  },
  {
   "cell_type": "markdown",
   "id": "733ddb87",
   "metadata": {},
   "source": [
    "## Important Methods\n"
   ]
  },
  {
   "cell_type": "markdown",
   "id": "8aa9c8a9",
   "metadata": {},
   "source": []
  },
  {
   "cell_type": "markdown",
   "id": "58465895",
   "metadata": {},
   "source": [
    "## Homework Checklist:\n",
    "-Link to HW Page\n",
    "-Popcorn Hacks\n",
    "-Submission Link"
   ]
  }
 ],
 "metadata": {
  "language_info": {
   "name": "python"
  }
 },
 "nbformat": 4,
 "nbformat_minor": 5
}
