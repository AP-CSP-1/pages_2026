{
 "cells": [
  {
   "cell_type": "markdown",
   "id": "a9b42124",
   "metadata": {},
   "source": [
    "---\n",
    "layout: post\n",
    "toc: true\n",
    "title: Math Class\n",
    "menu: nav/CSA_Nunits/csaunit1.html\n",
    "permalink: /csa/unit_01/1_11\n",
    "author: Gurshawn, Anvay, Akshay\n",
    "---"
   ]
  },
  {
   "cell_type": "markdown",
   "id": "033c842e",
   "metadata": {},
   "source": [
    "## 🚀 Real-World Problem: The Gaming Stats Challenge\n",
    "\n",
    "**Scenario:** You're developing a competitive gaming platform where you need to calculate player statistics in real-time. Players are complaining that the leaderboard shows incorrect rankings because basic arithmetic operations (+, -, *, /) aren't enough for advanced calculations like:\n",
    "\n",
    "- **Power levels**: A player's damage output = base damage × (1.5)<sup>level</sup>\n",
    "- **Distance calculations**: Finding the shortest path between two points on a map\n",
    "- **Random loot drops**: Generating fair random numbers for item drops\n",
    "- **Critical hit angles**: Calculating projectile trajectories using trigonometry\n",
    "\n",
    "**Your Mission:** Without the Java Math class, these calculations are nearly impossible to implement efficiently. Can you imagine manually calculating square roots or trigonometric functions? \n",
    "\n",
    "### 🤔 Activate Your Prior Knowledge\n",
    "\n",
    "Before we dive in, think about:\n",
    "1. Have you ever used a calculator for powers or square roots? What buttons did you press?\n",
    "2. In what real-world situations might you need to calculate distances, angles, or generate random numbers?\n",
    "3. If you've coded before, how did you handle complex mathematical operations?\n",
    "\n",
    "**Quick Discussion (30 seconds):** Share with your neighbor one time you needed a calculation beyond basic +, -, *, /"
   ]
  },
  {
   "cell_type": "markdown",
   "id": "4f107a63",
   "metadata": {},
   "source": [
    "## What is the Math Class?\n",
    "The Math Class is a java.lang package used to perform mathmatical operations like exponential, logarithm, square root, and trigonometric functions."
   ]
  },
  {
   "cell_type": "markdown",
   "id": "e3cebf2d",
   "metadata": {},
   "source": [
    "## Objectives\n",
    "- Understand and apply boolean expressions and conditional statements from AP CSA Lesson 1.11.\n",
    "- Explore how logic ties into math through real-world problem-solving.\n",
    "- Write simple Java code that models math decisions and solve math problems interactively."
   ]
  },
  {
   "cell_type": "markdown",
   "id": "733ddb87",
   "metadata": {},
   "source": [
    "## Important Methods\n"
   ]
  },
  {
   "cell_type": "markdown",
   "id": "8aa9c8a9",
   "metadata": {},
   "source": []
  },
  {
   "cell_type": "markdown",
   "id": "58465895",
   "metadata": {},
   "source": [
    "## Homework Checklist:\n",
    "-Link to HW Page\n",
    "-Popcorn Hacks\n",
    "-Submission Link"
   ]
  }
 ],
 "metadata": {
  "language_info": {
   "name": "python"
  }
 },
 "nbformat": 4,
 "nbformat_minor": 5
}
