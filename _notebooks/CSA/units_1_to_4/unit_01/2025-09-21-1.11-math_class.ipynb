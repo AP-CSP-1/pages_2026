{
 "cells": [
  {
   "cell_type": "markdown",
   "id": "a9b42124",
   "metadata": {},
   "source": [
    "---\n",
    "layout: post\n",
    "toc: true\n",
    "title: Math Class\n",
    "menu: nav/CSA_Nunits/csaunit1.html\n",
    "permalink: /csa/unit_01/1_11\n",
    "author: Gurshawn, Anvay, Akshay\n",
    "---"
   ]
  },
  {
   "cell_type": "markdown",
   "id": "033c842e",
   "metadata": {},
   "source": [
    "## 🎮 The Problem: Building a Game Without Math Class\n",
    "\n",
    "Imagine you're creating a simple RPG game and you need to:\n",
    "- Calculate a player's damage: 10 × (1.5<sup>level</sup>)\n",
    "- Find the distance between the player and an enemy\n",
    "- Generate random loot drops\n",
    "- Round numbers for displaying stats\n",
    "\n",
    "**Without the Math class, you'd have to write your own code for all of this!** That would be hundreds of lines of complicated algorithms.\n",
    "\n",
    "**With the Math class?** Just a few simple method calls! \n",
    "\n",
    "### 🤔 Think About This:\n",
    "- Have you ever used the x² or √ button on a calculator?\n",
    "- When might you need to generate a random number in a program?\n",
    "- Why would we want to round 47.8 to 48?\n",
    "\n",
    "Let's learn how Java's Math class makes all of this easy!"
   ]
  },
  {
   "cell_type": "markdown",
   "id": "4f107a63",
   "metadata": {},
   "source": [
    "## What is the Math Class?\n",
    "The Math Class is a java.lang package used to perform mathmatical operations like exponential, logarithm, square root, and trigonometric functions."
   ]
  },
  {
   "cell_type": "markdown",
   "id": "e3cebf2d",
   "metadata": {},
   "source": [
    "## Objectives\n",
    "- Understand and apply boolean expressions and conditional statements from AP CSA Lesson 1.11.\n",
    "- Explore how logic ties into math through real-world problem-solving.\n",
    "- Write simple Java code that models math decisions and solve math problems interactively."
   ]
  },
  {
   "cell_type": "markdown",
   "id": "733ddb87",
   "metadata": {},
   "source": [
    "## Important Methods\n"
   ]
  },
  {
   "cell_type": "markdown",
   "id": "8aa9c8a9",
   "metadata": {},
   "source": []
  },
  {
   "cell_type": "markdown",
   "id": "58465895",
   "metadata": {},
   "source": [
    "## Homework Checklist:\n",
    "-Link to HW Page\n",
    "-Popcorn Hacks\n",
    "-Submission Link"
   ]
  }
 ],
 "metadata": {
  "language_info": {
   "name": "python"
  }
 },
 "nbformat": 4,
 "nbformat_minor": 5
}
