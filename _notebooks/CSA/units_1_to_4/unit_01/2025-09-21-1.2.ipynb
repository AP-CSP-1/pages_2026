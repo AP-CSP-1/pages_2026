{
 "cells": [
  {
   "cell_type": "markdown",
   "id": "804055de",
   "metadata": {},
   "source": [
    "---\n",
    "layout: post\n",
    "toc: true\n",
    "title: Variable and Data Types\n",
    "menu: nav/CSA_Nunits/csaunit1.html\n",
    "permalink: /csa/unit_01/1_2\n",
    "---"
   ]
  },
  {
   "cell_type": "markdown",
   "id": "b11cf937",
   "metadata": {},
   "source": [
    "## Primitive Data Types\n",
    "A primitive data type specifies the **size and type of information**. Primitive types are the simplest type of variables in Java. They simply store a small amount of data, according to the type. They are not associated with a class.\n",
    "\n",
    "### The 3 Primitive Data Types for College Board\n",
    "\n",
    "There are eight primitive data types in Java, but only these 3 are used in AP CSA:\n",
    "\n",
    "| Data Type | Description |\n",
    "|-|-|\n",
    "| int | Stores whole numbers from -2,147,483,648 to 2,147,483,647 |\n",
    "| double | Stores decimal numbers. Sufficient for storing 15 decimal digits |\n",
    "| boolean | Stores true or false values |\n",
    "\n",
    "To declare a variable, you write:\n",
    "`Type VariableName = Value;`\n",
    "\n",
    "For example:\n",
    "`int count = 0;`\n",
    "\n",
    "### Variable Terms and Conventions\n",
    "\n",
    "These are important items to remember with regards to Java and the College Board.\n",
    "\n",
    "- A `variable name` is often referred to as the `variable identifier` in Java.\n",
    "- A `variable name` follows camel case conventions in Java (e.g., firstName).\n",
    "- A `class name`, which is a Data Type, follows Pascal case (e.g., BankAccount)."
   ]
  },
  {
   "cell_type": "markdown",
   "id": "4ffb89ae",
   "metadata": {},
   "source": [
    "## The 8 Primitive Data Types\n",
    "\n",
    "Here is the complete list of primitive types in Java:\n",
    "\n",
    "- **byte**: An 8-bit signed two's complement integer.\n",
    "- **short**: A 16-bit signed two's complement integer.\n",
    "- **int**: A 32-bit signed two's complement integer.\n",
    "- **long**: A 64-bit signed two's complement integer.\n",
    "- **float**: A single-precision 32-bit IEEE 754 floating point.\n",
    "- **double**: A double-precision 64-bit IEEE 754 floating point.\n",
    "- **boolean**: Stores either `true` or `false`.\n",
    "- **char**: Stores a single 16-bit Unicode character."
   ]
  },
  {
   "cell_type": "markdown",
   "id": "c5c28e93",
   "metadata": {},
   "source": [
    "### Popcorn Hack: Greatest Value Terms\n",
    "\n",
    "`Primitive Data types have constraints` The program shows the constraints of Integers and Doubles.  Define the following terms...\n",
    "\n",
    "- **constraints**:\n",
    "- **overflow**:\n",
    "- **underflow**"
   ]
  },
  {
   "cell_type": "code",
   "execution_count": null,
   "id": "364d33e0",
   "metadata": {
    "vscode": {
     "languageId": "javascript"
    }
   },
   "outputs": [],
   "source": [
    "public class GreatestValue {\n",
    "    public static void main(String[] args) {\n",
    "        System.out.println(\"Max Integer: \" + Integer.MAX_VALUE);\n",
    "        System.out.println(\"Min Integer: \" + Integer.MIN_VALUE);\n",
    "        System.out.println(\"Max Double: \" + Double.MAX_VALUE);\n",
    "        System.out.println(\"Min Double: \" + Double.MIN_VALUE);\n",
    "\n",
    "        // Integer Show Overflow\n",
    "        int i = Integer.MAX_VALUE;\n",
    "        i++;\n",
    "        System.out.println(\"Integer Max + 1, Overflow: \" + i);\n",
    "\n",
    "        // Integer Show Underflow\n",
    "        int j = Integer.MIN_VALUE;\n",
    "        j--;\n",
    "        System.out.println(\"Integer Min - 1, Underflow: \" + j);\n",
    "\n",
    "        // Integer Max + Min\n",
    "        int k = Integer.MAX_VALUE + Integer.MIN_VALUE;\n",
    "        System.out.println(\"Integer Max + Min: \" + k);\n",
    "\n",
    "    }\n",
    "}\n",
    "GreatestValue.main(null);"
   ]
  },
  {
   "cell_type": "markdown",
   "id": "cbc68dac",
   "metadata": {},
   "source": [
    "### Popcorn Hack: Fill in Data Type \n",
    "The code below is broken....\n",
    "\n",
    "- Fill in the blank, replace the underbars with the correct type.\n",
    "- Output the contents to the Jupyter Terminal"
   ]
  },
  {
   "cell_type": "code",
   "execution_count": null,
   "id": "aa751947",
   "metadata": {
    "vscode": {
     "languageId": "javascript"
    }
   },
   "outputs": [],
   "source": [
    "___ zero = 0; //Whole number\n",
    "___ pi = 3.14159; //Decimal values. Floating point numbers.\n",
    "___ iAmTakingCSA = true; //Stores a true of false binary value\n",
    "___ myProjectedGrad = 'A'; //Single character\n",
    "___ iLoveCodeCodeCoding = \"Yes\"; //String of characters"
   ]
  },
  {
   "cell_type": "markdown",
   "id": "ce7786c3",
   "metadata": {},
   "source": [
    "## Primitive Data Types\n",
    "In your personal blog you should have a comprehensive example that help you recall Primitive Data Types."
   ]
  },
  {
   "cell_type": "markdown",
   "id": "334c6ad4",
   "metadata": {},
   "source": [
    "### All Primitives Demo\n",
    "\n",
    "The **class PrivitiveTypes** shows an assignment and output of each of the Java primitive types."
   ]
  },
  {
   "cell_type": "code",
   "execution_count": null,
   "id": "33343d18",
   "metadata": {
    "vscode": {
     "languageId": "java"
    }
   },
   "outputs": [],
   "source": [
    "public class PrimitiveTypes {\n",
    "    public static void main(String[] args) {\n",
    "        // Declare and initialize variables of different primitive types\n",
    "        byte myByte = 10; // 8-bit integer\n",
    "        short myShort = 32000; // 16-bit integer\n",
    "        int myInt = 123456; // 32-bit integer\n",
    "        long myLong = 123456789L; // 64-bit integer\n",
    "\n",
    "        float myFloat = 3.14f; // 32-bit floating-point\n",
    "        double myDouble = 3.14159; // 64-bit floating-point\n",
    "\n",
    "        char myChar = 'A'; // 16-bit Unicode character\n",
    "        boolean myBoolean = true; // true or false\n",
    "\n",
    "        // Perform some operations\n",
    "        int sum = myInt + 1000;\n",
    "        float division = myFloat / 2;\n",
    "        boolean isEqual = myByte == 10;\n",
    "\n",
    "        // Print the results\n",
    "        System.out.println(\"Byte value: \" + myByte);\n",
    "        System.out.println(\"Short value: \" + myShort);\n",
    "        System.out.println(\"Int value: \" + myInt);\n",
    "        System.out.println(\"Long value: \" + myLong);\n",
    "        System.out.println(\"Float value: \" + myFloat);\n",
    "        System.out.println(\"Double value: \" + myDouble);\n",
    "        System.out.println(\"Char value: \" + myChar);\n",
    "        System.out.println(\"Boolean value: \" + myBoolean);\n",
    "\n",
    "        System.out.println(\"Sum of myInt and 1000: \" + sum);\n",
    "        System.out.println(\"Division of myFloat by 2: \" + division);\n",
    "        System.out.println(\"Is myByte equal to 10? \" + isEqual);\n",
    "    }\n",
    "}\n",
    "\n",
    "PrimitiveTypes.main(null);"
   ]
  },
  {
   "cell_type": "markdown",
   "id": "a8c2ad08",
   "metadata": {
    "vscode": {
     "languageId": "java"
    }
   },
   "source": [
    "### Overflow and Underflow\n",
    "\n",
    "In Java, by nature of using strongly typed definitions, the developer needs to be aware of the limits of numeric data. The **class OverFlow** demonstrates the constraints of **int** and **double** addition, and introduces the terms **overflow** and **underflow**."
   ]
  },
  {
   "cell_type": "markdown",
   "id": "fac25a9b",
   "metadata": {
    "vscode": {
     "languageId": "java"
    }
   },
   "source": [
    "### Stack Memory\n",
    "\n",
    "Stack memory is a region of memory that stores temporary variables created by each function (including the main function). It is managed by the execution stack and follows a last-in-first-out (LIFO) order.\n",
    "\n",
    "- Stores primitive data types and references to objects.\n",
    "- Memory is allocated in a last-in-first-out (LIFO) manner.\n",
    "- Each thread has its own stack, ensuring thread safety.\n",
    "\n",
    "Example:\n",
    "```java\n",
    "int number = 100; // Stored in the stack\n",
    "```\n",
    "\n",
    "\n",
    "#### Stack Variables Tips\n",
    "\n",
    "College Board often asks questions about stack usage.\n",
    "\n",
    "- Since primitives are always on the stack, they point directly to the content. This is best observed in a debugger.\n",
    "- A reference type contains an address to the content on the stack.\n",
    "- Passing a stack variable to a method creates a copy of the content of that variable.\n",
    "- Changes to the content of a primitive type will not return back to the method caller; this is called pass-by-value.\n",
    "- Since a reference type contains an address to the heap, the reference is copied when calling a method. This is called pass-by-reference, as data type changes are then performed according to the reference.\n"
   ]
  },
  {
   "cell_type": "code",
   "execution_count": null,
   "id": "db164709",
   "metadata": {
    "vscode": {
     "languageId": "java"
    }
   },
   "outputs": [],
   "source": [
    "import java.text.DecimalFormat;\n",
    "\n",
    "public class OverFlow {\n",
    "    public static void main(String[] args) {\n",
    "        DecimalFormat df = new DecimalFormat(\"#,###\");\n",
    "        DecimalFormat dfDouble = new DecimalFormat(\"#,###.################\");\n",
    "\n",
    "        System.out.println(\"Max Integer: \" + Integer.MAX_VALUE);\n",
    "        System.out.println(\"Min Integer: \" + Integer.MIN_VALUE);\n",
    "        System.out.println(\"Max Double: \" + dfDouble.format(Double.MAX_VALUE));\n",
    "        System.out.println(\"Min Double: \" + Double.MIN_VALUE);\n",
    "\n",
    "        // Integer Show Overflow\n",
    "        int i = Integer.MAX_VALUE;\n",
    "        i++;\n",
    "        System.out.println(\"Overflow error (flips negative), Integer Max + 1: \" + df.format(i));\n",
    "        // Integer Show Underflow\n",
    "        int j = Integer.MIN_VALUE;\n",
    "        j--;\n",
    "        System.out.println(\"Underflow error (flips positive), Integer Min - 1: \" + df.format(j));\n",
    "\n",
    "        // Double Show Double Handling Integer.MAX_Value + 1\n",
    "        double d = Integer.MAX_VALUE + 1.0;\n",
    "        System.out.println(\"Double Handling Integer Max + 1: \" + dfDouble.format(d));\n",
    "        // Double Show Double Handling Integer.MIN_Value - 1\n",
    "        double e = Integer.MIN_VALUE - 1.0;\n",
    "        System.out.println(\"Double Handling Integer Min - 1: \" + dfDouble.format(e));\n",
    "\n",
    "        // Integer Max + Min\n",
    "        int k = Integer.MAX_VALUE + Integer.MIN_VALUE;\n",
    "        System.out.println(\"Integer Max + Min, shows Min is greater: \" + df.format(k));\n",
    "    }\n",
    "}\n",
    "\n",
    "OverFlow.main(null);"
   ]
  },
  {
   "cell_type": "markdown",
   "id": "2e5fa7ef",
   "metadata": {},
   "source": [
    "## Casting\n",
    "\n",
    "In some numeric operations, it may be more logical to change the type.\n",
    "\n",
    "1. **Widening**: This is the process of converting a smaller data type to a larger data type. For example, in division, where two integers (int) produce a real number (double).\n",
    "2. **Narrowing**: This is the process of converting a larger data type to a smaller data type, such as truncating a double to an int."
   ]
  },
  {
   "cell_type": "code",
   "execution_count": null,
   "id": "4077419d",
   "metadata": {
    "vscode": {
     "languageId": "java"
    }
   },
   "outputs": [],
   "source": [
    "public class Casting {\n",
    "    public static void main(String[] args) {\n",
    "\n",
    "        // Implicit casting (widening)\n",
    "        int num1 = 5;\n",
    "        int num2 = 2;\n",
    "        System.out.println(\"Integer math: \" + num1 / num2);\n",
    "        // to widen one or the other must be a double\n",
    "        System.out.println(\"Cast math to Double: \" + (double) num1 / num2);\n",
    "\n",
    "        // Explicit casting (narrowing)\n",
    "        double rounding = 0.1;\n",
    "        double test1 = 90.0;\n",
    "        double test2 = 89.5;\n",
    "        double test3 = 90.4;\n",
    "        double average = (test1 + test2 + test3) / 3;\n",
    "        // to narrow all must be casted to int\n",
    "        double averageTruncated = (int) average;\n",
    "        // to simplify narrow, cast after all of the math operations\n",
    "        double averageRounded = (int) (average + rounding);\n",
    "        System.out.println(\"Double average: \" + average);\n",
    "        System.out.println(\"Cast average to int, result is truncated: \" + averageTruncated);\n",
    "        System.out.println(\"Cast average to int, result is truncated after rounding adjust: \" + averageRounded);\n",
    "    }\n",
    "}\n",
    "Casting.main(null);"
   ]
  }
 ],
 "metadata": {
  "language_info": {
   "name": "python"
  }
 },
 "nbformat": 4,
 "nbformat_minor": 5
}
