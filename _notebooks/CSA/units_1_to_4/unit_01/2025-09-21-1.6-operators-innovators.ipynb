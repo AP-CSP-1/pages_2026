{
 "cells": [
  {
   "cell_type": "raw",
   "id": "c45bf0b6",
   "metadata": {
    "vscode": {
     "languageId": "raw"
    }
   },
   "source": [
    "---\n",
    "layout: post\n",
    "toc: true\n",
    "title: Compound Assignment Operators\n",
    "menu: nav/CSA_Nunits/csaunit1.html\n",
    "permalink: /csa/unit_01/1_6\n",
    "author: Ruta, Vibha, Anvay\n",
    "---"
   ]
  },
  {
   "cell_type": "markdown",
   "id": "4ab2f3f9",
   "metadata": {},
   "source": [
    "# Compound Assignment Operators (AP CS A, Unit 1.6)\n",
    "\n",
    "\n",
    "## What Are They, and What Do They Help With?\n",
    "#### A **compound assignment operator** combines an arithmetic (or other) operation with assignment in one statement.  \n",
    "\n",
    "**For example, instead of writing:**\n",
    "```java\n",
    "score = score + 10;\n",
    "```\n",
    "**You can write:**\n",
    "```java\n",
    "score += 10;\n",
    "```\n",
    "## Learning Goals For End of Lesson\n",
    "By the end of this lesson, you'll be able to:\n",
    "- Transform clunky `x = x + y` statements into sleek compound assignments\n",
    "- Master all the essential operators (`+=`, `-=`, `*=`, `/=`, `%=`, `++`, `--`)\n",
    "- Understand evaluation order and avoid common traps\n",
    "- Write code that looks like it was written by a pro, not a beginner\n",
    "\n"
   ]
  },
  {
   "cell_type": "markdown",
   "id": "e356a2b6",
   "metadata": {},
   "source": [
    "## Table of Different Operations in Java\n",
    "\n",
    "| Operator | Equivalent Full Form | Purpose / Typical Use |\n",
    "|----------|---------------------|----------------------|\n",
    "| `+=`     | `x = x + y`         | Add to a running total; accumulate; string concatenation when LHS is a String. |\n",
    "| `-=`     | `x = x - y`         | Subtract / reduce something (e.g. subtract a cost, penalty). |\n",
    "| `*=`     | `x = x * y`         | Multiply — useful for scaling, growth, repeated doubling or factors. |\n",
    "| `/=`     | `x = x / y`         | Divide — scaling down; used in averages, proportions. (Watch out: integer division if both operands are ints.) |\n",
    "| `%=`     | `x = x % y`         | Remainder after division — wrap-around logic, parity checks, keeping things within bounds. |\n",
    "| `++`     | `x = x + 1`         | Add one; often used in loops, counters. |\n",
    "| `--`     | `x = x - 1`         | Subtract one; used in loops as well as decrementing counters. |"
   ]
  },
  {
   "cell_type": "markdown",
   "id": "875d8f88",
   "metadata": {},
   "source": [
    "## Popcorn Hack #1: \n",
    "Transform this beginner code into more advanced code using compound assignment operators."
   ]
  },
  {
   "cell_type": "markdown",
   "id": "728202e2",
   "metadata": {},
   "source": [
    "### Examples to further understand this concept:"
   ]
  },
  {
   "cell_type": "markdown",
   "id": "b821cce5",
   "metadata": {},
   "source": [
    "## Popcorn Hack #2: \n",
    "Write a short program where a variable called ```score``` starts at 100. Use at least three different compound assignment operators to update score, and print the result after each step.\n",
    "\n",
    "Example goals to try:\n",
    "1. Deduct points for a wrong answer (```-=```)\n",
    "2. Double the score with a power-up (```*=```)\n",
    "3. Find remainder after dividing by 7 (```%=```)"
   ]
  },
  {
   "cell_type": "markdown",
   "id": "1ac7f636",
   "metadata": {},
   "source": [
    "# Homework Assignment for Unit 1.6\n",
    "\n",
    "**Due:** 10/9/2025 \n",
    "\n",
    "---\n",
    "\n",
    "## Assignment Overview\n",
    "\n",
    "Now that you've learned about compound assignment operators, it's time to put them into practice! You'll create a short Java program that models a real-world scenario.\n",
    "\n",
    "## Requirements\n",
    "\n",
    "Your program must include:\n",
    "- **At least 3 different** compound assignment operators (`+=`, `-=`, `*=`, `/=`, `%=`, `++`, `--`)\n",
    "- **Meaningful variable names** that make sense for your chosen scenario\n",
    "- **Print statements** showing the value after each operation\n",
    "- **Comments** explaining what each operation represents in your scenario\n",
    "- A **main method** that runs your simulation\n",
    "\n",
    "---"
   ]
  },
  {
   "cell_type": "markdown",
   "id": "c450ea2d",
   "metadata": {},
   "source": [
    "### **Option B: Bank Account Manager**\n",
    "Simulate managing a personal bank account over time:\n",
    "\n",
    "#### **Suggested variables to track:**\n",
    "- `balance` - Current account balance\n",
    "- `transactions` - Number of transactions made\n",
    "- `monthlyFee` - Account maintenance costs\n",
    "- `interestRate` - Interest earned/applied\n",
    "\n",
    "#### **Example operations you might use:**\n",
    "- Add monthly salary (`balance += 3000`)\n",
    "- Subtract rent payment (`balance -= 1200`)\n",
    "- Apply interest rate (`balance *= 1.02`)\n",
    "- Average monthly spending (`spending /= 12`)\n",
    "- Check account tier eligibility (`tier %= 5`)"
   ]
  },
  {
   "cell_type": "markdown",
   "id": "1240b7f1",
   "metadata": {},
   "source": [
    "\n",
    "---\n",
    "## Sample Output Format\n",
    "\n",
    "Your program should produce an output similar to this (**this is an example for Option A but the format for other options is similar**):\n",
    "\n",
    "```\n",
    "=== SOCIAL MEDIA SIMULATOR ===\n",
    "\n",
    "Starting followers: 500\n",
    "\n",
    "Posted a new video!\n",
    "\n",
    "Followers: 750 (+250 from the viral video)\n",
    "\n",
    "Controversial opinion posted...\n",
    "\n",
    "Followers: 700 (-50 from upset followers)\n",
    "\n",
    "Trending hashtag boost!\n",
    "\n",
    "Followers: 1400 (doubled from trending!)\n",
    "\n",
    "Average engagement per post: 35\n",
    "\n",
    "Final ranking position: 400\n",
    "\n",
    "=== SIMULATION COMPLETE ===\n",
    "```\n",
    "\n",
    "---"
   ]
  }
 ],
 "metadata": {
  "kernelspec": {
   "display_name": "Java",
   "language": "java",
   "name": "java"
  },
  "language_info": {
   "codemirror_mode": "java",
   "file_extension": ".jshell",
   "mimetype": "text/x-java-source",
   "name": "java",
   "pygments_lexer": "java",
   "version": "17.0.16+0"
  }
 },
 "nbformat": 4,
 "nbformat_minor": 5
}
