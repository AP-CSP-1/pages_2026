{
 "cells": [
  {
   "cell_type": "raw",
   "id": "c45bf0b6",
   "metadata": {
    "vscode": {
     "languageId": "raw"
    }
   },
   "source": [
    "---\n",
    "layout: post\n",
    "toc: true\n",
    "title: Compound Assignment Operators\n",
    "menu: nav/CSA_Nunits/csaunit1.html\n",
    "permalink: /csa/unit_01/1_6\n",
    "author: Ruta, Vibha, Anvay\n",
    "---"
   ]
  },
  {
   "cell_type": "markdown",
   "id": "4ab2f3f9",
   "metadata": {},
   "source": [
    "# Compound Assignment Operators (AP CS A, Unit 1.6)\n",
    "\n",
    "\n",
    "## What Are They, and What Do They Help With?\n",
    "##### A **compound assignment operator** combines an arithmetic (or other) operation with assignment in one statement.  \n",
    "\n",
    "**For example, instead of writing:**\n",
    "```java\n",
    "score = score + 10;\n",
    "```\n",
    "**You can write:**\n",
    "```java\n",
    "score += 10;\n",
    "```\n",
    "## Learning Goals 4 End of Lesson\n",
    "By the end of this lesson, you'll be able to:\n",
    "- Transform clunky `x = x + y` statements into sleek compound assignments\n",
    "- Master all the essential operators (`+=`, `-=`, `*=`, `/=`, `%=`, `++`, `--`)\n",
    "- Understand evaluation order and avoid common traps\n",
    "- Write code that looks like it was written by a pro, not a beginner\n",
    "\n"
   ]
  },
  {
   "cell_type": "markdown",
   "id": "e356a2b6",
   "metadata": {},
   "source": [
    "## Table of Different Operations in Java\n",
    "| Operator              | Equivalent Full Form | Purpose / Typical Use                                                                                          |\n",
    "| --------------------- | -------------------- | -------------------------------------------------------------------------------------------------------------- |\n",
    "| `+=`                  | `x = x + y`          | Add to a running total; accumulate; string concatenation when LHS is a String.                                 |\n",
    "| `-=`                  | `x = x - y`          | Subtract / reduce something (e.g. subtract a cost, penalty).                                                   |\n",
    "| `*=`                  | `x = x * y`          | Multiply — useful for scaling, growth, repeated doubling or factors.                                           |\n",
    "| `/=`                  | `x = x / y`          | Divide — scaling down; used in averages, proportions. (Watch out: integer division if both operands are ints.) |\n",
    "| `%=`                  | `x = x % y`          | Remainder after division — wrap-around logic, parity checks, keeping things within bounds.                     |\n",
    "| `++`                      | `x = x + 1`          | Add one; often used in loops, counters.                                                                        |\n",
    "| `--`                      | `x = x - 1`          | Subtract one; used in loops as well as decrementing counters.                                                            |\n"
   ]
  },
  {
   "cell_type": "markdown",
   "id": "875d8f88",
   "metadata": {},
   "source": [
    "## Popcorn Hack #1: \n",
    "Transform this beginner code into more advanced code using compound assignment operators.\n",
    "\n",
    "```java\n",
    "int playerScore = 1000;\n",
    "int playerHealth = 100;\n",
    "int enemiesDefeated = 0;\n",
    "\n",
    "// Player defeats an enemy worth 250 points\n",
    "playerScore = playerScore + 250;\n",
    "\n",
    "// Player takes 15 damage\n",
    "playerHealth = playerHealth - 15;\n",
    "\n",
    "// Enemy count goes up\n",
    "enemiesDefeated = enemiesDefeated + 1;\n",
    "\n",
    "// Boss battle: double the current score!\n",
    "playerScore = playerScore * 2;\n",
    "\n",
    "// Healing potion restores health to 80% of current\n",
    "playerHealth = playerHealth * 4;\n",
    "playerHealth = playerHealth / 5;  // 4/5 = 0.8, but we need integer math\n"
   ]
  },
  {
   "cell_type": "markdown",
   "id": "728202e2",
   "metadata": {},
   "source": [
    "### Examples to further understand this concept:"
   ]
  },
  {
   "cell_type": "code",
   "execution_count": null,
   "id": "1095fe00",
   "metadata": {},
   "outputs": [
    {
     "name": "stdout",
     "output_type": "stream",
     "text": [
      "0\n"
     ]
    }
   ],
   "source": [
    "public class Example {\n",
    "  public static void main(String[] args) {\n",
    "    int score = 100;\n",
    "    double average = 85.5;\n",
    "    score += 50;       // score = 150\n",
    "    score -= 25;       // score = 125\n",
    "    score *= 2;        // score = 250\n",
    "    score /= 5;        // score = 50  (integer division)\n",
    "    score %= 15;       // score = 5   (50 % 15)\n",
    "    average += 4.5;    // average = 90.0\n",
    "    int count = 0;\n",
    "    count++;           // count = 1\n",
    "    count--;\n",
    "    System.out.println(count); // count = 0\n",
    "  }\n",
    "}\n",
    "Example.main(null);\n",
    "\n",
    "// Output: 0\n",
    "// Output: 0 \n",
    "// Explanation: The code demonstrates various assignment and arithmetic operations, including integer division and the modulus operator. The final output is 0 after incrementing and decrementing the count variable."
   ]
  },
  {
   "cell_type": "markdown",
   "id": "b821cce5",
   "metadata": {},
   "source": [
    "## Popcorn Hack #2: \n",
    "Write a short program where a variable called ```score``` starts at 100. Use at least three different compound assignment operators to update score, and print the result after each step.\n",
    "\n",
    "Example goals to try:\n",
    "1. Deduct points for a wrong answer (```-=```)\n",
    "2. Double the score with a power-up (```*=```)\n",
    "3. Find remainder after dividing by 7 (```%=```)"
   ]
  },
  {
   "cell_type": "markdown",
   "id": "466d1427",
   "metadata": {},
   "source": [
    "### Common Mistakes:\n",
    "1. Using a compound assignment on a variable that hasn’t been initialized.\n",
    "2. Misunderstanding integer vs floating-point division.\n",
    "3. Expecting ```++``` or ```--``` to work in prefix form (```++x```) — out of scope.\n",
    "4. Forgetting that integer division truncates decimals.\n",
    "5. Assuming evaluation order is left-to-right without considering RHS evaluation."
   ]
  },
  {
   "cell_type": "markdown",
   "id": "f7f65161",
   "metadata": {},
   "source": [
    "### Important Rules to keep in mind (AP Test-Specific):\n",
    "1. You can only use these when the variable on the left already exists and has a value.\n",
    "\n",
    "2. The right-hand side (RHS) is fully evaluated first; then the operation is applied; then the result is assigned back.\n",
    "\n",
    "3. Java may do an implicit narrowing conversion when the LHS is a smaller primitive type (e.g. ```short```, ```byte```).\n",
    "\n",
    "4. Integer division: when you divide two ints, the fractional part is truncated. Be careful with ```/=```.\n",
    "\n",
    "5. ```%``` (modulo) operation for negatives preserves the sign of the left operand in Java.\n",
    "\n",
    "6. Only post-form (```x++```, ```x--```) is in scope for the AP exam. Prefix forms (++x) are out of scope."
   ]
  },
  {
   "cell_type": "markdown",
   "id": "1ac7f636",
   "metadata": {},
   "source": [
    "# Homework Assignment for Unit 1.6\n",
    "\n",
    "**Due:** 10/6/2025 \n",
    "\n",
    "---\n",
    "\n",
    "## Assignment Overview\n",
    "\n",
    "Now that you've learned about compound assignment operators, it's time to put them into practice! You'll create a short Java program that models a real-world scenario.\n",
    "\n",
    "## Requirements\n",
    "\n",
    "Your program must include:\n",
    "- **At least 3 different** compound assignment operators (`+=`, `-=`, `*=`, `/=`, `%=`, `++`, `--`)\n",
    "- **Meaningful variable names** that make sense for your chosen scenario\n",
    "- **Print statements** showing the value after each operation\n",
    "- **Comments** explaining what each operation represents in your scenario\n",
    "- A **main method** that runs your simulation\n",
    "\n",
    "---"
   ]
  },
  {
   "cell_type": "markdown",
   "id": "7f98a04b",
   "metadata": {},
   "source": [
    "## Scenario Options\n",
    "\n",
    "Choose **ONE** of the following scenarios to model:\n",
    "\n",
    "### **Option A: Social Media Influencer Simulator**\n",
    "Model the journey of a content creator tracking their growth:\n",
    "\n",
    "##### **Suggested variables to track:**\n",
    "- `followers` - Start with some initial followers\n",
    "- `posts` - Number of posts made\n",
    "- `engagement` - Likes/comments received\n",
    "- `sponsorshipEarnings` - Money earned from sponsors\n",
    "\n",
    "##### **Example operations you might use:**\n",
    "- Gain followers from a viral post (`followers += 1000`)\n",
    "- Lose followers from controversial content (`followers -= 50`)\n",
    "- Double engagement from a trending hashtag (`engagement *= 2`)\n",
    "- Calculate average engagement per post (`engagement /= posts`)\n",
    "- Find your ranking position (`position %= 100`)\n"
   ]
  },
  {
   "cell_type": "markdown",
   "id": "c450ea2d",
   "metadata": {},
   "source": [
    "### **Option B: Bank Account Manager**\n",
    "Simulate managing a personal bank account over time:\n",
    "\n",
    "##### **Suggested variables to track:**\n",
    "- `balance` - Current account balance\n",
    "- `transactions` - Number of transactions made\n",
    "- `monthlyFee` - Account maintenance costs\n",
    "- `interestRate` - Interest earned/applied\n",
    "\n",
    "##### **Example operations you might use:**\n",
    "- Add monthly salary (`balance += 3000`)\n",
    "- Subtract rent payment (`balance -= 1200`)\n",
    "- Apply interest rate (`balance *= 1.02`)\n",
    "- Average monthly spending (`spending /= 12`)\n",
    "- Check account tier eligibility (`tier %= 5`)"
   ]
  },
  {
   "cell_type": "markdown",
   "id": "6c00ecf0",
   "metadata": {},
   "source": [
    "### **Option C: Fitness Progress Tracker** \n",
    "Track your fitness journey and daily health metrics:\n",
    "\n",
    "##### **Suggested variables to track:**\n",
    "- `totalCalories` - Calories consumed/burned\n",
    "- `workoutDays` - Days you've exercised\n",
    "- `stepCount` - Daily step count\n",
    "- `weightGoal` - Target weight progress\n",
    "\n",
    "##### **Example operations you might use:**\n",
    "- Add calories from meals (`totalCalories += 600`)\n",
    "- Burn calories from exercise (`totalCalories -= 300`)\n",
    "- Double steps from an active day (`stepCount *= 2`)\n",
    "- Calculate average daily steps (`stepCount /= 7`)\n",
    "- Track weekly goal progress (`progress %= 7`)"
   ]
  },
  {
   "cell_type": "markdown",
   "id": "1240b7f1",
   "metadata": {},
   "source": [
    "\n",
    "---\n",
    "## Sample Output Format\n",
    "\n",
    "Your program should produce an output similar to this (**this is an example for Option A but the format for other options is similar**):\n",
    "\n",
    "```\n",
    "=== SOCIAL MEDIA SIMULATOR ===\n",
    "\n",
    "Starting followers: 500\n",
    "\n",
    "Posted a new video!\n",
    "\n",
    "Followers: 750 (+250 from the viral video)\n",
    "\n",
    "Controversial opinion posted...\n",
    "\n",
    "Followers: 700 (-50 from upset followers)\n",
    "\n",
    "Trending hashtag boost!\n",
    "\n",
    "Followers: 1400 (doubled from trending!)\n",
    "\n",
    "Average engagement per post: 35\n",
    "\n",
    "Final ranking position: 400\n",
    "\n",
    "=== SIMULATION COMPLETE ===\n",
    "```\n",
    "\n",
    "---"
   ]
  },
  {
   "cell_type": "markdown",
   "id": "dc8347e5",
   "metadata": {},
   "source": [
    "## Submission Instructions\n",
    "**Create a section on your personal blog documenting one of the three provided options. Insert the rubric provided below and self-grade yourself with comments as to why you think you deserved that grade. Add screenshots/proof of your code as proof that you fulfilled all the rubric requirements in your blog along with a screenshot of the output (similar to the one provided above). After updating your blog, please submit a personal blog link of your completed assignment to the google form link inserted in the 'CSA Sign Up Sheet - Team Teach - Trimester 1' spreadsheet.**\n",
    "\n",
    "## Grading Rubric\n",
    "\n",
    "| Criteria | Percent Weight | Description |\n",
    "|----------|--------|-------------|\n",
    "| *Functionality* | 40% | Program runs without errors and produces correct output |\n",
    "| *Operator Usage* | 30% | Uses at least 3 different compound assignment operators correctly |\n",
    "| *Code Quality* | 20% | Clean code with meaningful variable names and good comments |\n",
    "| *Output & Presentation* | 10% | Clear, well-formatted output that tells a story |\n",
    "\n",
    "---\n",
    "\n",
    "## Tips for Getting Started\n",
    "\n",
    "- Review the lesson notes for operator syntax and examples\n",
    "- Check the \"Sample Output\" example for structure ideas\n",
    "- Remember: Test your hack multiple times and add updates in small increments incase you run into an error\n",
    "\n",
    "## Tips for Success\n",
    "\n",
    "1. **Start simple** - Get basic functionality working first, then add complexity\n",
    "2. **Make it realistic** - Use numbers and scenarios that make sense\n",
    "3. **Tell a story** - Your output should read like a narrative of what's happening\n",
    "4. **Test your math** - Double-check that your operations produce expected results\n",
    "5. **Comment your code** - Explain what each operation represents in real life\n",
    "\n",
    "---\n",
    "## Bonus Challenges (Optional)\n",
    "Want to go above and beyond? Try adding:\n",
    "- **Input from user** - Let the user enter some starting values\n",
    "- **Multiple scenarios** - Run several different situations\n",
    "- **Error checking** - Handle cases like negative balances or impossible values\n",
    "- **Enhanced formatting** - Make your output look professional with formatting\n",
    "\n",
    "##### **Good luck, and have fun bringing your scenario to life!** "
   ]
  }
 ],
 "metadata": {
  "kernelspec": {
   "display_name": "Java",
   "language": "java",
   "name": "java"
  },
  "language_info": {
   "codemirror_mode": "java",
   "file_extension": ".jshell",
   "mimetype": "text/x-java-source",
   "name": "java",
   "pygments_lexer": "java",
   "version": "17.0.16+0"
  }
 },
 "nbformat": 4,
 "nbformat_minor": 5
}
