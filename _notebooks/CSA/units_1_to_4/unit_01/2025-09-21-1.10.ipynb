{
 "cells": [
  {
   "cell_type": "raw",
   "id": "498ed049",
   "metadata": {
    "vscode": {
     "languageId": "raw"
    }
   },
   "source": [
    "---\n",
    "layout: post\n",
    "toc: true\n",
    "title: Calling Class Methods\n",
    "menu: nav/CSA_Nunits/csaunit1.html\n",
    "permalink: /csa/unit_01/1_10\n",
    "author: Trevor, Kush, Elliot, Aranya, Travis, Alex\n",
    "---"
   ]
  },
  {
   "cell_type": "markdown",
   "id": "e1e8d5e0",
   "metadata": {},
   "source": [
    "## What is a \"Class Method?\""
   ]
  },
  {
   "cell_type": "markdown",
   "id": "explanation_cell",
   "metadata": {},
   "source": [
    ">**A class method (or static method in Java) belongs to the class itself, not to any specific object.**\n",
    "\n",
    "*(You can call these methods directly using the class name, without needing to create an object first.)*\n",
    "\n",
    "Key characteristics of static methods:\n",
    "\n",
    "- They are declared with the `static` keyword.\n",
    "- They can be called using the syntax: `ClassName.methodName()`.\n",
    "- They cannot use instance variables or instance methods directly (because they don't carry the state of the object).\n",
    "- They are useful for utility functions or operations that are not tied to the state of a particular object."
   ]
  },
  {
   "cell_type": "markdown",
   "id": "example_title_cell",
   "metadata": {},
   "source": [
    "### Printer Example"
   ]
  },
  {
   "cell_type": "code",
   "execution_count": null,
   "id": "code_example_cell",
   "metadata": {
    "vscode": {
     "languageId": "java"
    }
   },
   "outputs": [],
   "source": [
    "class Printer {\n",
    "    // This IS a CLASS METHOD. It can be called WITHOUT creating an instance.\n",
    "    public static void print(String message) {\n",
    "        System.out.println(message);\n",
    "    }\n",
    "\n",
    "    // This is NOT a CLASS METHOD. You need an instance to call it.\n",
    "    public void explode() {\n",
    "        System.out.println(\"Boom\");\n",
    "    }\n",
    "}\n",
    "\n",
    "Printer.print(\"Hello, World!\"); // This will work!\n",
    "Printer.explode(); // This will NOT work!"
   ]
  },
  {
   "cell_type": "markdown",
   "id": "d56e6618",
   "metadata": {},
   "source": [
    "### Dude example"
   ]
  },
  {
   "cell_type": "code",
   "execution_count": null,
   "id": "bafc9591",
   "metadata": {
    "vscode": {
     "languageId": "java"
    }
   },
   "outputs": [],
   "source": [
    "class Dude {\n",
    "    String name;\n",
    "\n",
    "    public Dude(String name) {\n",
    "        this.name = name;\n",
    "    }\n",
    "\n",
    "    public static void SayName() {\n",
    "        System.out.println(\"My name is \" + name); // This will NOT work! cause name is an instance variable.\n",
    "    }\n",
    "}\n",
    "\n",
    "// This will not compile since sayAnotherName is a STATIC (CLASS) METHOD and cannot access the INSTANCE variable 'name'."
   ]
  },
  {
   "cell_type": "markdown",
   "id": "1634a795",
   "metadata": {},
   "source": [
    "### Bro example"
   ]
  },
  {
   "cell_type": "code",
   "execution_count": null,
   "id": "56f7808d",
   "metadata": {
    "vscode": {
     "languageId": "java"
    }
   },
   "outputs": [],
   "source": [
    "class Bro {\n",
    "    String name;\n",
    "    static String classicBroSaying = \"Sup bro?\";\n",
    "\n",
    "    public Bro(String name) {\n",
    "        this.name = name;\n",
    "    }\n",
    "\n",
    "    public void sayMyName() {\n",
    "        System.out.println(\"My name is \" + name); // This will work!\n",
    "    }\n",
    "\n",
    "    public static void sayClassicBroSaying() {\n",
    "        System.out.println(classicBroSaying); // This will work too!\n",
    "    }\n",
    "}\n",
    "\n",
    "Bro kush = new Bro(\"kush\");\n",
    "kush.sayMyName(); // This will work!\n",
    "\n",
    "Bro.sayClassicBroSaying(); // This will work! because the classicBroSaying variable is STATIC.\n",
    "Bro.sayMyName(); // This will NOT work! because sayMyName is NOT a STATIC method."
   ]
  },
  {
   "cell_type": "markdown",
   "id": "85d597df",
   "metadata": {},
   "source": [
    "### Chart for the Bro Example\n",
    "\n",
    "|                   | Static Variable      | Non-Static Variable   |\n",
    "|-------------------|-------------|---------------|\n",
    "| **In static (Class) method**   | ✅ Can use  | ❌ Cannot use |\n",
    "| **In instance method** | ✅ Can use  | ✅ Can use    |"
   ]
  },
  {
   "cell_type": "markdown",
   "id": "4dae9cad",
   "metadata": {},
   "source": [
    "## Homework Hacks"
   ]
  }
 ],
 "metadata": {
  "kernelspec": {
   "display_name": "java (JJava/j!)",
   "language": "java",
   "name": "jbang-jjava"
  },
  "language_info": {
   "codemirror_mode": "java",
   "file_extension": ".jshell",
   "mimetype": "text/x-java-source",
   "name": "Java",
   "pygments_lexer": "java",
   "version": "17.0.16+0"
  }
 },
 "nbformat": 4,
 "nbformat_minor": 5
}
