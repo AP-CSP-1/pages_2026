{
 "cells": [
  {
   "cell_type": "raw",
   "id": "bc117346",
   "metadata": {
    "vscode": {
     "languageId": "raw"
    }
   },
   "source": [
    "---\n",
    "layout: post\n",
    "toc: true\n",
    "title: Homework for Calling Instance Methods\n",
    "menu: nav/CSA_Nunits/csaunit1.html\n",
    "permalink: /csa/unit_01/1_14_homework\n",
    "author: Risha, Aadi, Neil\n",
    "---"
   ]
  },
  {
   "cell_type": "markdown",
   "id": "259f9f01",
   "metadata": {},
   "source": [
    "## Popcorn Hack #1\n",
    "\n",
    "- Add another property to the dog class for `breed`.\n",
    "- Add another method to the dog class that prints \"My dog `name` is a `breed`!\"\n",
    "- Create a new object of this class and call the method."
   ]
  },
  {
   "cell_type": "raw",
   "id": "29ee7d7f",
   "metadata": {
    "vscode": {
     "languageId": "raw"
    }
   },
   "source": [
    "public class Dog {\n",
    "\n",
    "    // ADD CODE HERE\n",
    "}\n",
    "\n",
    "// To use it:\n",
    "// ADD CODE HERE"
   ]
  },
  {
   "cell_type": "markdown",
   "id": "2280d528",
   "metadata": {},
   "source": [
    "## Popcorn Hack #2\n",
    "\n",
    "- Add on to the previous counter class and add three more methods for subtraction, multiplication, and division.\n",
    "\n",
    "- Call all five methods outside of the class."
   ]
  },
  {
   "cell_type": "raw",
   "id": "53e562e0",
   "metadata": {
    "vscode": {
     "languageId": "raw"
    }
   },
   "source": [
    "public class Counter {\n",
    "    private int count;\n",
    "    \n",
    "    // ADD CODE HERE\n",
    "}\n",
    "\n",
    "// Use it:\n",
    "// ADD CODE HERE"
   ]
  },
  {
   "cell_type": "markdown",
   "id": "55a1dd38",
   "metadata": {},
   "source": [
    "---\n",
    "## Homework: Assignment Overview\n",
    "\n",
    "**Due:** 10/16/2025  \n",
    "**Points:** 1\n",
    "\n",
    "In this assignment, you'll demonstrate your understanding of instance methods by creating a `Student` class that tracks grades and calculates statistics. You'll practice creating student objects, adding grades, calculating averages, and generating grade reports—all using instance methods that operate on each student's individual data.\n",
    "\n",
    "## Requirements\n",
    "Your program must include:\n",
    "- A `Student` class with at least 3 instance variables (name, total points, number of assignments)\n",
    "- A constructor that initializes the student's name and sets initial values\n",
    "- At least 2 void instance methods that modify the student's grades (`addGrade`, `printReport`)\n",
    "- At least 2 non-void instance methods that return calculated values (`getAverage`, `getLetterGrade`)\n",
    "- A main method that creates at least 2 Student instances and demonstrates all methods working independently\n",
    "\n",
    "## Homework Hack: Student Grade Tracker\n",
    "\n",
    "Create a `Student` class that manages a student's grades throughout a semester.\n",
    "\n",
    "**Required Instance Variables:**\n",
    "- `String name` - the student's name\n",
    "- `int totalPoints` - sum of all grade points earned\n",
    "- `int numAssignments` - count of assignments completed\n",
    "\n",
    "**Required Instance Methods:**\n",
    "- `addGrade(int points)` - void method that adds a grade and updates totals\n",
    "- `getAverage()` - returns the student's current average as a double\n",
    "- `getLetterGrade()` - returns a String letter grade (A, B, C, D, F) based on average\n",
    "- `printReport()` - void method that displays a formatted report of the student's performance\n",
    "\n",
    "**Grading Scale:**\n",
    "- A: 90-100\n",
    "- B: 80-89\n",
    "- C: 70-79\n",
    "- D: 60-69\n",
    "- F: below 60\n",
    "\n",
    "## Sample Output\n",
    "\n",
    "Here's an example of what your output should look like:\n",
    "\n",
    "```\n",
    "=== Student Grade Tracker System ===\n",
    "\n",
    "Creating student: Emma Rodriguez\n",
    "Student created successfully!\n",
    "\n",
    "--- Adding Grades for Emma ---\n",
    "Adding grade: 95 points\n",
    "Adding grade: 88 points\n",
    "Adding grade: 92 points\n",
    "Adding grade: 85 points\n",
    "\n",
    "--- Emma's Grade Report ---\n",
    "Student Name: Emma Rodriguez\n",
    "Total Points: 360\n",
    "Assignments Completed: 4\n",
    "Current Average: 90.0\n",
    "Letter Grade: A\n",
    "Status: Excellent work!\n",
    "\n",
    "========================================\n",
    "\n",
    "Creating student: James Wilson\n",
    "Student created successfully!\n",
    "\n",
    "--- Adding Grades for James ---\n",
    "Adding grade: 78 points\n",
    "Adding grade: 82 points\n",
    "Adding grade: 75 points\n",
    "\n",
    "--- James's Grade Report ---\n",
    "Student Name: James Wilson\n",
    "Total Points: 235\n",
    "Assignments Completed: 3\n",
    "Current Average: 78.33\n",
    "Letter Grade: C\n",
    "Status: Keep working hard!\n",
    "\n",
    "========================================\n",
    "\n",
    "Final Summary:\n",
    "Emma Rodriguez - Average: 90.0 (A)\n",
    "James Wilson - Average: 78.33 (C)\n",
    "```\n",
    "\n",
    "## Submission Instructions\n",
    "**Create a section on your personal blog documenting your completed Student Grade Tracker. Insert the rubric provided below and self-grade yourself with comments as to why you think you deserved that grade. Add screenshots/proof of your code as proof that you fulfilled all the rubric requirements in your blog along with a screenshot of the output (similar to the one provided above). After updating your blog, please submit a personal blog link of your completed assignment to the google form link inserted in the 'CSA Sign Up Sheet - Team Teach - Trimester 1' spreadsheet.**\n",
    "\n",
    "## Grading Rubric\n",
    "\n",
    "| Criteria | Percent Weight | Description |\n",
    "|----------|---------------|-------------|\n",
    "| **Functionality** | 40% | Program runs without errors, creates multiple Student objects, correctly adds grades, calculates averages, and assigns letter grades |\n",
    "| **Method Implementation** | 30% | Includes all required methods (addGrade, getAverage, getLetterGrade, printReport) that properly access/modify instance variables |\n",
    "| **Code Quality** | 20% | Clean code with meaningful variable names, proper constructor, and helpful comments explaining method purposes |\n",
    "| **Output & Presentation** | 10% | Clear, well-formatted output showing multiple students with different grades and formatted reports |\n",
    "\n",
    "## Tips for Getting Started\n",
    "- Review the Counter example from the lesson notes—your Student class will work similarly\n",
    "- Start by creating the Student class with the three instance variables\n",
    "- Write your constructor to initialize the name and set totalPoints and numAssignments to 0\n",
    "- Implement `addGrade()` first—it should add to totalPoints and increment numAssignments\n",
    "- Test each method before moving to the next one\n",
    "- Remember: Test your hack multiple times and add updates in small increments in case you run into an error\n",
    "\n",
    "## Tips for Success\n",
    "1. **Start simple** - Get your constructor and `addGrade()` working first before tackling calculations\n",
    "2. **Watch for division** - When calculating average, make sure to cast to double: `(double)totalPoints / numAssignments`\n",
    "3. **Test with multiple students** - Create at least 2 Student objects with different grades to show independence\n",
    "4. **Handle edge cases** - What happens if no assignments have been added yet? (Consider checking if numAssignments > 0)\n",
    "5. **Comment your code** - Explain what each method does, especially your letter grade logic\n",
    "6. **Format your output** - Use `System.out.printf()` or `String.format()` to display averages to 2 decimal places\n",
    "\n",
    "## Bonus Challenges (Optional)\n",
    "Want to go above and beyond? Try adding:\n",
    "- A `getHighestGrade()` method that tracks and returns the best individual grade (you'll need to store individual grades, not just the total)\n",
    "- A `getLowestGrade()` method for the lowest individual grade\n",
    "- A `dropLowestGrade()` method that removes the lowest grade from calculations\n",
    "- A `compareTo(Student other)` method that compares two students' averages\n",
    "- Weighted grades—allow some assignments to be worth more points than others\n",
    "- A `reset()` method that clears all grades and starts fresh\n",
    "- Error checking to prevent negative grades or invalid input\n",
    "\n",
    "**Good luck!**\n",
    "\n",
    "---\n"
   ]
  }
 ],
 "metadata": {
  "kernelspec": {
   "display_name": "java (JJava/j!)",
   "language": "java",
   "name": "jbang-jjava"
  },
  "language_info": {
   "codemirror_mode": "java",
   "file_extension": ".jshell",
   "mimetype": "text/x-java-source",
   "name": "java",
   "pygments_lexer": "java",
   "version": "21.0.8+9-Ubuntu-0ubuntu124.04.1"
  }
 },
 "nbformat": 4,
 "nbformat_minor": 5
}
