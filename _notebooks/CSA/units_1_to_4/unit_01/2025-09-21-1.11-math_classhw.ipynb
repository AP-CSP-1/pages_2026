{
 "cells": [
  {
   "cell_type": "markdown",
   "id": "985dbac9",
   "metadata": {},
   "source": [
    "---\n",
    "layout: post\n",
    "toc: true\n",
    "title: Math Class\n",
    "menu: nav/CSA_Nunits/csaunit1.html\n",
    "permalink: /csa/unit_01/1_11\n",
    "author: Gurshawn, Anvay, Akshay\n",
    "---"
   ]
  },
  {
   "cell_type": "markdown",
   "id": "25cb951c",
   "metadata": {},
   "source": [
    "## Homework Checklist\n",
    "- 2 Popcorn Hacks\n",
    "- MCQ\n",
    "- Homework Hack"
   ]
  },
  {
   "cell_type": "code",
   "execution_count": null,
   "id": "99cb0432",
   "metadata": {
    "vscode": {
     "languageId": "java"
    }
   },
   "outputs": [],
   "source": [
    "int n = (int) Math.pow(2, 3.0 / 2);\n",
    "System.out.println(n);"
   ]
  },
  {
   "cell_type": "markdown",
   "id": "4567a280",
   "metadata": {},
   "source": [
    "What is printed?\n",
    "\n",
    "A. 2\n",
    "B. 3\n",
    "C. 4\n",
    "D. It does not compile"
   ]
  },
  {
   "cell_type": "code",
   "execution_count": null,
   "id": "b49bc34c",
   "metadata": {
    "vscode": {
     "languageId": "java"
    }
   },
   "outputs": [],
   "source": [
    "int r = (int) (Math.random() * 6) + 5;"
   ]
  },
  {
   "cell_type": "markdown",
   "id": "4ae4b0ed",
   "metadata": {},
   "source": [
    "Which statement best describes the values produced by:\n",
    "A. An int from 5 to 10, inclusive\n",
    "B. An int from 5 to 11, inclusive\n",
    "C. An int from 6 to 10, inclusive\n",
    "D. An int from 6 to 11, inclusive"
   ]
  },
  {
   "cell_type": "code",
   "execution_count": null,
   "id": "a75c1ce2",
   "metadata": {
    "vscode": {
     "languageId": "java"
    }
   },
   "outputs": [],
   "source": [
    "long a = Math.round(-3.5);\n",
    "double b = Math.floor(-3.1);\n",
    "double c = Math.ceil(-3.1);\n",
    "int x = (int) a + (int) b + (int) c;\n"
   ]
  },
  {
   "cell_type": "markdown",
   "id": "3c8f86a8",
   "metadata": {},
   "source": [
    "What is the value of x after executing:\n",
    "A. -10\n",
    "B. -9\n",
    "C. -8\n",
    "D. -7"
   ]
  },
  {
   "cell_type": "markdown",
   "id": "72eb9a30",
   "metadata": {
    "vscode": {
     "languageId": "java"
    }
   },
   "source": [
    "Which expression correctly computes the Euclidean distance between points (x1, y1) and (x2, y2)?\n",
    "A.\n",
    "\n",
    "Math.sqrt(Math.pow(x2 - x1, 2) + Math.pow(y2 - y1, 2))\n",
    "\n",
    "\n",
    "B.\n",
    "\n",
    "Math.pow((x2 - x1) + (y2 - y1), 2)\n",
    "\n",
    "\n",
    "C.\n",
    "\n",
    "Math.abs((x2 - x1) + (y2 - y1))\n",
    "\n",
    "\n",
    "D.\n",
    "\n",
    "Math.sqrt(Math.pow(x2 + x1, 2) + Math.pow(y2 + y1, 2))"
   ]
  },
  {
   "cell_type": "code",
   "execution_count": null,
   "id": "36ced226",
   "metadata": {
    "vscode": {
     "languageId": "java"
    }
   },
   "outputs": [],
   "source": [
    "int a = (int) Math.sqrt(26);\n",
    "int b = (int) Math.sqrt(26);\n",
    "System.out.println(a * b);\n"
   ]
  },
  {
   "cell_type": "markdown",
   "id": "cc73b5d5",
   "metadata": {},
   "source": [
    "What is printed?\n",
    "A. 5\n",
    "B. 25\n",
    "C. 26\n",
    "D. 27"
   ]
  }
 ],
 "metadata": {
  "language_info": {
   "name": "python"
  }
 },
 "nbformat": 4,
 "nbformat_minor": 5
}
