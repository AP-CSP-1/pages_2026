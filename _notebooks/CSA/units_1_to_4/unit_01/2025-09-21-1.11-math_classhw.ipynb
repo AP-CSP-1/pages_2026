{
 "cells": [
  {
   "cell_type": "markdown",
   "id": "985dbac9",
   "metadata": {},
   "source": [
    "---\n",
    "layout: post\n",
    "toc: true\n",
    "title: Math Class Homework\n",
    "menu: nav/CSA_Nunits/csaunit1.html\n",
    "permalink: /csa/unit_01/1_11_hw\n",
    "author: Gurshawn, Anvay, Akshay\n",
    "---"
   ]
  },
  {
   "cell_type": "markdown",
   "id": "25cb951c",
   "metadata": {},
   "source": [
    "## Homework Checklist\n",
    "- 2 Popcorn Hacks\n",
    "- MCQ\n",
    "- Homework Hack"
   ]
  },
  {
   "cell_type": "code",
   "execution_count": null,
   "id": "99cb0432",
   "metadata": {
    "vscode": {
     "languageId": "java"
    }
   },
   "outputs": [],
   "source": [
    "int n = (int) Math.pow(2, 3.0 / 2);\n",
    "System.out.println(n);"
   ]
  },
  {
   "cell_type": "markdown",
   "id": "4567a280",
   "metadata": {},
   "source": [
    "What is printed?\n",
    "\n",
    "A. 2\n",
    "B. 3\n",
    "C. 4\n",
    "D. It does not compile"
   ]
  },
  {
   "cell_type": "code",
   "execution_count": null,
   "id": "b49bc34c",
   "metadata": {
    "vscode": {
     "languageId": "java"
    }
   },
   "outputs": [],
   "source": [
    "int r = (int) (Math.random() * 6) + 5;"
   ]
  },
  {
   "cell_type": "markdown",
   "id": "4ae4b0ed",
   "metadata": {},
   "source": [
    "Which statement best describes the values produced by:\n",
    "A. An int from 5 to 10, inclusive\n",
    "B. An int from 5 to 11, inclusive\n",
    "C. An int from 6 to 10, inclusive\n",
    "D. An int from 6 to 11, inclusive"
   ]
  },
  {
   "cell_type": "code",
   "execution_count": null,
   "id": "a75c1ce2",
   "metadata": {
    "vscode": {
     "languageId": "java"
    }
   },
   "outputs": [],
   "source": [
    "long a = Math.round(-3.5);\n",
    "double b = Math.floor(-3.1);\n",
    "double c = Math.ceil(-3.1);\n",
    "int x = (int) a + (int) b + (int) c;\n"
   ]
  },
  {
   "cell_type": "markdown",
   "id": "3c8f86a8",
   "metadata": {},
   "source": [
    "What is the value of x after executing:\n",
    "A. -10\n",
    "B. -9\n",
    "C. -8\n",
    "D. -7"
   ]
  },
  {
   "cell_type": "markdown",
   "id": "72eb9a30",
   "metadata": {
    "vscode": {
     "languageId": "java"
    }
   },
   "source": [
    "Which expression correctly computes the Euclidean distance between points (x1, y1) and (x2, y2)?\n",
    "A.\n",
    "\n",
    "Math.sqrt(Math.pow(x2 - x1, 2) + Math.pow(y2 - y1, 2))\n",
    "\n",
    "\n",
    "B.\n",
    "\n",
    "Math.pow((x2 - x1) + (y2 - y1), 2)\n",
    "\n",
    "\n",
    "C.\n",
    "\n",
    "Math.abs((x2 - x1) + (y2 - y1))\n",
    "\n",
    "\n",
    "D.\n",
    "\n",
    "Math.sqrt(Math.pow(x2 + x1, 2) + Math.pow(y2 + y1, 2))"
   ]
  },
  {
   "cell_type": "code",
   "execution_count": null,
   "id": "36ced226",
   "metadata": {
    "vscode": {
     "languageId": "java"
    }
   },
   "outputs": [],
   "source": [
    "int a = (int) Math.sqrt(26);\n",
    "int b = (int) Math.sqrt(26);\n",
    "System.out.println(a * b);\n"
   ]
  },
  {
   "cell_type": "markdown",
   "id": "cc73b5d5",
   "metadata": {},
   "source": [
    "What is printed?\n",
    "A. 5\n",
    "B. 25\n",
    "C. 26\n",
    "D. 27"
   ]
  },
  {
   "cell_type": "markdown",
   "id": "f8ed5a34",
   "metadata": {},
   "source": [
    "FRQ-style Question: GradeTools\n",
    "\n",
    "You are writing utility methods to help a teacher curve and summarize quiz scores. Implement the following static methods using only java.lang.Math methods where appropriate.\n",
    "\n",
    "public class GradeTools {\n",
    "\n",
    "    /** Returns a random integer in the inclusive range [low, high].\n",
    "     *  Precondition: low <= high.\n",
    "     *  Examples: randInRange(3, 3) -> 3; randInRange(5, 7) -> 5, 6, or 7\n",
    "     */\n",
    "    public static int randInRange(int low, int high) { /* part (a) */ }\n",
    "\n",
    "    /** Returns score increased by curve points but capped at 100.\n",
    "     *  Use Math methods (no if/else).\n",
    "     *  Example: applyCurve(97, 5) -> 100\n",
    "     */\n",
    "    public static int applyCurve(int score, int curve) { /* part (b) */ }\n",
    "\n",
    "    /** Rounds a percentage to the nearest whole number using Math\n",
    "     *  (do NOT call Math.round directly).\n",
    "     *  Works for negatives too (e.g., -3.5 -> -3).\n",
    "     *  Example: roundPct(92.49) -> 92, roundPct(92.50) -> 93\n",
    "     */\n",
    "    public static int roundPct(double pct) { /* part (c) */ }\n",
    "\n",
    "    /** Returns the Euclidean distance between two (x, y) points as a double.\n",
    "     *  Use Math.pow and Math.sqrt.\n",
    "     *  Example: distance(0,0, 3,4) -> 5.0\n",
    "     */\n",
    "    public static double distance(int x1, int y1, int x2, int y2) { /* part (d) */ }\n",
    "}\n",
    "\n",
    "What you must use\n",
    "\n",
    "Math.random() in (a) to generate values uniformly in the inclusive range.\n",
    "\n",
    "Math.min/Math.max in (b) to enforce the 100 cap.\n",
    "\n",
    "Math.floor and/or Math.ceil in (c) to implement \u201cround half up\u201d behavior (without Math.round).\n",
    "\n",
    "Math.pow and Math.sqrt in (d).\n",
    "\n",
    "Sample calls (for your testing)\n",
    "int r = GradeTools.randInRange(5, 10);     // 5..10 inclusive\n",
    "int curved = GradeTools.applyCurve(88, 9);  // 97\n",
    "int whole = GradeTools.roundPct(-3.5);     // -3\n",
    "double d = GradeTools.distance(2, -1, -1, 3); // \u2248 5.0"
   ]
  },
  {
   "cell_type": "markdown",
   "id": "ce351acd",
   "metadata": {},
   "source": [
    "Write a single static method that adds a tip and rounds the bill up to the next whole dollar.\n",
    "\n",
    "// Return the total amount (whole dollars) after adding a tip.\n",
    "// - subtotal >= 0\n",
    "// - tipPercent is a percent (e.g., 18 for 18%)\n",
    "// - Use Math methods only for rounding and safety.\n",
    "public static int totalWithTip(double subtotal, double tipPercent) {\n",
    "    /* your code here */\n",
    "}\n",
    "\n",
    "Requirements\n",
    "\n",
    "Compute: total = subtotal * (1 + tipPercent / 100.0).\n",
    "\n",
    "Use Math.ceil to round the result up to the next dollar.\n",
    "\n",
    "Ensure the answer is never negative by using Math.max with 0 (extra safety).\n",
    "\n",
    "Examples (what your method should produce)\n",
    "\n",
    "totalWithTip(23.40, 18) \u2192 28\n",
    "\n",
    "totalWithTip(50.00, 0) \u2192 50\n",
    "\n",
    "totalWithTip(0.00, 20) \u2192 0"
   ]
  }
 ],
 "metadata": {
  "language_info": {
   "name": "python"
  }
 },
 "nbformat": 4,
 "nbformat_minor": 5
}