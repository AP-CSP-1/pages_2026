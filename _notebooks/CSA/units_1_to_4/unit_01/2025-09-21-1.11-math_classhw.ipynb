{
 "cells": [
  {
   "cell_type": "markdown",
   "id": "985dbac9",
   "metadata": {},
   "source": [
    "---\n",
    "layout: post\n",
    "toc: true\n",
    "title: Math Class\n",
    "menu: nav/CSA_Nunits/csaunit1.html\n",
    "permalink: /csa/unit_01/1_11\n",
    "author: Gurshawn, Anvay, Akshay\n",
    "---"
   ]
  },
  {
   "cell_type": "markdown",
   "id": "c711809d",
   "metadata": {
    "vscode": {
     "languageId": "plaintext"
    }
   },
   "source": [
    "## Popcorn Hack: Write and test max overloads"
   ]
  },
  {
   "cell_type": "code",
   "execution_count": 3,
   "id": "4977ed4b",
   "metadata": {
    "vscode": {
     "languageId": "java"
    }
   },
   "outputs": [
    {
     "name": "stdout",
     "output_type": "stream",
     "text": [
      "9\n",
      "-2\n",
      "3.5\n",
      "2.0\n"
     ]
    }
   ],
   "source": [
    "public class PopcornMax {\n",
    "    public static int max(int a, int b) {\n",
    "        return (a > b) ? a : b;\n",
    "    }\n",
    "\n",
    "    public static double max(double a, double b) {\n",
    "        return (a > b) ? a : b;\n",
    "    }\n",
    "\n",
    "    public static void main(String[] args) {\n",
    "        System.out.println(max(3, 9));      // expected: 9\n",
    "        System.out.println(max(-2, -7));    // expected: -2\n",
    "        System.out.println(max(3.5, 2.9));  // expected: 3.5\n",
    "        System.out.println(max(2, 2.0));    // should call double version → 2.0\n",
    "    }\n",
    "}\n",
    "\n",
    "PopcornMax.main(null);"
   ]
  },
  {
   "cell_type": "markdown",
   "id": "9914eaa9",
   "metadata": {},
   "source": [
    "## Popcorn Hack: Overload print for int and String"
   ]
  },
  {
   "cell_type": "code",
   "execution_count": 6,
   "id": "4a9c1c79",
   "metadata": {
    "vscode": {
     "languageId": "java"
    }
   },
   "outputs": [
    {
     "name": "stdout",
     "output_type": "stream",
     "text": [
      "int:42\n",
      "str:hello\n",
      "str:A!\n"
     ]
    }
   ],
   "source": [
    "public class PopcornPrint {\n",
    "    // TODO: write print(int n)\n",
    "        public static void print(int n) {\n",
    "            System.out.println(\"int:\" + n);\n",
    "        } \n",
    "    // TODO: write print(String s)\n",
    "        public static void print(String s) {\n",
    "            System.out.println(\"str:\" + s);\n",
    "        }\n",
    "\n",
    "    public static void main(String[] args) {\n",
    "        print(42);          // expected: int:42\n",
    "        print(\"hello\");     // expected: str:hello\n",
    "        print('A' + \"!\");   // char + String → String → expected: str:A!\n",
    "    }\n",
    "}\n",
    "    public static void print(int n) {\n",
    "        System.out.println(\"int:\" + n);\n",
    "    }\n",
    "\n",
    "    public static void print(String s) {\n",
    "        System.out.println(\"str:\" + s);\n",
    "    }\n",
    "PopcornPrint.main(null);"
   ]
  },
  {
   "cell_type": "markdown",
   "id": "ebf61ec0",
   "metadata": {},
   "source": [
    "# AP CSA 1.9 — Method Signatures: Homework\n",
    "\n",
    "## MCQS\n",
    "\n",
    "MCQs\n",
    "1) Which pair is a valid overload?\n",
    "\n",
    "A) int f(int a) and int f(int x)\n",
    "B) int f(int a) and double f(int a)\n",
    "C) int f(int a) and double f(double a)\n",
    "D) int f(int a, int b) and int f(int a, int b)\n",
    "\n",
    "C\n",
    "\n",
    "2) Which is the AP CSA notion of a method signature?\n",
    "\n",
    "A) public static int max(int a, int b)\n",
    "B) max(int, int)\n",
    "C) max(int a, int b) throws Exception\n",
    "D) max(int, double)\n",
    "\n",
    "B\n",
    "\n",
    "3) With the overloads void p(int x) and void p(double x), what prints?\n",
    "\n",
    "p(5);\n",
    "p(5.0);\n",
    "A) int, double\n",
    "B) double, double\n",
    "C) int, int\n",
    "D) Compile error\n",
    "\n",
    "A\n",
    "\n",
    "4) Which call is ambiguous with only these two methods?\n",
    "\n",
    "void h(long x) {}\n",
    "void h(float x) {}\n",
    "A) h(5)\n",
    "B) h(5.0)\n",
    "C) h(5f)\n",
    "D) None are ambiguous\n",
    "\n",
    "A\n",
    "\n",
    "5) Which statement is TRUE?\n",
    "\n",
    "A) Parameter names affect the method signature.\n",
    "B) Return type affects the method signature.\n",
    "C) Access modifiers affect the method signature.\n",
    "D) Overloading requires different parameter lists.\n",
    "\n",
    "D"
   ]
  },
  {
   "cell_type": "markdown",
   "id": "fb36f946",
   "metadata": {},
   "source": [
    "## Short answer\n",
    "Explain why int sum(int a, int b) and double sum(int a, int b) cannot both exist.\n",
    "In one sentence, distinguish parameters vs arguments.\n",
    "\n",
    "In Java, method overloading is determined by the method signature, which includes the method name and parameter types (but NOT the return type). Since both methods have identical names and parameter types (int, int), the compiler cannot distinguish between them—the return type alone is insufficient for overloading. Parameters are the variables declared in a method's definition, while arguments are the actual values passed to the method when it is called."
   ]
  },
  {
   "cell_type": "markdown",
   "id": "1c7b7b2a",
   "metadata": {},
   "source": [
    "# Coding Tasks"
   ]
  },
  {
   "cell_type": "code",
   "execution_count": 11,
   "id": "5eeb6926",
   "metadata": {
    "vscode": {
     "languageId": "java"
    }
   },
   "outputs": [
    {
     "name": "stdout",
     "output_type": "stream",
     "text": [
      "5\n",
      "3\n",
      "3.14\n",
      "2.71\n",
      "123456789\n",
      "987654321\n"
     ]
    }
   ],
   "source": [
    "public class PopcornAbs {\n",
    "    public static int abs(int x) {\n",
    "        if (x < 0) {\n",
    "            return -x;\n",
    "        }\n",
    "        return x;\n",
    "    }\n",
    "\n",
    "    public static double abs(double x) {\n",
    "        if (x < 0.0) {\n",
    "            return -x;\n",
    "        }\n",
    "        return x;\n",
    "    }\n",
    "\n",
    "    public static long abs(long x) {\n",
    "        if (x < 0L) {\n",
    "            return -x;\n",
    "        }\n",
    "        return x;\n",
    "    }\n",
    "\n",
    "    public static void main(String[] args) {\n",
    "        System.out.println(abs(-5));        // expected: 5\n",
    "        System.out.println(abs(3));         // expected: 3\n",
    "        System.out.println(abs(-3.14));     // expected: 3.14\n",
    "        System.out.println(abs(2.71));      // expected: 2.71\n",
    "        System.out.println(abs(-123456789L)); // expected: 123456789\n",
    "        System.out.println(abs(987654321L));  // expected: 987654321\n",
    "    }\n",
    "}\n",
    "\n",
    "PopcornAbs.main(null);\n"
   ]
  },
  {
   "cell_type": "code",
   "execution_count": 14,
   "id": "717ecda0",
   "metadata": {
    "vscode": {
     "languageId": "java"
    }
   },
   "outputs": [
    {
     "name": "stdout",
     "output_type": "stream",
     "text": [
      "haha\n",
      "hohoho\n"
     ]
    }
   ],
   "source": [
    "public class PopcornConcat {\n",
    "    public static String concat(String a, String b) {\n",
    "        return a + b;\n",
    "    }\n",
    "\n",
    "    public static String concat(String a, int n) {\n",
    "        String result = \"\";\n",
    "        for (int i = 0; i < n; i++) {\n",
    "            result += a;\n",
    "        }\n",
    "        return result;\n",
    "    }\n",
    "\n",
    "    public static void main(String[] args) {\n",
    "        System.out.println(concat(\"ha\", \"ha\")); // expected: hahaha\n",
    "        System.out.println(concat(\"ho\", 3));    // expected: hohoho\n",
    "    }\n",
    "}\n",
    "\n",
    "PopcornConcat.main(null);"
   ]
  },
  {
   "cell_type": "code",
   "execution_count": 15,
   "id": "1f31ebcd",
   "metadata": {
    "vscode": {
     "languageId": "java"
    }
   },
   "outputs": [
    {
     "name": "stdout",
     "output_type": "stream",
     "text": [
      "int\n",
      "long\n",
      "double\n"
     ]
    }
   ],
   "source": [
    "static void show(int x) { System.out.println(\"int\"); }\n",
    "static void show(double x) { System.out.println(\"double\"); }\n",
    "static void show(long x) { System.out.println(\"long\"); }\n",
    "\n",
    "show(7);    // Output: int\n",
    "show(7L);   // Output: long\n",
    "show(7.0);  // Output: double"
   ]
  },
  {
   "cell_type": "markdown",
   "id": "1412b283",
   "metadata": {},
   "source": [
    "show(7); → int — The literal 7 is an int by default, so it matches show(int x) exactly.\n",
    "show(7L); → long — The literal 7L is a long, so it matches show(long x) exactly.\n",
    "show(7.0); → double — The literal 7.0 is a double by default, so it matches show(double x) exactly."
   ]
  },
  {
   "cell_type": "markdown",
   "id": "540e7250",
   "metadata": {},
   "source": [
    "# FRQ Style"
   ]
  },
  {
   "cell_type": "code",
   "execution_count": 17,
   "id": "0ec18219",
   "metadata": {
    "vscode": {
     "languageId": "java"
    }
   },
   "outputs": [
    {
     "name": "stdout",
     "output_type": "stream",
     "text": [
      "1\n",
      "1\n",
      "-1\n",
      "3\n"
     ]
    }
   ],
   "source": [
    "public class StringSearch {\n",
    "    public static int indexOf(char target, String s) {\n",
    "        for (int i = 0; i < s.length(); i++) {\n",
    "            if (s.charAt(i) == target) {\n",
    "                return i;\n",
    "            }\n",
    "        }\n",
    "        return -1;\n",
    "    }\n",
    "\n",
    "    public static int indexOf(String target, String s) {\n",
    "        if (target.length() == 0) {\n",
    "            return 0; // empty string found at start\n",
    "        }\n",
    "        \n",
    "        for (int i = 0; i <= s.length() - target.length(); i++) {\n",
    "            boolean match = true;\n",
    "            for (int j = 0; j < target.length(); j++) {\n",
    "                if (s.charAt(i + j) != target.charAt(j)) {\n",
    "                    match = false;\n",
    "                    break;\n",
    "                }\n",
    "            }\n",
    "            if (match) {\n",
    "                return i;\n",
    "            }\n",
    "        }\n",
    "        return -1;\n",
    "    }\n",
    "\n",
    "    public static void main(String[] args) {\n",
    "        System.out.println(indexOf('a', \"banana\")); // expected: 1\n",
    "        System.out.println(indexOf(\"ana\", \"banana\")); // expected: 1\n",
    "        System.out.println(indexOf('z', \"banana\")); // expected: -1\n",
    "        System.out.println(indexOf(\"cat\", \"concatenate\")); // expected: 3\n",
    "    }\n",
    "}\n",
    "\n",
    "StringSearch.main(null);"
   ]
  },
  {
   "cell_type": "code",
   "execution_count": 18,
   "id": "69d1075b",
   "metadata": {
    "vscode": {
     "languageId": "java"
    }
   },
   "outputs": [
    {
     "name": "stdout",
     "output_type": "stream",
     "text": [
      "5\n",
      "1\n",
      "10\n",
      "7.5\n",
      "5.0\n",
      "10.0\n"
     ]
    }
   ],
   "source": [
    "public class PopcornClamp {\n",
    "    public static int clamp(int value, int low, int high) {\n",
    "        // Handle case where low > high by swapping\n",
    "        if (low > high) {\n",
    "            int temp = low;\n",
    "            low = high;\n",
    "            high = temp;\n",
    "        }\n",
    "        \n",
    "        if (value < low) {\n",
    "            return low;\n",
    "        }\n",
    "        if (value > high) {\n",
    "            return high;\n",
    "        }\n",
    "        return value;\n",
    "    }\n",
    "\n",
    "    public static double clamp(double value, double low, double high) {\n",
    "        // Handle case where low > high by swapping\n",
    "        if (low > high) {\n",
    "            double temp = low;\n",
    "            low = high;\n",
    "            high = temp;\n",
    "        }\n",
    "        \n",
    "        if (value < low) {\n",
    "            return low;\n",
    "        }\n",
    "        if (value > high) {\n",
    "            return high;\n",
    "        }\n",
    "        return value;\n",
    "    }\n",
    "\n",
    "    public static void main(String[] args) {\n",
    "        System.out.println(clamp(5, 1, 10));       // expected: 5\n",
    "        System.out.println(clamp(0, 1, 10));       // expected: 1\n",
    "        System.out.println(clamp(15, 1, 10));      // expected: 10\n",
    "        System.out.println(clamp(7.5, 5.0, 10.0)); // expected: 7.5\n",
    "        System.out.println(clamp(3.5, 5.0, 10.0)); // expected: 5.0\n",
    "        System.out.println(clamp(12.5, 5.0, 10.0));// expected: 10.0\n",
    "    }\n",
    "}\n",
    "\n",
    "PopcornClamp.main(null);"
   ]
  }
 ],
 "metadata": {
  "kernelspec": {
   "display_name": "Java",
   "language": "java",
   "name": "java"
  },
  "language_info": {
   "codemirror_mode": "java",
   "file_extension": ".jshell",
   "mimetype": "text/x-java-source",
   "name": "Java",
   "pygments_lexer": "java",
   "version": "17.0.16+8-Ubuntu-0ubuntu124.04.1"
  }
 },
 "nbformat": 4,
 "nbformat_minor": 5
}
