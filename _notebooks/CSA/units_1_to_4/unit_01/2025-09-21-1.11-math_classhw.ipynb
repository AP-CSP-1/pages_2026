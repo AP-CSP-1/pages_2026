{
 "cells": [
  {
   "cell_type": "markdown",
   "id": "985dbac9",
   "metadata": {},
   "source": [
    "---\n",
    "layout: post\n",
    "toc: true\n",
    "title: Math Class\n",
    "menu: nav/CSA_Nunits/csaunit1.html\n",
    "permalink: /csa/unit_01/1_11\n",
    "author: Gurshawn, Anvay, Akshay\n",
    "---"
   ]
  }
 ],
 "metadata": {
  "language_info": {
   "name": "python"
  }
 },
 "nbformat": 4,
 "nbformat_minor": 5
}
