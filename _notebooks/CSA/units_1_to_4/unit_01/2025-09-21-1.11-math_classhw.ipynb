{
 "cells": [
  {
   "cell_type": "markdown",
   "id": "985dbac9",
   "metadata": {},
   "source": [
    "---\n",
    "layout: post\n",
    "toc: true\n",
    "title: Math Class - Homework Assignment\n",
    "menu: nav/CSA_Nunits/csaunit1.html\n",
    "permalink: /csa/unit_01/1_11_hw\n",
    "author: Gurshawn, Anvay, Akshay\n",
    "---"
   ]
  },
  {
   "cell_type": "markdown",
   "id": "96c1a815",
   "metadata": {},
   "source": [
    "## 🏠 Homework Assignment: Advanced Gaming Platform Challenge\n",
    "\n",
    "### 🎯 Mission Briefing\n",
    "\n",
    "Remember the gaming platform problem from the beginning of class? Now it's time to build a comprehensive solution that integrates ALL the Math class methods you learned today!\n",
    "\n",
    "You are the lead developer for **\"MathQuest Online\"** - a new competitive gaming platform. Your task is to create a complete player statistics and battle simulator system.\n"
   ]
  },
  {
   "cell_type": "markdown",
   "id": "08f6c1b9",
   "metadata": {},
   "source": [
    "## 📋 Part 1: Player Stats Calculator (30 points)\n",
    "\n",
    "### Requirements:\n",
    "\n",
    "Create a Java program that calculates and displays player statistics:\n",
    "\n",
    "1. **Input Variables** (you can hardcode these):\n",
    "   - Player name\n",
    "   - Current level (1-50)\n",
    "   - Base health: 100\n",
    "   - Base damage: 20\n",
    "   - Base mana: 50\n",
    "\n",
    "2. **Calculations Required**:\n",
    "   - Scaled health = base health × (1.15)<sup>level</sup> [use Math.pow()]\n",
    "   - Scaled damage = base damage × (1.10)<sup>level</sup> [use Math.pow()]\n",
    "   - Scaled mana = base mana × (1.12)<sup>level</sup> [use Math.pow()]\n",
    "   - Round all values to whole numbers [use Math.round()]\n",
    "\n",
    "3. **Output**:\n",
    "   - Display all original and scaled stats in a formatted way\n",
    "   - Show the growth percentage for each stat\n",
    "\n",
    "### Expected Output Example:\n",
    "```\n",
    "=== PLAYER STATS ===\n",
    "Player: DragonSlayer99\n",
    "Level: 10\n",
    "\n",
    "Health: 100 → 405 (+305%)\n",
    "Damage: 20 → 52 (+260%)\n",
    "Mana: 50 → 155 (+310%)\n",
    "```\n"
   ]
  },
  {
   "cell_type": "code",
   "execution_count": null,
   "metadata": {
    "vscode": {
     "languageId": "java"
    }
   },
   "outputs": [],
   "source": [
    "// YOUR CODE HERE FOR PART 1\n",
    "// Player Stats Calculator\n"
   ]
  },
  {
   "cell_type": "markdown",
   "id": "f7da8867",
   "metadata": {},
   "source": [
    "## 📋 Part 2: Battle Arena Distance System (35 points)\n",
    "\n",
    "### Scenario:\n",
    "Your game has a 100×100 battle arena. You need to calculate distances between players and objectives, then determine optimal strategies.\n",
    "\n",
    "### Requirements:\n",
    "\n",
    "1. **Given Positions** (hardcode these):\n",
    "   - Player position: (15, 25)\n",
    "   - Enemy 1 position: (45, 60)\n",
    "   - Enemy 2 position: (80, 20)\n",
    "   - Health Pack position: (50, 50)\n",
    "   - Exit Portal position: (90, 90)\n",
    "\n",
    "2. **Calculations Required**:\n",
    "   - Calculate distance from player to each location using: √[(x₂-x₁)² + (y₂-y₁)²]\n",
    "   - Use Math.sqrt() and Math.pow()\n",
    "   - Round distances to 2 decimal places\n",
    "   - Determine which enemy is closest [use Math.min()]\n",
    "   - Calculate if player is within attack range of closest enemy (range = 40 units)\n",
    "\n",
    "3. **Decision Logic**:\n",
    "   - If closest enemy is within 40 units: \"ATTACK MODE\"\n",
    "   - If closest enemy is 40-60 units: \"CAUTION - MOVE TO COVER\"\n",
    "   - If closest enemy is 60+ units: \"SAFE - COLLECT HEALTH PACK\"\n",
    "\n",
    "4. **Bonus** (+5 points):\n",
    "   - Calculate the optimal path (should player go to health pack first or exit?)\n",
    "   - Calculate total distance for both routes\n",
    "\n",
    "### Expected Output Example:\n",
    "```\n",
    "=== BATTLE ARENA ANALYSIS ===\n",
    "Player Position: (15, 25)\n",
    "\n",
    "Distances:\n",
    "  Enemy 1: 45.28 units\n",
    "  Enemy 2: 65.19 units\n",
    "  Health Pack: 39.05 units\n",
    "  Exit Portal: 90.14 units\n",
    "\n",
    "Closest Enemy: Enemy 1 (45.28 units)\n",
    "Status: CAUTION - MOVE TO COVER\n",
    "\n",
    "[Bonus]\n",
    "Route 1 (Direct to Exit): 90.14 units\n",
    "Route 2 (via Health Pack): 39.05 + 56.57 = 95.62 units\n",
    "Recommendation: Take direct route to exit!\n",
    "```\n"
   ]
  },
  {
   "cell_type": "code",
   "execution_count": null,
   "id": "206c4ba6",
   "metadata": {
    "vscode": {
     "languageId": "java"
    }
   },
   "outputs": [],
   "source": [
    "// YOUR CODE HERE FOR PART 2\n",
    "// Battle Arena Distance System\n"
   ]
  },
  {
   "cell_type": "markdown",
   "id": "96607e35",
   "metadata": {},
   "source": [
    "## 📋 Part 3: Loot Drop Simulator (35 points)\n",
    "\n",
    "### Scenario:\n",
    "Create a realistic loot drop system that generates random rewards based on player level and luck.\n",
    "\n",
    "### Requirements:\n",
    "\n",
    "1. **System Design**:\n",
    "   - Simulate opening 10 loot chests\n",
    "   - Each chest drops 1-3 items randomly [use Math.random()]\n",
    "   - Items have rarity levels:\n",
    "     - Common: 60% chance\n",
    "     - Rare: 25% chance\n",
    "     - Epic: 10% chance\n",
    "     - Legendary: 5% chance\n",
    "\n",
    "2. **Item Value Calculation**:\n",
    "   - Common: 10-50 gold\n",
    "   - Rare: 51-150 gold\n",
    "   - Epic: 151-500 gold\n",
    "   - Legendary: 501-1000 gold\n",
    "   - Use Math.random() to generate gold within ranges\n",
    "\n",
    "3. **Statistics to Track**:\n",
    "   - Total items found\n",
    "   - Count of each rarity\n",
    "   - Total gold earned\n",
    "   - Average gold per chest [use Math.round()]\n",
    "   - Best single item value [use Math.max()]\n",
    "\n",
    "4. **Level Scaling Bonus**:\n",
    "   - For player level > 10: multiply all gold by 1.5\n",
    "   - For player level > 25: multiply all gold by 2.0\n",
    "   - For player level > 40: multiply all gold by 3.0\n",
    "   - Use Math.ceil() to round up final gold amounts\n"
   ]
  },
  {
   "cell_type": "code",
   "execution_count": null,
   "id": "162f8135",
   "metadata": {
    "vscode": {
     "languageId": "java"
    }
   },
   "outputs": [],
   "source": [
    "// YOUR CODE HERE FOR PART 3\n",
    "// Loot Drop Simulator\n"
   ]
  },
  {
   "cell_type": "markdown",
   "id": "776cba8d",
   "metadata": {},
   "source": [
    "## 🎯 Bonus Challenge: Complete Integration (Extra 20 points)\n",
    "\n",
    "### The Ultimate Challenge:\n",
    "\n",
    "Combine ALL three parts into one comprehensive program that:\n",
    "\n",
    "1. Calculates player stats (Part 1)\n",
    "2. Analyzes battle arena situation (Part 2)\n",
    "3. Simulates loot drops based on decisions (Part 3)\n",
    "4. Makes the final decision:\n",
    "   - If in danger (enemy close): Skip loot and escape\n",
    "   - If safe: Collect loot then escape\n",
    "   - Show total time/distance for chosen strategy\n",
    "\n",
    "5. **Add Creative Features**:\n",
    "   - Critical hit simulation with random 20% chance\n",
    "   - Health regeneration based on distance traveled\n",
    "   - Dynamic difficulty scaling\n",
    "   - Achievement system (\"Speed Runner\", \"Treasure Hunter\", etc.)\n",
    "\n",
    "### What Makes This Great:\n",
    "- Clean, organized code with comments\n",
    "- Proper variable names\n",
    "- Real-world logic and decision making\n",
    "- Creative enhancements beyond requirements\n",
    "- Formatted, easy-to-read output\n"
   ]
  },
  {
   "cell_type": "code",
   "execution_count": null,
   "id": "88bc03e0",
   "metadata": {
    "vscode": {
     "languageId": "java"
    }
   },
   "outputs": [],
   "source": [
    "// YOUR CODE HERE FOR BONUS CHALLENGE\n",
    "// Complete Integration Program\n"
   ]
  },
  {
   "cell_type": "markdown",
   "id": "fc8d7c94",
   "metadata": {},
   "source": [
    "## 📊 Self-Assessment Checklist\n",
    "\n",
    "Before submitting, verify you've completed:\n",
    "\n",
    "### Math Class Methods Used:\n",
    "- [ ] Math.pow() - for exponential calculations\n",
    "- [ ] Math.sqrt() - for distance calculations\n",
    "- [ ] Math.abs() - for absolute differences\n",
    "- [ ] Math.random() - for random generation\n",
    "- [ ] Math.round() - for rounding to integers\n",
    "- [ ] Math.ceil() - for rounding up\n",
    "- [ ] Math.floor() - for rounding down\n",
    "- [ ] Math.max() - for finding maximum values\n",
    "- [ ] Math.min() - for finding minimum values\n",
    "\n",
    "### Code Quality:\n",
    "- [ ] All code runs without errors\n",
    "- [ ] Variables have meaningful names\n",
    "- [ ] Code includes helpful comments\n",
    "- [ ] Output is formatted and easy to read\n",
    "- [ ] Logic makes sense for the real-world problem\n",
    "\n",
    "### Problem-Solving:\n",
    "- [ ] Part 1 complete and correct\n",
    "- [ ] Part 2 complete and correct\n",
    "- [ ] Part 3 complete and correct\n",
    "- [ ] Bonus challenge attempted (optional)\n",
    "\n",
    "---\n",
    "\n",
    "## 🚀 Submission Instructions\n",
    "\n",
    "1. Complete all three parts in the code cells above\n",
    "2. Test your code thoroughly - run each cell multiple times\n",
    "3. Take screenshots of your output\n",
    "4. Submit via the class submission form\n",
    "5. Be ready to explain your code logic in class!\n",
    "\n",
    "**Questions?** Ask in Discord or during office hours!\n",
    "\n",
    "---\n",
    "\n",
    "### 💭 Reflection Questions (Answer in Comments):\n",
    "\n",
    "Add these as comments in your code:\n",
    "\n",
    "1. Which Math class method did you find most useful? Why?\n",
    "2. What real-world application outside of gaming could use similar calculations?\n",
    "3. What was the most challenging part of this assignment?\n",
    "4. How would you extend this program with additional features?\n",
    "\n",
    "---\n",
    "\n",
    "Good luck, and have fun coding! 🎮🚀\n",
    "\n"
   ]
  }
 ],
 "metadata": {
  "language_info": {
   "name": "python"
  }
 },
 "nbformat": 4,
 "nbformat_minor": 5
}
