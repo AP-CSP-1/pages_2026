{
 "cells": [
  {
   "cell_type": "markdown",
   "id": "a9b42124",
   "metadata": {},
   "source": [
    "---\n",
    "layout: post\n",
    "toc: true\n",
    "title: Math Class\n",
    "menu: nav/CSA_Nunits/csaunit1.html\n",
    "permalink: /csa/unit_01/1_11\n",
    "author: Gurshawn, Anvay, Akshay\n",
    "---"
   ]
  },
  {
   "cell_type": "markdown",
   "id": "4f107a63",
   "metadata": {},
   "source": [
    "## What is the Math Class?"
   ]
  },
  {
   "cell_type": "markdown",
   "id": "ea3b8cf6",
   "metadata": {},
   "source": [
    "## In Class Popcorn Hacks"
   ]
  },
  {
   "cell_type": "markdown",
   "id": "58465895",
   "metadata": {},
   "source": [
    "## Homework "
   ]
  }
 ],
 "metadata": {
  "language_info": {
   "name": "python"
  }
 },
 "nbformat": 4,
 "nbformat_minor": 5
}
