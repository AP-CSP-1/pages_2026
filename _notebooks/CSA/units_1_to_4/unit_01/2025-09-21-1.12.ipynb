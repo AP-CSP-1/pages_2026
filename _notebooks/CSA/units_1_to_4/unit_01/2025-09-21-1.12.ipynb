{
  "cells": [
    {
      "cell_type": "markdown",
      "metadata": {},
      "source": [
        "# AP CSA Mini Lesson: Classes & Objects\n",
        "\n",
        "**Goal:** Understand what classes and objects are in Java, how references work, and that every class ultimately extends `Object`.\n",
        "\n",
        "**You will:** read short notes, run examples, and complete **one Popcorn Hack**."
      ]
    },
    {
      "cell_type": "markdown",
      "metadata": {},
      "source": [
        "## 1) Class vs. Object — Brief Intro\n",
        "**Class** = blueprint.  **Object** = one specific thing built from that blueprint."
      ]
    },
    {
      "cell_type": "markdown",
      "metadata": {},
      "source": [
        "### Description\n",
        "A class defines **attributes** (fields) and **behaviors** (methods). Creating an object with `new` allocates memory and returns a **reference** to that object."
      ]
    },
    {
      "cell_type": "code",
      "metadata": {
        "language": "java"
      },
      "source": [
        "// Example: simple class + object\n",
        "class Dog {\n",
        "    String name;\n",
        "    int age;\n",
        "    void bark() {\n",
        "        System.out.println(name + \" says woof!\");\n",
        "    }\n",
        "}\n",
        "\n",
        "class Main1 {\n",
        "    public static void main(String[] args) {\n",
        "        Dog myDog = new Dog();   // object created\n",
        "        myDog.name = \"Alo\";\n",
        "        myDog.age = 3;\n",
        "        myDog.bark();\n",
        "    }\n",
        "}\n"
      ],
      "execution_count": null,
      "outputs": []
    },
    {
      "cell_type": "markdown",
      "metadata": {},
      "source": [
        "## 2) Reference Variables — Brief Intro\n",
        "Variables of reference type store the **address (reference)** of an object, not the object itself."
      ]
    },
    {
      "cell_type": "markdown",
      "metadata": {},
      "source": [
        "### Description\n",
        "Two variables can reference the **same** object. Assigning one reference to another does **not** make a copy of the object."
      ]
    },
    {
      "cell_type": "code",
      "metadata": {
        "language": "java"
      },
      "source": [
        "// Example: references point to the same object\n",
        "class Main2 {\n",
        "    public static void main(String[] args) {\n",
        "        Dog d1 = new Dog();\n",
        "        d1.name = \"Kai\";\n",
        "        Dog d2 = d1;           // both refer to the same Dog\n",
        "        d2.name = \"Kairo\";     // changes seen via d1 too\n",
        "        System.out.println(d1.name); // prints Kairo\n",
        "    }\n",
        "}\n"
      ],
      "execution_count": null,
      "outputs": []
    },
    {
      "cell_type": "markdown",
      "metadata": {},
      "source": [
        "## 3) All Classes Are Subclasses of `Object` — Brief Intro\n",
        "`Object` is Java's ultimate superclass. Every class directly or indirectly extends it."
      ]
    },
    {
      "cell_type": "markdown",
      "metadata": {},
      "source": [
        "### Description\n",
        "Because of this, every object has methods like `toString()`, `equals(Object)`, and `getClass()`."
      ]
    },
    {
      "cell_type": "code",
      "metadata": {
        "language": "java"
      },
      "source": [
        "// Example: methods from Object\n",
        "class Main3 {\n",
        "    public static void main(String[] args) {\n",
        "        Dog x = new Dog();\n",
        "        System.out.println(x.getClass().getName()); // prints class name\n",
        "        System.out.println(x.toString());           // default toString from Object\n",
        "        System.out.println(x instanceof Object);    // true\n",
        "    }\n",
        "}\n"
      ],
      "execution_count": null,
      "outputs": []
    },
    {
      "cell_type": "markdown",
      "metadata": {},
      "source": [
        "## 🍿 Popcorn Hack (one cell)\n",
        "**Task:** Complete the code below.\n",
        "\n",
        "1. Finish the `Book` class by adding a `printInfo()` method that prints title and pages.\n",
        "2. In `Main`, create **one** `Book` object, set its fields, and call `printInfo()`.\n",
        "\n",
        "> Keep it short—this is a quick check that you can define a class and create an instance."
      ]
    },
    {
      "cell_type": "code",
      "metadata": {
        "language": "java"
      },
      "source": [
        "// TODO: Finish and run in your Java environment\n",
        "class Book {\n",
        "    String title;\n",
        "    int pages;\n",
        "    // TODO: write printInfo() to show: Title: <title>, Pages: <pages>\n",
        "}\n",
        "\n",
        "class MainPopcorn {\n",
        "    public static void main(String[] args) {\n",
        "        // TODO: make one Book, set its fields, and call printInfo()\n",
        "    }\n",
        "}\n"
      ],
      "execution_count": null,
      "outputs": []
    },
    {
      "cell_type": "markdown",
      "metadata": {},
      "source": [
        "## Quick Self-Check (concepts)\n",
        "1. In one sentence, explain **class vs. object**.\n",
        "2. What does a **reference variable** store?\n",
        "3. Name one method every object has because it extends **`Object`**."
      ]
    },
    {
      "cell_type": "markdown",
      "metadata": {},
      "source": [
        "---\n",
        "**That’s it!** Short and focused. When you're done with the Popcorn Hack, compare with a neighbor and discuss how references behave."
      ]
    }
  ],
  "metadata": {
    "kernelspec": {
      "name": "python3",
      "display_name": "Python 3",
      "language": "python"
    },
    "language_info": {
      "name": "python",
      "version": "3.x"
    }
  },
  "nbformat": 4,
  "nbformat_minor": 5
}