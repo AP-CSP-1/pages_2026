{
 "cells": [
  {
   "cell_type": "raw",
   "id": "e1574870",
   "metadata": {
    "vscode": {
     "languageId": "raw"
    }
   },
   "source": [
    "---\n",
    "layout: post\n",
    "title: Java ML - Weka\n",
    "categories: [Java Spring]\n",
    "permalink: /weka\n",
    "menu: /nav/ml_teach.html\n",
    "---"
   ]
  },
  {
   "cell_type": "markdown",
   "id": "f6624de3",
   "metadata": {},
   "source": [
    "## Weka (Waikato Enviornment for Knowledge Analysis)\n",
    "- Java-based machine learning toolkit with:\n",
    "    - A large number of built-in algorithms for classification, regression, clustering, etc\n",
    "    - Useful for teaching, rapid prototyping, and data analysis"
   ]
  },
  {
   "cell_type": "markdown",
   "id": "4a99fbca",
   "metadata": {},
   "source": [
    "## Weka in titanic example"
   ]
  },
  {
   "cell_type": "markdown",
   "id": "27c74665",
   "metadata": {},
   "source": [
    "## TableSaw Vs Smile"
   ]
  },
  {
   "cell_type": "markdown",
   "id": "2b710ba3",
   "metadata": {},
   "source": [
    "| Aspect                          | Tablesaw                                                                             | Smile                                                                                        |\n",
    "| ------------------------------- | ------------------------------------------------------------------------------------ | -------------------------------------------------------------------------------------------- |\n",
    "| **Primary focus**               | Data manipulation and exploratory data analysis (EDA), similar to pandas in Python   | Machine learning, statistics, and data analysis library with ML models and algorithms        |\n",
    "| **DataFrame support**           | Yes, Tablesaw provides a rich DataFrame API for tabular data manipulation            | Yes, Smile provides DataFrame, but often more focused on ML workflows                        |\n",
    "| **ML Algorithms**               | Minimal or no built-in ML algorithms; mainly for data wrangling and analysis         | Extensive ML support: classification, regression, clustering, dimensionality reduction, etc. |\n",
    "| **Data types support**          | Supports various column types (numeric, categorical, date, etc.) with convenient API | Supports different types but with a focus on numeric data for ML                             |\n",
    "| **Data visualization**          | Limited built-in support, but can export or integrate with Java plotting libs        | Very limited visualization; focus is on ML and stats                                         |\n",
    "| **Performance**                 | Efficient for in-memory tabular data; good for typical data wrangling tasks          | Highly optimized for numerical computation and ML tasks                                      |\n",
    "| **Missing value handling**      | Good support for missing data in tables                                              | Supports missing data but less focus on data cleaning than Tablesaw                          |\n",
    "| **API complexity**              | Simple and intuitive for data manipulation and EDA                                   | More complex, with many ML-related classes and utilities                                     |\n",
    "| **Community and documentation** | Growing, focused on data manipulation                                                | Mature, with focus on ML and statistics                                                      |\n",
    "| **Integration**                 | Easy integration with Java projects for ETL, data manipulation                       | Great for projects requiring ML algorithms and predictive modeling                           |\n"
   ]
  },
  {
   "cell_type": "markdown",
   "id": "cc1d8830",
   "metadata": {},
   "source": [
    "## TableSaw"
   ]
  },
  {
   "cell_type": "raw",
   "id": "d197d0ab",
   "metadata": {},
   "source": []
  },
  {
   "cell_type": "markdown",
   "id": "2465a3c0",
   "metadata": {},
   "source": [
    "# Titanic Data Project Overview\n",
    "\n",
    "This project explores the Titanic dataset using Java, with three main components for data preprocessing, analysis, and machine learning modeling.\n",
    "\n",
    "---\n",
    "\n",
    "## 1. `TitanicPreprocess.java` — *Data Cleaning & Preparation*\n",
    "\n",
    "Prepares the raw Titanic dataset for analysis and modeling:\n",
    "\n",
    "- Loads the raw dataset from a CSV file.\n",
    "- Adds a new `\"Alone\"` column to indicate whether a passenger was traveling alone.\n",
    "- Removes irrelevant columns: `PassengerId`, `Name`, `Ticket`, and `Cabin`.\n",
    "- Encodes categorical variables:\n",
    "  - `Sex`: `male → 1`, `female → 0`\n",
    "  - `Embarked`: `C → 1`, `Q → 2`, `S → 3`\n",
    "- Fills missing values with the median of each column.\n",
    "- Saves the cleaned dataset to `titanic_cleaned.csv`.\n",
    "\n",
    "---\n",
    "\n",
    "## 2. `TitanicAnalysis.java` — *Exploratory Data Analysis (EDA)*\n",
    "\n",
    "Performs visual and statistical analysis on the Titanic dataset:\n",
    "\n",
    "- Loads the raw dataset from a CSV file.\n",
    "- Adds the `\"Alone\"` column.\n",
    "- Splits data into subsets of survivors and non-survivors.\n",
    "- Calculates and visualizes:\n",
    "  - **Survival rate by gender**\n",
    "  - **Survival rate based on fare price**\n",
    "  - **Comparison of survival for passengers traveling alone vs. with family**\n",
    "  - **Age distribution among survivors and non-survivors**\n",
    "\n",
    "---\n",
    "\n",
    "## 3. `TitanicML.java` — *Machine Learning Modeling*\n",
    "\n",
    "Builds and evaluates ML models using the cleaned dataset:\n",
    "\n",
    "- Loads and processes the data (similar to `TitanicPreprocess.java`).\n",
    "- Normalizes numerical features to a 0–1 range.\n",
    "- Converts Tablesaw tables to Weka instances.\n",
    "- Trains two models:\n",
    "  - **Decision Tree (J48)**\n",
    "  - **Logistic Regression**\n",
    "- Evaluates the models using cross-validation.\n",
    "\n",
    "---\n",
    "\n",
    "## Recommended Execution Order\n",
    "\n",
    "To ensure a smooth workflow, run the scripts in this order:\n",
    "\n",
    "1. **`TitanicPreprocess.java`**  \n",
    "   Cleans the dataset and generates `titanic_cleaned.csv`.\n",
    "\n",
    "2. **`TitanicAnalysis.java`**  \n",
    "   Performs EDA and generates insights and visualizations.\n",
    "\n",
    "3. **`TitanicML.java`**  \n",
    "   Runs machine learning models on the cleaned dataset."
   ]
  },
  {
   "cell_type": "markdown",
   "id": "066d53b1",
   "metadata": {},
   "source": [
    "## Popcorn Hack\n",
    "\n",
    "### - Use Tablesaw to visualize the class distribution (first, second, third class) of the Titanic data\n"
   ]
  },
  {
   "cell_type": "markdown",
   "id": "5c6bd0c3",
   "metadata": {},
   "source": [
    "## Lets Look at a Titanic Example"
   ]
  },
  {
   "cell_type": "markdown",
   "id": "b5d75daf",
   "metadata": {},
   "source": [
    "## Homework"
   ]
  },
  {
   "cell_type": "markdown",
   "id": "161255b0",
   "metadata": {},
   "source": [
    "### - Use SMILE to train a classifier on the Titanic Dataset\n",
    "### - Use Tablesaw to visualize the Iris data in at least 3 different ways"
   ]
  }
 ],
 "metadata": {
  "kernelspec": {
   "display_name": "Java",
   "language": "java",
   "name": "java"
  },
  "language_info": {
   "codemirror_mode": "java",
   "file_extension": ".jshell",
   "mimetype": "text/x-java-source",
   "name": "Java",
   "pygments_lexer": "java",
   "version": "17.0.14+7-Ubuntu-122.04.1"
  }
 },
 "nbformat": 4,
 "nbformat_minor": 5
}
