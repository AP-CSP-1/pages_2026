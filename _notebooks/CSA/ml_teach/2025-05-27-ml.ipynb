{
 "cells": [
  {
   "cell_type": "raw",
   "id": "e1574870",
   "metadata": {
    "vscode": {
     "languageId": "raw"
    }
   },
   "source": [
    "---\n",
    "layout: post\n",
    "title: Java ML - Smile\n",
    "categories: [Java Spring]\n",
    "permalink: /graphs/intro\n",
    "menu: /nav/graph.html\n",
    "---"
   ]
  },
  {
   "cell_type": "markdown",
   "id": "f6624de3",
   "metadata": {},
   "source": [
    "## Weka"
   ]
  },
  {
   "cell_type": "markdown",
   "id": "27c74665",
   "metadata": {},
   "source": [
    "## TableSaw Vs Smile"
   ]
  },
  {
   "cell_type": "markdown",
   "id": "2b710ba3",
   "metadata": {},
   "source": [
    "| Aspect                          | Tablesaw                                                                             | Smile                                                                                        |\n",
    "| ------------------------------- | ------------------------------------------------------------------------------------ | -------------------------------------------------------------------------------------------- |\n",
    "| **Primary focus**               | Data manipulation and exploratory data analysis (EDA), similar to pandas in Python   | Machine learning, statistics, and data analysis library with ML models and algorithms        |\n",
    "| **DataFrame support**           | Yes, Tablesaw provides a rich DataFrame API for tabular data manipulation            | Yes, Smile provides DataFrame, but often more focused on ML workflows                        |\n",
    "| **ML Algorithms**               | Minimal or no built-in ML algorithms; mainly for data wrangling and analysis         | Extensive ML support: classification, regression, clustering, dimensionality reduction, etc. |\n",
    "| **Data types support**          | Supports various column types (numeric, categorical, date, etc.) with convenient API | Supports different types but with a focus on numeric data for ML                             |\n",
    "| **Data visualization**          | Limited built-in support, but can export or integrate with Java plotting libs        | Very limited visualization; focus is on ML and stats                                         |\n",
    "| **Performance**                 | Efficient for in-memory tabular data; good for typical data wrangling tasks          | Highly optimized for numerical computation and ML tasks                                      |\n",
    "| **Missing value handling**      | Good support for missing data in tables                                              | Supports missing data but less focus on data cleaning than Tablesaw                          |\n",
    "| **API complexity**              | Simple and intuitive for data manipulation and EDA                                   | More complex, with many ML-related classes and utilities                                     |\n",
    "| **Community and documentation** | Growing, focused on data manipulation                                                | Mature, with focus on ML and statistics                                                      |\n",
    "| **Integration**                 | Easy integration with Java projects for ETL, data manipulation                       | Great for projects requiring ML algorithms and predictive modeling                           |\n"
   ]
  },
  {
   "cell_type": "markdown",
   "id": "cc1d8830",
   "metadata": {},
   "source": [
    "## TableSaw"
   ]
  },
  {
   "cell_type": "markdown",
   "id": "2465a3c0",
   "metadata": {},
   "source": [
    "### Titanic Example\n",
    "TitanicAnalysis.java,\n",
    "This performs exploratory data analysis:\n",
    "\n",
    "Loads the raw Titanic dataset from CSV\n",
    "Creates a new \"Alone\" column to identify passengers traveling alone\n",
    "Splits data into survived/perished subsets\n",
    "Calculates statistics and creates visualizations about:\n",
    "Survival rates by gender\n",
    "Survival based on fare price\n",
    "Survival rates for passengers traveling alone vs with family\n",
    "Age distribution among survivors and non-survivors\n",
    "TitanicPreprocess.java,\n",
    "This prepares data for analysis:\n",
    "\n",
    "Loads the raw Titanic dataset\n",
    "Adds the \"Alone\" column\n",
    "Removes unnecessary columns (PassengerId, Name, Ticket, Cabin)\n",
    "Transforms categorical variables into numeric:\n",
    "Sex: male → 1, female → 0\n",
    "Embarked: C → 1, Q → 2, S → 3\n",
    "Fills missing values with median values\n",
    "Saves the cleaned dataset as titanic_cleaned.csv\n",
    "TitanicML.java,\n",
    "This builds machine learning models:\n",
    "\n",
    "Loads and cleans the dataset (similar to TitanicPreprocess.java)\n",
    "Converts categorical variables to numeric\n",
    "Normalizes numeric columns to 0-1 range\n",
    "Converts Tablesaw tables to Weka instances\n",
    "Builds two ML models:\n",
    "Decision tree (J48)\n",
    "Logistic regression\n",
    "Performs cross-validation to evaluate model performance\n",
    "Running Order\n",
    "For the best experience, run the files in this order:\n",
    "\n",
    "TitanicPreprocess.java first\n",
    "\n",
    "This creates the cleaned CSV file for further analysis.\n",
    "\n",
    "TitanicAnalysis.java second\n",
    "\n",
    "This gives you visualizations and basic statistics.\n",
    "\n",
    "TitanicML.java last\n",
    "\n",
    "This runs the machine learning models on the data."
   ]
  },
  {
   "cell_type": "markdown",
   "id": "aadc088c",
   "metadata": {},
   "source": [
    "## What is Smile?\n",
    "- SMILE stands for Statistical Machine Intelligence and Learning Engine\n",
    "- Java-based ML library with fast performance and wide algorithm support"
   ]
  },
  {
   "cell_type": "markdown",
   "id": "95d4ce6b",
   "metadata": {},
   "source": [
    "### Downloading and Importing SMILE Libraries"
   ]
  },
  {
   "cell_type": "code",
   "execution_count": null,
   "id": "977e24fe",
   "metadata": {
    "vscode": {
     "languageId": "java"
    }
   },
   "outputs": [],
   "source": [
    "%maven com.github.haifengl:smile-core:2.6.0\n",
    "%maven com.github.haifengl:smile-data:2.6.0\n",
    "%maven com.github.haifengl:smile-math:2.6.0\n",
    "%maven com.github.haifengl:smile-io:2.6.0\n",
    "%maven org.slf4j:slf4j-nop:2.0.7\n"
   ]
  },
  {
   "cell_type": "code",
   "execution_count": null,
   "id": "8591aabf",
   "metadata": {
    "vscode": {
     "languageId": "java"
    }
   },
   "outputs": [],
   "source": [
    "import smile.data.DataFrame;\n",
    "import smile.data.formula.Formula;\n",
    "import smile.data.measure.NominalScale;\n",
    "import smile.data.vector.BaseVector;\n",
    "import smile.data.vector.IntVector;\n",
    "import smile.data.vector.DoubleVector;\n",
    "import smile.data.vector.StringVector;\n",
    "import smile.io.Read;"
   ]
  },
  {
   "cell_type": "markdown",
   "id": "8cfeea23",
   "metadata": {},
   "source": [
    "### Loading Titanic Dataset"
   ]
  },
  {
   "cell_type": "code",
   "execution_count": null,
   "id": "f45b3ad3",
   "metadata": {
    "vscode": {
     "languageId": "java"
    }
   },
   "outputs": [],
   "source": [
    "DataFrame data = Read.csv(\"path/to/your/titanic.csv\");"
   ]
  },
  {
   "cell_type": "markdown",
   "id": "7d927498",
   "metadata": {},
   "source": [
    "## Data Preprocessing"
   ]
  },
  {
   "cell_type": "markdown",
   "id": "407af70a",
   "metadata": {},
   "source": [
    "## Convert Categorical Variables"
   ]
  },
  {
   "cell_type": "code",
   "execution_count": null,
   "id": "5e1d7900",
   "metadata": {
    "vscode": {
     "languageId": "java"
    }
   },
   "outputs": [],
   "source": []
  }
 ],
 "metadata": {
  "kernelspec": {
   "display_name": "Java",
   "language": "java",
   "name": "java"
  },
  "language_info": {
   "codemirror_mode": "java",
   "file_extension": ".jshell",
   "mimetype": "text/x-java-source",
   "name": "Java",
   "pygments_lexer": "java",
   "version": "17.0.14+7-Ubuntu-122.04.1"
  }
 },
 "nbformat": 4,
 "nbformat_minor": 5
}
