{
 "cells": [
  {
   "cell_type": "raw",
   "id": "e1574870",
   "metadata": {
    "vscode": {
     "languageId": "raw"
    }
   },
   "source": [
    "---\n",
    "layout: post\n",
    "title: Java ML - Smile\n",
    "categories: [Java Spring]\n",
    "permalink: /graphs/intro\n",
    "menu: /nav/graph.html\n",
    "---"
   ]
  },
  {
   "cell_type": "markdown",
   "id": "f6624de3",
   "metadata": {},
   "source": [
    "## Weka"
   ]
  },
  {
   "cell_type": "markdown",
   "id": "27c74665",
   "metadata": {},
   "source": [
    "## TableSaw Vs Smile"
   ]
  },
  {
   "cell_type": "markdown",
   "id": "2b710ba3",
   "metadata": {},
   "source": [
    "| Aspect                          | Tablesaw                                                                             | Smile                                                                                        |\n",
    "| ------------------------------- | ------------------------------------------------------------------------------------ | -------------------------------------------------------------------------------------------- |\n",
    "| **Primary focus**               | Data manipulation and exploratory data analysis (EDA), similar to pandas in Python   | Machine learning, statistics, and data analysis library with ML models and algorithms        |\n",
    "| **DataFrame support**           | Yes, Tablesaw provides a rich DataFrame API for tabular data manipulation            | Yes, Smile provides DataFrame, but often more focused on ML workflows                        |\n",
    "| **ML Algorithms**               | Minimal or no built-in ML algorithms; mainly for data wrangling and analysis         | Extensive ML support: classification, regression, clustering, dimensionality reduction, etc. |\n",
    "| **Data types support**          | Supports various column types (numeric, categorical, date, etc.) with convenient API | Supports different types but with a focus on numeric data for ML                             |\n",
    "| **Data visualization**          | Limited built-in support, but can export or integrate with Java plotting libs        | Very limited visualization; focus is on ML and stats                                         |\n",
    "| **Performance**                 | Efficient for in-memory tabular data; good for typical data wrangling tasks          | Highly optimized for numerical computation and ML tasks                                      |\n",
    "| **Missing value handling**      | Good support for missing data in tables                                              | Supports missing data but less focus on data cleaning than Tablesaw                          |\n",
    "| **API complexity**              | Simple and intuitive for data manipulation and EDA                                   | More complex, with many ML-related classes and utilities                                     |\n",
    "| **Community and documentation** | Growing, focused on data manipulation                                                | Mature, with focus on ML and statistics                                                      |\n",
    "| **Integration**                 | Easy integration with Java projects for ETL, data manipulation                       | Great for projects requiring ML algorithms and predictive modeling                           |\n"
   ]
  },
  {
   "cell_type": "markdown",
   "id": "cc1d8830",
   "metadata": {},
   "source": [
    "## TableSaw"
   ]
  },
  {
   "cell_type": "markdown",
   "id": "2465a3c0",
   "metadata": {},
   "source": [
    "# Titanic Data Project Overview\n",
    "\n",
    "This project explores the Titanic dataset using Java, with three main components for data preprocessing, analysis, and machine learning modeling.\n",
    "\n",
    "---\n",
    "\n",
    "## 1. `TitanicPreprocess.java` — *Data Cleaning & Preparation*\n",
    "\n",
    "Prepares the raw Titanic dataset for analysis and modeling:\n",
    "\n",
    "- Loads the raw dataset from a CSV file.\n",
    "- Adds a new `\"Alone\"` column to indicate whether a passenger was traveling alone.\n",
    "- Removes irrelevant columns: `PassengerId`, `Name`, `Ticket`, and `Cabin`.\n",
    "- Encodes categorical variables:\n",
    "  - `Sex`: `male → 1`, `female → 0`\n",
    "  - `Embarked`: `C → 1`, `Q → 2`, `S → 3`\n",
    "- Fills missing values with the median of each column.\n",
    "- Saves the cleaned dataset to `titanic_cleaned.csv`.\n",
    "\n",
    "---\n",
    "\n",
    "## 2. `TitanicAnalysis.java` — *Exploratory Data Analysis (EDA)*\n",
    "\n",
    "Performs visual and statistical analysis on the Titanic dataset:\n",
    "\n",
    "- Loads the raw dataset from a CSV file.\n",
    "- Adds the `\"Alone\"` column.\n",
    "- Splits data into subsets of survivors and non-survivors.\n",
    "- Calculates and visualizes:\n",
    "  - **Survival rate by gender**\n",
    "  - **Survival rate based on fare price**\n",
    "  - **Comparison of survival for passengers traveling alone vs. with family**\n",
    "  - **Age distribution among survivors and non-survivors**\n",
    "\n",
    "---\n",
    "\n",
    "## 3. `TitanicML.java` — *Machine Learning Modeling*\n",
    "\n",
    "Builds and evaluates ML models using the cleaned dataset:\n",
    "\n",
    "- Loads and processes the data (similar to `TitanicPreprocess.java`).\n",
    "- Normalizes numerical features to a 0–1 range.\n",
    "- Converts Tablesaw tables to Weka instances.\n",
    "- Trains two models:\n",
    "  - **Decision Tree (J48)**\n",
    "  - **Logistic Regression**\n",
    "- Evaluates the models using cross-validation.\n",
    "\n",
    "---\n",
    "\n",
    "## Recommended Execution Order\n",
    "\n",
    "To ensure a smooth workflow, run the scripts in this order:\n",
    "\n",
    "1. **`TitanicPreprocess.java`**  \n",
    "   Cleans the dataset and generates `titanic_cleaned.csv`.\n",
    "\n",
    "2. **`TitanicAnalysis.java`**  \n",
    "   Performs EDA and generates insights and visualizations.\n",
    "\n",
    "3. **`TitanicML.java`**  \n",
    "   Runs machine learning models on the cleaned dataset."
   ]
  },
  {
   "cell_type": "markdown",
   "id": "aadc088c",
   "metadata": {},
   "source": [
    "## What is Smile?\n",
    "- SMILE stands for Statistical Machine Intelligence and Learning Engine\n",
    "- Java-based ML library with fast performance and wide algorithm support"
   ]
  },
  {
   "cell_type": "markdown",
   "id": "95d4ce6b",
   "metadata": {},
   "source": [
    "### Downloading and Importing SMILE Libraries"
   ]
  },
  {
   "cell_type": "code",
   "execution_count": null,
   "id": "977e24fe",
   "metadata": {
    "vscode": {
     "languageId": "java"
    }
   },
   "outputs": [
    {
     "ename": "EvalException",
     "evalue": "Exception occurred while running line magic 'maven': Error resolving 'com.github.haifengl:smile-validation:2.5.3'. [unresolved dependency: com.github.haifengl#smile-validation;2.5.3: not found, unresolved dependency: com.github.haifengl#smile-validation;2.5.3: not found]",
     "output_type": "error",
     "traceback": [
      "\u001b[1m\u001b[31m---------------------------------------------------------------------------\u001b[0m",
      "\u001b[1m\u001b[31mjava.lang.RuntimeException: Exception occurred while running line magic 'maven': Error resolving 'com.github.haifengl:smile-validation:2.5.3'. [unresolved dependency: com.github.haifengl#smile-validation;2.5.3: not found, unresolved dependency: com.github.haifengl#smile-validation;2.5.3: not found]\u001b[0m",
      "\u001b[1m\u001b[31m\tat io.github.spencerpark.ijava.runtime.Magics.lineMagic(Magics.java:19)\u001b[0m",
      "\u001b[1m\u001b[31m\tat .(#228:1)\u001b[0m"
     ]
    }
   ],
   "source": [
    "%maven com.github.haifengl:smile-data:2.6.0\n",
    "%maven com.github.haifengl:smile-math:2.6.0\n",
    "%maven com.github.haifengl:smile-io:2.6.0\n",
    "%maven org.slf4j:slf4j-nop:2.0.7\n",
    "%maven com.github.haifengl:smile-core:2.6.0"
   ]
  },
  {
   "cell_type": "markdown",
   "id": "76a94450",
   "metadata": {},
   "source": [
    "## Loading dataset"
   ]
  },
  {
   "cell_type": "code",
   "execution_count": 53,
   "id": "58feb16e",
   "metadata": {
    "vscode": {
     "languageId": "java"
    }
   },
   "outputs": [
    {
     "name": "stdout",
     "output_type": "stream",
     "text": [
      "[Column: String, Type: DataType, Measure: Measure]\n",
      "+------------+------+-------+\n",
      "|      Column|  Type|Measure|\n",
      "+------------+------+-------+\n",
      "|sepal.length|double|   null|\n",
      "| sepal.width|double|   null|\n",
      "|petal.length|double|   null|\n",
      "| petal.width|double|   null|\n",
      "|     variety|String|   null|\n",
      "+------------+------+-------+\n",
      "\n",
      "[column: String, count: long, min: double, avg: double, max: double]\n",
      "+------------+-----+---+--------+---+\n",
      "|      column|count|min|     avg|max|\n",
      "+------------+-----+---+--------+---+\n",
      "|sepal.length|  150|4.3|5.843333|7.9|\n",
      "| sepal.width|  150|  2|3.057333|4.4|\n",
      "|petal.length|  150|  1|   3.758|6.9|\n",
      "| petal.width|  150|0.1|1.199333|2.5|\n",
      "+------------+-----+---+--------+---+\n",
      "\n"
     ]
    }
   ],
   "source": [
    "import smile.data.DataFrame;\n",
    "import smile.data.formula.Formula;\n",
    "import smile.io.Read;\n",
    "import smile.classification.LogisticRegression;\n",
    "import smile.data.vector.IntVector;\n",
    "import org.apache.commons.csv.CSVFormat;\n",
    "import smile.validation.metric.Accuracy;\n",
    "import java.util.HashMap;\n",
    "import java.util.Map;\n",
    "\n",
    "// Load Wine dataset with header\n",
    "String url = \"https://gist.githubusercontent.com/netj/8836201/raw/iris.csv\";\n",
    "DataFrame iris = Read.csv(url, CSVFormat.DEFAULT.withFirstRecordAsHeader());\n",
    "\n",
    "System.out.println(iris.structure());\n",
    "System.out.println(iris.summary());\n"
   ]
  },
  {
   "cell_type": "markdown",
   "id": "44cdecba",
   "metadata": {},
   "source": [
    "## Train logistic Regression with the target column as \"class\""
   ]
  },
  {
   "cell_type": "code",
   "execution_count": 54,
   "id": "67df3147",
   "metadata": {
    "vscode": {
     "languageId": "java"
    }
   },
   "outputs": [
    {
     "name": "stdout",
     "output_type": "stream",
     "text": [
      "[Column: String, Type: DataType, Measure: Measure]\n",
      "+------------+------+-------+\n",
      "|      Column|  Type|Measure|\n",
      "+------------+------+-------+\n",
      "|sepal.length|double|   null|\n",
      "| sepal.width|double|   null|\n",
      "|petal.length|double|   null|\n",
      "| petal.width|double|   null|\n",
      "|     variety|String|   null|\n",
      "|       label|   int|   null|\n",
      "+------------+------+-------+\n",
      "\n"
     ]
    }
   ],
   "source": [
    "String[] classes = iris.stringVector(\"variety\").toArray();\n",
    "\n",
    "Map<String, Integer> classToInt = new HashMap<>();\n",
    "int labelCounter = 0;\n",
    "int[] labels = new int[classes.length];\n",
    "\n",
    "for (int i = 0; i < classes.length; i++) {\n",
    "    if (!classToInt.containsKey(classes[i])) {\n",
    "        classToInt.put(classes[i], labelCounter++);\n",
    "    }\n",
    "    labels[i] = classToInt.get(classes[i]);\n",
    "}\n",
    "\n",
    "iris = iris.merge(IntVector.of(\"label\", labels));\n",
    "\n",
    "System.out.println(iris.structure());\n"
   ]
  },
  {
   "cell_type": "code",
   "execution_count": 55,
   "id": "ae09b358",
   "metadata": {
    "vscode": {
     "languageId": "java"
    }
   },
   "outputs": [
    {
     "name": "stdout",
     "output_type": "stream",
     "text": [
      "Model trained.\n"
     ]
    }
   ],
   "source": [
    "// Use formula specifying label as target, excluding the string column 'variety' as a feature\n",
    "// So drop \"variety\" column before fitting model\n",
    "DataFrame features = iris.drop(\"variety\");\n",
    "\n",
    "Formula formula = Formula.lhs(\"label\");\n",
    "LogisticRegression model = LogisticRegression.fit(formula, features);\n",
    "\n",
    "System.out.println(\"Model trained.\");\n"
   ]
  },
  {
   "cell_type": "code",
   "execution_count": 56,
   "id": "f21ef31f",
   "metadata": {
    "vscode": {
     "languageId": "java"
    }
   },
   "outputs": [],
   "source": [
    "DataFrame features = iris.drop(\"variety\").drop(\"label\");\n",
    "\n",
    "double[] sample = new double[features.ncols()];\n",
    "for (int i = 0; i < features.ncols(); i++) {\n",
    "    sample[i] = features.getDouble(0, i);\n",
    "}\n",
    "\n",
    "int pred = model.predict(sample);\n"
   ]
  },
  {
   "cell_type": "code",
   "execution_count": 57,
   "id": "f290664e",
   "metadata": {
    "vscode": {
     "languageId": "java"
    }
   },
   "outputs": [
    {
     "name": "stdout",
     "output_type": "stream",
     "text": [
      "Training Accuracy: 98.00%\n"
     ]
    },
    {
     "data": {
      "text/plain": [
       "java.io.PrintStream@22195699"
      ]
     },
     "execution_count": 57,
     "metadata": {},
     "output_type": "execute_result"
    }
   ],
   "source": [
    "DataFrame features = iris.drop(\"variety\").drop(\"label\");\n",
    "\n",
    "int[] trueLabels = iris.intVector(\"label\").toIntArray();\n",
    "int[] predictedLabels = new int[iris.size()];\n",
    "\n",
    "for (int i = 0; i < iris.size(); i++) {\n",
    "    double[] x = new double[features.ncols()];\n",
    "    for (int j = 0; j < features.ncols(); j++) {\n",
    "        x[j] = features.getDouble(i, j);\n",
    "    }\n",
    "    predictedLabels[i] = model.predict(x);\n",
    "}\n",
    "\n",
    "double accuracy = Accuracy.of(trueLabels, predictedLabels);\n",
    "System.out.printf(\"Training Accuracy: %.2f%%\\n\", accuracy * 100);\n"
   ]
  },
  {
   "cell_type": "markdown",
   "id": "066d53b1",
   "metadata": {},
   "source": [
    "## Popcorn Hack\n",
    "\n",
    "### - Use Tablesaw to visualize the class distribution (first, second, third class) of the Titanic data\n"
   ]
  },
  {
   "cell_type": "markdown",
   "id": "5c6bd0c3",
   "metadata": {},
   "source": [
    "## Lets Look at a Titanic Example"
   ]
  },
  {
   "cell_type": "markdown",
   "id": "b5d75daf",
   "metadata": {},
   "source": [
    "## Homework"
   ]
  },
  {
   "cell_type": "markdown",
   "id": "161255b0",
   "metadata": {},
   "source": [
    "### - Use SMILE to train a classifier on the Titanic Dataset\n",
    "### - Use Tablesaw to visualize the Iris data in at least 3 different ways"
   ]
  }
 ],
 "metadata": {
  "kernelspec": {
   "display_name": "Java",
   "language": "java",
   "name": "java"
  },
  "language_info": {
   "codemirror_mode": "java",
   "file_extension": ".jshell",
   "mimetype": "text/x-java-source",
   "name": "Java",
   "pygments_lexer": "java",
   "version": "17.0.14+7-Ubuntu-122.04.1"
  }
 },
 "nbformat": 4,
 "nbformat_minor": 5
}
