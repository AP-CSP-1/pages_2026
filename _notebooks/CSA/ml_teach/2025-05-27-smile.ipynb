{
 "cells": [
  {
   "cell_type": "markdown",
   "id": "2561737b",
   "metadata": {},
   "source": [
    "---\n",
    "layout: post\n",
    "title: Java ML - Smile\n",
    "categories: [Java Spring]\n",
    "permalink: /smile\n",
    "menu: /nav/ml_teach.html\n",
    "---"
   ]
  }
 ],
 "metadata": {
  "language_info": {
   "name": "python"
  }
 },
 "nbformat": 4,
 "nbformat_minor": 5
}
