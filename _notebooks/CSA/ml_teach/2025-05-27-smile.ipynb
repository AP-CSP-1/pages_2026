{
 "cells": [
  {
   "cell_type": "markdown",
   "id": "2561737b",
   "metadata": {},
   "source": [
    "---\n",
    "layout: post\n",
    "title: Java ML - Smile\n",
    "categories: [Java Spring]\n",
    "permalink: /smile\n",
    "menu: /nav/ml_teach.html\n",
    "---"
   ]
  },
  {
   "cell_type": "markdown",
   "id": "a4a976b8",
   "metadata": {},
   "source": [
    "## What is Smile?\n",
    "- SMILE stands for Statistical Machine Intelligence and Learning Engine\n",
    "- Java-based ML library with fast performance and wide algorithm support"
   ]
  },
  {
   "cell_type": "markdown",
   "id": "c3be040c",
   "metadata": {},
   "source": [
    "### Downloading and Importing SMILE Libraries"
   ]
  },
  {
   "cell_type": "code",
   "execution_count": 2,
   "id": "01d3be32",
   "metadata": {
    "vscode": {
     "languageId": "java"
    }
   },
   "outputs": [],
   "source": [
    "%maven com.github.haifengl:smile-data:2.6.0\n",
    "%maven com.github.haifengl:smile-math:2.6.0\n",
    "%maven com.github.haifengl:smile-io:2.6.0\n",
    "%maven org.slf4j:slf4j-nop:2.0.7\n",
    "%maven com.github.haifengl:smile-core:2.6.0"
   ]
  },
  {
   "cell_type": "markdown",
   "id": "97909689",
   "metadata": {},
   "source": [
    "## Loading dataset"
   ]
  },
  {
   "cell_type": "code",
   "execution_count": 3,
   "id": "d58fd1ce",
   "metadata": {
    "vscode": {
     "languageId": "java"
    }
   },
   "outputs": [
    {
     "name": "stderr",
     "output_type": "stream",
     "text": [
      "SLF4J: Failed to load class \"org.slf4j.impl.StaticLoggerBinder\".\n",
      "SLF4J: Defaulting to no-operation (NOP) logger implementation\n",
      "SLF4J: See http://www.slf4j.org/codes.html#StaticLoggerBinder for further details.\n"
     ]
    },
    {
     "name": "stdout",
     "output_type": "stream",
     "text": [
      "[Column: String, Type: DataType, Measure: Measure]\n",
      "+------------+------+-------+\n",
      "|      Column|  Type|Measure|\n",
      "+------------+------+-------+\n",
      "|sepal.length|double|   null|\n",
      "| sepal.width|double|   null|\n",
      "|petal.length|double|   null|\n",
      "| petal.width|double|   null|\n",
      "|     variety|String|   null|\n",
      "+------------+------+-------+\n",
      "\n",
      "[column: String, count: long, min: double, avg: double, max: double]\n",
      "+------------+-----+---+--------+---+\n",
      "|      column|count|min|     avg|max|\n",
      "+------------+-----+---+--------+---+\n",
      "|sepal.length|  150|4.3|5.843333|7.9|\n",
      "| sepal.width|  150|  2|3.057333|4.4|\n",
      "|petal.length|  150|  1|   3.758|6.9|\n",
      "| petal.width|  150|0.1|1.199333|2.5|\n",
      "+------------+-----+---+--------+---+\n",
      "\n"
     ]
    }
   ],
   "source": [
    "import smile.data.DataFrame;\n",
    "import smile.data.formula.Formula;\n",
    "import smile.io.Read;\n",
    "import smile.classification.LogisticRegression;\n",
    "import smile.data.vector.IntVector;\n",
    "import org.apache.commons.csv.CSVFormat;\n",
    "import smile.validation.metric.Accuracy;\n",
    "import java.util.HashMap;\n",
    "import java.util.Map;\n",
    "\n",
    "// Load Wine dataset with header\n",
    "String url = \"https://gist.githubusercontent.com/netj/8836201/raw/iris.csv\";\n",
    "DataFrame iris = Read.csv(url, CSVFormat.DEFAULT.withFirstRecordAsHeader());\n",
    "\n",
    "System.out.println(iris.structure());\n",
    "System.out.println(iris.summary());\n"
   ]
  },
  {
   "cell_type": "markdown",
   "id": "0ca05c71",
   "metadata": {},
   "source": [
    "## Train logistic Regression with the target column as \"class\""
   ]
  },
  {
   "cell_type": "code",
   "execution_count": null,
   "id": "1900c89e",
   "metadata": {
    "vscode": {
     "languageId": "java"
    }
   },
   "outputs": [],
   "source": [
    "String[] classes = iris.stringVector(\"variety\").toArray();\n",
    "\n",
    "Map<String, Integer> classToInt = new HashMap<>();\n",
    "int labelCounter = 0;\n",
    "int[] labels = new int[classes.length];\n",
    "\n",
    "for (int i = 0; i < classes.length; i++) {\n",
    "    if (!classToInt.containsKey(classes[i])) {\n",
    "        classToInt.put(classes[i], labelCounter++);\n",
    "    }\n",
    "    labels[i] = classToInt.get(classes[i]);\n",
    "}\n",
    "\n",
    "iris = iris.merge(IntVector.of(\"label\", labels));\n",
    "\n",
    "System.out.println(iris.structure());\n"
   ]
  },
  {
   "cell_type": "code",
   "execution_count": null,
   "id": "3e08c09e",
   "metadata": {
    "vscode": {
     "languageId": "java"
    }
   },
   "outputs": [],
   "source": [
    "// Use formula specifying label as target, excluding the string column 'variety' as a feature\n",
    "// So drop \"variety\" column before fitting model\n",
    "DataFrame features = iris.drop(\"variety\");\n",
    "\n",
    "Formula formula = Formula.lhs(\"label\");\n",
    "LogisticRegression model = LogisticRegression.fit(formula, features);\n",
    "\n",
    "System.out.println(\"Model trained.\");\n"
   ]
  },
  {
   "cell_type": "code",
   "execution_count": null,
   "metadata": {
    "vscode": {
     "languageId": "java"
    }
   },
   "outputs": [],
   "source": [
    "DataFrame features = iris.drop(\"variety\").drop(\"label\");\n",
    "\n",
    "double[] sample = new double[features.ncols()];\n",
    "for (int i = 0; i < features.ncols(); i++) {\n",
    "    sample[i] = features.getDouble(0, i);\n",
    "}\n",
    "\n",
    "int pred = model.predict(sample);\n"
   ]
  },
  {
   "cell_type": "code",
   "execution_count": null,
   "id": "39e5da1c",
   "metadata": {
    "vscode": {
     "languageId": "java"
    }
   },
   "outputs": [],
   "source": [
    "DataFrame features = iris.drop(\"variety\").drop(\"label\");\n",
    "\n",
    "int[] trueLabels = iris.intVector(\"label\").toIntArray();\n",
    "int[] predictedLabels = new int[iris.size()];\n",
    "\n",
    "for (int i = 0; i < iris.size(); i++) {\n",
    "    double[] x = new double[features.ncols()];\n",
    "    for (int j = 0; j < features.ncols(); j++) {\n",
    "        x[j] = features.getDouble(i, j);\n",
    "    }\n",
    "    predictedLabels[i] = model.predict(x);\n",
    "}\n",
    "\n",
    "double accuracy = Accuracy.of(trueLabels, predictedLabels);\n",
    "System.out.printf(\"Training Accuracy: %.2f%%\\n\", accuracy * 100);\n"
   ]
  }
 ],
 "metadata": {
  "kernelspec": {
   "display_name": "Java",
   "language": "java",
   "name": "java"
  },
  "language_info": {
   "codemirror_mode": "java",
   "file_extension": ".jshell",
   "mimetype": "text/x-java-source",
   "name": "Java",
   "pygments_lexer": "java",
   "version": "17.0.15+6-Ubuntu-0ubuntu122.04"
  }
 },
 "nbformat": 4,
 "nbformat_minor": 5
}
