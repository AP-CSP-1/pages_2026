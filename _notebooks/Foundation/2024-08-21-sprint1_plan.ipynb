{
 "cells": [
  {
   "cell_type": "raw",
   "metadata": {
    "vscode": {
     "languageId": "raw"
    }
   },
   "source": [
    "---\n",
    "layout: post\n",
    "title: Sprint 1 - Objectives \n",
    "description:  Tools and Software Development for Sprint 1\n",
    "type: issues\n",
    "courses: {'csse': {'week': 0}, 'csp': {'week': 0}, 'csa': {'week': 0}}\n",
    "comments: true\n",
    "---"
   ]
  },
  {
   "cell_type": "markdown",
   "metadata": {},
   "source": [
    "## 📚 Project-based Learning Requirements\n",
    "Each sprint will include hacks and project-based learning requirements. It is up to each individual to develop their own plan for representing their work. Here are some links and tips:\n",
    "\n",
    "- All work and tangible artifacts will be captured in a personal GitHub Issue\n",
    "- To obtain clarity on instructions, you should start a task, work with a peer, and then ask questions of the Teacher\n",
    "\n",
    "In Education, there is a framework called **Bloom's Taxonomy** which represents the standards for learning. We will use these levels to guide your technical evaluation for this Sprint:\n",
    "  - **📝 Remember** - Recall facts and basic concepts about tools and commands\n",
    "  - **💡 Understand** - Explain how tools work and their purpose in development workflow  \n",
    "  - **⚙️ Apply** - Perform basic setup, installation, and coding tasks\n",
    "  - **🔍 Analyze** - Troubleshoot problems by examining logs, error messages, and system behavior\n",
    "  - **📊 Evaluate** - Assess and correct errors, compare solutions, and make correct tool choices\n",
    "  - **🎨 Create** - Produce original code, customize configurations, and add to projects\n",
    "\n",
    "In **Agile Development** methodology, which we will learn throughout the course, the focus is on delivery, iteration, and management (plans, designs, code, test,reviews, deploy, and continuous improvement). We will use these principles to guide your soft skills evaluation for this Sprint:\n",
    "\n",
    "```text\n",
    "Plan → Code → Test → Review → Deploy → Iterate\n",
    "  ↑                                        ↓\n",
    "  ← ← ← ← Continuous Improvement ← ← ← ← ←\n",
    "```\n",
    "  - **Self-management** - Taking ownership of your learning\n",
    "  - **Incremental progression** - Building skills step by step\n",
    "  - **Self-organization** - Managing your time and priorities\n",
    "  - **Iterative techniques** - Refining work through cycles\n",
    "  - **Continuous delivery** - Consistently producing quality work\n",
    "\n",
    "We will combine Bloom's Taxonomy and Agile Development to form a **Hyperflex Classroom**. As we build skills and behaviors, we should be able to adjust what we do and learn based on success and trust.\n",
    "\n",
    "---\n",
    "**🚀 Ready to Begin Your CS Journey?**\n",
    "---\n",
    "\n",
    "> **💡 Key Points:**\n",
    "> - There are very few \"correct answers\" in this class! As you code, you will see there are always more features and bugs to work on\n",
    "> - You will earn full points if you can \"show\" that you are progressing on your Computer Science journey\n",
    "> - Those who achieve high grades typically engage in work that interests them both individually and as a group"
   ]
  },
  {
   "cell_type": "markdown",
   "metadata": {},
   "source": [
    "## 🎯 Sprint1 Key Objectives\n",
    "During the sprint you need to complete all of these key objectives and find supporting hacks that demonstrate your level of mastery.\n",
    "\n",
    "**Ranking System:**\n",
    "- 0 = ❌ .00 - No evidence/faking understanding\n",
    "- 1 = 📝 .55 - Remember (basic recall)\n",
    "- 2 = 💡 .75 - Understand (explain concepts)\n",
    "- 3 = ⚙️ .85 - Apply (use in new situations)\n",
    "- 4 = 🔍 .90 - Analyze (troubleshoot/debug)\n",
    "- 5 = 📊 .91 - Evaluate (assess/compare solutions)\n",
    "- Mastered-Y = 🎨 .93 - Create (original work/customization)\n",
    "\n",
    "| Skill                                  | Mastered (Y/N) | Rank (0-5) | Ratio | Notes/Evidence                                          |\n",
    "|----------------------------------------|----------------|------------|-------|---------------------------------------------------------|\n",
    "| Laptop Verification or Cloud Workspace | [ ]          | 0          | 0.0   | Linux commands verification, system setup              |\n",
    "| VSCode Setup & Usage                   | [ ]          | 0          | 0.0   | Live coding, commit, make, localhost, test, debug      |\n",
    "| VSCode GitLens Integration             | [ ]          | 0          | 0.0   | Show commits, changes, comments, reset, version control|\n",
    "| Student Repository Creation            | [ ]          | 0          | 0.0   | Template repo, push changes, verify identity, analytics|\n",
    "| GitHub Pages Actions                   | [ ]          | 0          | 0.0   | Review workflow runs, verify deployment, demo site     |\n",
    "| Hacks: Tools & Equipment               | [ ]          | 0          | 0.0   | [Link to your completed hack]                          |\n",
    "| Hacks: GitHub Pages                    | [ ]          | 0          | 0.0   | [Link to your completed hack]                          |\n",
    "| Hacks: SASS Basics                     | [ ]          | 0          | 0.0   | [Link to your completed hack]                          |\n",
    "| Hacks: Frontend Basics                 | [ ]          | 0          | 0.0   | [Link to your completed hack]                          |\n",
    "| Pair Programming Evidence             | [ ]          | 0          | 0.0   | Tangible proof of collaborative work                    |\n",
    "| **Total Points**                       |                | **0**      |**0.0**|                                                         |\n",
    "| **Average Score**                      |                | **0.0**    |**0.0**|                                                         |"
   ]
  },
  {
   "cell_type": "markdown",
   "metadata": {},
   "source": [
    "## 🏫 Classroom Guidelines\n",
    "**\"I have everything done\" is not a mindset that aligns with Computer Science or Agile Development.**  \n",
    "\n",
    "In CompSci, there are always more features to add, bugs to fix, and improvements to make. This iterative approach is fundamental to both programming and the Agile methodologies we'll be learning.\n",
    "\n",
    "*Productive Learning Behaviors:**\n",
    "\n",
    "- **🔔 Attention Signal**: \"Hey, Hey, Hey\" or bell ringing means stop and listen. Most demonstrations will be under 10 minutes.\n",
    "\n",
    "- **💻 Work Mode**: \"Code, Code, Code\" means it's time to actively work. This includes planning, designing, researching, asking questions, and actual coding.\n",
    "\n",
    "- **👂 Active Listening**: Be available for discussion 100% of the time. Earbuds/headphones should not block your ability to hear instructions or collaborate with peers.\n",
    "\n",
    "- **🛠️ Hands-On Learning**: Your laptop is your primary learning tool. Sprint 1 focuses on mastering your development environment.\n",
    "\n",
    "- **🗣️ Technical Discourse**: Aim for 80%+ of your classroom conversation to be about code, problem-solving, and technical concepts.\n",
    "\n",
    "- **📱 Digital-First**: No paper!  All work is done electronically. Paper-based work indicates disengagement from our digital learning environment.\n",
    "\n",
    "> **💡 Key Points:**: Continuous improvement and collaboration are core principles in both Computer Science and professional development."
   ]
  },
  {
   "cell_type": "markdown",
   "metadata": {},
   "source": [
    "## 👥 Self / Peer Evaluation\n",
    "Review criteria based on classroom habits and Agile principles. In this evaluation, pairs/trios should rate each other based on their experience working with the person on each criterion.\n",
    "\n",
    "**Agile-Based Ranking System:**\n",
    "- 1 = .55 - Self-management\n",
    "- 2 = .75 - Incremental progression  \n",
    "- 3 = .85 - Self-organization\n",
    "- 4 = .90 - Iterative techniques\n",
    "- 5 = .91 - Continuous delivery\n",
    "- Mastered-Y = .93 - Excellence in all areas\n",
    "\n",
    "| Skill                    | Mastered (Y/N) | Self Rank (1-5) | Peer Rank (1-5) | Average | Notes/Evidence |\n",
    "|--------------------------|----------------|-----------------|-----------------|---------|----------------|\n",
    "| Attendance               | [ ]            | 0               | 0               | 0.0     |                |\n",
    "| Work Habits              | [ ]            | 0               | 0               | 0.0     |                |\n",
    "| Behavior                 | [ ]            | 0               | 0               | 0.0     |                |\n",
    "| Timeliness               | [ ]            | 0               | 0               | 0.0     |                |\n",
    "| Tech Sense               | [ ]            | 0               | 0               | 0.0     |                |\n",
    "| Tech Talk                | [ ]            | 0               | 0               | 0.0     |                |\n",
    "| Tech Growth              | [ ]            | 0               | 0               | 0.0     |                |\n",
    "| Advocacy                 | [ ]            | 0               | 0               | 0.0     |                |\n",
    "| Communication & Collab   | [ ]            | 0               | 0               | 0.0     |                |\n",
    "| Integrity                | [ ]            | 0               | 0               | 0.0     |                |\n",
    "| Organization             | [ ]            | 0               | 0               | 0.0     |                |\n",
    "| **Total Points**         |                |                 |                 | **0.0** |                |\n",
    "| **Average Score**        |                |                 |                 | **0.0** |                |"
   ]
  },
  {
   "cell_type": "markdown",
   "metadata": {},
   "source": [
    "## 📖 Skill Guide / Definitions\n",
    "\n",
    "1. **Attendance** - Present, on-time, with minimal disruptions (bathroom breaks, etc.)\n",
    "2. **Work Habits** - Maintains focus on tasks and demonstrates iterative improvement\n",
    "3. **Behavior** - Demonstrates student professionalism and appropriate classroom conduct\n",
    "4. **Timeliness** - Consistent with milestone deadlines and sprint deliverables, follows tracking recommendations\n",
    "5. **Tech Sense** - Shows understanding of requirements and stays on correct technical course\n",
    "6. **Tech Talk** - Able to engage in technical vocabulary and form appropriate questions with teachers or AI tools\n",
    "7. **Tech Growth** - Demonstrates progression through Bloom's learning levels and Agile Development\n",
    "8. **Advocacy** - Supports peers and contributes to team success; asks questions of peers or teachers at appropriate times\n",
    "9. **Communication & Collaboration** - Classroom discussions are focused on coursework and technical topics with peers that lead to technical engagement\n",
    "10. **Integrity** - Demonstrates honesty and maintains Computer Science focus in classroom; behavior does not require a detailed do's and don't rule book\n",
    "11. **Organization** - Uses GitHub Pages and Issues effectively to build a comprehensive Computer Science portfolio"
   ]
  }
 ],
 "metadata": {
  "language_info": {
   "name": "python"
  }
 },
 "nbformat": 4,
 "nbformat_minor": 2
}
