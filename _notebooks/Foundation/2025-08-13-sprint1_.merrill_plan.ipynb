{
 "cells": [
  {
   "cell_type": "code",
   "execution_count": null,
   "metadata": {
    "vscode": {
     "languageId": "yaml"
    }
   },
   "outputs": [],
   "source": [
    "---\n",
    "layout: post\n",
    "title: Sprint 1 - Onboarding Challenge\n",
    "description: \"Become a Learning Experience Designer to improve Open Coding Society's new student onboarding.\"\n",
    "type: issues\n",
    "courses: {'csse': {'week': 0}, 'csp': {'week': 0}, 'csa': {'week': 0}}\n",
    "comments: true\n",
    "toc: true\n",
    "permalink: /sprint-1-onboarding-challenge\n",
    "---\n"
   ]
  },
  {
   "cell_type": "markdown",
   "metadata": {},
   "source": [
    "## Sprint 1 – Task-Centered Introduction\n",
    "\n",
    "Welcome to the **Open Coding Society**. Each year, we onboard over **200 new students** into our Computer Science pathways.  \n",
    "This year, **you** are not just a learner — you are a **Learning Experience Designer**, using Learning Experience Design (LxD) methods, namely Design Thinking. \n",
    "\n",
    "Your mission: **improve the onboarding process** for future students by designing and documenting training resources that live on our GitHub Pages site (pages.opencodingsociety.com).  \n",
    "You will *experience* the onboarding process first-hand, then *build* and *refine* it for the next generation.\n",
    "\n",
    "### The Problem\n",
    "New students often feel overwhelmed in their first weeks: new tools, unfamiliar workflows, and unclear expectations. Your job is to reduce this friction.\n",
    "\n",
    "### The Goal\n",
    "By the end of this sprint, you will:\n",
    "- Be familiar with our essential development tools.\n",
    "- Have your own team and individual GitHub Pages site online.\n",
    "- Contribute one improvement to the onboarding content.\n",
    "\n",
    "### Why This Matters\n",
    "Future students will follow the steps you create. If you succeed, you will leave a lasting impact on hundreds of learners who come after you.\n",
    "\n",
    "---\n"
   ]
  }
 ],
 "metadata": {
  "language_info": {
   "name": "python"
  }
 },
 "nbformat": 4,
 "nbformat_minor": 2
}
