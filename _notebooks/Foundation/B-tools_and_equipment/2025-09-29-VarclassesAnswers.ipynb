{
 "cells": [
  {
   "cell_type": "markdown",
   "id": "c87670b0",
   "metadata": {},
   "source": [
    "## POPCORN HACK 1 ANSWER"
   ]
  },
  {
   "cell_type": "markdown",
   "id": "16761636",
   "metadata": {},
   "source": [
    "Toggle Developer Tools"
   ]
  },
  {
   "cell_type": "code",
   "execution_count": null,
   "id": "abdb77aa",
   "metadata": {
    "vscode": {
     "languageId": "javascript"
    }
   },
   "outputs": [
    {
     "data": {
      "application/javascript": "\n// Step 1: Make some variables\nlet name = \"Sam\";\nlet age = 10;\n\n// Step 2: Print a message\nconsole.log(\"Hi, my name is\", name);\nconsole.log(\"I am\", age, \"years old.\");\n\n// Step 3: Make a new variable called \"nextYearAge\"\n// that is the age plus 1\nlet nextYearAge = age + 1;\n\n// Step 4: Print out the result\nconsole.log(\"Next year I will be\", nextYearAge, \"years old.\");\n",
      "text/plain": [
       "<IPython.core.display.Javascript object>"
      ]
     },
     "metadata": {},
     "output_type": "display_data"
    }
   ],
   "source": [
    "%% javascript\n",
    "\n",
    "// Step 1: Make some variables\n",
    "let name = \"Sam\";\n",
    "let age = 10;\n",
    "\n",
    "// Step 2: Print a message\n",
    "console.log(\"Hi, my name is\", name);\n",
    "console.log(\"I am\", age, \"years old.\");\n",
    "\n",
    "// Step 3: Make a new variable called \"nextYearAge\"\n",
    "// that is the age plus 1\n",
    "let nextYearAge = age + 1;\n",
    "\n",
    "// Step 4: Print out the result\n",
    "console.log(\"Next year I will be\", nextYearAge, \"years old.\");\n"
   ]
  },
  {
   "cell_type": "markdown",
   "id": "aff75589",
   "metadata": {},
   "source": [
    "## POPCORN HACK 2 ANSWERS"
   ]
  },
  {
   "cell_type": "markdown",
   "id": "df09884c",
   "metadata": {},
   "source": [
    "Toggle Developer tools"
   ]
  },
  {
   "cell_type": "code",
   "execution_count": null,
   "id": "d4c1820e",
   "metadata": {
    "vscode": {
     "languageId": "javascript"
    }
   },
   "outputs": [
    {
     "data": {
      "application/javascript": "\nclass Animal {\n  constructor(name, sound, kind) {\n    this.name = name;\n    this.sound = sound;\n    this.kind = kind;\n  }\n\n  speak() {\n    return `${this.name} the ${this.kind} says ${this.sound}!`;\n  }\n\n  describe() {\n    return `${this.name} is a ${this.kind} and is very friendly!`;\n  }\n}\n\n// Create zoo\nlet zoo = [\n  new Animal(\"Buddy\", \"Woof\", \"Dog\"),\n  new Animal(\"Mittens\", \"Meow\", \"Cat\"),\n  new Animal(\"Polly\", \"Squawk\", \"Parrot\")\n];\n\n// Print each animal to the console\nzoo.forEach(animal => {\n  console.log(animal.speak());\n  console.log(animal.describe());\n  console.log(\"\"); // extra blank line\n});\n",
      "text/plain": [
       "<IPython.core.display.Javascript object>"
      ]
     },
     "metadata": {},
     "output_type": "display_data"
    }
   ],
   "source": [
    "%% javascript\n",
    "\n",
    "class Animal {\n",
    "  constructor(name, sound, kind) {\n",
    "    this.name = name;\n",
    "    this.sound = sound;\n",
    "    this.kind = kind;\n",
    "  }\n",
    "\n",
    "  speak() {\n",
    "    return `${this.name} the ${this.kind} says ${this.sound}!`;\n",
    "  }\n",
    "\n",
    "  describe() {\n",
    "    return `${this.name} is a ${this.kind} and is very friendly!`;\n",
    "  }\n",
    "}\n",
    "\n",
    "// Create zoo\n",
    "let zoo = [\n",
    "  new Animal(\"Buddy\", \"Woof\", \"Dog\"),\n",
    "  new Animal(\"Mittens\", \"Meow\", \"Cat\"),\n",
    "  new Animal(\"Polly\", \"Squawk\", \"Parrot\")\n",
    "];\n",
    "\n",
    "// Print each animal to the console\n",
    "zoo.forEach(animal => {\n",
    "  console.log(animal.speak());\n",
    "  console.log(animal.describe());\n",
    "  console.log(\"\"); // extra blank line\n",
    "});\n"
   ]
  },
  {
   "cell_type": "markdown",
   "id": "227696dd",
   "metadata": {},
   "source": [
    "## HOMEWORK ANSWERS"
   ]
  },
  {
   "cell_type": "code",
   "execution_count": null,
   "id": "20b54d18",
   "metadata": {
    "vscode": {
     "languageId": "javascript"
    }
   },
   "outputs": [
    {
     "data": {
      "application/javascript": "\n// Step 1: Define the Animal class\nclass Animal {\n  constructor(name, sound, kind) {\n    this.name = name;\n    this.sound = sound;\n    this.kind = kind;\n  }\n\n  speak() {\n    console.log(`${this.name} the ${this.kind} says ${this.sound}!`);\n  }\n\n  describe() {\n    console.log(`${this.name} is a ${this.kind} and is very friendly!`);\n  }\n}\n\n// Step 2: Create a list to hold all animals\nlet zoo = [];\n\n// Step 3: Add at least 3 animals\nzoo.push(new Animal(\"Buddy\", \"Woof\", \"Dog\"));\nzoo.push(new Animal(\"Mittens\", \"Meow\", \"Cat\"));\nzoo.push(new Animal(\"Polly\", \"Squawk\", \"Parrot\"));\n\n// Step 4: Loop through animals and call speak() and describe()\nzoo.forEach(animal => {\n  animal.speak();\n  animal.describe();\n  console.log(\"\"); // optional blank line for readability\n});\n\n// Step 5 Bonus: Let the user add a new animal (works in browser)\n// Uncomment the lines below if running in a browser\nlet name = prompt(\"Enter the animal's name:\");\nlet sound = prompt(\"Enter the sound it makes:\");\nlet kind = prompt(\"Enter the kind of animal:\");\nlet newAnimal = new Animal(name, sound, kind);\nzoo.push(newAnimal);\nnewAnimal.speak();\nnewAnimal.describe();\n",
      "text/plain": [
       "<IPython.core.display.Javascript object>"
      ]
     },
     "metadata": {},
     "output_type": "display_data"
    }
   ],
   "source": [
    "To do "
   ]
  }
 ],
 "metadata": {
  "kernelspec": {
   "display_name": "venv (3.12.3)",
   "language": "python",
   "name": "python3"
  },
  "language_info": {
   "codemirror_mode": {
    "name": "ipython",
    "version": 3
   },
   "file_extension": ".py",
   "mimetype": "text/x-python",
   "name": "python",
   "nbconvert_exporter": "python",
   "pygments_lexer": "ipython3",
   "version": "3.12.3"
  }
 },
 "nbformat": 4,
 "nbformat_minor": 5
}
