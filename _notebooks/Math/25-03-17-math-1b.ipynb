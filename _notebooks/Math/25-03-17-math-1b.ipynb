{
 "cells": [
  {
   "cell_type": "raw",
   "metadata": {
    "vscode": {
     "languageId": "raw"
    }
   },
   "source": [
    "---\n",
    "title: Math 1B Chapter 7 \n",
    "comments: true\n",
    "layout: post\n",
    "description: Math 1B Chapter 7 equation of a line problems\n",
    "author: John Mortensen\n",
    "categories: [Math]\n",
    "---"
   ]
  },
  {
   "cell_type": "markdown",
   "metadata": {},
   "source": [
    "## Problem:\n",
    "Write the equation of the line with x-intercept (-4, 0) and y-intercept (0, 9).\n",
    "\n",
    "## Solution:\n",
    "Calculate the slope (m) using the formula:\n",
    "m = (y2 - y1) / (x2 - x1)\n",
    "where (x1, y1) = (-4, 0) and (x2, y2) = (0, 9).\n",
    "\n",
    "Use the slope-intercept form of the equation of a line:\n",
    "y = mx + b\n",
    "where b is the y-intercept.\n",
    "\n",
    "## Steps in Python:\n",
    "1. Calculate the slope.\n",
    "2. Write the equation of the line.\n",
    "3. Plot the line."
   ]
  },
  {
   "cell_type": "code",
   "execution_count": null,
   "metadata": {},
   "outputs": [],
   "source": [
    "import matplotlib.pyplot as plt\n",
    "import numpy as np\n",
    "\n",
    "\"\"\"Cakculate the equation of the line given two points\"\"\"\n",
    "# Given points\n",
    "x1, y1 = -4, 0\n",
    "x2, y2 = 0, 9\n",
    "# Calculate the slope (m)\n",
    "m_numerator = y2 - y1\n",
    "m_denominator = x2 - x1\n",
    "m = m_numerator / m_denominator\n",
    "# y-intercept (b)\n",
    "b = y2\n",
    "# Equation of the line: y = mx + b\n",
    "print(f\"The equation of the line is: y = ({m_numerator}/{m_denominator})x + {b}\")\n",
    "\n",
    "\"\"\"Build the points of the line using Numpy\"\"\"\n",
    "# Generate an array of 100 evenly spaced values between -5 and 1 in Numpy\n",
    "x = np.linspace(x1-1, x2+1, 100)\n",
    "# Calculate the y values corresponding to the x values using the equation of the line and store them in a Numpy array\n",
    "y = m * x + b\n",
    "# Points of the line\n",
    "print(f\"Numpy First 5 points of the line: {list(zip(x[:5], y[:5]))}\")\n",
    "print(f\"Numpy Last 5 points of the line: {list(zip(x[-5:], y[-5:]))}\")\n",
    "# Format the points\n",
    "formatted_points_start = [(f\"{x_val:.2f}\", f\"{y_val:.2f}\") for x_val, y_val in zip(x[:5], y[:5])]\n",
    "formatted_points_end = [(f\"{x_val:.2f}\", f\"{y_val:.2f}\") for x_val, y_val in zip(x[-5:], y[-5:])]\n",
    "print(f\"Formated First 5 points of the line: {formatted_points_start}\")\n",
    "print(f\"Formated Last 5 points of the line: {formatted_points_end}\")\n",
    "\n",
    "\"\"\"Use Matplotlib to plot the line\"\"\"\n",
    "# Set up labels for plt\n",
    "plt.title('Line with x-intercept (-4, 0) and y-intercept (0, 9)')\n",
    "plt.xlabel('x')\n",
    "plt.ylabel('y')\n",
    "# Add grid and axis lines\n",
    "plt.grid(color = 'gray', linestyle = '--', linewidth = 0.5) # Add grid\n",
    "plt.axhline(0, color='black',linewidth=0.5) # Highlight x-axis\n",
    "plt.axvline(0, color='black',linewidth=0.5) # Highlight y-axis\n",
    "# Plot using the equation of the line\n",
    "plt.plot(x, y, label=f'y = ({m_numerator}/{m_denominator})x + {b}')\n",
    "# Plot the  x and y intercepts\n",
    "plt.scatter([x1, x2], [y1, y2], color='red')  # Plot the intercepts\n",
    "plt.text(x1, y1, f'({x1}, {y1})', fontsize=12, ha='right')\n",
    "plt.text(x2, y2, f'({x2}, {y2})', fontsize=12, ha='left')\n",
    "# Show the plot\n",
    "plt.legend()\n",
    "plt.show()"
   ]
  }
 ],
 "metadata": {
  "kernelspec": {
   "display_name": "venv",
   "language": "python",
   "name": "python3"
  },
  "language_info": {
   "codemirror_mode": {
    "name": "ipython",
    "version": 3
   },
   "file_extension": ".py",
   "mimetype": "text/x-python",
   "name": "python",
   "nbconvert_exporter": "python",
   "pygments_lexer": "ipython3",
   "version": "3.12.5"
  }
 },
 "nbformat": 4,
 "nbformat_minor": 2
}
