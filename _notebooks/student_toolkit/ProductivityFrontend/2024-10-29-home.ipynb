{
 "cells": [
  {
   "cell_type": "code",
   "execution_count": null,
   "metadata": {
    "vscode": {
     "languageId": "plaintext"
    }
   },
   "outputs": [],
   "source": [
    "---\n",
    "layout: post\n",
    "toc: true\n",
    "title: Productivity Frontend\n",
    "description: Mortevision + Slack Integration + Seed Watcher\n",
    "courses: { csa: {week: 1} }\n",
    "type: ccc\n",
    "categories: [AP CSA]\n",
    "menu: nav/project/productivity-frontend/menu.html\n",
    "permalink: /project/mort-translator\n",
    "---"
   ]
  }
 ],
 "metadata": {
  "language_info": {
   "name": "python"
  }
 },
 "nbformat": 4,
 "nbformat_minor": 2
}
