{
 "cells": [
  {
   "cell_type": "raw",
   "metadata": {
    "vscode": {
     "languageId": "raw"
    }
   },
   "source": [
    "---\n",
    "layout: base\n",
    "title: button testing\n",
    "permalink: /buttons\n",
    "toc: false\n",
    "---"
   ]
  },
  {
   "cell_type": "markdown",
   "metadata": {},
   "source": [
    "<button class=\"small filledHighlight primary\">\n",
    "    test test test\n",
    "</button>\n",
    "\n",
    "<button class=\"medium filledHighlight primary\">\n",
    "    test test test\n",
    "</button>\n",
    "\n",
    "<button class=\"large filledHighlight primary\">\n",
    "    test test test\n",
    "</button>\n",
    "\n",
    "<br>\n",
    "<br>\n",
    "<br>\n",
    "\n",
    "<button class=\"small filledTinted primary\">\n",
    "    test test test\n",
    "</button>\n",
    "\n",
    "<button class=\"medium filledTinted primary\">\n",
    "    test test test\n",
    "</button>\n",
    "\n",
    "<button class=\"large filledTinted primary\">\n",
    "    test test test\n",
    "</button>\n",
    "\n",
    "<br>\n",
    "<br>\n",
    "<br>\n",
    "\n",
    "<button class=\"small primary\">\n",
    "    test test test\n",
    "</button>\n",
    "\n",
    "<button class=\"medium primary\">\n",
    "    test test test\n",
    "</button>\n",
    "\n",
    "<button class=\"large primary\">\n",
    "    test test test\n",
    "</button>\n",
    "\n",
    "<br>\n",
    "<br>\n",
    "<br>\n",
    "\n",
    "<button class=\"small secondary\">\n",
    "    test test test\n",
    "</button>\n",
    "\n",
    "<button class=\"medium secondary\">\n",
    "    test test test\n",
    "</button>\n",
    "\n",
    "<button class=\"large secondary\">\n",
    "    test test test\n",
    "</button>\n",
    "\n",
    "<br>\n",
    "<br>\n",
    "<br>\n",
    "\n",
    "<button class=\"small disabled\">\n",
    "    test test test\n",
    "</button>\n",
    "\n",
    "<button class=\"medium disabled\">\n",
    "    test test test\n",
    "</button>\n",
    "\n",
    "<button class=\"large disabled\">\n",
    "    test test test\n",
    "</button>"
   ]
  }
 ],
 "metadata": {
  "language_info": {
   "name": "python"
  }
 },
 "nbformat": 4,
 "nbformat_minor": 2
}
