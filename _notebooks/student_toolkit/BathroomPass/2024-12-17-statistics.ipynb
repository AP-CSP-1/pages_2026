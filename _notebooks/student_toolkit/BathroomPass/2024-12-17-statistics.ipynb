{
 "cells": [
  {
   "cell_type": "raw",
   "metadata": {
    "vscode": {
     "languageId": "raw"
    }
   },
   "source": [
    "---\n",
    "layout: bathroom/statistics\n",
    "title: Bathroom statistics\n",
    "permalink: /bathroom/statistics\n",
    "toc: false\n",
    "---"
   ]
  }
 ],
 "metadata": {
  "language_info": {
   "name": "python"
  }
 },
 "nbformat": 4,
 "nbformat_minor": 2
}
