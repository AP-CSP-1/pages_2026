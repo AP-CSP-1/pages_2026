{
 "cells": [
  {
   "cell_type": "raw",
   "metadata": {
    "vscode": {
     "languageId": "raw"
    }
   },
   "source": [
    "---\n",
    "layout: post\n",
    "title: Sprint 6 - CSSE Objectives (Final) \n",
    "description: CSSE Platformer Game final project.  This includes help system, plans, code, testing, and N@tM.\n",
    "type: issues \n",
    "courses: { csse: {week: 19} }\n",
    "comments: true\n",
    "permalink: /csse/sprint6/objectives\n",
    "---"
   ]
  },
  {
   "cell_type": "markdown",
   "metadata": {},
   "source": [
    "## Final Project\n",
    "\n",
    "This Final Project needs to show that you have been introduced to Computer Science, JavaScript, and Object-Oriented Programming. This project prepares students to learn coding and explore future computer science and engineering courses. It demonstrates that the student has acquired some programming fundamentals.\n",
    "\n",
    "By building a game, the project uses a topic of personal and social relevance (gaming) to investigate the impacts of computing through exploring language basics.\n",
    "\n",
    "- **Software Engineering Practices**: Planning changes, checklists, burndowns, coding with comments, building help documentation, presentations\n",
    "- **Control Structures**: Iteration, conditions, nested conditions\n",
    "- **Data Types**: Numbers, strings, booleans, arrays, JSON objects\n",
    "- **Input/Output**: HTML5 input, validation, Key events, Document Object Model (DOM)\n",
    "- **Operators**: String operations, mathematical operations, boolean expressions \n",
    "- **Classes**: Writing classes, creating methods, instantiating objects, using objects, calling methods, parameters, return values\n",
    "- **Software Development Lifecycle Practices**: Source control, forking, branching, building, testing and verification, pull requests, merging/integrating, deployment\n",
    "- **Retrospective Engineering Practices**: Demos, live reviews, revising plans\n",
    "- **Coding Practices**: SRP, Object Literal, Object Instance, FSMs, Basic Inheritance\n",
    "\n",
    "### Mira Costa College\n",
    "\n",
    "The final project and course are intended to build up skills that qualify the student for college credit.\n",
    "\n",
    "Web Site for [CS111](https://catalog.miracosta.edu/disciplines/computerscience/#courseinventory).  Though, this course substitutes JavaScript for Java, which has been approved by advisory as substitute.\n",
    "\n",
    "For those that wish to pursue Computer Science this starts you on [Math and CS Pathway](https://surf.miracosta.edu/psc/ps/EMPLOYEE/SA/c/MCC_CUSTOM.MZ_ACAD_MAP_SS.GBL?MAP_ID=1167)\n"
   ]
  },
  {
   "cell_type": "markdown",
   "metadata": {},
   "source": [
    "## Schedule\n",
    "\n",
    "The Final Project will be completed in last sprint.   \n",
    "\n",
    "## Project Planning Schedule\n",
    "\n",
    "These weeks are preparatory for the project. During these weeks, you will describe your project expertise and plans, including expected goals and stretch goals.\n",
    "\n",
    "**Help** - Help system that provides guidance to current and future engineers working on the game.\n",
    "\n",
    "**Lessons** - Instuction how to enhance game.\n",
    "- Lessons to teach expertise topics.\n",
    "- Homework for students to add expertise topics to their game.\n",
    "- Grading of student homework.\n",
    "- PR for instuctional level(s).\n",
    "\n",
    "## Project Development Schedule\n",
    "\n",
    "These weeks are focused on development. During development, you should have one milestone to integrate, continuing the iterative cycle of development.\n",
    "\n",
    "**Finals Week -1** - Final/Feature Complete Code.\n",
    "- **Wednesday**: A demo to Teacher of teams custom level. \n",
    "- **Thursday**: N@tM 6pm\n",
    "\n",
    "**Finals Week** - Finals Week\n",
    "- Instructor completes Final Grade using College Articulation guidelines, student blog, student code, and analytics."
   ]
  }
 ],
 "metadata": {
  "language_info": {
   "name": "python"
  }
 },
 "nbformat": 4,
 "nbformat_minor": 2
}
