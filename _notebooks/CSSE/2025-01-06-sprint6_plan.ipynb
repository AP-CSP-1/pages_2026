{
 "cells": [
  {
   "cell_type": "raw",
   "metadata": {
    "vscode": {
     "languageId": "raw"
    }
   },
   "source": [
    "---\n",
    "layout: post\n",
    "title: Sprint 6 - CSSE Objectives (Final) \n",
    "description: CSSE Platformer Game final project.  This includes help system, plans, code, testing, and N@tM.\n",
    "type: issues \n",
    "courses: { csse: {week: 19} }\n",
    "comments: true\n",
    "permalink: /csse/sprint6/objectives\n",
    "---"
   ]
  },
  {
   "cell_type": "markdown",
   "metadata": {},
   "source": [
    "## Final Project\n",
    "\n",
    "This Final Project needs to show that you have been introduced to Computer Science, JavaScript, and Object-Oriented Programming.  This project prepares students to majore in computer science and engineering.  It shows that studeent has xsome programming fundamentals. \n",
    "\n",
    "By building a game, the project uses a topic of personal and social relevance (gaming) to investigate the impacts of computing through exploring language basics...\n",
    "\n",
    "- documentating and engineering practices: describing code with comments, building help, planning changes, checklist, presentations\n",
    "- control structures: iteration, conditions, nested conditions\n",
    "- data types: numbers, strings, booleans, arrays, json objects\n",
    "- input/output: html5 input, console.log, DOM\n",
    "- operators: string operations, mathematical operations \n",
    "- classes: writing classes, making methods, instantiating objects, using object, using methods with parameters, basic inheritance\n",
    "- testing and verification techniques: fork, branch/code/test, pull_request/merge/test\n",
    "- retrospective engineering practices: demos, live reviews, revising plans\n",
    "\n",
    "### Mira Costa College\n",
    "\n",
    "The final project and course is intended to build up skills that qualify the student for College Credit.\n",
    "\n",
    "Web Site for [CS111](https://catalog.miracosta.edu/disciplines/computerscience/#courseinventory).  Though, this course substitutes Java for JavaScript, which has been approved by advisory as substitute.\n",
    "\n",
    "For those that wish to pursue Computer Science this starts you on [Math and CS Pathway](https://surf.miracosta.edu/psc/ps/EMPLOYEE/SA/c/MCC_CUSTOM.MZ_ACAD_MAP_SS.GBL?MAP_ID=1167)\n"
   ]
  },
  {
   "cell_type": "markdown",
   "metadata": {},
   "source": [
    "## Schedule\n",
    "\n",
    "The Final Project will be 6 weeks in duration (Weeks 19 to 24 of CSSE course).  The Final Project substitutes for a final exam and will be strict in requirements.\n",
    "\n",
    "## Project Planning Schedule\n",
    "\n",
    "These weeks are preparatory for the project. In these weeks you will be describe your project expertise and plans that include expected goals and stretch goals. \n",
    "\n",
    "Week 17 - Help system that provides guideance to current and future Engineers working on game.\n",
    "\n",
    "Week 18 - Help System reviews.  \n",
    "- Planned changes to expertise topic that will impact other in game.\n",
    "- Planned changes to team level(s)\n",
    "- Students start 12 hours of coding Journal in blog.\n",
    "- Friday. Teacher review of Help System. \n",
    "\n",
    "## Project Development Schedule\n",
    "\n",
    "These weeks are focused on development.  In development you should have one milestone to integrate, continuing iterative cycle of development.\n",
    "\n",
    "Week 19 - Key Development Week. Commence on hardest part of your project. \n",
    "- 4 hours of code and test with team.  \n",
    "- Commit and Issue analytics and Issue burndown are used to evaluate progress.\n",
    "\n",
    "Week 20 - Checkpoint Week. Commits and burndown\n",
    "- 2 hours of code, test with team\n",
    "- Wednesday. Teacher review of analytics. \n",
    "- 2 hours of testing, integration, pull request with Scrum Masters.\n",
    "\n",
    "Week 21 - Integration 1 Week. 1st integration and retrospective. \n",
    "- 1 hour of retrospective planning.\n",
    "- Wednesday. Teacher demo of running code on Production.\n",
    "- 3 hours of code. \n",
    "\n",
    "Week 22 - Final/Feature Complete Code.\n",
    "- 2 hours of code\n",
    "- 2 hours of testing, integration, pull request with Scrum Masters.\n",
    "\n",
    "**District Recess**\n",
    "\n",
    "Week 23 - N@tM\n",
    "- Monday. Teacher demo of running code on Production\n",
    "- 2 hours preparing personal blog\n",
    "- Thursday. N@tM\n",
    "- Students move game to personal blog.\n",
    "\n",
    "Week 24 - Finals Week\n",
    "- Teacher starts College Articulation reviews.\n"
   ]
  }
 ],
 "metadata": {
  "language_info": {
   "name": "python"
  }
 },
 "nbformat": 4,
 "nbformat_minor": 2
}
