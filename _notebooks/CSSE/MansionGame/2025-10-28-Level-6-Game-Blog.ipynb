{
 "cells": [
  {
   "cell_type": "raw",
   "id": "a44501d1",
   "metadata": {
    "vscode": {
     "languageId": "raw"
    }
   },
   "source": [
    "---\n",
    "title: The Tinkerers - Array Hack Challenge\n",
    "toc: true\n",
    "comments: true\n",
    "layout: post\n",
    "permalink: /gamify/blogs/level6\n",
    "categories: [JavaScript]\n",
    "description: A blog on level 6 of the mansion game\n",
    "author: Krish Kelageri, Vihaan Budhraja, Pranay Kamath\n",
    "---"
   ]
  },
  {
   "cell_type": "markdown",
   "id": "a42c2460",
   "metadata": {},
   "source": [
    "# Level 6 Mansion Game Blog\n",
    "\n",
    "Add blog content here."
   ]
  }
 ],
 "metadata": {
  "language_info": {
   "name": "python"
  }
 },
 "nbformat": 4,
 "nbformat_minor": 5
}
