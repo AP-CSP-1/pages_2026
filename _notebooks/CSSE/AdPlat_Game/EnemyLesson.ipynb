{
 "cells": [
  {
   "cell_type": "markdown",
   "id": "78910174",
   "metadata": {},
   "source": [
    "# The Enemy"
   ]
  },
  {
   "cell_type": "markdown",
   "id": "0eedf4c0",
   "metadata": {},
   "source": [
    "### Sprite data"
   ]
  },
  {
   "cell_type": "code",
   "execution_count": null,
   "id": "97d4d08e",
   "metadata": {
    "vscode": {
     "languageId": "javascript"
    }
   },
   "outputs": [],
   "source": [
    "const sprite_src_enemy = path + \"/images/gamify/ederman.png\"; // Add your own image\n",
    "const sprite_data_enemy = {\n",
    "    id: 'Enemy',\n",
    "    greeting: \"You feel a dark presence...\",\n",
    "    src: sprite_src_enemy,\n",
    "    SCALE_FACTOR: 7,\n",
    "    ANIMATION_RATE: 0,\n",
    "    pixels: { height: 256, width: 128 },\n",
    "    INIT_POSITION: { x: width / 2, y: height / 4 },\n",
    "    orientation: { rows: 1, columns: 1 },\n",
    "    down: { row: 0, start: 0, columns: 1 },\n",
    "    hitbox: { widthPercentage: 0.4, heightPercentage: 0.4 },\n",
    "    zIndex: 10,\n",
    "}"
   ]
  },
  {
   "cell_type": "markdown",
   "id": "8eeaac54",
   "metadata": {},
   "source": [
    "This is the basic sprite data present for everything"
   ]
  },
  {
   "cell_type": "markdown",
   "id": "80496c25",
   "metadata": {},
   "source": [
    "### Finding players"
   ]
  },
  {
   "cell_type": "code",
   "execution_count": null,
   "id": "d5c5229f",
   "metadata": {
    "vscode": {
     "languageId": "javascript"
    }
   },
   "outputs": [],
   "source": [
    "update: function(players, stopGameLoop) {\n",
    "    // Find nearest player\n",
    "    let nearest = players[0];\n",
    "    let minDist = Infinity;\n",
    "    \n",
    "    for (const p of players) {\n",
    "        const dx = p.x - this.x;\n",
    "        const dy = p.y - this.y;\n",
    "        const dist = Math.sqrt(dx*dx + dy*dy);\n",
    "        if (dist < minDist) {\n",
    "            minDist = dist;\n",
    "            nearest = p;\n",
    "        }\n",
    "    }\n",
    "}"
   ]
  },
  {
   "cell_type": "markdown",
   "id": "752776cf",
   "metadata": {},
   "source": [
    "This algorithm:\n",
    "- Starts by assuming the first player is the closest\n",
    "- Calculates the distance to each player using the Pythagorean formula\n",
    "- Keeps track of the minimum distance found and the corresponding player\n",
    "- After the loop, nearest contains a reference to the closest player object"
   ]
  },
  {
   "cell_type": "markdown",
   "id": "bd38ea77",
   "metadata": {},
   "source": [
    "### Movement"
   ]
  },
  {
   "cell_type": "code",
   "execution_count": null,
   "id": "95af76f2",
   "metadata": {
    "vscode": {
     "languageId": "javascript"
    }
   },
   "outputs": [],
   "source": [
    "const speed = 1.5;\n",
    "const dx = nearest.x - this.x;\n",
    "const dy = nearest.y - this.y;\n",
    "const angle = Math.atan2(dy, dx);\n",
    "this.x += Math.cos(angle) * speed;\n",
    "this.y += Math.sin(angle) * speed;"
   ]
  },
  {
   "cell_type": "markdown",
   "id": "5e58c1da",
   "metadata": {},
   "source": [
    "This implements a simple following behavior:\n",
    "\n",
    "- speed determines how fast the enemy moves (1.5 things per frame)\n",
    "- dx and dy calculate the direction vector to the target player\n",
    "- Math.atan2() converts this vector to an angle in radians\n",
    "- The enemy moves along this angle at the specified speed using trig\n",
    "- This creates diagonal movement in any direction"
   ]
  },
  {
   "cell_type": "markdown",
   "id": "09666ac9",
   "metadata": {},
   "source": [
    "### Collision and game over"
   ]
  },
  {
   "cell_type": "code",
   "execution_count": null,
   "id": "679dacc3",
   "metadata": {
    "vscode": {
     "languageId": "javascript"
    }
   },
   "outputs": [],
   "source": [
    "for (const p of players) {\n",
    "    if (\n",
    "        Math.abs(p.x - this.x) < this.width * this.hitbox.widthPercentage &&\n",
    "        Math.abs(p.y - this.y) < this.height * this.hitbox.heightPercentage\n",
    "    ) {\n",
    "        stopGameLoop();  // End game on collision\n",
    "    }\n",
    "}"
   ]
  },
  {
   "cell_type": "markdown",
   "id": "5e64dc9c",
   "metadata": {},
   "source": [
    "- Loops through all players\n",
    "Uses an bounding box collision check\n",
    "\n",
    "- Compares the absolute difference in x and y positions\n",
    "Uses the hitbox percentages to create a smaller collision area\n",
    "\n",
    "\n",
    "- If any player collides with the enemy, calls stopGameLoop()\n",
    "\n"
   ]
  }
 ],
 "metadata": {
  "language_info": {
   "name": "python"
  }
 },
 "nbformat": 4,
 "nbformat_minor": 5
}
