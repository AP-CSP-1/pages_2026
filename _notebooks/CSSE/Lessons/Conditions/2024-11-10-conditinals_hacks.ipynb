{
 "cells": [
  {
   "cell_type": "raw",
   "metadata": {
    "vscode": {
     "languageId": "raw"
    }
   },
   "source": [
    "---\n",
    "comments: True\n",
    "layout: post\n",
    "title: conditionals lesson hacks\n",
    "description: conditionals hacks\n",
    "permalink: /csse/javascript/fundamentals/conditionals/hacks\n",
    "type: ccc\n",
    "---"
   ]
  },
  {
   "cell_type": "markdown",
   "metadata": {},
   "source": [
    "# Popcorn Hack 1: Create a Simple Combat System for Your RPG Game"
   ]
  },
  {
   "cell_type": "markdown",
   "metadata": {},
   "source": [
    "Develop a basic combat system that allows characters to engage in battles with enemies. This will help you practice using functions, conditionals, and basic game mechanics in JavaScript."
   ]
  },
  {
   "cell_type": "markdown",
   "metadata": {},
   "source": [
    "## Popcorn Hack 1\n",
    "\n",
    "Using function `intializeData`\n",
    "\n",
    "1. Add an `if statment` that compares 2 values to one another.\n",
    "2. use `console.log` to the print an output\n",
    "3. Add a `boolean` value which is inputed into another `if statment`."
   ]
  },
  {
   "cell_type": "markdown",
   "metadata": {},
   "source": [
    "## Popcorn Hack 2\n",
    "\n",
    "creating a simple attack system\n",
    "\n",
    "1. Add a `bool` variable named `\"canAttack\"` set it to `false`\n",
    "2. check if you can attck with an `if statement`\n",
    "3. if `canAttack` is `false` then output \"Cant attack\"\n",
    "4. Use `rng` to determain if the player is allowed to attack. Use chatgpt to get  `math.random()` working\n",
    "5. this will pick a random `number`\n",
    "6. use `console.log()` for outputs"
   ]
  },
  {
   "cell_type": "markdown",
   "metadata": {},
   "source": [
    "# Hack 3"
   ]
  },
  {
   "cell_type": "markdown",
   "metadata": {},
   "source": [
    "1. Use the `ternary operator` make an output apear if you meet the `level requerments`\n",
    "2. otherwise output a message that tells the player that they are under leveled \n",
    "3. use `console.log()` to print your output"
   ]
  },
  {
   "cell_type": "markdown",
   "metadata": {},
   "source": [
    "### <span style=\"color: #ADD8E6; text-shadow: 3px 3px 8px #4682B4; font-weight: bold; font-size: 2em;\">Homework:</span>\n",
    "\n",
    "#### <span style=\"color: #FF6347; text-shadow: 2px 2px 6px #8B0000; font-weight: bold; font-size: 1.5em;\">Objectives</span>\n",
    "\n",
    "<span style=\"font-size: 1.2em; color: #D3D3D3; line-height: 1.8;\">\n",
    "  <br><strong>Option 1:</strong> Create a simple combat system. \n",
    "  - Allow characters to fight enemies. \n",
    "  - Use basic functions and conditionals in JavaScript. \n",
    "  - Focus on making it easy to understand how battles work.\n",
    "\n",
    "  <br><br>\n",
    "  <strong>Option 2:</strong> Make a dialogue system for your NPC (Non-Player Character). \n",
    "  - Use the <code style=\"color: #7FFFD4;\">prompt()</code> function to ask the player for a response (choose a number from 1 to 4).\n",
    "  - This dialogue should appear when the player gets close to the NPC and presses a button. \n",
    "</span>\n",
    "\n",
    "### Additional Tips:\n",
    "- **For Option 1:**\n",
    "  - Start by writing down what the characters and enemies will be. Create simple names and attributes (like health).\n",
    "  - Use `console.log()` to print out what's happening at each step. This will help you understand the flow of your code.\n",
    "  - Look for example code online to see how others have created combat systems. Don't be afraid to borrow ideas!\n",
    "\n",
    "- **For Option 2:**\n",
    "  - Plan out the dialogue options before you start coding. Write them down in a list.\n",
    "  - Use comments in your code to remind yourself what each part does. For example, `// Ask the player for a response`.\n",
    "  - Test your code frequently. After writing a few lines, run it to see if it works before adding more."
   ]
  }
 ],
 "metadata": {
  "kernelspec": {
   "display_name": "venv",
   "language": "python",
   "name": "python3"
  },
  "language_info": {
   "codemirror_mode": {
    "name": "ipython",
    "version": 3
   },
   "file_extension": ".py",
   "mimetype": "text/x-python",
   "name": "python",
   "nbconvert_exporter": "python",
   "pygments_lexer": "ipython3",
   "version": "3.10.12"
  }
 },
 "nbformat": 4,
 "nbformat_minor": 2
}
