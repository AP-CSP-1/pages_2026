{
 "cells": [
  {
   "cell_type": "raw",
   "metadata": {},
   "source": [
    "---\n",
    "comments: True\n",
    "layout: post\n",
    "title: Data Abstraction\n",
    "description: An intro to data abstraction\n",
    "permalink: /csse/javascript/fundamentals/data-abstraction-p1\n",
    "type: ccc\n",
    "---"
   ]
  },
  {
   "cell_type": "markdown",
   "metadata": {},
   "source": [
    "# What is Data Abstraction?\n",
    "Data Abstraction is hiding the complex inner workings of code, and only exposing the part that the user/coder needs to know.\n",
    "## Real Life Examples\n",
    "Some real life examples of Data Abstraction include cars, mobile apps, games, and even the computer that you are using!!\n",
    "### Car example\n",
    "Cars are a real life example of Data Abstraction with their steering wheel. The inner electronics of the system is hidden, and only the steering wheel, and the option of moving the car left and right are shown\n",
    "### Mobile App example\n",
    "Mobile App's are another great example for Data Abstraction. One example of this is the YouTube app. Youtube hides the complex hosting features that is use, and only shows you the actual video. Another example of Data abstraction would be the messages app on your phone. It hides the complex innerworkings of how it is being sent to someone elses phone, and only shows if it is sent or not.\n",
    "### Games example\n",
    "In games such as Minecraft as Pokemon Data abstraction is a necessary, as you need to hide how multiple things are being done in order to simplify the user experience\n",
    "## Relevant examples in Javascript\n",
    "Some examples of Data abstraction in Javascript include classes, function and objects. We will go more in depth into how these are examples"
   ]
  },
  {
   "cell_type": "markdown",
   "metadata": {},
   "source": [
    "# Functions as Data Abstractions\n",
    "\n",
    "Functions are a great example of data abstraction because they help us simplify complex tasks. Here’s how they do that:\n",
    "\n",
    "1. **Simplification**: Functions take a set of instructions and bundle them together. This way, we don’t have to think about all the details every time we want to use them.\n",
    "\n",
    "2. **Reusability**: Once we create a function, we can use it multiple times throughout our code. This saves time and effort since we don't need to rewrite the same steps.\n",
    "\n",
    "3. **Clarity**: By giving functions clear names, we can easily understand what they do. This makes our code easier to read and follow.\n",
    "\n",
    "In short, functions allow us to focus on the bigger picture without getting lost in the details, making programming simpler and more organized.\n",
    "\n",
    "Below is an example of a reusable function that can add 2 numbers together"
   ]
  },
  {
   "cell_type": "code",
   "execution_count": 1,
   "metadata": {
    "vscode": {
     "languageId": "html"
    }
   },
   "outputs": [
    {
     "data": {
      "text/html": [
       "    <div>\n",
       "        <p>Please put your first number here</p>\n",
       "        <input type=\"number\" id=\"num1\" name=\"num1\">\n",
       "        <p>Please put your second number</p>\n",
       "        <input type=\"number\" id=\"num2\" name=\"num2\">\n",
       "        <br>\n",
       "        <br>\n",
       "        <button onclick=\"addNumbers('num1', 'num2', 'output')\">Submit</button>\n",
       "    </div>\n",
       "    <p id=\"output\"></p>\n",
       "    <div>\n",
       "        <p>Please put your first number here</p>\n",
       "        <input type=\"number\" id=\"number1\" name=\"number1\">\n",
       "        <p>Please put your second number</p>\n",
       "        <input type=\"number\" id=\"number2\" name=\"number2\">\n",
       "        <br>\n",
       "        <br>\n",
       "        <button onclick=\"addNumbers('number1', 'number2', 'output2')\">Submit</button>\n",
       "    </div>\n",
       "    <p id=\"output2\"></p>\n",
       "    <script>\n",
       "        function addNumbers(id1, id2, output) {\n",
       "            let num1 = parseFloat(document.getElementById(id1).value);\n",
       "            let num2 = parseFloat(document.getElementById(id2).value);\n",
       "            let solution = num1 + num2;\n",
       "            document.getElementById(output).innerHTML = solution;\n",
       "        }\n",
       "    </script>\n"
      ],
      "text/plain": [
       "<IPython.core.display.HTML object>"
      ]
     },
     "metadata": {},
     "output_type": "display_data"
    }
   ],
   "source": [
    "%%html\n",
    "    <div>\n",
    "        <p>Please put your first number here</p>\n",
    "        <input type=\"number\" id=\"num1\" name=\"num1\">\n",
    "        <p>Please put your second number</p>\n",
    "        <input type=\"number\" id=\"num2\" name=\"num2\">\n",
    "        <br>\n",
    "        <br>\n",
    "        <button onclick=\"addNumbers('num1', 'num2', 'output')\">Submit</button>\n",
    "    </div>\n",
    "    <p id=\"output\"></p>\n",
    "    <div>\n",
    "        <p>Please put your first number here</p>\n",
    "        <input type=\"number\" id=\"number1\" name=\"number1\">\n",
    "        <p>Please put your second number</p>\n",
    "        <input type=\"number\" id=\"number2\" name=\"number2\">\n",
    "        <br>\n",
    "        <br>\n",
    "        <button onclick=\"addNumbers('number1', 'number2', 'output2')\">Submit</button>\n",
    "    </div>\n",
    "    <p id=\"output2\"></p>\n",
    "    <script>\n",
    "        function addNumbers(id1, id2, output) {\n",
    "            let num1 = parseFloat(document.getElementById(id1).value);\n",
    "            let num2 = parseFloat(document.getElementById(id2).value);\n",
    "            let solution = num1 + num2;\n",
    "            document.getElementById(output).innerHTML = solution;\n",
    "        }\n",
    "    </script>"
   ]
  },
  {
   "cell_type": "markdown",
   "metadata": {},
   "source": [
    "# Classes as Data Abstractions\n",
    "\n",
    "Classes play a crucial role in data abstraction in programming. Here’s how they achieve this:\n",
    "\n",
    "1. **Reusability and Inheritance**:  \n",
    "   Once a class is defined, it can be reused to create multiple instances (objects) without rewriting code. Through inheritance, new classes can inherit properties and methods from existing ones, promoting code reuse and reducing redundancy.\n",
    "\n",
    "2. **Polymorphism**:  \n",
    "   This allows objects of different classes to be treated as objects of a common superclass. It enables more flexible and generic code that can operate on different types of objects, enhancing code extensibility.\n",
    "\n",
    "In summary, classes help create organized, reusable, and understandable code by encapsulating data and behavior, abstracting complexity, and supporting a robust inheritance structure.\n"
   ]
  },
  {
   "cell_type": "code",
   "execution_count": 17,
   "metadata": {
    "vscode": {
     "languageId": "javascript"
    }
   },
   "outputs": [
    {
     "data": {
      "application/javascript": "    class Phone {\n        constructor(model, specs) {\n            this.model = model;\n            this.specs = specs;\n        }\n        \n        listSpecs(id) {\n            document.getElementById(id).innerHTML = (\"The \" + this.model + \" weighs \" + this.specs.weight + \n                        \", has a display of \" + this.specs.display + \n                        \" and has a \" + this.specs.chip);\n            console.log(\"The \" + this.model + \" weighs \" + this.specs.weight + \n                        \", has a display of \" + this.specs.display + \n                        \" and has a \" + this.specs.chip);\n        }\n    }\n",
      "text/plain": [
       "<IPython.core.display.Javascript object>"
      ]
     },
     "metadata": {},
     "output_type": "display_data"
    }
   ],
   "source": [
    "%%js\n",
    "    class Phone {\n",
    "        constructor(model, specs) {\n",
    "            this.model = model;\n",
    "            this.specs = specs;\n",
    "        }\n",
    "        \n",
    "        listSpecs(id) {\n",
    "            document.getElementById(id).innerHTML = (\"The \" + this.model + \" weighs \" + this.specs.weight + \n",
    "                        \", has a display of \" + this.specs.display + \n",
    "                        \" and has a \" + this.specs.chip);\n",
    "            console.log(\"The \" + this.model + \" weighs \" + this.specs.weight + \n",
    "                        \", has a display of \" + this.specs.display + \n",
    "                        \" and has a \" + this.specs.chip);\n",
    "        }\n",
    "    }"
   ]
  },
  {
   "cell_type": "code",
   "execution_count": 37,
   "metadata": {
    "vscode": {
     "languageId": "javascript"
    }
   },
   "outputs": [
    {
     "data": {
      "application/javascript": "    class iPhone16 extends Phone {\n        constructor() {\n            const model = \"iPhone 16\";\n            const specs = {\n                weight: \"170 grams\",\n                display: \"6.1 inches\",\n                chip: \"A18\"\n            };\n            super(model, specs); // Call the parent constructor\n        }\n    }\n    const myiPhone = new iPhone16(); // Create an instance of iPhone16\n    myiPhone.listSpecs(\"iPhone\"); // Call the listSpecs method\n",
      "text/plain": [
       "<IPython.core.display.Javascript object>"
      ]
     },
     "metadata": {},
     "output_type": "display_data"
    }
   ],
   "source": [
    "%%js\n",
    "    class iPhone16 extends Phone {\n",
    "        constructor() {\n",
    "            const model = \"iPhone 16\";\n",
    "            const specs = {\n",
    "                weight: \"170 grams\",\n",
    "                display: \"6.1 inches\",\n",
    "                chip: \"A18\"\n",
    "            };\n",
    "            super(model, specs); // Call the parent constructor\n",
    "        }\n",
    "    }\n",
    "    const myiPhone = new iPhone16(); // Create an instance of iPhone16\n",
    "    myiPhone.listSpecs(\"iPhone\"); // Call the listSpecs method"
   ]
  },
  {
   "cell_type": "code",
   "execution_count": null,
   "metadata": {
    "vscode": {
     "languageId": "html"
    }
   },
   "outputs": [
    {
     "data": {
      "text/html": [
       "    <p id = \"iPhone\"></p>\n"
      ],
      "text/plain": [
       "<IPython.core.display.HTML object>"
      ]
     },
     "metadata": {},
     "output_type": "display_data"
    }
   ],
   "source": [
    "%%html\n",
    "    <p> These are the specs of the iPhone 16</p>\n",
    "    <p id = \"iPhone\"></p>"
   ]
  }
 ],
 "metadata": {
  "kernelspec": {
   "display_name": "Python 3",
   "language": "python",
   "name": "python3"
  },
  "language_info": {
   "codemirror_mode": {
    "name": "ipython",
    "version": 3
   },
   "file_extension": ".py",
   "mimetype": "text/x-python",
   "name": "python",
   "nbconvert_exporter": "python",
   "pygments_lexer": "ipython3",
   "version": "3.10.12"
  }
 },
 "nbformat": 4,
 "nbformat_minor": 2
}
