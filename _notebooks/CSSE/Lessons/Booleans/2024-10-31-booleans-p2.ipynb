{
 "cells": [
  {
   "cell_type": "code",
   "execution_count": 6,
   "metadata": {},
   "outputs": [
    {
     "ename": "SyntaxError",
     "evalue": "invalid syntax (2764368513.py, line 1)",
     "output_type": "error",
     "traceback": [
      "\u001b[0;36m  Cell \u001b[0;32mIn[6], line 1\u001b[0;36m\u001b[0m\n\u001b[0;31m    ---\u001b[0m\n\u001b[0m       ^\u001b[0m\n\u001b[0;31mSyntaxError\u001b[0m\u001b[0;31m:\u001b[0m invalid syntax\n"
     ]
    }
   ],
   "source": [
    "---\n",
    "comments: True\n",
    "layout: post\n",
    "title: Javascript Boolean Lesson p2 \n",
    "description: A boolean expression is an expression that evaluates to a boolean value.  A boolean expression is evaluated using relational and logical operators.  The result of a boolean expression is either true or false. \n",
    "author: Jeongjun Kim\n",
    "permalink: /csse/Lessons/Booleans/p2\n",
    "categories: [CSSE JavaScript Fundamentals]\n",
    "---"
   ]
  },
  {
   "cell_type": "markdown",
   "metadata": {},
   "source": [
    "## Introduction\n",
    "Relational operators in JavaScript are used to compare two values, returning a Boolean value (true or false) based on the relationship. Relational operators are extremley similar to math functions such as less than or equal too."
   ]
  },
  {
   "cell_type": "markdown",
   "metadata": {},
   "source": [
    "## Relational Operators\n",
    "##### These codes determine the true or false\n",
    "- <p>== : Equal to, checks if two values are the same (e.g., verifying a password match).<p>\n",
    "- <p>!= : Not equal to, checks if two values are different (e.g., ensuring input changes).<p>\n",
    "- <p>=== : Strict equal to, checks equality and type (e.g., validating exact user ID).<p>\n",
    "- <p>!== : Strict not equal to, checks inequality and type (e.g., ensuring different type or value).<p>\n",
    "- <p>> : Greater than, left value is larger than the right (e.g., comparing scores or ages).<p>\n",
    "- <p>< : Less than, left value is smaller than the right (e.g., setting age limits).<p>\n",
    "- <p>>= : Greater than or equal to, left value is larger or equal (e.g., minimum age validation).<p>\n",
    "- <p><= : Less than or equal to, left value is smaller or equal (e.g., ensuring max quantity in cart).<p>"
   ]
  },
  {
   "cell_type": "markdown",
   "metadata": {},
   "source": [
    "## Example\n",
    "<p> this is the example of booleans. You can see how booleans works.<p>"
   ]
  },
  {
   "cell_type": "code",
   "execution_count": null,
   "metadata": {},
   "outputs": [
    {
     "data": {
      "application/javascript": "\n//You can change this booleans. try out more!\nlet isLoggedIn = true;\nlet hasAdminAccess = false;\nlet amal = false;\nlet theGoodsAccess = false;\n\nif (amal) {\n  console.log(\"Amal detected. No gummies. Get out.\")\n}\nelse {\n  if (isLoggedIn) {\n    console.log(\"Welcome to the site!\");\n\n    // Check if the user has admin access\n    if (hasAdminAccess) {\n      console.log(\"You have admin access.\");\n      if (theGoodsAccess) {\n        console.log(\"why did u turned this on u freaky fuck\")\n      }\n      else {\n        console.log(\"'the_goods' folder is locked.\")\n      }\n    }\n    else {\n      console.log(\"You are logged in, but you don't have admin access.\");\n    }\n    }\n  else {\n    console.log(\"Please log in to access the site.\");\n  }\n}\n",
      "text/plain": [
       "<IPython.core.display.Javascript object>"
      ]
     },
     "metadata": {},
     "output_type": "display_data"
    }
   ],
   "source": [
    "%%js\n",
    "\n",
    "//You can change this booleans. try out more!\n",
    "let isLoggedIn = true;\n",
    "let hasAdminAccess = false;\n",
    "let amal = false;\n",
    "\n",
    "if (amal) {\n",
    "  console.log(\"Amal detected. No gummies. Get out.\")\n",
    "}\n",
    "else {\n",
    "  if (isLoggedIn) {\n",
    "    console.log(\"Welcome to the site!\");\n",
    "\n",
    "    // Check if the user has admin access\n",
    "    if (hasAdminAccess) {\n",
    "      console.log(\"You have admin access.\");\n",
    "    }\n",
    "    else {\n",
    "      console.log(\"You are logged in, but you don't have admin access.\");\n",
    "    }\n",
    "    }\n",
    "  else {\n",
    "    console.log(\"Please log in to access the site.\");\n",
    "  }\n",
    "}\n"
   ]
  },
  {
   "cell_type": "markdown",
   "metadata": {},
   "source": [
    "## More Boolean Information\n"
   ]
  },
  {
   "cell_type": "code",
   "execution_count": null,
   "metadata": {
    "vscode": {
     "languageId": "javascript"
    }
   },
   "outputs": [
    {
     "data": {
      "application/javascript": "\n// Popcorn hack\n// Change the variables so you get 4 Correct\n\nlet a = \"\"; //str for a\nlet b = 0;\nlet c = -1;\nlet d = \"\";\n\nif (Boolean(a) == false) {\n    console.log(\"A = Correct\");\n} else {\n    console.log(\"A = InCorrect\");\n}\n\nif (Boolean(b) != false) {\n    console.log(\"B = Correct\");\n} else {\n    console.log(\"B = Incorrect\");\n}\n\nif (Boolean(c) != true) {\n    console.log(\"C = Correct\");\n} else {\n    console.log(\"C = Incorrect\");\n}\n\nif (Boolean(d) == true) {\n    console.log(\"D = Correct\");\n} else {\n    console.log(\"D = incorrect\");\n}\n",
      "text/plain": [
       "<IPython.core.display.Javascript object>"
      ]
     },
     "metadata": {},
     "output_type": "display_data"
    }
   ],
   "source": [
    "%%js\n",
    "\n",
    "// Popcorn hack\n",
    "// Open Devolper Tools\n",
    "// Help --> Devolper Tools\n",
    "// Change the variables so you get 4 Correct\n",
    "\n",
    "let a = \"abc\"; \n",
    "let b = 0;\n",
    "let c = -1;\n",
    "let d = \"\";\n",
    "\n",
    "if (Boolean(a) == false) {\n",
    "    console.log(\"A = Correct\");\n",
    "} else {\n",
    "    console.log(\"A = InCorrect\");\n",
    "}\n",
    "\n",
    "if (Boolean(b) != false) {\n",
    "    console.log(\"B = Correct\");\n",
    "} else {\n",
    "    console.log(\"B = Incorrect\");\n",
    "}\n",
    "\n",
    "if (Boolean(c) != true) {\n",
    "    console.log(\"C = Correct\");\n",
    "} else {\n",
    "    console.log(\"C = Incorrect\");\n",
    "}\n",
    "\n",
    "if (Boolean(d) == true) {\n",
    "    console.log(\"D = Correct\");\n",
    "} else {\n",
    "    console.log(\"D = incorrect\");\n",
    "}"
   ]
  }
 ],
 "metadata": {
  "kernelspec": {
   "display_name": "venv",
   "language": "python",
   "name": "python3"
  },
  "language_info": {
   "codemirror_mode": {
    "name": "ipython",
    "version": 3
   },
   "file_extension": ".py",
   "mimetype": "text/x-python",
   "name": "python",
   "nbconvert_exporter": "python",
   "pygments_lexer": "ipython3",
   "version": "3.10.12"
  }
 },
 "nbformat": 4,
 "nbformat_minor": 2
}
