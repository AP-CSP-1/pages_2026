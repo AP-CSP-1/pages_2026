// Lesson 4.1: Strings

// Strings in JavaScript:
// Strings are sequences of characters.

// Printing
console.log("dog"); // Directly printing a string

// Using Variables
const animal = "cat"; // Keep variable descriptive
const favoriteAnimal = "caribou";

console.log(animal); // Output: cat
console.log(favoriteAnimal); // Output: caribou

// Handling Apostrophes
// If your string contains an apostrophe and you're using single quotes, escape it with a backslash (\):
console.log("the dog said \"where is my food\" as the owner left");

// Example of escaping single quotes in a string:
const food1 = 'I\'m eating food'; // This works
const food2 = 'I\'m eating pizza';
const food3 = "I'm eating lasagna";

console.log(food2); // Output: I'm eating pizza
console.log(food3); // Output: I'm eating lasagna

// Strings with Multiple Lines
// Use template literals (backticks) for multi-line strings:
const riddle = `my favorite animal
is associated with winter
and Christmas`;

console.log(riddle);

// Length of a String
// The length of a string can be found using the .length property:
console.log("earthmovers".length); // Output: 11

// Printing Specific Parts of a String
const funFact = "woodchucks do not actually chuck wood, they chuck dirt more often than not";

// Specific character:
console.log(funFact[10]); // Output: 'c'

// Range (substring):
console.log(funFact.slice(5, 15)); // Output: 'chucks do n'

// Slicing:
console.log(funFact.slice(0, 25)); // Output: 'woodchucks do not act'
console.log(funFact.slice(35)); // Output: 'dirt more often than not'

// Popcorn Hack - Palindromes
// A function to check for palindromes
function palindrome(inputStr) {
    // Remove spaces and convert the string to lowercase
    const cleanStr = inputStr.replace(/\s+/g, '').toLowerCase();
    // Check if the cleaned string is equal to its reverse
    return cleanStr === cleanStr.split('').reverse().join('');
}

console.log(palindrome("did you know that sahas spelled backwards is sahas")); // Output: false
console.log(palindrome("hi")); // Output: false
