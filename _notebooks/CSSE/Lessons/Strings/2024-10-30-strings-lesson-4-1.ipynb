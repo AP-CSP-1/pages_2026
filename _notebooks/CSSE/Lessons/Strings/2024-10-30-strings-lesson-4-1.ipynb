{
 "cells": [
  {
   "cell_type": "raw",
   "metadata": {
    "vscode": {
     "languageId": "raw"
    }
   },
   "source": [
    "---\n",
    "comments: True\n",
    "layout: post\n",
    "title: Lesson 4.1: Strings\n",
    "description: Exploring strings in JavaScript\n",
    "permalink: /csse/javascript/fundamentals/strings\n",
    "type: ccc\n",
    "---"
   ]
  },
  {
   "cell_type": "markdown",
   "metadata": {},
   "source": [
    "# Lesson 4.1: Strings\n",
    "\n",
    "Strings in JavaScript are sequences of characters."
   ]
  },
  {
   "cell_type": "code",
   "execution_count": null,
   "metadata": {},
   "outputs": [],
   "source": [
    "// Printing\n",
    "console.log(\"dog\"); // Directly printing a string\n",
    "\n",
    "// Using Variables\n",
    "const animal = \"cat\"; // Keep variable descriptive\n",
    "const favoriteAnimal = \"caribou\";\n",
    "\n",
    "console.log(animal); // Output: cat\n",
    "console.log(favoriteAnimal); // Output: caribou\n",
    "\n",
    "// Handling Apostrophes\n",
    "// If your string contains an apostrophe and you're using single quotes, escape it with a backslash (\\):\n",
    "console.log(\"the dog said \\\"where is my food\\\" as the owner left\");\n",
    "\n",
    "// Example of escaping single quotes in a string:\n",
    "const food1 = 'I\\'m eating food'; // This works\n",
    "const food2 = 'I\\'m eating pizza';\n",
    "const food3 = \"I'm eating lasagna\";\n",
    "\n",
    "console.log(food2); // Output: I'm eating pizza\n",
    "console.log(food3); // Output: I'm eating lasagna\n",
    "\n",
    "// Strings with Multiple Lines\n",
    "// Use template literals (backticks) for multi-line strings:\n",
    "const riddle = `my favorite animal\n",
    "is associated with winter\n",
    "and Christmas`;\n",
    "\n",
    "console.log(riddle);\n",
    "\n",
    "// Length of a String\n",
    "// The length of a string can be found using the .length property:\n",
    "console.log(\"earthmovers\".length); // Output: 11\n",
    "\n",
    "// Printing Specific Parts of a String\n",
    "const funFact = \"woodchucks do not actually chuck wood, they chuck dirt more often than not\";\n",
    "\n",
    "// Specific character:\n",
    "console.log(funFact[10]); // Output: 'c'\n",
    "\n",
    "// Range (substring):\n",
    "console.log(funFact.slice(5, 15)); // Output: 'chucks do n'\n",
    "\n",
    "// Slicing:\n",
    "console.log(funFact.slice(0, 25)); // Output: 'woodchucks do not act'\n",
    "console.log(funFact.slice(35)); // Output: 'dirt more often than not'\n",
    "\n",
    "// Popcorn Hack - Palindromes\n",
    "// A function to check for palindromes\n",
    "function palindrome(inputStr) {\n",
    "    // Remove spaces and convert the string to lowercase\n",
    "    const cleanStr = inputStr.replace(/\\s+/g, '').toLowerCase();\n",
    "    // Check if the cleaned string is equal to its reverse\n",
    "    return cleanStr === cleanStr.split('').reverse().join('');\n",
    "}\n",
    "\n",
    "console.log(palindrome(\"did you know that sahas spelled backwards is sahas\")); // Output: false\n",
    "console.log(palindrome(\"hi\")); // Output: false"
   ]
  }
 ],
 "metadata": {
  "kernelspec": {
   "display_name": "ijavascript",
   "language": "javascript",
   "name": "javascript"
  },
  "language_info": {
   "codemirror_mode": {
    "name": "javascript",
    "version": 3
   },
   "file_extension": ".js",
   "mimetype": "application/javascript",
   "name": "javascript",
   "nbconvert_exporter": "javascript",
   "pygments_lexer": "javascript",
   "version": "ECMAScript 2020"
  }
 },
 "nbformat": 4,
 "nbformat_minor": 2
}
