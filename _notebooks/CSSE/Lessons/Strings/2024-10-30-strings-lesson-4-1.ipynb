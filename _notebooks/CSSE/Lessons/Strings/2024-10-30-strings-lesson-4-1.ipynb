# %%
---
layout: post
title: Lesson 4.1 Strings
categories: [Collaboration]
permalink: /csp/big-idea/p4/3-4-1
comments: true
author: Logan Brauchla
menu: nav/csp_units/csp_unit3_p4_fundamentals.html
---

# %% [markdown]
# <style>
#     .glow {
#         color: #fff; /* Text color */
#         text-shadow: 0 0 10px #8171E5, 0 0 20px #8171E5, 0 0 30px #8171E5; /* Glowing effect on text */
#         transition: all 0.3s ease-in-out;
#     }
# </style>
# 
# <h3><span class = "glow" style="font-family: Monospace; color:#ffffff">Strings in Python:</span></h3>
# <h5><span style="font-family: Monospace; color:#7077D7">Printing</span></h5>
# 
# - Strings are sequences of stored elements(text) 
# 
# <br>

# %%
#printing directly, use single or double qutoes:
print("dog")


#variable = "string"
animal = "cat"
#keep variable descriptive of what value it holds to make code easier to read
#single or double quotes both work

#variables with multiple words, use underscore instead of space
favorite_animal = "caribou"

#don't use quotes when using variables
print(animal)
print(favorite_animal)

# %% [markdown]
# 
# 
# <h5><span style="font-family: Monospace; color:#7077D7">single quotes:</span></h5>
# 
# - if using single quotes and string has a single quote, python will read it as the end of a string
# - to combat this, use a backslash or double quotes
# - vice versa for double quotes
# 

# %%
# example:  food1 = 'I'm eating food'
#apostrophe in "I'm" interrupts string and makes the code malfunction

food2 = 'I\'m eating pizza'
food3 = "I'm eating lasagna"

print(food2)
print(food3)

# %% [markdown]
# 
# 
# <h5><span style="font-family: Monospace; color:#7077D7">Strings with multiple lines</span></h5>
# 
# - instead of printing 3 separate strings, use 3 quotes 
#     - both single and double work 

# %%
riddle = """my favorite animal
is associated with winter
and christmas"""

print(riddle)

# %% [markdown]
# 
# 
# <h4><span style="font-family: Monospace; color:#7077D7">len function</span></h4>
# 
#  - stands for length
#  - returns length of a string
# 

# %%
print(len ("earthmovers"))

# %% [markdown]
# 
# 
# <h4><span style="font-family: Monospace; color:#7077D7">Printing specific parts of a string</span></h4>
# 
# - for a specific character: use []
# - for a range; use [ : ]

# %%
fun_fact = "woodchucks do not actually chuck wood, they chuck dirt more often than not"

#specific character: 
print(fun_fact[10])

#range:
print(fun_fact[5:15])

#slicing:
print(fun_fact[:25])
print(fun_fact[35:])

# %% [markdown]
# 
# 
# <h3><span style="font-family: Monospace; color:#7077D7">Popcorn Hack - Palindromes</span></h3>
# A palindrome is a string that reads the same from right to left as left to right. Add two palindromes in the provided code block..
# <li>Ex: racecar, diefied, bob, </li>

# %%
def palindrome(input_str):
    # Remove spaces and convert the string to lowercase
    clean_str = input_str.replace(" ", "").lower()
    # Check if the cleaned string is equal to its reverse
    return clean_str == clean_str[::-1]


print(palindrome("did you know that sahaas spelled backwards is saahas")) #False
print(palindrome("hi")) # False



