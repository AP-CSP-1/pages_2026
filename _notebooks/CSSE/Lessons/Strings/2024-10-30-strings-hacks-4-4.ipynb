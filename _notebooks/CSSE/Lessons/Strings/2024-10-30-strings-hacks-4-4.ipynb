{
 "cells": [
  {
   "cell_type": "raw",
   "metadata": {
    "vscode": {
     "languageId": "raw"
    }
   },
   "source": [
    "---\n",
    "comments: True\n",
    "layout: post\n",
    "title: conditionals lesson hacks\n",
    "description: conditionals hacks\n",
    "permalink: /csse/javascript/fundamentals/conditionals/hacks\n",
    "type: ccc\n",
    "---"
   ]
  },
  {
   "cell_type": "markdown",
   "metadata": {},
   "source": [
    "# Hack 1"
   ]
  },
  {
   "cell_type": "markdown",
   "metadata": {},
   "source": [
    "Get the lyrics to a song, and find out the following: how many times the letter A is used, how many time a certain word is used, and how many characters are in the whole song."
   ]
  },
  {
   "cell_type": "code",
   "execution_count": null,
   "metadata": {},
   "outputs": [],
   "source": [
    "function analyzeLyrics(lyrics, searchWord) {\n",
    "    const letterCount = (lyrics.match(/A/gi) || []).length;\n",
    "    const wordCount = (lyrics.match(new RegExp(searchWord, 'gi')) || []).length;\n",
    "    const characterCount = lyrics.length;\n",
    "    return {\n",
    "        letterCount: letterCount,\n",
    "        wordCount: wordCount,\n",
    "        characterCount: characterCount\n",
    "    };\n",
    "}\n",
    "// Example usage:\n",
    "// const results = analyzeLyrics('Your song lyrics here', 'yourWord');\n",
    "// console.log(results);"
   ]
  },
  {
   "cell_type": "markdown",
   "metadata": {},
   "source": [
    "# Hack 2"
   ]
  },
  {
   "cell_type": "markdown",
   "metadata": {},
   "source": [
    "Create a small madlibs-esque sentence(s), with a pool of random words, and places for those words to be placed."
   ]
  },
  {
   "cell_type": "code",
   "execution_count": null,
   "metadata": {},
   "outputs": [],
   "source": [
    "function createMadLibs(template, words) {\n",
    "    return template.replace(/\\{(.*?)\\}/g, (match, key) => words[key]);\n",
    "}\n",
    "// Example usage:\n",
    "// const template = 'The {adjective} {noun} jumped over the {noun2}.';\n",
    "// const words = { adjective: 'quick', noun: 'fox', noun2: 'lazy dog' };\n",
    "// console.log(createMadLibs(template, words));"
   ]
  }
 ],
 "metadata": {
  "kernelspec": {
   "display_name": "ijavascript",
   "language": "javascript",
   "name": "javascript"
  },
  "language_info": {
   "codemirror_mode": {
    "name": "javascript",
    "version": 3
   },
   "file_extension": ".js",
   "mimetype": "application/javascript",
   "name": "javascript",
   "nbconvert_exporter": "javascript",
   "pygments_lexer": "javascript",
   "version": "ECMAScript 2020"
  }
 },
 "nbformat": 4,
 "nbformat_minor": 2
}
