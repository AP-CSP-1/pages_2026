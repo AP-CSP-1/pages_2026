{
 "cells": [
  {
   "cell_type": "code",
   "execution_count": null,
   "metadata": {
    "vscode": {
     "languageId": "yaml"
    }
   },
   "outputs": [],
   "source": [
    "---\n",
    "comments: true\n",
    "layout: post\n",
    "title: Strings and Functions\n",
    "description: Strings and functions\n",
    "author: Matthew Borg\n",
    "permalink: /csse/Lessons/strings/2024-10-30-strings-lesson-4-2.ipynb\n",
    "categories: [Strings and Functions]\n",
    "---"
   ]
  },
const lionFact = "lions are the only cats that live in groups";

// Convert to lowercase and uppercase
console.log(lionFact.toLowerCase());  // Lowercase
console.log(lionFact.toUpperCase());  // Uppercase

// Count occurrences of the word 'the'
console.log((lionFact.match(/the/g) || []).length);

// Find the index of the word 'group'
console.log(lionFact.indexOf("group"));

// Replace 'lion' with 'giraffe'
let newLionFact = lionFact.replace('lion', 'giraffe');
console.log(newLionFact);

// Or replace it directly
lionFact = lionFact.replace('lion', 'giraffe');
console.log(lionFact);

// Concatenate fish names
let fish = "fish";
let fish1 = "angel";
let fish2 = "cat";
let fish3 = "puffer";

// Bad format
let badFormatSpecies = fish1 + fish + fish2 + fish + fish3 + fish;
console.log(badFormatSpecies);

// Good format with commas
let goodFormatSpecies = `${fish1}${fish}, ${fish2}${fish}, and ${fish3}${fish}`;
console.log(goodFormatSpecies);

// Using formatted strings
let betterFormatSpecies = `${fish1}${fish}, ${fish2}${fish}, and ${fish3}${fish} are my favorite fish!`;
console.log(betterFormatSpecies);
