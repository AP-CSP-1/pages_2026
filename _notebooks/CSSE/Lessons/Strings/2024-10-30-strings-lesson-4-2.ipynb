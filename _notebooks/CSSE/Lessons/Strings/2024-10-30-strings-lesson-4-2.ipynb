{
    "comments: true\n",
    "layout: post\n",
    "title: Strings and Functions\n",
    "description: Strings and functions\n",
    "author: Matthew Borg\n",
    "permalink: /csse/Lessons/strings/2024-10-30-strings-lesson-4-2.ipynb\n",
    "categories: [Strings and Functions]\n",
    "---"
   ]
  },
// Code Cell 1: String Example and Case Conversion
const lionFact = "lions are the only cats that live in groups";

// Convert to lowercase and uppercase
console.log(lionFact.toLowerCase());  // Lowercase
console.log(lionFact.toUpperCase());  // Uppercase

// Code Cell 2: Counting Occurrences
console.log((lionFact.match(/the/g) || []).length);  // Count occurrences of the word 'the'

// Code Cell 3: Finding Index of a Substring
console.log(lionFact.indexOf("group"));  // Find the index of the word 'group'

// Code Cell 4: Replacing Substrings
let newLionFact = lionFact.replace('lion', 'giraffe');
console.log(newLionFact);  // Replaced string

// Or replace it directly
lionFact = lionFact.replace('lion', 'giraffe');
console.log(lionFact);  // Replaced string directly

// Code Cell 5: Concatenation
let fish = "fish";
let fish1 = "angel";
let fish2 = "cat";
let fish3 = "puffer";

// Bad format
let badFormatSpecies = fish1 + fish + fish2 + fish + fish3 + fish;
console.log(badFormatSpecies);

// Good format with commas
let goodFormatSpecies = `${fish1}${fish}, ${fish2}${fish}, and ${fish3}${fish}`;
console.log(goodFormatSpecies);

// Code Cell 6: Formatted Strings
let betterFormatSpecies = `${fish1}${fish}, ${fish2}${fish}, and ${fish3}${fish} are my favorite fish!`;
console.log(betterFormatSpecies);
