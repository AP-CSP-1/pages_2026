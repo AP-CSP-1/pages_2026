%%js
{
  "cells": [
    {
      "cell_type": "code",
      "execution_count": 1,
      "id": "d63fdefb",
      "metadata": {},
      "outputs": [],
      "source": [
        "// Code Cell 1: String Example and Case Conversion\n",
        "const lionFact = \"lions are the only cats that live in groups\";\n",
        "\n",
        "// Convert to lowercase and uppercase\n",
        "console.log(lionFact.toLowerCase());  // Lowercase\n",
        "console.log(lionFact.toUpperCase());  // Uppercase"
      ]
    },
    {
      "cell_type": "code",
      "execution_count": 2,
      "id": "4db746f6",
      "metadata": {},
      "outputs": [],
      "source": [
        "// Code Cell 2: Counting Occurrences\n",
        "console.log((lionFact.match(/the/g) || []).length);  // Count occurrences of the word 'the'"
      ]
    },
    {
      "cell_type": "code",
      "execution_count": 3,
      "id": "f5bd3d88",
      "metadata": {},
      "outputs": [],
      "source": [
        "// Code Cell 3: Finding Index of a Substring\n",
        "console.log(lionFact.indexOf(\"group\"));  // Find the index of the word 'group'"
      ]
    },
    {
      "cell_type": "code",
      "execution_count": 4,
      "id": "a12f44be",
      "metadata": {},
      "outputs": [],
      "source": [
        "// Code Cell 4: Replacing Substrings\n",
        "let newLionFact = lionFact.replace('lion', 'giraffe');\n",
        "console.log(newLionFact);  // Replaced string\n",
        "\n",
        "// Or replace it directly\n",
        "lionFact = lionFact.replace('lion', 'giraffe');\n",
        "console.log(lionFact);  // Replaced string directly"
      ]
    },
    {
      "cell_type": "code",
      "execution_count": 5,
      "id": "7d04eb30",
      "metadata": {},
      "outputs": [],
      "source": [
        "// Code Cell 5: Concatenation\n",
        "let fish = \"fish\";\n",
        "let fish1 = \"angel\";\n",
        "let fish2 = \"cat\";\n",
        "let fish3 = \"puffer\";\n",
        "\n",
        "// Bad format\n",
        "let badFormatSpecies = fish1 + fish + fish2 + fish + fish3 + fish;\n",
        "console.log(badFormatSpecies);\n",
        "\n",
        "// Good format with commas\n",
        "let goodFormatSpecies = `${fish1}${fish}, ${fish2}${fish}, and ${fish3}${fish}`;\n",
        "console.log(goodFormatSpecies);"
      ]
    },
    {
      "cell_type": "code",
      "execution_count": 6,
      "id": "389ccd53",
      "metadata": {},
      "outputs": [],
      "source": [
        "// Code Cell 6: Formatted Strings\n",
        "let betterFormatSpecies = `${fish1}${fish}, ${fish2}${fish}, and ${fish3}${fish} are my favorite fish!`;\n",
        "console.log(betterFormatSpecies);"
      ]
    }
  ],
  "metadata": {
    "kernelspec": {
      "display_name": "JavaScript",
      "language": "javascript",
      "name": "javascript"
    },
    "language_info": {
      "name": "javascript",
      "version": "latest"
    }
  },
  "nbformat": 4,
  "nbformat_minor": 5
}
