// Lesson 4.2: Strings and Functions
// Categories: Collaboration
// In this lesson, we'll explore string functions in JavaScript and how to manipulate text effectively.

// Understanding String Functions
// JavaScript provides a variety of built-in functions for string manipulation. Let's dive into some useful ones!

// Example string
let tigerFact = "the stripes on a Tiger are unique, similar to the human fingerprint";

// Convert to lowercase and uppercase
console.log(tigerFact.toLowerCase());  // Lowercase
console.log(tigerFact.toUpperCase());  // Uppercase

// Counting Occurrences
// You can count how many times a substring appears in a string using the `split()` method.
console.log(tigerFact.split("the").length - 1); // Count occurrences of the word 'the'

// Finding Indexes
// You can find the index of a specific substring using the `indexOf()` method.
console.log(tigerFact.indexOf("unique")); // Find the index of the word 'unique'

// Replacing Substrings
// You can replace parts of a string with the `replace()` method.
let newTigerFact = tigerFact.replace('Tiger', 'zebra');
console.log(newTigerFact);
tigerFact = tigerFact.replace('Tiger', 'zebra');
console.log(tigerFact);

// Concatenation
// You can concatenate strings using the `+` operator. However, it can get messy with many variables!
let fish = "fish";
let fish1 = "angel";
let fish2 = "cat";
let fish3 = "puffer";

// Bad format
let badFormatSpecies = fish1 + fish + fish2 + fish + fish3 + fish;
console.log(badFormatSpecies);

// Good format with commas
let goodFormatSpecies = fish1 + fish + ', ' + fish2 + fish + ', ' + fish3 + fish;
console.log(goodFormatSpecies);

// Formatted Strings
// Using template literals makes it easier to include variables without cluttering the code.
let betterFormatSpecies = `${fish1}${fish}, ${fish2}${fish}, and ${fish3}${fish} are my favorite fish!`;
console.log(betterFormatSpecies);

// Hack: Make a Fun Sentence
// Now, let's combine everything we've learned to create a fun sentence about animals using a random choice.
// We will use the `Math.random()` method to pick a random animal from a list and include it in a sentence.

let animals = ['dolphin', 'elephant', 'giraffe', 'panda'];

// Randomly choose an animal
let chosenAnimal = animals[Math.floor(Math.random() * animals.length)];

// Create a fun fact
let funFact = `Did you know that a ${chosenAnimal} is also known as a "smiling" animal?`;
console.log(funFact);
