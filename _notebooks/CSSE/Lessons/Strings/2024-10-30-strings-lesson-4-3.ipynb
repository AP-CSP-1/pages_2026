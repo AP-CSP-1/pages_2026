%%javascript

// Example: Using JavaScript with JSON

const lessonContent = {
    title: "Understanding Strings in JavaScript",
    description: "Strings are considered primitive data types in JavaScript. They are immutable, meaning once created, their value cannot change.",
    formatting: "You can define strings using single (') or double (') quotes, and the indexing starts at 0.",
    cell: "Example Cell",  // Added cell key
    examples: [
        {
            description: "Creating Strings",
            code: "console.log('simple way to display strings');"
        },
        {
            description: "Using Variables",
            code: "const stringExample = 'another example of printing a string'; console.log(stringExample);"
        },
        {
            description: "Handling Apostrophes",
            code: "console.log('the dog said \"where is my food\" as the owner left');"
        },
        {
            description: "Concatenating Strings",
            code: "const mascot = 'night' + 'hawk'; console.log(mascot);"
        },
        {
            description: "Concatenating multiple variables",
            code: "const fish1 = 'pufferfish'; const fish2 = 'marlin'; const fish3 = 'salmon'; const favFish = 'My favorite fish species are ' + fish1 + ', ' + fish2 + ', and ' + fish3 + '.'; console.log(favFish);"
        },
        {
            description: "Template Literals",
            code: "const favFishMethodTwo = `My favorite fish species are ${fish1}, ${fish2}, and ${fish3}.`; console.log(favFishMethodTwo);"
        },
        {
            description: "Line Breaks in Template Literals",
            code: "const riddle = `my favorite animal\\nhibernates during the winter\\nin a cave.`; console.log(riddle);"
        }
    ],
    resources: "Refer to MDN Web Docs for a comprehensive list of JavaScript string methods: https://developer.mozilla.org/en-US/docs/Web/JavaScript/Reference/Global_Objects/String"
};

// Convert the JavaScript object to a JSON string
const jsonString = JSON.stringify(lessonContent, null, 2);
console.log("JSON String:\n", jsonString);

// Parse the JSON string back into a JavaScript object
const parsedLessonContent = JSON.parse(jsonString);
console.log("Parsed JavaScript Object:", parsedLessonContent);
