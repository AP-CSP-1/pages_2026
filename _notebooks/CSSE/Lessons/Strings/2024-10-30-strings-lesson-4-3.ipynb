// JSON defining the lesson
const lessonContent = {
    "title": "Understanding Strings in JavaScript",
    "description": "Strings are considered primitive data types in JavaScript. They are immutable, meaning once created, their value cannot change.",
    "formatting": "You can define strings using single (') or double (\") quotes, and the indexing starts at 0.",
    "examples": [
        {
            "description": "Creating Strings",
            "code": "console.log('simple way to display strings');"
        },
        {
            "description": "Using Variables",
            "code": "const stringExample = 'another example of printing a string'; console.log(stringExample);"
        },
        {
            "description": "Handling Apostrophes",
            "code": "console.log('the dog said \\\"where is my food\\\" as the owner left');"
        },
        {
            "description": "Concatenating Strings",
            "code": "const mascot = 'night' + 'hawk'; console.log(mascot);"
        },
        {
            "description": "Concatenating multiple variables",
            "code": "const fish1 = 'pufferfish'; const fish2 = 'marlin'; const fish3 = 'salmon'; const favFish = 'My favorite fish species are ' + fish1 + ', ' + fish2 + ', and ' + fish3 + '.'; console.log(favFish);"
        },
        {
            "description": "Template Literals",
            "code": "const favFishMethodTwo = `My favorite fish species are ${fish1}, ${fish2}, and ${fish3}.`; console.log(favFishMethodTwo);"
        },
        {
            "description": "Line Breaks in Template Literals",
            "code": "const riddle = `my favorite animal\\nhibernates during the winter\\nin a cave.`; console.log(riddle);"
        }
    ],
    "resources": "Refer to MDN Web Docs for a comprehensive list of JavaScript string methods: https://developer.mozilla.org/en-US/docs/Web/JavaScript/Reference/Global_Objects/String"
};

// Displaying the lesson content
console.log(`Title: ${lessonContent.title}`);
console.log(`Description: ${lessonContent.description}`);
console.log(`Formatting: ${lessonContent.formatting}`);
console.log("\nExamples:");

lessonContent.examples.forEach((example, index) => {
    console.log(`\n${index + 1}. ${example.description}`);
    eval(example.code); // Caution: Using eval can be risky if code is from untrusted sources
});

console.log("\nResources:");
console.log(lessonContent.resources);
