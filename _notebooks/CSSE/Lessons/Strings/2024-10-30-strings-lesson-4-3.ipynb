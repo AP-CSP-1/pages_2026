%%javascript

// Example: Using JavaScript with JSON

const lessonContent = {
    title: "Understanding Strings in JavaScript",
    description: "Strings are considered primitive data types in JavaScript. They are immutable, meaning once created, their value cannot change.",
    formatting: "You can define strings using single (') or double (') quotes, and the indexing starts at 0.",
    examples: [
        {
            description: "Creating Strings",
            code: "console.log('simple way to display strings');"
        },
        {
            description: "Using Variables",
            code: "const stringExample = 'another example of printing a string'; console.log(stringExample);"
        }
    ],
    resources: "Refer to MDN Web Docs for a comprehensive list of JavaScript string methods: https://developer.mozilla.org/en-US/docs/Web/JavaScript/Reference/Global_Objects/String"
};

const jsonString = JSON.stringify(lessonContent, null, 2);
console.log("JSON String:\n", jsonString);

const parsedLessonContent = JSON.parse(jsonString);
console.log("Parsed JavaScript Object:", parsedLessonContent);
