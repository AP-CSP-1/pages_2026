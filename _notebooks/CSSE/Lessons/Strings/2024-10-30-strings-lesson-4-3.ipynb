// Lesson: Understanding Strings in JavaScript

// What Are Strings?
/*
- **Primitive Data Types**: Strings are considered primitive data types in JavaScript. This means they are immutable, meaning once created, their value cannot change.
- **Formatted Similar to Python**: You can define strings using single (`'`) or double (`"`) quotes, and the indexing starts at 0.
*/

// Creating Strings
// You can create strings in JavaScript in several ways:
console.log("simple way to display strings"); 
// 'string literal' is what's in your code, 'String value' is what's displayed

// Using Variables
// Using variables to store strings allows for more flexibility:
const stringExample = "another example of printing a string";
console.log(stringExample);

// Handling Apostrophes
// If your string contains an apostrophe and you're using single quotes, you need to escape it with a backslash (`\`):
console.log("the dog said \"where is my food\" as the owner left");

// Concatenating Strings
// You can concatenate strings using the `+` operator:
const mascot = "night" + "hawk";
console.log(mascot);

// Concatenating multiple variables:
const fish1 = "pufferfish";
const fish2 = "marlin";
const fish3 = "salmon";
const favFish = "My favorite fish species are " + fish1 + ", " + fish2 + ", and " + fish3 + ".";
console.log(favFish);

// Template Literals
// Template literals provide an easier and more readable way to concatenate strings using backticks (`` ` ``):
const favFishMethodTwo = `My favorite fish species are ${fish1}, ${fish2}, and ${fish3}.`;
console.log(favFishMethodTwo);

// You can also include line breaks using template literals:
const riddle = `my favorite animal
hibernates during the winter
in a cave`;
console.log(riddle);

// JavaScript String Methods
// Since strings can be treated as objects in JavaScript, you can utilize various methods to manipulate them. 
// Refer to MDN Web Docs for a comprehensive list of JavaScript string methods: 
// https://developer.mozilla.org/en-US/docs/Web/JavaScript/Reference/Global_Objects/String
