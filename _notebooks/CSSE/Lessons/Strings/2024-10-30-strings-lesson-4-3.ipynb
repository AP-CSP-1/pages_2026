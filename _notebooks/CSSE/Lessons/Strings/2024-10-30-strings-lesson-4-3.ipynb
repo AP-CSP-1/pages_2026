Lesson on JavaScript Strings (2-3 Minutes)
Introduction to Strings
Welcome to our quick lesson on JavaScript strings! Strings are a fundamental part of programming, used to handle text. In JavaScript, strings are considered primitive data types, meaning they are immutable, which means once created, they can't be changed.

Defining Strings
You can create strings using either single quotes (') or double quotes ("). Here’s how you can define and print a string:

javascript
Copy code
const greeting = "Hello, World!";
console.log(greeting);
String Concatenation
Concatenation allows you to combine multiple strings. You can use the + operator or template literals for a cleaner syntax:

javascript
Copy code
const firstName = "Joanna";
const lastName = "Hu";

// Using + operator
const fullName = firstName + " " + lastName;
console.log(fullName);

// Using template literals
const fullNameTemplate = `${firstName} ${lastName}`;
console.log(fullNameTemplate);
Handling Special Characters
If you need to include special characters, like quotes, you can use escape sequences. For example:

javascript
Copy code
console.log("The dog said: \"Where is my food?\"");
Multiline Strings
For strings that span multiple lines, template literals make it easy:

javascript
Copy code
const multiline = `This is line one
This is line two
This is line three.`;
console.log(multiline);
