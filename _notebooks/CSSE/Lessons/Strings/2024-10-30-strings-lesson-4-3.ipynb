<!DOCTYPE html>
<html lang="en">
<head>
    <meta charset="UTF-8">
    <meta name="viewport" content="width=device-width, initial-scale=1.0">
    <title>Understanding Strings in JavaScript</title>
    <style>
        body {
            font-family: Arial, sans-serif;
            line-height: 1.6;
            margin: 20px;
        }
        pre {
            background-color: #f4f4f4;
            padding: 10px;
            border-radius: 5px;
            overflow-x: auto;
        }
        h1, h2 {
            color: #333;
        }
        .example {
            margin-bottom: 20px;
        }
    </style>
</head>
<body>

    <h1 id="title"></h1>
    <p id="description"></p>
    <h2>Formatting</h2>
    <p id="formatting"></p>

    <h2>Examples</h2>
    <div id="examples"></div>

    <h2>Resources</h2>
    <p id="resources"></p>

    <script>
        // JSON defining the lesson
        const lessonContent = {
            "title": "Understanding Strings in JavaScript",
            "description": "Strings are considered primitive data types in JavaScript. They are immutable, meaning once created, their value cannot change.",
            "formatting": "You can define strings using single (') or double (\") quotes, and the indexing starts at 0.",
            "examples": [
                {
                    "description": "Creating Strings",
                    "code": "console.log('simple way to display strings');"
                },
                {
                    "description": "Using Variables",
                    "code": "const stringExample = 'another example of printing a string'; console.log(stringExample);"
                },
                {
                    "description": "Handling Apostrophes",
                    "code": "console.log('the dog said \\\"where is my food\\\" as the owner left');"
                },
                {
                    "description": "Concatenating Strings",
                    "code": "const mascot = 'night' + 'hawk'; console.log(mascot);"
                },
                {
                    "description": "Concatenating multiple variables",
                    "code": "const fish1 = 'pufferfish'; const fish2 = 'marlin'; const fish3 = 'salmon'; const favFish = 'My favorite fish species are ' + fish1 + ', ' + fish2 + ', and ' + fish3 + '.'; console.log(favFish);"
                },
                {
                    "description": "Template Literals",
                    "code": "const favFishMethodTwo = `My favorite fish species are ${fish1}, ${fish2}, and ${fish3}.`; console.log(favFishMethodTwo);"
                },
                {
                    "description": "Line Breaks in Template Literals",
                    "code": "const riddle = `my favorite animal\\nhibernates during the winter\\nin a cave.`; console.log(riddle);"
                }
            ],
            "resources": "Refer to MDN Web Docs for a comprehensive list of JavaScript string methods: https://developer.mozilla.org/en-US/docs/Web/JavaScript/Reference/Global_Objects/String"
        };

        // Displaying the lesson content on the page
        document.getElementById('title').innerText = lessonContent.title;
        document.getElementById('description').innerText = lessonContent.description;
        document.getElementById('formatting').innerText = lessonContent.formatting;

        const examplesContainer = document.getElementById('examples');
        lessonContent.examples.forEach((example, index) => {
            const exampleDiv = document.createElement('div');
            exampleDiv.className = 'example';
            exampleDiv.innerHTML = `
                <h3>Example ${index + 1}: ${example.description}</h3>
                <pre>${example.code}</pre>
                <button onclick="executeExample(${index})">Run Example</button>
                <div id="output-${index}"></div>
            `;
            examplesContainer.appendChild(exampleDiv);
        });

        document.getElementById('resources').innerHTML = `<a href="${lessonContent.resources}" target="_blank">${lessonContent.resources}</a>`;

        // Function to execute an example
        function executeExample(index) {
            const example = lessonContent.examples[index];
            try {
                const outputDiv = document.getElementById(`output-${index}`);
                console.clear();
                const originalConsoleLog = console.log;
                console.log = function(...args) {
                    originalConsoleLog(...args);
                    outputDiv.innerText = args.join(' ');
                };
                eval(example.code); // Caution: Using eval can be risky if code is from untrusted sources
                console.log = originalConsoleLog;
            } catch (error) {
                console.error('Error executing example:', error);
            }
        }
    </script>

</body>
</html>
