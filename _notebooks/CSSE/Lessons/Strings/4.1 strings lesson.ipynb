{
 "cells": [
  {
   "cell_type": "markdown",
   "metadata": {},
   "source": [
    "---\n",
    "layout: post\n",
    "title: Lesson 4.1 Strings\n",
    "categories: [Collaboration]\n",
    "permalink: /csp/big-idea/p4/3-4-1\n",
    "comments: true\n",
    "author: Joanna Hu\n",
    "menu: nav/csp_units/csp_unit3_p4_fundamentals.html\n",
    "---"
   ]
  },
  {
   "cell_type": "markdown",
   "metadata": {},
   "source": [
    "<style>\n",
    "    .glow {\n",
    "        color: #fff; /* Text color */\n",
    "        text-shadow: 0 0 10px #8171E5, 0 0 20px #8171E5, 0 0 30px #8171E5; /* Glowing effect on text */\n",
    "        transition: all 0.3s ease-in-out;\n",
    "    }\n",
    "</style>\n",
    "\n",
    "<h3><span class = \"glow\" style=\"font-family: Monospace; color:#ffffff\">Strings in Python:</span></h3>\n",
    "<h5><span style=\"font-family: Monospace; color:#7077D7\">Printing</span></h5>\n",
    "\n",
    "- You can print the string directly or use variables to store it.\n",
    "\n",
    "<br>"
   ]
  },
  {
   "cell_type": "code",
   "execution_count": 1,
   "metadata": {},
   "outputs": [
    {
     "name": "stdout",
     "output_type": "stream",
     "text": [
      "panda\n",
      "rabbit\n",
      "otter\n"
     ]
    }
   ],
   "source": [
    "# Printing directly, use single or double quotes:\n",
    "print(\"panda\")\n",
    "\n",
    "# Variable = \"string\"\n",
    "animal = \"rabbit\"\n",
    "# Keep variable descriptive of what value it holds to make code easier to read\n",
    "\n",
    "# Variables with multiple words, use underscore not space\n",
    "favorite_animal = \"otter\"\n",
    "\n",
    "# Don't use quotes when using variables\n",
    "print(animal)\n",
    "print(favorite_animal)"
   ]
  },
  {
   "cell_type": "markdown",
   "metadata": {},
   "source": [
    "<h5><span style=\"font-family: Monospace; color:#7077D7\">Quotes:</span></h5>\n",
    "\n",
    "- If using single quotes and the string has a single quote, Python will read it as the end of a string.\n",
    "- To combat this, use a backslash or double quotes.\n",
    "- Vice versa for double quotes.\n"
   ]
  },
  {
   "cell_type": "code",
   "execution_count": 2,
   "metadata": {},
   "outputs": [
    {
     "name": "stdout",
     "output_type": "stream",
     "text": [
      "I'm feeling happy\n",
      "I'm feeling sad\n"
     ]
    }
   ],
   "source": [
    "# Example: mood1 = 'I'm feeling tired'\n",
    "# Apostrophe in \"I'm\" interrupts string and will cause error\n",
    "\n",
    "# Use backslash in front or double quotes\n",
    "mood2 = 'I\\'m feeling happy'\n",
    "mood3 = \"I'm feeling sad\"\n",
    "\n",
    "print(mood2)\n",
    "print(mood3)"
   ]
  },
  {
   "cell_type": "markdown",
   "metadata": {},
   "source": [
    "<h5><span style=\"font-family: Monospace; color:#7077D7\">Strings with Multiple Lines</span></h5>\n",
    "\n",
    "- Instead of printing 3 separate strings, use triple quotes.\n",
    "    - Both single and double work."
   ]
  },
  {
   "cell_type": "code",
   "execution_count": 3,
   "metadata": {},
   "outputs": [
    {
     "name": "stdout",
     "output_type": "stream",
     "text": [
      "my favorite animal\n",
      "hibernates during the winter\n",
      "in a cave\n"
     ]
    }
   ],
   "source": [
    "riddle = \"\"\"my favorite animal\n",
    "hibernates during the winter\n",
    "in a cave\"\"\"\n",
    "\n",
    "print(riddle)"
   ]
  },
  {
   "cell_type": "markdown",
   "metadata": {},
   "source": [
    "<h4><span style=\"font-family: Monospace; color:#7077D7\">len function</span></h4>\n",
    "\n",
    " - Stands for length.\n",
    " - Returns the length of a string.\n"
   ]
  },
  {
   "cell_type": "code",
   "execution_count": 4,
   "metadata": {},
   "outputs": [
    {
     "name": "stdout",
     "output_type": "stream",
     "text": [
      "11\n"
     ]
    }
   ],
   "source": [
    "print(len(\"hummingbird\"))"
   ]
  },
  {
   "cell_type": "markdown",
   "metadata": {},
   "source": [
    "<h4><span style=\"font-family: Monospace; color:#7077D7\">Printing Specific Parts of a String</span></h4>\n",
    "\n",
    "- For a specific character: use []\n",
    "- For a range: use [:]\n",
    "    - Starts counting at 0.\n",
    "    - First value is inclusive, second is not.\n",
    "- Slicing:\n",
    "    - Leaving first value empty: will start at 0.\n",
    "    - Leaving second value empty: will end with the last character."
   ]
  },
  {
   "cell_type": "code",
   "execution_count": 5,
   "metadata": {},
   "outputs": [
    {
     "name": "stdout",
     "output_type": "stream",
     "text": [
      "t\n",
      "stripes\n",
      "the stripes on a tiger \n",
      "similar to human fingerprints\n"
     ]
    }
   ],
   "source": [
    "tiger_fact = \"the stripes on a tiger are unique, similar to human fingerprints\"\n",
    "\n",
    "# Specific character:\n",
    "print(tiger_fact[5])\n",
    "\n",
    "# Range:\n",
    "print(tiger_fact[4:11])\n",
    "\n",
    "# Slicing:\n",
    "print(tiger_fact[:23])\n",
    "print(tiger_fact[35:])"
   ]
  },
  {
   "cell_type": "markdown",
   "metadata": {},
   "source": [
    "<h3><span style=\"font-family: Monospace; color:#7077D7\">Palindromes</span></h3>\n",
    "A palindrome is a string that reads the same from right to left as left to right.\n",
    "<li>Examples: 2112, mom, taco cat</li>"
   ]
  },
  {
   "cell_type": "code",
   "execution_count": 6,
   "metadata": {},
   "outputs": [
    {
     "name": "stdout",
     "output_type": "stream",
     "text": [
      "True\n",
      "False\n"
     ]
    }
   ],
   "source": [
    "def palindrome(input_str):\n",
    "    # Remove spaces and convert the string to lowercase\n",
    "    clean_str = input_str.replace(\" \", \"\").lower()\n",
    "    # Check if the cleaned string is equal to its reverse\n",
    "    return clean_str == clean_str[::-1]\n",
    "\n",
    "print(palindrome(\"go hang a salami im a lasagna hog\")) # True\n",
    "print(palindrome(\"hi\")) # False\n"
   ]
  },
  {
   "cell_type": "markdown",
   "metadata": {},
   "source": [
    "<h3><span style=\"font-family: Monospace; color:#7077D7\">Small Hack: Count Vowels in a String</span></h3>\n",
    "You can create a simple function to count the number of vowels in a string!\n"
   ]
  },
  {
   "cell_type": "code",
   "execution_count": 7,
   "metadata": {},
   "outputs": [
    {
     "name": "stdout",
     "output
