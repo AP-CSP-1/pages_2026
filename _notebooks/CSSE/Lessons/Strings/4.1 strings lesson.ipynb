{
 "cells": [
  {
   "cell_type": "markdown",
   "metadata": {},
   "source": [
    "# Lesson 4.1 Strings\n",
    "\n",
    "## Introduction\n",
    "Strings are sequences of stored elements (text). This notebook covers how to work with strings in Python, including printing, quoting, and slicing strings."
   ]
  },
  {
   "cell_type": "markdown",
   "metadata": {},
   "source": [
    "## Printing Strings\n",
    "\n",
    "You can print strings directly using single or double quotes."
   ]
  },
  {
   "cell_type": "code",
   "execution_count": null,
   "metadata": {},
   "outputs": [
    {
     "name": "stdout",
     "output_type": "stream",
     "text": [
      "dog\n",
      "cat\n",
      "caribou\n"
     ]
    }
   ],
   "source": [
    "# Printing directly\n",
    "print(\"dog\")\n",
    "animal = \"cat\"\n",
    "favorite_animal = \"caribou\"\n",
    "print(animal)\n",
    "print(favorite_animal)"
   ]
  },
  {
   "cell_type": "markdown",
   "metadata": {},
   "source": [
    "## Quotes\n",
    "\n",
    "- If using single quotes and the string contains a single quote, Python will read it as the end of the string.\n",
    "- Use a backslash (`\\`) or double quotes to include quotes within strings."
   ]
  },
  {
   "cell_type": "code",
   "execution_count": null,
   "metadata": {},
   "outputs": [
    {
     "name": "stdout",
     "output_type": "stream",
     "text": [
      "I'm eating pizza\n",
      "I'm eating lasagna\n"
     ]
    }
   ],
   "source": [
    "food2 = 'I\\'m eating pizza'\n",
    "food3 = \"I'm eating lasagna\"\n",
    "print(food2)\n",
    "print(food3)"
   ]
  },
  {
   "cell_type": "markdown",
   "metadata": {},
   "source": [
    "## Strings with Multiple Lines\n",
    "\n",
    "Instead of printing multiple strings separately, you can use triple quotes (either single or double) for multi-line strings."
   ]
  },
  {
   "cell_type": "code",
   "execution_count": null,
   "metadata": {},
   "outputs": [
    {
     "name": "stdout",
     "output_type": "stream",
     "text": [
      "my favorite animal\n",
      "is associated with winter\n",
      "and christmas\n"
     ]
    }
   ],
   "source": [
    "riddle = \"\"\"my favorite animal\nis associated with winter\nand christmas\"\"\"\n",
    "print(riddle)"
   ]
  },
  {
   "cell_type": "markdown",
   "metadata": {},
   "source": [
    "## The `len` Function\n",
    "\n",
    "- The `len` function returns the length of a string."
   ]
  },
  {
   "cell_type": "code",
   "execution_count": null,
   "metadata": {},
   "outputs": [
    {
     "name": "stdout",
     "output_type": "stream",
     "text": [
      "11\n"
     ]
    }
   ],
   "source": [
    "print(len(\"earthmovers\"))"
   ]
  },
  {
   "cell_type": "markdown",
   "metadata": {},
   "source": [
    "## Printing Specific Parts of a String\n",
    "\n",
    "- To access specific characters, use square brackets (`[]`).\n",
    "- To slice strings, use `[:]`, where the first index is inclusive and the second is exclusive."
   ]
  },
  {
   "cell_type": "code",
   "execution_count": null,
   "metadata": {},
   "outputs": [
    {
     "name": "stdout",
     "output_type": "stream",
     "text": [
      "c\n",
      "dchucks \n",
      "woodchucks do not actua \n",
      "wood, they chuck dirt more often than not\n"
     ]
    }
   ],
   "source": [
    "fun_fact = \"woodchucks do not actually chuck wood, they chuck dirt more often than not\"\n",
    "print(fun_fact[5])\n",
    "print(fun_fact[4:11])\n",
    "print(fun_fact[:23])\n",
    "print(fun_fact[35:])"
   ]
  },
  {
   "cell_type": "markdown",
   "metadata": {},
   "source": [
    "## Hack - Palindromes\n",
    "A palindrome is a string that reads the same from right to left as left to right. Make a palindrome in the code block provided below!\n",
    "*Examples: racecar, deified*"
   ]
  },
  {
   "cell_type": "code",
   "execution_count": null,
   "metadata": {},
   "outputs": [
    {
     "name": "stdout",
     "output_type": "stream",
     "text": [
      "True\n",
      "False\n"
     ]
    }
   ],
   "source": [
    "def palindrome(input_str):\n",
    "    clean_str = input_str.replace(\" \", \"\").lower()\n",
    "    return clean_str == clean_str[::-1]\n",
    "\n",
    "print(palindrome(\"go sang a videos in a iceberg big\")) # True\n",
    "print(palindrome(\"hi\")) # False\n"
   ]
  }
 ],
 "metadata": {
  "kernelspec": {
   "display_name": "Python 3",
   "language": "python",
   "name": "python3"
  },
  "language_info": {
   "name": "python",
   "version": "3.10.12"
  }
 },
 "nbformat": 4,
 "nbformat_minor": 5
}
