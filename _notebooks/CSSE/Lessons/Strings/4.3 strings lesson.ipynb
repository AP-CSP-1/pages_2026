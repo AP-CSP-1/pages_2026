{
 "cells": [
  {
   "cell_type": "markdown",
   "metadata": {},
   "source": [
    "---\n",
    "Exploring JavaScript Strings\n",
    "---"
   ]
  },
  {
   "cell_type": "markdown",
   "metadata": {},
   "source": [
    "<style>\n",
    "    .highlight {\n",
    "        color: #f0f0f0; /* Text color #000000",
    "        text-shadow: 0 0 8px #61dafb, 0 0 16px #61dafb, 0 0 24px #61dafb; /* Highlight effect */\n",
    "        transition: all 0.3s ease;\n",
    "    }\n",
    "</style>\n",
    "\n",
    "<h2><span class=\"highlight\" style=\"font-family: Courier; color: #ffffff\">Understanding Strings in JavaScript</span></h2>\n",
    "\n",
    "<ul>\n",
    "    <li>Strings are a fundamental data type in JavaScript and are immutable.\n",
    "        <ul>\n",
    "            <li>They are stored directly in variables for straightforward access.</li>\n",
    "            <li>Their immutability means that once created, their content cannot be changed.</li>\n",
    "            <li>Strings do not have inherent properties or types.</li>\n",
    "        </ul>\n",
    "    </li>\n",
    "    <li>Strings can be formatted like Python strings, using single or double quotes, and are indexed starting at zero.</li>\n",
    "</ul>"
   ]
  },
  {
   "cell_type": "code",
   "execution_count": 1,
   "metadata": {
    "vscode": {
     "languageId": "javascript"
    }
   },
   "outputs": [
    {
     "data": {
      "application/javascript": "\nconsole.log(\"Demonstrating how to work with strings\");\n// console.log outputs the specified string to the console\n// In JavaScript, the text in your code is termed a string literal, whereas the output in the console is referred to as a string value.\n\n\n\n// Defining string variables\n// This method allows for spacing without concatenation\nconst sampleString = \"this is an example of string output\";\nconsole.log(sampleString);\n\n// If using single quotes with an apostrophe in your string, escape it using a backslash (similar to Python)\n// Alternatively, you can use double quotes\nconsole.log(\"the dog said \\\"where's my dinner?\\\" before leaving\");\n\n\n\n// String concatenation\nconst insect = \"fire\" + \"fly\";\nconsole.log(insect);\n\n// Concatenating multiple variables into a single string, akin to Python\nconst pet1 = \"goldfish\";\nconst pet2 = \"turtle\";\nconst pet3 = \"whale\";\nconst favoritePets = \"My favorites are \" + pet1 + \", \" + pet2 + \", and \" + pet3 + \".\";\nconsole.log(favoritePets);\n\n\n\n// Using template literals for a more concise syntax\n// This approach makes it easier to construct strings\nconst favoritePetsTemplate = `My favorites are ${pet1}, ${pet2}, and ${pet3}.`;\nconsole.log(favoritePetsTemplate);\n// This also facilitates the inclusion of quotes without conflicts\nconsole.log(`I'm sure this is \"correct\"`);\n\n\n\n// Including new lines with \\n\nconst riddle = \"my favorite insect\\nhangs out during the day\\non a leaf\";\nconsole.log(riddle);\n\n// For template literals, you can directly create new lines\nconst multilineString = `this is line one\nthis is line two\nthis is line three`;\nconsole.log(multilineString);\n",
      "text/plain": [
       "<IPython.core.display.Javascript object>"
      ]
     },
     "metadata": {},
     "output_type": "display_data"
    }
   ],
   "source": [
    "%%js\n",
    "\n",
    "console.log(\"Demonstrating how to work with strings\");\n",
    "// console.log outputs the specified string to the console\n",
    "// In JavaScript, the text in your code is termed a string literal, whereas the output in the console is referred to as a string value.\n",
    "\n",
    "\n",
    "\n",
    "// Defining string variables\n",
    "// This method allows for spacing without concatenation\n",
    "const sampleString = \"this is an example of string output\";\n",
    "console.log(sampleString);\n",
    "\n",
    "// If using single quotes with an apostrophe in your string, escape it using a backslash (similar to Python)\n",
    "// Alternatively, you can use double quotes\n",
    "console.log(\"the dog said \\\"where's my dinner?\\\" before leaving\");\n",
    "\n",
    "\n",
    "\n",
    "// String concatenation\n",
    "const insect = \"fire\" + \"fly\";\n",
    "console.log(insect);\n",
    "\n",
    "// Concatenating multiple variables into a single string, akin to Python\n",
    "const pet1 = \"goldfish\";\n",
    "const pet2 = \"turtle\";\n",
    "const pet3 = \"whale\";\n",
    "const favoritePets = \"My favorites are \" + pet1 + \", \" + pet2 + \", and \" + pet3 + \".\";\n",
    "console.log(favoritePets);\n",
    "\n",
    "\n",
    "// Using template literals for a more concise syntax\n",
    "// This approach makes it easier to construct strings\n",
    "const favoritePetsTemplate = `My favorites are ${pet1}, ${pet2}, and ${pet3}.`;\n",
    "console.log(favoritePetsTemplate);\n",
    "// This also facilitates the inclusion of quotes without conflicts\n",
    "console.log(`I'm sure this is \"correct\"`);\n",
    "\n",
    "\n",
    "\n",
    "// Including new lines with \\n\n",
    "const riddle = \"my favorite insect\\nhangs out during the day\\non a leaf\";\n",
    "console.log(riddle);\n",
    "\n",
    "// For template literals, you can directly create new lines\n",
    "const multilineString = `this is line one\n",
    "this is line two\n",
    "this is line three`;\n",
    "console.log(multilineString);\n"
   ]
  },
  {
   "cell_type": "markdown",
   "metadata": {},
   "source": [
    "<style>\n",
    "    .highlight {\n",
    "        color: #f0f0f0; /* Text color */\n",
    "        text-shadow: 0 0 8px #61dafb, 0 0 16px #61dafb, 0 0 24px #61dafb; /* Highlight effect */\n",
    "        transition: all 0.3s ease;\n",
    "    }\n",
    "</style>\n",
    "\n"
    "<br>\n"
   ]
  }
 ],
 "metadata": {
  "kernelspec": {
   "display_name": "venv",
   "language": "python",
   "name": "python3"
  },
  "language_info": {
   "codemirror_mode": {
    "name": "ipython",
    "version": 3
   },
   "file_extension": ".py",
   "mimetype": "text/x-python",
   "name": "python",
   "nbconvert_exporter": "python",
   "pygments_lexer": "ipython3",
   "version": "3.10.12"
  }
 },
 "nbformat": 4,
 "nbformat_minor": 2
}
