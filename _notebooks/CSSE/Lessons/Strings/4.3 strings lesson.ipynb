{
 "cells": [
  {
   "cell_type": "markdown",
   "metadata": {},
   "source": [
    "---\n",
    "layout: post\n",
    "title: Lesson 5.1 Understanding JavaScript Arrays\n",
    "categories: [Collaboration]\n",
    "permalink: /csp/big-idea/p5/1-5-1\n",
    "comments: true\n",
    "author: Alex Smith\n",
    "menu: nav/csp_units/csp_unit4_p5_basics.html\n",
    "---"
   ]
  },
  {
   "cell_type": "markdown",
   "metadata": {},
   "source": [
    "<style>\n",
    "    .highlight {\n",
    "        color: #ff0; /* Highlighted text color */\n",
    "        text-shadow: 0 0 5px #ffcc00, 0 0 15px #ffcc00; /* Highlighting effect on text */\n",
    "        transition: all 0.3s ease-in-out;\n",
    "    }\n",
    "</style>\n",
    "\n",
    "<h2><span class=\"highlight\" style=\"font-family: Arial;\">Arrays in JavaScript</span></h2>\n",
    "\n",
    "- Arrays are dynamic data structures that are mutable.\n",
    "    - They can hold various data types, including numbers and strings.\n",
    "    - Their size can change as elements are added or removed.\n",
    "    - They come with built-in properties and methods.\n",
    "- The syntax resembles that of Python, using brackets and starting at index 0."
   ]
  },
  {
   "cell_type": "code",
   "execution_count": 5,
   "metadata": {
    "vscode": {
     "languageId": "javascript"
    }
   },
   "outputs": [
    {
     "data": {
      "application/javascript": "\nconsole.log(\"A basic example of using arrays\");\n// console.log outputs to the console\n// In JS terms, what's coded is called an array literal, while output is the array value.\n\n// defining an array with various types of elements\nconst mixedArray = [42, 'hello', true, null];\nconsole.log(mixedArray);\n\n// accessing elements by index\nconsole.log(mixedArray[1]); // Outputs: hello\n\n// adding new elements\nmixedArray.push('new item');\nconsole.log(mixedArray);\n\n// removing the last element\nmixedArray.pop();\nconsole.log(mixedArray);\n\n// array concatenation\nconst firstPart = [1, 2, 3];\nconst secondPart = [4, 5, 6];\nconst combinedArray = firstPart.concat(secondPart);\nconsole.log(combinedArray);\n\n// using template literals for dynamic array content\nconst animal1 = 'cat';\nconst animal2 = 'dog';\nconst animal3 = 'rabbit';\nconst favoriteAnimals = `My favorite animals are ${animal1}, ${animal2}, and ${animal3}.`;\nconsole.log(favoriteAnimals);\n\n// using forEach to iterate through an array\nconst numbers = [10, 20, 30];\nnumbers.forEach(number => {\n    console.log(`Number: ${number}`);\n});\n",
      "text/plain": [
       "<IPython.core.display.Javascript object>"
      ]
     },
     "metadata": {},
     "output_type": "display_data"
    }
   ],
   "source": [
    "%%js\n",
    "\n",
    "console.log(\"A basic example of using arrays\");\n",
    "// console.log outputs to the console\n",
    "// In JS terms, what's coded is called an array literal, while output is the array value.\n",
    "\n",
    "// defining an array with various types of elements\n",
    "const mixedArray = [42, 'hello', true, null];\n",
    "console.log(mixedArray);\n",
    "\n",
    "// accessing elements by index\n",
    "console.log(mixedArray[1]); // Outputs: hello\n",
    "\n",
    "// adding new elements\n",
    "mixedArray.push('new item');\n",
    "console.log(mixedArray);\n",
    "\n",
    "// removing the last element\n",
    "mixedArray.pop();\n",
    "console.log(mixedArray);\n",
    "\n",
    "// array concatenation\n",
    "const firstPart = [1, 2, 3];\n",
    "const secondPart = [4, 5, 6];\n",
    "const combinedArray = firstPart.concat(secondPart);\n",
    "console.log(combinedArray);\n",
    "\n",
    "// using template literals for dynamic array content\n",
    "const animal1 = 'cat';\n",
    "const animal2 = 'dog';\n",
    "const animal3 = 'rabbit';\n",
    "const favoriteAnimals = `My favorite animals are ${animal1}, ${animal2}, and ${animal3}.`;\n",
    "console.log(favoriteAnimals);\n",
    "\n",
    "// using forEach to iterate through an array\n",
    "const numbers = [10, 20, 30];\n",
    "numbers.forEach(number => {\n",
    "    console.log(`Number: ${number}`);\n",
    "});\n"
   ]
  },
  {
   "cell_type": "markdown",
   "metadata": {},
   "source": [
    "<style>\n",
    "    .highlight {\n",
    "        color: #ff0; /* Highlighted text color */\n",
    "        text-shadow: 0 0 5px #ffcc00, 0 0 15px #ffcc00; /* Highlighting effect on text */\n",
    "        transition: all 0.3s ease-in-out;\n",
    "    }\n",
    "</style>\n",
    "\n",
    "<h4>Since arrays can be treated as objects in JavaScript, visit <a href=\"https://developer.mozilla.org/en-US/docs/Web/JavaScript/Reference/Global_Objects/Array\"><span class=\"highlight\">this page</span></a> for detailed methods.</h4>\n",
    "\n",
    "<br>\n"
   ]
  }
 ],
 "metadata": {
  "kernelspec": {
   "display_name": "venv",
   "language": "python",
   "name": "python3"
  },
  "language_info": {
   "codemirror_mode": {
    "name": "ipython",
    "version": 3
   },
   "file_extension": ".py",
   "mimetype": "text/x-python",
   "name": "python",
   "nbconvert_exporter": "python",
   "pygments_lexer": "ipython3",
   "version": "3.10.12"
  }
 },
 "nbformat": 4,
 "nbformat_minor": 2
}
