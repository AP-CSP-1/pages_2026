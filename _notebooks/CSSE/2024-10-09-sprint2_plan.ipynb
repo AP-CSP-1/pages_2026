{
 "cells": [
  {
   "cell_type": "raw",
   "metadata": {
    "vscode": {
     "languageId": "raw"
    }
   },
   "source": [
    "---\n",
    "layout: post\n",
    "title: Sprint 2 - CSSE Objectives \n",
    "description:  Student Teach and Software Development Objectives for Sprint 2\n",
    "type: issues \n",
    "courses: { csse: {week: 4} }\n",
    "comments: true\n",
    "---"
   ]
  },
  {
   "cell_type": "markdown",
   "metadata": {},
   "source": [
    "## Issues\n",
    "Teacher and Self evaluation are critical to our success and improvements.   Be sure to add evidence."
   ]
  },
  {
   "cell_type": "markdown",
   "metadata": {},
   "source": [
    "### JavaScript starters\n",
    "\n",
    "#### Grade Rank\n",
    "- .55 is minimum per item\n",
    "- .75 is mostly done\n",
    "- .85 is complete\n",
    "- .90 is maximum perfection\n",
    "\n",
    "\n",
    "#### Raw Form for Review Ticket\n",
    "\n",
    "This check list is a guideline!  Self grade yourself on each item. \n",
    "\n",
    "Many of these items have been graded.  But, be sure to show your accomplishments on your Web site.  \n",
    "\n",
    "Extracting hacks into different document or showing hacks in game is the best way to provided confidence to Teacher or TA.  Many of these elements are requirements for College Articulation after trimester 2.  Try to be \n",
    "\n",
    "```text\n",
    "| **Assignment**             | **Points**    | **Grade** | **Evidence** |\n",
    "|----------------------------|---------------|-----------|--------------|\n",
    "| JSON Object & Arrays       | 1             |           |              |\n",
    "| Variables Input and Output | 1             |           |              |\n",
    "| Data Types and Operators   | 1             |           |              |\n",
    "| For Loops using Sprites    | 1             |           |              |\n",
    "| Game Work, hack usage      | 1             |           |              |\n",
    "| Web Site: Home Page, Ideas | 1             |           |              | \n",
    "| Total                      | 5             |           |              |\n",
    "\n",
    "These elements are only Teacher or TA perception or experience.  But in our discussion you could show blog or communicate accomplishments.    \n",
    "\n",
    "| **Skill**                  | **Points**    | **Grade** | **Evidence** |\n",
    "|----------------------------|---------------|-----------|--------------|\n",
    "| Work Habits (Analytics)    | 1             |           |              |\n",
    "| Advocacy / Collaboration   | 1             |           |              |\n",
    "| Beyond Perfunctory         | 1             |           |              | \n",
    "| Total                      | 3             |           |              |\n",
    "```"
   ]
  }
 ],
 "metadata": {
  "language_info": {
   "name": "python"
  }
 },
 "nbformat": 4,
 "nbformat_minor": 2
}
