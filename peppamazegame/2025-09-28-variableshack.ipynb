{
 "cells": [
  {
   "cell_type": "raw",
   "id": "f7d70aa2",
   "metadata": {},
   "source": [
    "---\n",
    "layout: post\n",
    "title: \"3.1 Variables & Assignments hacks\"\n",
    "categories: [Programming Fundamentals, Tutorial]\n",
    "tags: [python, javascript, variables, assignment, beginner]\n",
    "description: Apply your understanding of Variables & Assignments with these hacks\n",
    "permalink: /peppa-maze/variableshacks\n",
    "---"
   ]
  },
  {
   "cell_type": "markdown",
   "id": "ce56910b",
   "metadata": {},
   "source": [
    "# 🐷 Peppa Maze Variables & Assignments Hacks\n",
    "Welcome to the Peppa Maze hacks! Practice using variables and assignments in Python, inspired by the Peppa Maze game. Change the values, run the code, and see how the game stats update!"
   ]
  },
  {
   "cell_type": "code",
   "execution_count": null,
   "id": "0d927449",
   "metadata": {},
   "outputs": [],
   "source": [
    "# Hack 1: Change Peppa's starting stats\n",
    "player_name = \"Peppa\"\n",
    "score = 0\n",
    "level = 1\n",
    "multiplier = 1\n",
    "print(f\"Player: {player_name}\")\n",
    "print(f\"Score: {score}\")\n",
    "print(f\"Level: {level}\")\n",
    "print(f\"Multiplier: x{multiplier}\")\n",
    "# Try changing the values above and re-run to see the effect!"
   ]
  },
  {
   "cell_type": "code",
   "execution_count": null,
   "id": "e4bee113",
   "metadata": {},
   "outputs": [],
   "source": [
    "# Hack 2: Calculate moves left after rolling the dice\n",
    "dice_roll = 4  # Try changing this number!\n",
    "moves_left = dice_roll\n",
    "print(f\"Peppa rolled a {dice_roll} and has {moves_left} moves left!\")"
   ]
  },
  {
   "cell_type": "code",
   "execution_count": null,
   "id": "c4c80df3",
   "metadata": {},
   "outputs": [],
   "source": [
    "# Hack 3: Update score after collecting a bonus\n",
    "score = 10  # Starting score\n",
    "bonus = 25  # Try changing this value!\n",
    "score += bonus\n",
    "print(f\"Peppa collected a bonus! New score: {score}\")"
   ]
  },
  {
   "cell_type": "code",
   "execution_count": null,
   "id": "4084edcf",
   "metadata": {},
   "outputs": [],
   "source": [
    "# Hack 4: Level up and update multiplier\n",
    "level = 2  # Starting level\n",
    "multiplier = 1\n",
    "level += 1  # Peppa levels up!\n",
    "multiplier += 1  # Multiplier increases\n",
    "print(f\"Peppa is now level {level} with a multiplier of x{multiplier}\")"
   ]
  },
  {
   "cell_type": "markdown",
   "id": "7b7792f2",
   "metadata": {},
   "source": [
    "## Reflection:\n",
    "Try changing the values in the hacks above. What happens to Peppa's stats? How do variables and assignments help you control the game? Write a short answer below!"
   ]
  }
 ],
 "metadata": {
  "language_info": {
   "name": "python"
  }
 },
 "nbformat": 4,
 "nbformat_minor": 5
}
